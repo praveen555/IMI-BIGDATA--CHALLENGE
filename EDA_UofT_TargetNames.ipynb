{
 "cells": [
  {
   "cell_type": "markdown",
   "id": "030dd71d-c305-4d6f-bc62-d99333955eeb",
   "metadata": {},
   "source": [
    "# Exploratory Data Analysis for UofT targets Dataset"
   ]
  },
  {
   "cell_type": "code",
   "execution_count": 1,
   "id": "0fb4656f-af40-4d11-b141-c7dfddbc3a49",
   "metadata": {},
   "outputs": [],
   "source": [
    "#!pip install libraries\n",
    "#!pip install seaborn\n",
    "#!pip install bioinfokit\n",
    "#!pip install statsmodels\n",
    "#!pip install scikit_posthocs\n",
    "#!pip install pingouin"
   ]
  },
  {
   "cell_type": "code",
   "execution_count": 2,
   "id": "24daa68a-6129-4d79-81eb-3f9fec7ab6be",
   "metadata": {},
   "outputs": [],
   "source": [
    "#Libraries \n",
    "import pandas as targets \n",
    "import numpy as np \n",
    "import matplotlib.pyplot as plt\n",
    "import seaborn as sns\n",
    "import pingouin as pg\n",
    "\n",
    "import statsmodels.api as sm\n",
    "from statsmodels.formula.api import ols\n",
    "from statsmodels.graphics.factorplots import interaction_plot\n",
    "\n",
    "from sklearn.linear_model import LinearRegression\n",
    "\n",
    "import statsmodels.api as sa\n",
    "import statsmodels.formula.api as sfa\n",
    "import scikit_posthocs as sp\n",
    "\n",
    "import scipy\n",
    "from scipy import stats\n",
    "\n",
    "from bioinfokit.analys import stat\n"
   ]
  },
  {
   "cell_type": "markdown",
   "id": "ce2668be-3e85-47b3-8c81-28bf766b0713",
   "metadata": {},
   "source": [
    "# Getting to Know Dataset\n",
    "\n",
    "Importing and checking columns, rows, datatype, and dimension."
   ]
  },
  {
   "cell_type": "code",
   "execution_count": 3,
   "id": "43067481-e850-4ebe-89e7-6bca435cb591",
   "metadata": {},
   "outputs": [
    {
     "name": "stderr",
     "output_type": "stream",
     "text": [
      "C:\\Users\\amych\\AppData\\Local\\Temp\\ipykernel_22116\\299639716.py:2: DtypeWarning: Columns (3,9,10) have mixed types. Specify dtype option on import or set low_memory=False.\n",
      "  targets = targets.read_csv('targets.simple.csv')\n"
     ]
    },
    {
     "data": {
      "text/html": [
       "<div>\n",
       "<style scoped>\n",
       "    .dataframe tbody tr th:only-of-type {\n",
       "        vertical-align: middle;\n",
       "    }\n",
       "\n",
       "    .dataframe tbody tr th {\n",
       "        vertical-align: top;\n",
       "    }\n",
       "\n",
       "    .dataframe thead th {\n",
       "        text-align: right;\n",
       "    }\n",
       "</style>\n",
       "<table border=\"1\" class=\"dataframe\">\n",
       "  <thead>\n",
       "    <tr style=\"text-align: right;\">\n",
       "      <th></th>\n",
       "      <th>id</th>\n",
       "      <th>schema</th>\n",
       "      <th>name</th>\n",
       "      <th>aliases</th>\n",
       "      <th>birth_date</th>\n",
       "      <th>countries</th>\n",
       "      <th>addresses</th>\n",
       "      <th>identifiers</th>\n",
       "      <th>sanctions</th>\n",
       "      <th>phones</th>\n",
       "      <th>emails</th>\n",
       "      <th>dataset</th>\n",
       "      <th>first_seen</th>\n",
       "      <th>last_seen</th>\n",
       "    </tr>\n",
       "  </thead>\n",
       "  <tbody>\n",
       "    <tr>\n",
       "      <th>0</th>\n",
       "      <td>acf-0015776c77e8f7264f3bee87b48ec35b03993758</td>\n",
       "      <td>Person</td>\n",
       "      <td>Bulatov Igor Borisovich</td>\n",
       "      <td>Булатов Игорь Борисович</td>\n",
       "      <td>1983-04-04</td>\n",
       "      <td>NaN</td>\n",
       "      <td>NaN</td>\n",
       "      <td>NaN</td>\n",
       "      <td>NaN</td>\n",
       "      <td>NaN</td>\n",
       "      <td>NaN</td>\n",
       "      <td>ACF List of bribetakers and warmongers</td>\n",
       "      <td>2023-02-15 12:13:21</td>\n",
       "      <td>2023-02-23 00:16:29</td>\n",
       "    </tr>\n",
       "    <tr>\n",
       "      <th>1</th>\n",
       "      <td>acf-003139ddd987bb7665e60de45178013ce9ec36f7</td>\n",
       "      <td>Person</td>\n",
       "      <td>Stepanenko Igor Borisovich</td>\n",
       "      <td>Степаненко Игорь Борисович</td>\n",
       "      <td>1963-07-27</td>\n",
       "      <td>NaN</td>\n",
       "      <td>NaN</td>\n",
       "      <td>NaN</td>\n",
       "      <td>NaN</td>\n",
       "      <td>NaN</td>\n",
       "      <td>NaN</td>\n",
       "      <td>ACF List of bribetakers and warmongers</td>\n",
       "      <td>2023-02-15 12:13:21</td>\n",
       "      <td>2023-02-23 00:16:29</td>\n",
       "    </tr>\n",
       "    <tr>\n",
       "      <th>2</th>\n",
       "      <td>acf-004a0ec86ee0828673f52ed84962c89d8598e3b1</td>\n",
       "      <td>Person</td>\n",
       "      <td>Natarkina Olga Iurevna</td>\n",
       "      <td>Натаркина Ольга Юрьевна</td>\n",
       "      <td>NaN</td>\n",
       "      <td>NaN</td>\n",
       "      <td>NaN</td>\n",
       "      <td>NaN</td>\n",
       "      <td>NaN</td>\n",
       "      <td>NaN</td>\n",
       "      <td>NaN</td>\n",
       "      <td>ACF List of bribetakers and warmongers</td>\n",
       "      <td>2023-02-15 12:13:21</td>\n",
       "      <td>2023-02-23 00:16:29</td>\n",
       "    </tr>\n",
       "    <tr>\n",
       "      <th>3</th>\n",
       "      <td>acf-00504258e38cc160450bf46eb0706eeec70f0c2b</td>\n",
       "      <td>Person</td>\n",
       "      <td>Shaikhutdinov Roman Alexandrovich</td>\n",
       "      <td>Шайхутдинов Роман Александрович</td>\n",
       "      <td>1974-08-28</td>\n",
       "      <td>NaN</td>\n",
       "      <td>NaN</td>\n",
       "      <td>NaN</td>\n",
       "      <td>NaN</td>\n",
       "      <td>NaN</td>\n",
       "      <td>NaN</td>\n",
       "      <td>ACF List of bribetakers and warmongers</td>\n",
       "      <td>2023-02-15 12:13:21</td>\n",
       "      <td>2023-02-23 00:16:29</td>\n",
       "    </tr>\n",
       "    <tr>\n",
       "      <th>4</th>\n",
       "      <td>acf-0065f928c3e02299e4615eddd5adc976f67777b0</td>\n",
       "      <td>Person</td>\n",
       "      <td>Kravchuk Svetlana Georgievna</td>\n",
       "      <td>Кравчук Светлана Георгиевна</td>\n",
       "      <td>NaN</td>\n",
       "      <td>NaN</td>\n",
       "      <td>NaN</td>\n",
       "      <td>NaN</td>\n",
       "      <td>NaN</td>\n",
       "      <td>NaN</td>\n",
       "      <td>NaN</td>\n",
       "      <td>ACF List of bribetakers and warmongers</td>\n",
       "      <td>2023-02-15 12:13:21</td>\n",
       "      <td>2023-02-23 00:16:29</td>\n",
       "    </tr>\n",
       "  </tbody>\n",
       "</table>\n",
       "</div>"
      ],
      "text/plain": [
       "                                             id  schema  \\\n",
       "0  acf-0015776c77e8f7264f3bee87b48ec35b03993758  Person   \n",
       "1  acf-003139ddd987bb7665e60de45178013ce9ec36f7  Person   \n",
       "2  acf-004a0ec86ee0828673f52ed84962c89d8598e3b1  Person   \n",
       "3  acf-00504258e38cc160450bf46eb0706eeec70f0c2b  Person   \n",
       "4  acf-0065f928c3e02299e4615eddd5adc976f67777b0  Person   \n",
       "\n",
       "                                name                          aliases  \\\n",
       "0            Bulatov Igor Borisovich          Булатов Игорь Борисович   \n",
       "1         Stepanenko Igor Borisovich       Степаненко Игорь Борисович   \n",
       "2             Natarkina Olga Iurevna          Натаркина Ольга Юрьевна   \n",
       "3  Shaikhutdinov Roman Alexandrovich  Шайхутдинов Роман Александрович   \n",
       "4       Kravchuk Svetlana Georgievna      Кравчук Светлана Георгиевна   \n",
       "\n",
       "   birth_date countries addresses identifiers sanctions phones emails  \\\n",
       "0  1983-04-04       NaN       NaN         NaN       NaN    NaN    NaN   \n",
       "1  1963-07-27       NaN       NaN         NaN       NaN    NaN    NaN   \n",
       "2         NaN       NaN       NaN         NaN       NaN    NaN    NaN   \n",
       "3  1974-08-28       NaN       NaN         NaN       NaN    NaN    NaN   \n",
       "4         NaN       NaN       NaN         NaN       NaN    NaN    NaN   \n",
       "\n",
       "                                  dataset           first_seen  \\\n",
       "0  ACF List of bribetakers and warmongers  2023-02-15 12:13:21   \n",
       "1  ACF List of bribetakers and warmongers  2023-02-15 12:13:21   \n",
       "2  ACF List of bribetakers and warmongers  2023-02-15 12:13:21   \n",
       "3  ACF List of bribetakers and warmongers  2023-02-15 12:13:21   \n",
       "4  ACF List of bribetakers and warmongers  2023-02-15 12:13:21   \n",
       "\n",
       "             last_seen  \n",
       "0  2023-02-23 00:16:29  \n",
       "1  2023-02-23 00:16:29  \n",
       "2  2023-02-23 00:16:29  \n",
       "3  2023-02-23 00:16:29  \n",
       "4  2023-02-23 00:16:29  "
      ]
     },
     "execution_count": 3,
     "metadata": {},
     "output_type": "execute_result"
    }
   ],
   "source": [
    "#Import csv file as pandas dataframe\n",
    "targets = targets.read_csv('targets.simple.csv')\n",
    "targets.head()"
   ]
  },
  {
   "cell_type": "code",
   "execution_count": 4,
   "id": "41dda5ad-7c6d-499c-ba3c-575dc6306280",
   "metadata": {},
   "outputs": [
    {
     "data": {
      "text/html": [
       "<div>\n",
       "<style scoped>\n",
       "    .dataframe tbody tr th:only-of-type {\n",
       "        vertical-align: middle;\n",
       "    }\n",
       "\n",
       "    .dataframe tbody tr th {\n",
       "        vertical-align: top;\n",
       "    }\n",
       "\n",
       "    .dataframe thead th {\n",
       "        text-align: right;\n",
       "    }\n",
       "</style>\n",
       "<table border=\"1\" class=\"dataframe\">\n",
       "  <thead>\n",
       "    <tr style=\"text-align: right;\">\n",
       "      <th></th>\n",
       "      <th>id</th>\n",
       "      <th>schema</th>\n",
       "      <th>name</th>\n",
       "      <th>aliases</th>\n",
       "      <th>birth_date</th>\n",
       "      <th>countries</th>\n",
       "      <th>addresses</th>\n",
       "      <th>identifiers</th>\n",
       "      <th>sanctions</th>\n",
       "      <th>phones</th>\n",
       "      <th>emails</th>\n",
       "      <th>dataset</th>\n",
       "      <th>first_seen</th>\n",
       "      <th>last_seen</th>\n",
       "    </tr>\n",
       "  </thead>\n",
       "  <tbody>\n",
       "    <tr>\n",
       "      <th>count</th>\n",
       "      <td>269946</td>\n",
       "      <td>269946</td>\n",
       "      <td>269946</td>\n",
       "      <td>165248</td>\n",
       "      <td>168921</td>\n",
       "      <td>247148</td>\n",
       "      <td>26768</td>\n",
       "      <td>200483</td>\n",
       "      <td>41150</td>\n",
       "      <td>4999</td>\n",
       "      <td>10061</td>\n",
       "      <td>269946</td>\n",
       "      <td>269945</td>\n",
       "      <td>269945</td>\n",
       "    </tr>\n",
       "    <tr>\n",
       "      <th>unique</th>\n",
       "      <td>269869</td>\n",
       "      <td>8</td>\n",
       "      <td>262920</td>\n",
       "      <td>154854</td>\n",
       "      <td>29988</td>\n",
       "      <td>2192</td>\n",
       "      <td>15749</td>\n",
       "      <td>200312</td>\n",
       "      <td>13817</td>\n",
       "      <td>4893</td>\n",
       "      <td>10024</td>\n",
       "      <td>1917</td>\n",
       "      <td>1347</td>\n",
       "      <td>43</td>\n",
       "    </tr>\n",
       "    <tr>\n",
       "      <th>top</th>\n",
       "      <td>Q27867848</td>\n",
       "      <td>Person</td>\n",
       "      <td>Person</td>\n",
       "      <td>Locky</td>\n",
       "      <td>1963</td>\n",
       "      <td>ru</td>\n",
       "      <td>Charlotte, NORTH CAROLINA</td>\n",
       "      <td>невідомо</td>\n",
       "      <td>\"\"</td>\n",
       "      <td>+442072193000</td>\n",
       "      <td>congreso@congreso.gob.gt</td>\n",
       "      <td>Wikidata;Wikidata Politically Exposed Persons</td>\n",
       "      <td>2021-07-26 11:55:45</td>\n",
       "      <td>2023-02-23 00:53:53</td>\n",
       "    </tr>\n",
       "    <tr>\n",
       "      <th>freq</th>\n",
       "      <td>2</td>\n",
       "      <td>226328</td>\n",
       "      <td>1774</td>\n",
       "      <td>7037</td>\n",
       "      <td>764</td>\n",
       "      <td>34769</td>\n",
       "      <td>807</td>\n",
       "      <td>74</td>\n",
       "      <td>2638</td>\n",
       "      <td>26</td>\n",
       "      <td>13</td>\n",
       "      <td>100769</td>\n",
       "      <td>79625</td>\n",
       "      <td>134574</td>\n",
       "    </tr>\n",
       "  </tbody>\n",
       "</table>\n",
       "</div>"
      ],
      "text/plain": [
       "               id  schema    name aliases birth_date countries  \\\n",
       "count      269946  269946  269946  165248     168921    247148   \n",
       "unique     269869       8  262920  154854      29988      2192   \n",
       "top     Q27867848  Person  Person   Locky       1963        ru   \n",
       "freq            2  226328    1774    7037        764     34769   \n",
       "\n",
       "                        addresses identifiers sanctions         phones  \\\n",
       "count                       26768      200483     41150           4999   \n",
       "unique                      15749      200312     13817           4893   \n",
       "top     Charlotte, NORTH CAROLINA    невідомо        \"\"  +442072193000   \n",
       "freq                          807          74      2638             26   \n",
       "\n",
       "                          emails  \\\n",
       "count                      10061   \n",
       "unique                     10024   \n",
       "top     congreso@congreso.gob.gt   \n",
       "freq                          13   \n",
       "\n",
       "                                              dataset           first_seen  \\\n",
       "count                                          269946               269945   \n",
       "unique                                           1917                 1347   \n",
       "top     Wikidata;Wikidata Politically Exposed Persons  2021-07-26 11:55:45   \n",
       "freq                                           100769                79625   \n",
       "\n",
       "                  last_seen  \n",
       "count                269945  \n",
       "unique                   43  \n",
       "top     2023-02-23 00:53:53  \n",
       "freq                 134574  "
      ]
     },
     "execution_count": 4,
     "metadata": {},
     "output_type": "execute_result"
    }
   ],
   "source": [
    "#Exploring data characteristics\n",
    "targets.describe()"
   ]
  },
  {
   "cell_type": "code",
   "execution_count": 5,
   "id": "b296a29b-c1cf-49f8-b41a-7457f0c165cf",
   "metadata": {},
   "outputs": [
    {
     "name": "stdout",
     "output_type": "stream",
     "text": [
      "id\n",
      "schema\n",
      "name\n",
      "aliases\n",
      "birth_date\n",
      "countries\n",
      "addresses\n",
      "identifiers\n",
      "sanctions\n",
      "phones\n",
      "emails\n",
      "dataset\n",
      "first_seen\n",
      "last_seen\n"
     ]
    }
   ],
   "source": [
    "for col in targets.columns: \n",
    "    print(col) "
   ]
  },
  {
   "cell_type": "code",
   "execution_count": 6,
   "id": "53415d94-461a-4d86-8d60-2ed17c74ce25",
   "metadata": {},
   "outputs": [
    {
     "data": {
      "text/plain": [
       "id             object\n",
       "schema         object\n",
       "name           object\n",
       "aliases        object\n",
       "birth_date     object\n",
       "countries      object\n",
       "addresses      object\n",
       "identifiers    object\n",
       "sanctions      object\n",
       "phones         object\n",
       "emails         object\n",
       "dataset        object\n",
       "first_seen     object\n",
       "last_seen      object\n",
       "dtype: object"
      ]
     },
     "execution_count": 6,
     "metadata": {},
     "output_type": "execute_result"
    }
   ],
   "source": [
    "#Checking data types in dataframe\n",
    "col_types = targets.dtypes\n",
    "col_types"
   ]
  },
  {
   "cell_type": "code",
   "execution_count": 7,
   "id": "e0dfbf91-cbdd-4787-9e80-bd89d3b8b57f",
   "metadata": {},
   "outputs": [
    {
     "data": {
      "text/plain": [
       "(269946, 14)"
      ]
     },
     "execution_count": 7,
     "metadata": {},
     "output_type": "execute_result"
    }
   ],
   "source": [
    "#Checking dimensions of the dataframe\n",
    "dims = targets.shape\n",
    "dims"
   ]
  },
  {
   "cell_type": "code",
   "execution_count": 8,
   "id": "3e06dd24-752a-4354-a5ea-a661383a03bd",
   "metadata": {},
   "outputs": [
    {
     "data": {
      "text/plain": [
       "Q27867848                                  2\n",
       "Q31284132                                  2\n",
       "Q21179358                                  2\n",
       "Q31207215                                  2\n",
       "Q27058375                                  2\n",
       "                                          ..\n",
       "Q116056267                                 1\n",
       "Q116056268                                 1\n",
       "Q116056269                                 1\n",
       "Q116056270                                 1\n",
       "zafic-58-mahmoud-mohammad-ahmad-bahaziq    1\n",
       "Name: id, Length: 269869, dtype: int64"
      ]
     },
     "execution_count": 8,
     "metadata": {},
     "output_type": "execute_result"
    }
   ],
   "source": [
    "#Unique value counts for id\n",
    "targets['id'].value_counts()"
   ]
  },
  {
   "cell_type": "code",
   "execution_count": 9,
   "id": "efcac393-6768-4690-9cd1-7d2f2de0dffc",
   "metadata": {},
   "outputs": [
    {
     "data": {
      "text/plain": [
       "Person          226328\n",
       "Security         17994\n",
       "CryptoWallet     10367\n",
       "Company           6099\n",
       "LegalEntity       4529\n",
       "Organization      3633\n",
       "Vessel             698\n",
       "Airplane           298\n",
       "Name: schema, dtype: int64"
      ]
     },
     "execution_count": 9,
     "metadata": {},
     "output_type": "execute_result"
    }
   ],
   "source": [
    "#Unique value counts for schema\n",
    "targets['schema'].value_counts()"
   ]
  },
  {
   "cell_type": "code",
   "execution_count": 10,
   "id": "819db3d8-306d-402a-95fb-95f40b35d5d8",
   "metadata": {},
   "outputs": [
    {
     "data": {
      "text/plain": [
       "Person                                                                                                                                  1774\n",
       "Облигации федерального займа с постоянным купонным доходом                                                                                52\n",
       "Биржевые облигации документарные процентные неконвертируемые на предъявителя с обязательным централизованным хранением серии 001P-01      44\n",
       "Биржевые облигации документарные процентные неконвертируемые на предъявителя с обязательным централизованным хранением серии БО-П01       37\n",
       "Биржевые облигации процентные неконвертируемые бездокументарные с централизованным учетом прав серии 001P-01                              35\n",
       "                                                                                                                                        ... \n",
       "Katsuhiko Takeuchi                                                                                                                         1\n",
       "TAKEUCHI Yuzuru                                                                                                                            1\n",
       "Daniel Allgäuer                                                                                                                            1\n",
       "Yutaka Takeyama                                                                                                                            1\n",
       "MAHMOUD MOHAMMAD AHMAD BAHAZIQ                                                                                                             1\n",
       "Name: name, Length: 262920, dtype: int64"
      ]
     },
     "execution_count": 10,
     "metadata": {},
     "output_type": "execute_result"
    }
   ],
   "source": [
    "#Unique value counts for name\n",
    "targets['name'].value_counts()"
   ]
  },
  {
   "cell_type": "code",
   "execution_count": 11,
   "id": "c5f27f0d-227d-4b63-8b82-1fe4584fb5b9",
   "metadata": {},
   "outputs": [
    {
     "data": {
      "text/plain": [
       "Locky                                                                                                                                                                                                                  7037\n",
       "NotNevada                                                                                                                                                                                                              2802\n",
       "Netwalker (Mailto)                                                                                                                                                                                                       66\n",
       "SamSam                                                                                                                                                                                                                   48\n",
       "Ryuk                                                                                                                                                                                                                     40\n",
       "                                                                                                                                                                                                                       ... \n",
       "ابيرارد لانجير                                                                                                                                                                                                            1\n",
       "Eberhard Lippmann (Politiker);ابيرارد ليپمان                                                                                                                                                                              1\n",
       "ابيرارد لورينز                                                                                                                                                                                                            1\n",
       "Jana Jenko                                                                                                                                                                                                                1\n",
       "\"Joint-Stock Company \"\"All-Russian Research Institute for the Operation of Nuclear Power Plants\"\"\";\"Акционерное общество \"\"Всероcсийский научноисследовательский институт по эксплуатации атомных электростанций\"\"\"       1\n",
       "Name: aliases, Length: 154854, dtype: int64"
      ]
     },
     "execution_count": 11,
     "metadata": {},
     "output_type": "execute_result"
    }
   ],
   "source": [
    "#Unique value counts for aliases\n",
    "targets['aliases'].value_counts()"
   ]
  },
  {
   "cell_type": "code",
   "execution_count": 12,
   "id": "0ed146ea-8358-49b1-bc11-72221decc0c6",
   "metadata": {},
   "outputs": [
    {
     "data": {
      "text/plain": [
       "1963                     764\n",
       "1950                     760\n",
       "1962                     748\n",
       "1956                     621\n",
       "1960                     621\n",
       "                        ... \n",
       "1988-08-13                 1\n",
       "1928-04-09                 1\n",
       "1928-11-03                 1\n",
       "1999-09-27                 1\n",
       "1961-10-16;1963-11-08      1\n",
       "Name: birth_date, Length: 29988, dtype: int64"
      ]
     },
     "execution_count": 12,
     "metadata": {},
     "output_type": "execute_result"
    }
   ],
   "source": [
    "#Unique value counts for birth_date\n",
    "targets['birth_date'].value_counts()"
   ]
  },
  {
   "cell_type": "code",
   "execution_count": 13,
   "id": "f1be6c39-9d83-40b0-9eb7-72c961ef75cc",
   "metadata": {},
   "outputs": [
    {
     "data": {
      "text/plain": [
       "ru                   34769\n",
       "us                   29324\n",
       "de                    8626\n",
       "cn                    7879\n",
       "fr                    7304\n",
       "                     ...  \n",
       "bd;us                    1\n",
       "dz;fr;ir                 1\n",
       "cn;kr;nl;pk;sg;tr        1\n",
       "ae;gy                    1\n",
       "iq;ps                    1\n",
       "Name: countries, Length: 2192, dtype: int64"
      ]
     },
     "execution_count": 13,
     "metadata": {},
     "output_type": "execute_result"
    }
   ],
   "source": [
    "#Unique value counts for countries\n",
    "targets['countries'].value_counts()"
   ]
  },
  {
   "cell_type": "code",
   "execution_count": 14,
   "id": "fa15229f-f5c9-418e-a064-ca6c679679a2",
   "metadata": {},
   "outputs": [
    {
     "data": {
      "text/plain": [
       "невідомо                                   74\n",
       "Невідомо                                   38\n",
       "1149102012620;9111000450                    8\n",
       "1057746595367;7704552473                    4\n",
       "0440273961                                  3\n",
       "                                           ..\n",
       "Q17220553                                   1\n",
       "Q17220804                                   1\n",
       "Q17221291                                   1\n",
       "Q17221388                                   1\n",
       "National Identification Number, 0075258     1\n",
       "Name: identifiers, Length: 200312, dtype: int64"
      ]
     },
     "execution_count": 14,
     "metadata": {},
     "output_type": "execute_result"
    }
   ],
   "source": [
    "#Unique value counts for identifiers\n",
    "targets['identifiers'].value_counts()"
   ]
  },
  {
   "cell_type": "code",
   "execution_count": 15,
   "id": "1e20cac6-9e81-4bb0-8751-5eb5ba7564ed",
   "metadata": {},
   "outputs": [
    {
     "data": {
      "text/plain": [
       "\"\"                                                                                                                                                                                                                                                                                                                                                                                                                                                                                                                                                                                                                                                                                                                                                                                                                                                                                                                                                                                                                                                                                                                                                                                                                                                                                                                                                                                                                                                                                                                                                                                                                                                                                                                                                                                                                                                                                                                                                                                                                                                                                                                                                                                                                                                                                                                                                                                                                                                                                                                                                                                                                     2638\n",
       "726/2022 - valid - 2022-10-19 - 2027-10-19                                                                                                                                                                                                                                                                                                                                                                                                                                                                                                                                                                                                                                                                                                                                                                                                                                                                                                                                                                                                                                                                                                                                                                                                                                                                                                                                                                                                                                                                                                                                                                                                                                                                                                                                                                                                                                                                                                                                                                                                                                                                                                                                                                                                                                                                                                                                                                                                                                                                                                                                                                             1972\n",
       "126/2018 - 176/2018 - valid - 2018-06-21                                                                                                                                                                                                                                                                                                                                                                                                                                                                                                                                                                                                                                                                                                                                                                                                                                                                                                                                                                                                                                                                                                                                                                                                                                                                                                                                                                                                                                                                                                                                                                                                                                                                                                                                                                                                                                                                                                                                                                                                                                                                                                                                                                                                                                                                                                                                                                                                                                                                                                                                                                                615\n",
       "266/2021 - valid - 2021-06-18 - 2024-06-24                                                                                                                                                                                                                                                                                                                                                                                                                                                                                                                                                                                                                                                                                                                                                                                                                                                                                                                                                                                                                                                                                                                                                                                                                                                                                                                                                                                                                                                                                                                                                                                                                                                                                                                                                                                                                                                                                                                                                                                                                                                                                                                                                                                                                                                                                                                                                                                                                                                                                                                                                                              577\n",
       "203/2021 - valid - 2021-05-14                                                                                                                                                                                                                                                                                                                                                                                                                                                                                                                                                                                                                                                                                                                                                                                                                                                                                                                                                                                                                                                                                                                                                                                                                                                                                                                                                                                                                                                                                                                                                                                                                                                                                                                                                                                                                                                                                                                                                                                                                                                                                                                                                                                                                                                                                                                                                                                                                                                                                                                                                                                           544\n",
       "                                                                                                                                                                                                                                                                                                                                                                                                                                                                                                                                                                                                                                                                                                                                                                                                                                                                                                                                                                                                                                                                                                                                                                                                                                                                                                                                                                                                                                                                                                                                                                                                                                                                                                                                                                                                                                                                                                                                                                                                                                                                                                                                                                                                                                                                                                                                                                                                                                                                                                                                                                                                                       ... \n",
       "(UE) 2020/716 du 28/05/2020 (UE Syrie - R (UE) 36/2012 ) - (UE) 2022/840 du 30/05/2022 (UE Syrie - R (UE) 36/2012 ) - (UE) 1244/2011 du 01/12/2011 (UE Syrie - R (UE) 36/2012 ) - société-écran servant à l'acquisition de matériel sensible par le CERS;Autonomous (Syria) - 2021-03-18;Block - SDN List - Program - Executive Order 13382 (Non-proliferation);NPWMD;Ordinance of 8 June 2012 on measures against Syria (SR 946.231.172.7), annex 7 - 2022-09-28 - 2016-01-19 - 2020-06-26;SYR - 2022/840 (OJ L148) - 2022-06-01;Syria - Front company for the acquisition of sensitive equipment related to the production of chemical weapons by the Syrian Scientific Studies and Research Center (SSRC) also known as Centre d'études et de recherches syrien (CERS). Owned or controlled by or otherwise associated with the SSRC. - Asset Freeze Targets - 2020-12-31;Syria / Syrie - 1;シリアのアル・アサド大統領及びその関係者等（団体） - 2012-11-27                                                                                                                                                                                                                                                                                                                                                                                                                                                                                                                                                                                                                                                                                                                                                                                                                                                                                                                                                                                                                                                                                                                                                                                                                                                                                                                                                                                                                                                                                                                                                                                                                                                                                     1\n",
       ";(UE) 2022/2476 du 16/12/2022 (UE Ukraine intégrité territoriale - R (UE) 269/2014) - La Banque de crédit de Moscou est la plus grande banque publique non étatique de Russie et le sixième plus grand établissement financier du pays. C’est un établissement financier d’importance systémique pour le gouvernement de la Fédération de Russie. La banque exerce des activités dans le secteur des services financiers, qui revêt une importance stratégique pour l’économie russe et constitue une source substantielle de revenus pour le gouvernement de la Fédération de Russie. La Banque de crédit de Moscou reçoit le soutien de l’État. En mai 2022, elle a obtenu du gouvernement une autorisation d’exportation d’or. Dès lors, elle tire directement avantage du gouvernement de la Fédération de Russie, qui est responsable de l’annexion de la Crimée et de la déstabilisation de l’Ukraine. La Banque de crédit de Moscou exerce donc des activités dans un secteur économique qui constitue une source substantielle de revenus pour le gouvernement de la Fédération de Russie, qui est responsable de l’annexion de la Crimée et de la déstabilisation de l’Ukraine. De plus, la Banque de crédit de Moscou tire avantage du gouvernement de la Fédération de Russie, qui est responsable de l’annexion de la Crimée et de la déstabilisation de l’Ukraine;726/2022 - valid - 2022-10-19 - 2032-10-19;Autonomous (Russia and Ukraine) - 2022-03-18;Financial entity of signficance - Sanctioned - 2022-04-20;Ordinance of 4 March 2022 on measures related to the situation in Ukraine (RS 946.231.176.72), annexes 2, 8, 9, 10, 11, 12,13, 14, 15 and 25 - 2022-06-10;Ordinance of 4 March 2022 on measures related to the situation in Ukraine (RS 946.231.176.72), annexes 2, 8, 9, 10, 11, 12,13, 14, 15 and 25 - 2022-12-21;Program - Consolidated List - Executive Order 14024 Directive 3 - Executive Order 14024 - 2022-03-26;Program - Non-SDN Menu-Based Sanctions List - Executive Order 14024 Directive 3 - Executive Order 14024 - 2022-03-26;RUSSIA-EO14024;Russia - CREDIT BANK OF MOSCOW is a Russian bank, which has been carrying on business in the financial services sector, a sector of strategic significance to the Government of Russia. It has therefore been involved in obtaining a benefit from or supporting the Government of Russia. - Asset Freeze Targets - 2022-04-06;UKR - 2022/2476 (OJ L322-I) - 2022-12-16;資産凍結等の措置の対象となるロシア連邦の団体及び個人（特定銀行） （注）資産凍結等の措置は、下記に掲げる団体により株式の総数又は出資の総額に占める割合の50％以上を直接に所有されている団体（本邦内に主たる事務所を有する団体を除く。）に対しても適用されます。 - 2022-06-07       1\n",
       ";(CE) 1508/2006 du 11/10/2006 (ONU Al Qaeda Etat - Islamique - règlement (UE) 881/2002) - (CE) 881/2002 du 27/05/2002 (ONU Al Qaeda Etat - Islamique - règlement (UE) 881/2002) - (UE) 577/2011 du 16/06/2011 (ONU Al Qaeda Etat - Islamique - règlement (UE) 881/2002) - (CE) 803/2008 du 08/08/2008 (ONU Al Qaeda Etat - Islamique - règlement (UE) 881/2002) - (UE) 2015/1390 du 13/08/2015 (ONU Al Qaeda Etat - Islamique - règlement (UE) 881/2002) - (CE) 1210/2006 du 09/08/2006 (ONU Al Qaeda Etat - Islamique - règlement (UE) 881/2002) - membre du Comité de soutien afghan (Afghan Support Committee – ASC), de la «Revival of Islamic Heritage Society» (Renaissance de la société du patrimoine islamique – RIHS) et du Groupe islamique combattant libyen (Libyan Islamic Fighting Group - LIFG);1267/1989/2253 (ISIL (Da'esh) and Al-Qaida) - 2021-02-26;Al-Qaida - 2002-01-11;Block - SDN List - Program - Unknown;Council Decision concerning restrictive measures against ISIL (Da'esh) and Al-Qaeda and persons, groups, undertakings and entities associated with them and repealing Common Position 2002/402/CFSP;ISIL (Da'esh) and Al-Qaida - Asset Freeze Targets - 2002-01-11;Ordinance of 2 October 2000 on measures against individuals and entities associated with Usama bin Laden, the group «Al-Qaïda» or the Taliban (SR 946.203), annex 2 - 2021-02-23 - 2015-08-11;SDGT;TAQA - 2015/1390 (OJ L215) - 2015-08-14;UN List - Al-Qaida - 2002-01-11;РезолюціїРБООН 1267 (1999) та 1989 (2011) - 2015-07-14;\"מועבי\"\"ט - או\"\"ם - הכרזה על ארגו ן טרור על פי סעיף 2 לחוק איסור מימון טרור התשסה- 2005 - 2011-11-22\";タリバーン関係者等 （タリバーン、アル・カーイダ及びISIL（ダーイシュ）関係者等） / （注1）国連安保理決議第1267号、第1333号、第1390号、第1988号、第1989号、第2253号及び第2255号に加えて、国連安保理決議第1373号に基づく資産凍結措置の対象に指定されている個人及び団体については、告示番号の冒頭に＊印を付しています。 （注2）2021年5月28日以降の制裁対象者の追加指定につきましては、外務省告示を２回に分けて発出することとなりました。 （１回目：制裁対象者の氏名等を国連安保理が公表した英文の情報のまま発出する告示、２回目：制裁対象者の氏名等に仮名表記等を追加・修文する告示）２回目の告示発出につきましては、当シートの告示日付には反映しておりません。 - 2002-01-16 - 2006-12-02 - 2021-04-30 - 2015-07-24 - 2011-06-15                                                                                                                                                                                                                                                                                                                                                                                                                                                                                                                                                   1\n",
       ";(UE) 2015/1815 du 08/10/2015 (ONU Al Qaeda Etat - Islamique - règlement (UE) 881/2002) - membre du Conseil de l'Etat Islamique en Irak et au levant - dirigeant de l'EIIL à Homs, Syrie;1267/1989/2253 (ISIL (Da'esh) and Al-Qaida) - 2019-05-02;Al-Qaida - 2015-09-29;Block - SDN List - Program - Executive Order 13224 (Terrorism);Council Decision concerning restrictive measures against ISIL (Da'esh) and Al-Qaeda and persons, groups, undertakings and entities associated with them and repealing Common Position 2002/402/CFSP;ISIL (Da'esh) and Al-Qaida - Asset Freeze Targets - 2015-09-29;Ordinance of 2 October 2000 on measures against individuals and entities associated with Usama bin Laden, the group «Al-Qaïda» or the Taliban (SR 946.203), annex 2 - 2015-10-06 - 2019-05-01;SDGT;TAQA - 2015/1815 (OJ L264) - 2015-10-09;UN List - Al-Qaida - 2015-09-29;Резолюції РБ ООН 1267 (1999) та 1989 (2011) - 2019-05-06;\"מועבי\"\"ט - או\"\"ם - הכרזה על ארגו ן טרור על פי סעיף 2 לחוק איסור מימון טרור התשסה- 2005 - 2015-09-29\";タリバーン関係者等 （タリバーン、アル・カーイダ及びISIL（ダーイシュ）関係者等） / （注1）国連安保理決議第1267号、第1333号、第1390号、第1988号、第1989号、第2253号及び第2255号に加えて、国連安保理決議第1373号に基づく資産凍結措置の対象に指定されている個人及び団体については、告示番号の冒頭に＊印を付しています。 （注2）2021年5月28日以降の制裁対象者の追加指定につきましては、外務省告示を２回に分けて発出することとなりました。 （１回目：制裁対象者の氏名等を国連安保理が公表した英文の情報のまま発出する告示、２回目：制裁対象者の氏名等に仮名表記等を追加・修文する告示）２回目の告示発出につきましては、当シートの告示日付には反映しておりません。 - 2015-10-16 - 2019-06-21                                                                                                                                                                                                                                                                                                                                                                                                                                                                                                                                                                                                                                                                                                                                                                                                                                                                                                                                                                                                                                                                                                                                                                                     1\n",
       "Cross Debarment: EBRD - 2023-02-14 - 2025-11-13                                                                                                                                                                                                                                                                                                                                                                                                                                                                                                                                                                                                                                                                                                                                                                                                                                                                                                                                                                                                                                                                                                                                                                                                                                                                                                                                                                                                                                                                                                                                                                                                                                                                                                                                                                                                                                                                                                                                                                                                                                                                                                                                                                                                                                                                                                                                                                                                                                                                                                                                                                           1\n",
       "Name: sanctions, Length: 13817, dtype: int64"
      ]
     },
     "execution_count": 15,
     "metadata": {},
     "output_type": "execute_result"
    }
   ],
   "source": [
    "#Unique value counts for sanctions\n",
    "targets['sanctions'].value_counts()"
   ]
  },
  {
   "cell_type": "code",
   "execution_count": 16,
   "id": "01ae7b3f-9938-43b8-9666-a2e2ab44b45c",
   "metadata": {},
   "outputs": [
    {
     "data": {
      "text/plain": [
       "+442072193000    26\n",
       "+67728520        23\n",
       "+74956968800     12\n",
       "+3225501260       8\n",
       "+3225501280       5\n",
       "                 ..\n",
       "+243815050147     1\n",
       "+243810184701     1\n",
       "+243994400049     1\n",
       "+243991929587     1\n",
       "+12022254016      1\n",
       "Name: phones, Length: 4893, dtype: int64"
      ]
     },
     "execution_count": 16,
     "metadata": {},
     "output_type": "execute_result"
    }
   ],
   "source": [
    "#Unique value counts for phones\n",
    "targets['phones'].value_counts()"
   ]
  },
  {
   "cell_type": "code",
   "execution_count": 17,
   "id": "cd374bfc-ac85-4192-8262-6df8b37861cd",
   "metadata": {},
   "outputs": [
    {
     "data": {
      "text/plain": [
       "congreso@congreso.gob.gt       13\n",
       "gp_ps@ps.parlamento.pt          3\n",
       "dynastygroup@myanmar.com.mm     3\n",
       "ps-smi@mil.ru                   3\n",
       "BKO@bitriver.farm               3\n",
       "                               ..\n",
       "liselott.blixt@ft.dk            1\n",
       "thomas.danielsen@ft.dk          1\n",
       "Troels.Ravn@ft.dk               1\n",
       "aadu.must@riigikogu.ee          1\n",
       "Misko@house.gov.by              1\n",
       "Name: emails, Length: 10024, dtype: int64"
      ]
     },
     "execution_count": 17,
     "metadata": {},
     "output_type": "execute_result"
    }
   ],
   "source": [
    "#Unique value counts for emails\n",
    "targets['emails'].value_counts()"
   ]
  },
  {
   "cell_type": "code",
   "execution_count": 18,
   "id": "4f2d8f89-f733-4eff-81f9-aeb02b31ef60",
   "metadata": {},
   "outputs": [
    {
     "data": {
      "text/plain": [
       "2021-07-26 11:55:45    79625\n",
       "2022-12-28 00:55:07    47413\n",
       "2022-12-30 18:28:00    37702\n",
       "2022-11-17 10:16:52    15645\n",
       "2022-07-12 12:01:58     8200\n",
       "                       ...  \n",
       "2023-01-23 18:12:23        1\n",
       "2023-02-08 16:36:51        1\n",
       "2023-02-01 12:07:24        1\n",
       "2023-02-02 12:08:11        1\n",
       "2023-02-09 18:45:56        1\n",
       "Name: first_seen, Length: 1347, dtype: int64"
      ]
     },
     "execution_count": 18,
     "metadata": {},
     "output_type": "execute_result"
    }
   ],
   "source": [
    "#Unique value counts for first_seen\n",
    "targets['first_seen'].value_counts()"
   ]
  },
  {
   "cell_type": "code",
   "execution_count": 19,
   "id": "76fb68cc-454d-48e7-8762-6947065861cf",
   "metadata": {},
   "outputs": [
    {
     "data": {
      "text/plain": [
       "2023-02-23 00:53:53    134574\n",
       "2022-04-25 12:21:45     24615\n",
       "2023-01-12 18:16:16     17994\n",
       "2023-02-22 14:26:42     16533\n",
       "2023-02-23 00:16:29     14728\n",
       "2023-02-23 00:44:50     13821\n",
       "2023-02-23 00:44:49      8294\n",
       "2023-02-23 00:37:46      7741\n",
       "2023-02-23 00:19:19      7374\n",
       "2023-02-23 00:11:48      6548\n",
       "2023-02-23 00:37:41      5310\n",
       "2023-02-23 00:19:20      1729\n",
       "2023-02-23 00:13:17      1554\n",
       "2023-02-23 00:53:52      1117\n",
       "2023-02-23 00:13:18      1017\n",
       "2023-02-23 00:08:16       981\n",
       "2023-02-23 00:06:20       901\n",
       "2023-02-23 00:53:51       683\n",
       "2023-02-23 00:11:27       511\n",
       "2023-02-23 00:06:29       502\n",
       "2023-02-23 00:05:37       445\n",
       "2023-02-23 00:07:50       371\n",
       "2023-02-23 00:06:15       371\n",
       "2022-08-23 18:16:59       358\n",
       "2023-02-23 00:05:43       343\n",
       "2023-02-23 00:37:42       331\n",
       "2023-02-23 00:11:44       271\n",
       "2023-02-23 00:05:40       241\n",
       "2023-02-23 00:05:44       169\n",
       "2023-02-23 00:16:10       142\n",
       "2023-02-23 00:07:05        76\n",
       "2023-02-23 00:11:47        62\n",
       "2023-02-23 00:16:11        54\n",
       "2023-02-23 00:06:57        51\n",
       "2023-02-23 00:06:33        31\n",
       "2023-02-23 00:11:45        29\n",
       "2023-02-23 00:16:28        28\n",
       "2023-02-23 00:11:30        24\n",
       "2023-02-23 00:06:18        12\n",
       "2023-02-23 00:06:24         5\n",
       "2023-02-23 00:07:47         2\n",
       "2023-02-22 14:26:30         1\n",
       "2022-02-28 12:33:50         1\n",
       "Name: last_seen, dtype: int64"
      ]
     },
     "execution_count": 19,
     "metadata": {},
     "output_type": "execute_result"
    }
   ],
   "source": [
    "#Unique value counts for last_seen\n",
    "targets['last_seen'].value_counts()"
   ]
  },
  {
   "cell_type": "markdown",
   "id": "a7d207cf-df03-4b87-a503-4a1305c4733c",
   "metadata": {},
   "source": [
    "# Data Cleaning\n",
    "\n",
    "Cleaning targets dataset using tidy data principles."
   ]
  },
  {
   "cell_type": "code",
   "execution_count": 20,
   "id": "d9091877-3f9d-4f28-9962-362e94706965",
   "metadata": {},
   "outputs": [
    {
     "data": {
      "text/html": [
       "<div>\n",
       "<style scoped>\n",
       "    .dataframe tbody tr th:only-of-type {\n",
       "        vertical-align: middle;\n",
       "    }\n",
       "\n",
       "    .dataframe tbody tr th {\n",
       "        vertical-align: top;\n",
       "    }\n",
       "\n",
       "    .dataframe thead th {\n",
       "        text-align: right;\n",
       "    }\n",
       "</style>\n",
       "<table border=\"1\" class=\"dataframe\">\n",
       "  <thead>\n",
       "    <tr style=\"text-align: right;\">\n",
       "      <th></th>\n",
       "      <th>id</th>\n",
       "      <th>schema</th>\n",
       "      <th>name</th>\n",
       "      <th>aliases</th>\n",
       "      <th>birth_date</th>\n",
       "      <th>countries</th>\n",
       "      <th>addresses</th>\n",
       "      <th>identifiers</th>\n",
       "      <th>sanctions</th>\n",
       "      <th>phones</th>\n",
       "      <th>emails</th>\n",
       "      <th>dataset</th>\n",
       "      <th>first_seen</th>\n",
       "      <th>last_seen</th>\n",
       "    </tr>\n",
       "  </thead>\n",
       "  <tbody>\n",
       "    <tr>\n",
       "      <th>79414</th>\n",
       "      <td>Q111291907</td>\n",
       "      <td>Person</td>\n",
       "      <td>Joel Biggie Matiza</td>\n",
       "      <td>Biggie J. Matiza;Matiza, Biggie J.</td>\n",
       "      <td>1960-08-17</td>\n",
       "      <td>zw</td>\n",
       "      <td>NaN</td>\n",
       "      <td>ZA557399</td>\n",
       "      <td>Ordinance  of 19 March 2002 on measures agains...</td>\n",
       "      <td>NaN</td>\n",
       "      <td>NaN</td>\n",
       "      <td>Canadian Special Economic Measures Act Sanctio...</td>\n",
       "      <td>2021-07-26 11:55:45</td>\n",
       "      <td>2023-02-23 00:06:20</td>\n",
       "    </tr>\n",
       "    <tr>\n",
       "      <th>79611</th>\n",
       "      <td>Q111313831</td>\n",
       "      <td>Person</td>\n",
       "      <td>Dzikamai Calisto Mavhaire</td>\n",
       "      <td>Mavhaire, Dzikamai Calisto</td>\n",
       "      <td>NaN</td>\n",
       "      <td>zw</td>\n",
       "      <td>NaN</td>\n",
       "      <td>NaN</td>\n",
       "      <td>NaN</td>\n",
       "      <td>NaN</td>\n",
       "      <td>NaN</td>\n",
       "      <td>Every Politician</td>\n",
       "      <td>2021-07-26 11:55:45</td>\n",
       "      <td>2022-04-25 12:21:45</td>\n",
       "    </tr>\n",
       "    <tr>\n",
       "      <th>79614</th>\n",
       "      <td>Q111313856</td>\n",
       "      <td>Person</td>\n",
       "      <td>Tsitsi MUZENDA</td>\n",
       "      <td>MUZENDA, Tsitsi;Muzenda, Tsitsi V.;Tsitsi Muze...</td>\n",
       "      <td>1922-08-22</td>\n",
       "      <td>zw</td>\n",
       "      <td>NaN</td>\n",
       "      <td>NaN</td>\n",
       "      <td>Program - SDN List - Block - Unknown;ZIMBABWE;...</td>\n",
       "      <td>NaN</td>\n",
       "      <td>NaN</td>\n",
       "      <td>Canadian Special Economic Measures Act Sanctio...</td>\n",
       "      <td>2021-07-26 11:55:45</td>\n",
       "      <td>2023-02-23 00:44:50</td>\n",
       "    </tr>\n",
       "    <tr>\n",
       "      <th>81694</th>\n",
       "      <td>Q111523667</td>\n",
       "      <td>Person</td>\n",
       "      <td>María Verónica Muñoz Parra</td>\n",
       "      <td>Muñoz Parra María Verónica</td>\n",
       "      <td>NaN</td>\n",
       "      <td>mx</td>\n",
       "      <td>NaN</td>\n",
       "      <td>NaN</td>\n",
       "      <td>NaN</td>\n",
       "      <td>NaN</td>\n",
       "      <td>NaN</td>\n",
       "      <td>Every Politician</td>\n",
       "      <td>2021-07-26 11:55:45</td>\n",
       "      <td>2022-04-25 12:21:45</td>\n",
       "    </tr>\n",
       "    <tr>\n",
       "      <th>100200</th>\n",
       "      <td>Q13534583</td>\n",
       "      <td>Person</td>\n",
       "      <td>Sardar Ayaz Sadiq, Speaker National Assembly</td>\n",
       "      <td>Sardar Ayaz Sadiq;Садик, Сардар;سردار اياز صاد...</td>\n",
       "      <td>1954-10-17</td>\n",
       "      <td>pk</td>\n",
       "      <td>NaN</td>\n",
       "      <td>Q13534583</td>\n",
       "      <td>NaN</td>\n",
       "      <td>NaN</td>\n",
       "      <td>NaN</td>\n",
       "      <td>Every Politician</td>\n",
       "      <td>2021-07-26 11:55:45</td>\n",
       "      <td>2022-04-25 12:21:45</td>\n",
       "    </tr>\n",
       "    <tr>\n",
       "      <th>...</th>\n",
       "      <td>...</td>\n",
       "      <td>...</td>\n",
       "      <td>...</td>\n",
       "      <td>...</td>\n",
       "      <td>...</td>\n",
       "      <td>...</td>\n",
       "      <td>...</td>\n",
       "      <td>...</td>\n",
       "      <td>...</td>\n",
       "      <td>...</td>\n",
       "      <td>...</td>\n",
       "      <td>...</td>\n",
       "      <td>...</td>\n",
       "      <td>...</td>\n",
       "    </tr>\n",
       "    <tr>\n",
       "      <th>199453</th>\n",
       "      <td>Q6959189</td>\n",
       "      <td>Person</td>\n",
       "      <td>Nahapet Gevorgyan</td>\n",
       "      <td>Нагапет Багратович Геворгян;Նահապետ Բագրատի Գե...</td>\n",
       "      <td>1957-06-28</td>\n",
       "      <td>am</td>\n",
       "      <td>NaN</td>\n",
       "      <td>Q6959189</td>\n",
       "      <td>NaN</td>\n",
       "      <td>NaN</td>\n",
       "      <td>NaN</td>\n",
       "      <td>Every Politician</td>\n",
       "      <td>2021-07-26 11:55:45</td>\n",
       "      <td>2022-04-25 12:21:45</td>\n",
       "    </tr>\n",
       "    <tr>\n",
       "      <th>201884</th>\n",
       "      <td>Q7281459</td>\n",
       "      <td>Person</td>\n",
       "      <td>Radnaasümbereliin Gonchigdorj</td>\n",
       "      <td>GONCHIGDORJ Radnasumberel;Radnaasumbereliyn Go...</td>\n",
       "      <td>1953</td>\n",
       "      <td>mn</td>\n",
       "      <td>NaN</td>\n",
       "      <td>Q7281459</td>\n",
       "      <td>NaN</td>\n",
       "      <td>NaN</td>\n",
       "      <td>NaN</td>\n",
       "      <td>Every Politician</td>\n",
       "      <td>2021-07-26 11:55:45</td>\n",
       "      <td>2022-04-25 12:21:45</td>\n",
       "    </tr>\n",
       "    <tr>\n",
       "      <th>212807</th>\n",
       "      <td>Q9131042</td>\n",
       "      <td>Person</td>\n",
       "      <td>Nyamaagiin Enkhbold</td>\n",
       "      <td>ENKHBOLD Nyamaa;Nyamaa ENKHBOLD;Нямаагийн Энхб...</td>\n",
       "      <td>1957-01-06</td>\n",
       "      <td>mn</td>\n",
       "      <td>NaN</td>\n",
       "      <td>Q9131042</td>\n",
       "      <td>NaN</td>\n",
       "      <td>NaN</td>\n",
       "      <td>enkhbold@parliament.mn</td>\n",
       "      <td>Every Politician</td>\n",
       "      <td>2021-07-26 11:55:45</td>\n",
       "      <td>2022-04-25 12:21:45</td>\n",
       "    </tr>\n",
       "    <tr>\n",
       "      <th>213388</th>\n",
       "      <td>Q9190484</td>\n",
       "      <td>Person</td>\n",
       "      <td>朝克</td>\n",
       "      <td>NaN</td>\n",
       "      <td>1957</td>\n",
       "      <td>cn</td>\n",
       "      <td>NaN</td>\n",
       "      <td>Q9190484</td>\n",
       "      <td>NaN</td>\n",
       "      <td>NaN</td>\n",
       "      <td>NaN</td>\n",
       "      <td>Every Politician</td>\n",
       "      <td>2021-07-26 11:55:45</td>\n",
       "      <td>2022-04-25 12:21:45</td>\n",
       "    </tr>\n",
       "    <tr>\n",
       "      <th>213514</th>\n",
       "      <td>Q9203344</td>\n",
       "      <td>Person</td>\n",
       "      <td>朱浩文</td>\n",
       "      <td>NaN</td>\n",
       "      <td>1967</td>\n",
       "      <td>cn</td>\n",
       "      <td>NaN</td>\n",
       "      <td>Q9203344</td>\n",
       "      <td>NaN</td>\n",
       "      <td>NaN</td>\n",
       "      <td>NaN</td>\n",
       "      <td>Every Politician</td>\n",
       "      <td>2021-07-26 11:55:45</td>\n",
       "      <td>2022-04-25 12:21:45</td>\n",
       "    </tr>\n",
       "  </tbody>\n",
       "</table>\n",
       "<p>77 rows × 14 columns</p>\n",
       "</div>"
      ],
      "text/plain": [
       "                id  schema                                          name  \\\n",
       "79414   Q111291907  Person                            Joel Biggie Matiza   \n",
       "79611   Q111313831  Person                     Dzikamai Calisto Mavhaire   \n",
       "79614   Q111313856  Person                                Tsitsi MUZENDA   \n",
       "81694   Q111523667  Person                    María Verónica Muñoz Parra   \n",
       "100200   Q13534583  Person  Sardar Ayaz Sadiq, Speaker National Assembly   \n",
       "...            ...     ...                                           ...   \n",
       "199453    Q6959189  Person                             Nahapet Gevorgyan   \n",
       "201884    Q7281459  Person                 Radnaasümbereliin Gonchigdorj   \n",
       "212807    Q9131042  Person                           Nyamaagiin Enkhbold   \n",
       "213388    Q9190484  Person                                            朝克   \n",
       "213514    Q9203344  Person                                           朱浩文   \n",
       "\n",
       "                                                  aliases  birth_date  \\\n",
       "79414                  Biggie J. Matiza;Matiza, Biggie J.  1960-08-17   \n",
       "79611                          Mavhaire, Dzikamai Calisto         NaN   \n",
       "79614   MUZENDA, Tsitsi;Muzenda, Tsitsi V.;Tsitsi Muze...  1922-08-22   \n",
       "81694                          Muñoz Parra María Verónica         NaN   \n",
       "100200  Sardar Ayaz Sadiq;Садик, Сардар;سردار اياز صاد...  1954-10-17   \n",
       "...                                                   ...         ...   \n",
       "199453  Нагапет Багратович Геворгян;Նահապետ Բագրատի Գե...  1957-06-28   \n",
       "201884  GONCHIGDORJ Radnasumberel;Radnaasumbereliyn Go...        1953   \n",
       "212807  ENKHBOLD Nyamaa;Nyamaa ENKHBOLD;Нямаагийн Энхб...  1957-01-06   \n",
       "213388                                                NaN        1957   \n",
       "213514                                                NaN        1967   \n",
       "\n",
       "       countries addresses identifiers  \\\n",
       "79414         zw       NaN    ZA557399   \n",
       "79611         zw       NaN         NaN   \n",
       "79614         zw       NaN         NaN   \n",
       "81694         mx       NaN         NaN   \n",
       "100200        pk       NaN   Q13534583   \n",
       "...          ...       ...         ...   \n",
       "199453        am       NaN    Q6959189   \n",
       "201884        mn       NaN    Q7281459   \n",
       "212807        mn       NaN    Q9131042   \n",
       "213388        cn       NaN    Q9190484   \n",
       "213514        cn       NaN    Q9203344   \n",
       "\n",
       "                                                sanctions phones  \\\n",
       "79414   Ordinance  of 19 March 2002 on measures agains...    NaN   \n",
       "79611                                                 NaN    NaN   \n",
       "79614   Program - SDN List - Block - Unknown;ZIMBABWE;...    NaN   \n",
       "81694                                                 NaN    NaN   \n",
       "100200                                                NaN    NaN   \n",
       "...                                                   ...    ...   \n",
       "199453                                                NaN    NaN   \n",
       "201884                                                NaN    NaN   \n",
       "212807                                                NaN    NaN   \n",
       "213388                                                NaN    NaN   \n",
       "213514                                                NaN    NaN   \n",
       "\n",
       "                        emails  \\\n",
       "79414                      NaN   \n",
       "79611                      NaN   \n",
       "79614                      NaN   \n",
       "81694                      NaN   \n",
       "100200                     NaN   \n",
       "...                        ...   \n",
       "199453                     NaN   \n",
       "201884                     NaN   \n",
       "212807  enkhbold@parliament.mn   \n",
       "213388                     NaN   \n",
       "213514                     NaN   \n",
       "\n",
       "                                                  dataset  \\\n",
       "79414   Canadian Special Economic Measures Act Sanctio...   \n",
       "79611                                    Every Politician   \n",
       "79614   Canadian Special Economic Measures Act Sanctio...   \n",
       "81694                                    Every Politician   \n",
       "100200                                   Every Politician   \n",
       "...                                                   ...   \n",
       "199453                                   Every Politician   \n",
       "201884                                   Every Politician   \n",
       "212807                                   Every Politician   \n",
       "213388                                   Every Politician   \n",
       "213514                                   Every Politician   \n",
       "\n",
       "                 first_seen            last_seen  \n",
       "79414   2021-07-26 11:55:45  2023-02-23 00:06:20  \n",
       "79611   2021-07-26 11:55:45  2022-04-25 12:21:45  \n",
       "79614   2021-07-26 11:55:45  2023-02-23 00:44:50  \n",
       "81694   2021-07-26 11:55:45  2022-04-25 12:21:45  \n",
       "100200  2021-07-26 11:55:45  2022-04-25 12:21:45  \n",
       "...                     ...                  ...  \n",
       "199453  2021-07-26 11:55:45  2022-04-25 12:21:45  \n",
       "201884  2021-07-26 11:55:45  2022-04-25 12:21:45  \n",
       "212807  2021-07-26 11:55:45  2022-04-25 12:21:45  \n",
       "213388  2021-07-26 11:55:45  2022-04-25 12:21:45  \n",
       "213514  2021-07-26 11:55:45  2022-04-25 12:21:45  \n",
       "\n",
       "[77 rows x 14 columns]"
      ]
     },
     "execution_count": 20,
     "metadata": {},
     "output_type": "execute_result"
    }
   ],
   "source": [
    "#Check for duplicates of the same values across attributes listed\n",
    "dups = targets.duplicated(['id'])\n",
    "targets[dups]"
   ]
  },
  {
   "cell_type": "code",
   "execution_count": 21,
   "id": "672bea6c-b07e-405e-87b1-853b8e6cd877",
   "metadata": {},
   "outputs": [
    {
     "data": {
      "text/plain": [
       "1"
      ]
     },
     "execution_count": 21,
     "metadata": {},
     "output_type": "execute_result"
    }
   ],
   "source": [
    "targets.isnull().values.any().sum()"
   ]
  },
  {
   "cell_type": "code",
   "execution_count": 22,
   "id": "0b94181a-0a74-4632-9ce7-d697256c84f4",
   "metadata": {},
   "outputs": [
    {
     "data": {
      "text/plain": [
       "id                  0\n",
       "schema              0\n",
       "name                0\n",
       "aliases        104698\n",
       "birth_date     101025\n",
       "countries       22798\n",
       "addresses      243178\n",
       "identifiers     69463\n",
       "sanctions      228796\n",
       "phones         264947\n",
       "emails         259885\n",
       "dataset             0\n",
       "first_seen          1\n",
       "last_seen           1\n",
       "dtype: int64"
      ]
     },
     "execution_count": 22,
     "metadata": {},
     "output_type": "execute_result"
    }
   ],
   "source": [
    "#Calculate the number of missing values in each column:\n",
    "targets.isnull().sum()"
   ]
  },
  {
   "cell_type": "code",
   "execution_count": 23,
   "id": "7cd23011-f31d-47bb-81ef-9c4cd82fba73",
   "metadata": {},
   "outputs": [
    {
     "data": {
      "text/plain": [
       "<AxesSubplot:>"
      ]
     },
     "execution_count": 23,
     "metadata": {},
     "output_type": "execute_result"
    },
    {
     "data": {
      "image/png": "[encoded data removed]",
      "text/plain": [
       "<Figure size 640x480 with 1 Axes>"
      ]
     },
     "metadata": {},
     "output_type": "display_data"
    }
   ],
   "source": [
    "#Use a heatmap to visualize missing data\n",
    "sns.heatmap(targets.isnull(), cbar=False)"
   ]
  },
  {
   "cell_type": "code",
   "execution_count": 24,
   "id": "6ab1bc86-708f-44b9-af3b-a6a12cf1164a",
   "metadata": {},
   "outputs": [],
   "source": [
    "#Exporting cleaned data\n",
    "#iabetes = targets.drop(['log_Age', 'log_Insulin'], axis=1)\n",
    "targets.to_csv(\"UofT_targets_cleaned.csv\", index=False)"
   ]
  }
 ],
 "metadata": {
  "kernelspec": {
   "display_name": "Python 3 (ipykernel)",
   "language": "python",
   "name": "python3"
  },
  "language_info": {
   "codemirror_mode": {
    "name": "ipython",
    "version": 3
   },
   "file_extension": ".py",
   "mimetype": "text/x-python",
   "name": "python",
   "nbconvert_exporter": "python",
   "pygments_lexer": "ipython3",
   "version": "3.9.13"
  }
 },
 "nbformat": 4,
 "nbformat_minor": 5
}
