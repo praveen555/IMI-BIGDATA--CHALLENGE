{
  "nbformat": 4,
  "nbformat_minor": 0,
  "metadata": {
    "colab": {
      "provenance": [],
      "authorship_tag": "ABX9TyOGLbesw2HX++vH3v/9GX21",
      "include_colab_link": true
    },
    "kernelspec": {
      "name": "python3",
      "display_name": "Python 3"
    },
    "language_info": {
      "name": "python"
    }
  },
  "cells": [
    {
      "cell_type": "markdown",
      "metadata": {
        "id": "view-in-github",
        "colab_type": "text"
      },
      "source": [
        "<a href=\"https://colab.research.google.com/github/praveen555/IMI-BIGDATA--CHALLENGE/blob/main/Task_1_Preprocessing.ipynb\" target=\"_parent\"><img src=\"https://colab.research.google.com/assets/colab-badge.svg\" alt=\"Open In Colab\"/></a>"
      ]
    },
    {
      "cell_type": "code",
      "source": [
        "import os\n",
        "import pandas as pd\n",
        "import re \n",
        "import matplotlib.pyplot as plt\n",
        "from datetime import datetime, date\n",
        "import numpy as np\n",
        "from google.colab import drive\n",
        "drive.mount('/content/drive')\n",
        "path='/content/drive/MyDrive/Colab Notebooks/IMI_BigData_Challenge/Raw data files'\n",
        "path_edge=os.path.join(path,'UofT_edges.csv')\n",
        "path_nodes=os.path.join(path,'UofT_nodes.csv')\n",
        "path_occupation_risk=os.path.join(path,'UofT_occupation_risk.csv')\n",
        "path_name_list='/content/drive/MyDrive/Colab Notebooks/IMI_BigData_Challenge/name_list.csv'"
      ],
      "metadata": {
        "colab": {
          "base_uri": "https://localhost:8080/"
        },
        "id": "WRmlYYAR6c4y",
        "outputId": "0076d656-10f0-4efe-df38-5e014db28ba5"
      },
      "execution_count": 35,
      "outputs": [
        {
          "output_type": "stream",
          "name": "stdout",
          "text": [
            "Drive already mounted at /content/drive; to attempt to forcibly remount, call drive.mount(\"/content/drive\", force_remount=True).\n"
          ]
        }
      ]
    },
    {
      "cell_type": "code",
      "source": [
        "date_col_1=['birth_date']\n",
        "date_col_2=['BIRTH_DT','CUST_ADD_DT']"
      ],
      "metadata": {
        "id": "vi5b9l2p0n_c"
      },
      "execution_count": null,
      "outputs": []
    },
    {
      "cell_type": "code",
      "source": [
        "sanction_names=pd.read_csv(path_name_list)\n",
        "data=pd.read_csv(path_nodes)"
      ],
      "metadata": {
        "colab": {
          "base_uri": "https://localhost:8080/"
        },
        "id": "u6BW4y5k0P5Z",
        "outputId": "2eaf55ff-2062-488c-9b29-abed4a889390"
      },
      "execution_count": 36,
      "outputs": [
        {
          "output_type": "stream",
          "name": "stderr",
          "text": [
            "/usr/local/lib/python3.8/dist-packages/IPython/core/interactiveshell.py:3326: DtypeWarning: Columns (9) have mixed types.Specify dtype option on import or set low_memory=False.\n",
            "  exec(code_obj, self.user_global_ns, self.user_ns)\n"
          ]
        }
      ]
    },
    {
      "cell_type": "code",
      "source": [
        "sanction_names.head()"
      ],
      "metadata": {
        "colab": {
          "base_uri": "https://localhost:8080/",
          "height": 530
        },
        "id": "qJeQ35RJ0VRe",
        "outputId": "06d6be03-e924-407c-bc43-f0614927b2fb"
      },
      "execution_count": 37,
      "outputs": [
        {
          "output_type": "execute_result",
          "data": {
            "text/plain": [
              "                                             id  schema  \\\n",
              "0  acf-00040861bc3f593000830d987d09967ef3503ef1  Person   \n",
              "1  acf-0011c68a768924609dc5da5707ac7fa4c4d645a2  Person   \n",
              "2  acf-001e7e4c0363f08f1e784c230457960b84a6416f  Person   \n",
              "3  acf-002c208139012c8d93b6298358188d7cadafe648  Person   \n",
              "4  acf-002cc8fdf8fe41185091a7cb6c598663e7a22eb5  Person   \n",
              "\n",
              "                             name                         aliases  birth_date  \\\n",
              "0                  Kolyvanov Egor                  Колыванов Егор  1980-11-15   \n",
              "1         Shipov Sergei Yurievich            Шипов Сергей Юрьевич  1966-04-17   \n",
              "2        Egorov Ivan Mikhailovich          Егоров Иван Михайлович  1961-01-21   \n",
              "3  Goreslavsky Alexey Sergeyevich  Гореславский Алексей Сергеевич  1977-07-13   \n",
              "4  Samoilova Natalya Vladimirovna  Самойлова Наталья Владимировна  1987-06-24   \n",
              "\n",
              "  countries addresses identifiers sanctions phones emails  \\\n",
              "0       NaN       NaN         NaN       NaN    NaN    NaN   \n",
              "1       NaN       NaN         NaN       NaN    NaN    NaN   \n",
              "2       NaN       NaN         NaN       NaN    NaN    NaN   \n",
              "3       NaN       NaN         NaN       NaN    NaN    NaN   \n",
              "4       NaN       NaN         NaN       NaN    NaN    NaN   \n",
              "\n",
              "                                  dataset           first_seen  \\\n",
              "0  ACF List of bribetakers and warmongers  2022-05-05 15:26:25   \n",
              "1  ACF List of bribetakers and warmongers  2022-07-09 18:14:08   \n",
              "2  ACF List of bribetakers and warmongers  2022-05-05 15:26:25   \n",
              "3  ACF List of bribetakers and warmongers  2022-09-20 01:05:26   \n",
              "4  ACF List of bribetakers and warmongers  2022-09-20 01:05:26   \n",
              "\n",
              "             last_seen  \n",
              "0  2022-12-23 18:13:41  \n",
              "1  2022-12-23 18:13:41  \n",
              "2  2022-12-23 18:13:41  \n",
              "3  2022-12-23 18:13:41  \n",
              "4  2022-12-23 18:13:41  "
            ],
            "text/html": [
              "\n",
              "  <div id=\"df-4a566bce-fe21-4120-b71c-4b60b6e5c5c2\">\n",
              "    <div class=\"colab-df-container\">\n",
              "      <div>\n",
              "<style scoped>\n",
              "    .dataframe tbody tr th:only-of-type {\n",
              "        vertical-align: middle;\n",
              "    }\n",
              "\n",
              "    .dataframe tbody tr th {\n",
              "        vertical-align: top;\n",
              "    }\n",
              "\n",
              "    .dataframe thead th {\n",
              "        text-align: right;\n",
              "    }\n",
              "</style>\n",
              "<table border=\"1\" class=\"dataframe\">\n",
              "  <thead>\n",
              "    <tr style=\"text-align: right;\">\n",
              "      <th></th>\n",
              "      <th>id</th>\n",
              "      <th>schema</th>\n",
              "      <th>name</th>\n",
              "      <th>aliases</th>\n",
              "      <th>birth_date</th>\n",
              "      <th>countries</th>\n",
              "      <th>addresses</th>\n",
              "      <th>identifiers</th>\n",
              "      <th>sanctions</th>\n",
              "      <th>phones</th>\n",
              "      <th>emails</th>\n",
              "      <th>dataset</th>\n",
              "      <th>first_seen</th>\n",
              "      <th>last_seen</th>\n",
              "    </tr>\n",
              "  </thead>\n",
              "  <tbody>\n",
              "    <tr>\n",
              "      <th>0</th>\n",
              "      <td>acf-00040861bc3f593000830d987d09967ef3503ef1</td>\n",
              "      <td>Person</td>\n",
              "      <td>Kolyvanov Egor</td>\n",
              "      <td>Колыванов Егор</td>\n",
              "      <td>1980-11-15</td>\n",
              "      <td>NaN</td>\n",
              "      <td>NaN</td>\n",
              "      <td>NaN</td>\n",
              "      <td>NaN</td>\n",
              "      <td>NaN</td>\n",
              "      <td>NaN</td>\n",
              "      <td>ACF List of bribetakers and warmongers</td>\n",
              "      <td>2022-05-05 15:26:25</td>\n",
              "      <td>2022-12-23 18:13:41</td>\n",
              "    </tr>\n",
              "    <tr>\n",
              "      <th>1</th>\n",
              "      <td>acf-0011c68a768924609dc5da5707ac7fa4c4d645a2</td>\n",
              "      <td>Person</td>\n",
              "      <td>Shipov Sergei Yurievich</td>\n",
              "      <td>Шипов Сергей Юрьевич</td>\n",
              "      <td>1966-04-17</td>\n",
              "      <td>NaN</td>\n",
              "      <td>NaN</td>\n",
              "      <td>NaN</td>\n",
              "      <td>NaN</td>\n",
              "      <td>NaN</td>\n",
              "      <td>NaN</td>\n",
              "      <td>ACF List of bribetakers and warmongers</td>\n",
              "      <td>2022-07-09 18:14:08</td>\n",
              "      <td>2022-12-23 18:13:41</td>\n",
              "    </tr>\n",
              "    <tr>\n",
              "      <th>2</th>\n",
              "      <td>acf-001e7e4c0363f08f1e784c230457960b84a6416f</td>\n",
              "      <td>Person</td>\n",
              "      <td>Egorov Ivan Mikhailovich</td>\n",
              "      <td>Егоров Иван Михайлович</td>\n",
              "      <td>1961-01-21</td>\n",
              "      <td>NaN</td>\n",
              "      <td>NaN</td>\n",
              "      <td>NaN</td>\n",
              "      <td>NaN</td>\n",
              "      <td>NaN</td>\n",
              "      <td>NaN</td>\n",
              "      <td>ACF List of bribetakers and warmongers</td>\n",
              "      <td>2022-05-05 15:26:25</td>\n",
              "      <td>2022-12-23 18:13:41</td>\n",
              "    </tr>\n",
              "    <tr>\n",
              "      <th>3</th>\n",
              "      <td>acf-002c208139012c8d93b6298358188d7cadafe648</td>\n",
              "      <td>Person</td>\n",
              "      <td>Goreslavsky Alexey Sergeyevich</td>\n",
              "      <td>Гореславский Алексей Сергеевич</td>\n",
              "      <td>1977-07-13</td>\n",
              "      <td>NaN</td>\n",
              "      <td>NaN</td>\n",
              "      <td>NaN</td>\n",
              "      <td>NaN</td>\n",
              "      <td>NaN</td>\n",
              "      <td>NaN</td>\n",
              "      <td>ACF List of bribetakers and warmongers</td>\n",
              "      <td>2022-09-20 01:05:26</td>\n",
              "      <td>2022-12-23 18:13:41</td>\n",
              "    </tr>\n",
              "    <tr>\n",
              "      <th>4</th>\n",
              "      <td>acf-002cc8fdf8fe41185091a7cb6c598663e7a22eb5</td>\n",
              "      <td>Person</td>\n",
              "      <td>Samoilova Natalya Vladimirovna</td>\n",
              "      <td>Самойлова Наталья Владимировна</td>\n",
              "      <td>1987-06-24</td>\n",
              "      <td>NaN</td>\n",
              "      <td>NaN</td>\n",
              "      <td>NaN</td>\n",
              "      <td>NaN</td>\n",
              "      <td>NaN</td>\n",
              "      <td>NaN</td>\n",
              "      <td>ACF List of bribetakers and warmongers</td>\n",
              "      <td>2022-09-20 01:05:26</td>\n",
              "      <td>2022-12-23 18:13:41</td>\n",
              "    </tr>\n",
              "  </tbody>\n",
              "</table>\n",
              "</div>\n",
              "      <button class=\"colab-df-convert\" onclick=\"convertToInteractive('df-4a566bce-fe21-4120-b71c-4b60b6e5c5c2')\"\n",
              "              title=\"Convert this dataframe to an interactive table.\"\n",
              "              style=\"display:none;\">\n",
              "        \n",
              "  <svg xmlns=\"http://www.w3.org/2000/svg\" height=\"24px\"viewBox=\"0 0 24 24\"\n",
              "       width=\"24px\">\n",
              "    <path d=\"M0 0h24v24H0V0z\" fill=\"none\"/>\n",
              "    <path d=\"M18.56 5.44l.94 2.06.94-2.06 2.06-.94-2.06-.94-.94-2.06-.94 2.06-2.06.94zm-11 1L8.5 8.5l.94-2.06 2.06-.94-2.06-.94L8.5 2.5l-.94 2.06-2.06.94zm10 10l.94 2.06.94-2.06 2.06-.94-2.06-.94-.94-2.06-.94 2.06-2.06.94z\"/><path d=\"M17.41 7.96l-1.37-1.37c-.4-.4-.92-.59-1.43-.59-.52 0-1.04.2-1.43.59L10.3 9.45l-7.72 7.72c-.78.78-.78 2.05 0 2.83L4 21.41c.39.39.9.59 1.41.59.51 0 1.02-.2 1.41-.59l7.78-7.78 2.81-2.81c.8-.78.8-2.07 0-2.86zM5.41 20L4 18.59l7.72-7.72 1.47 1.35L5.41 20z\"/>\n",
              "  </svg>\n",
              "      </button>\n",
              "      \n",
              "  <style>\n",
              "    .colab-df-container {\n",
              "      display:flex;\n",
              "      flex-wrap:wrap;\n",
              "      gap: 12px;\n",
              "    }\n",
              "\n",
              "    .colab-df-convert {\n",
              "      background-color: #E8F0FE;\n",
              "      border: none;\n",
              "      border-radius: 50%;\n",
              "      cursor: pointer;\n",
              "      display: none;\n",
              "      fill: #1967D2;\n",
              "      height: 32px;\n",
              "      padding: 0 0 0 0;\n",
              "      width: 32px;\n",
              "    }\n",
              "\n",
              "    .colab-df-convert:hover {\n",
              "      background-color: #E2EBFA;\n",
              "      box-shadow: 0px 1px 2px rgba(60, 64, 67, 0.3), 0px 1px 3px 1px rgba(60, 64, 67, 0.15);\n",
              "      fill: #174EA6;\n",
              "    }\n",
              "\n",
              "    [theme=dark] .colab-df-convert {\n",
              "      background-color: #3B4455;\n",
              "      fill: #D2E3FC;\n",
              "    }\n",
              "\n",
              "    [theme=dark] .colab-df-convert:hover {\n",
              "      background-color: #434B5C;\n",
              "      box-shadow: 0px 1px 3px 1px rgba(0, 0, 0, 0.15);\n",
              "      filter: drop-shadow(0px 1px 2px rgba(0, 0, 0, 0.3));\n",
              "      fill: #FFFFFF;\n",
              "    }\n",
              "  </style>\n",
              "\n",
              "      <script>\n",
              "        const buttonEl =\n",
              "          document.querySelector('#df-4a566bce-fe21-4120-b71c-4b60b6e5c5c2 button.colab-df-convert');\n",
              "        buttonEl.style.display =\n",
              "          google.colab.kernel.accessAllowed ? 'block' : 'none';\n",
              "\n",
              "        async function convertToInteractive(key) {\n",
              "          const element = document.querySelector('#df-4a566bce-fe21-4120-b71c-4b60b6e5c5c2');\n",
              "          const dataTable =\n",
              "            await google.colab.kernel.invokeFunction('convertToInteractive',\n",
              "                                                     [key], {});\n",
              "          if (!dataTable) return;\n",
              "\n",
              "          const docLinkHtml = 'Like what you see? Visit the ' +\n",
              "            '<a target=\"_blank\" href=https://colab.research.google.com/notebooks/data_table.ipynb>data table notebook</a>'\n",
              "            + ' to learn more about interactive tables.';\n",
              "          element.innerHTML = '';\n",
              "          dataTable['output_type'] = 'display_data';\n",
              "          await google.colab.output.renderOutput(dataTable, element);\n",
              "          const docLink = document.createElement('div');\n",
              "          docLink.innerHTML = docLinkHtml;\n",
              "          element.appendChild(docLink);\n",
              "        }\n",
              "      </script>\n",
              "    </div>\n",
              "  </div>\n",
              "  "
            ]
          },
          "metadata": {},
          "execution_count": 37
        }
      ]
    },
    {
      "cell_type": "code",
      "source": [
        "data.head()"
      ],
      "metadata": {
        "colab": {
          "base_uri": "https://localhost:8080/",
          "height": 478
        },
        "id": "2GaUXWG90ZFV",
        "outputId": "b14dcdfc-2b81-476d-c305-02ee51d01811"
      },
      "execution_count": 38,
      "outputs": [
        {
          "output_type": "execute_result",
          "data": {
            "text/plain": [
              "     BIRTH_DT CUST_ADD_DT  OCPTN_NM  RES_CNTRY_CA  CNTRY_OF_INCOME_CA  PEP_FL  \\\n",
              "0  1981-09-01  2007-07-05      89.0             1                   1     0.0   \n",
              "1  1994-02-21  2019-05-19      89.0             1                   1     0.0   \n",
              "2  1962-11-16  2011-08-02      89.0             1                   1     0.0   \n",
              "3  1998-06-20  2001-08-15      89.0             1                   1     0.0   \n",
              "4  1942-01-24  2012-10-28      89.0             1                   1     0.0   \n",
              "\n",
              "   CASH_SUM_IN  CASH_CNT_IN  CASH_SUM_OUT  CASH_CNT_OUT  WIRES_SUM_IN  \\\n",
              "0     2577.785          2.0      2851.663           7.0       70774.0   \n",
              "1     3035.502          2.0      4805.997          15.0      282929.0   \n",
              "2     1617.571          1.0      3482.809          11.0        7632.0   \n",
              "3     3587.042          5.0      1940.943           8.0      149253.0   \n",
              "4     1725.524          2.0     13197.169          43.0       92318.0   \n",
              "\n",
              "   WIRES_CNT_IN  WIRES_SUM_OUT  WIRES_CNT_OUT COUNTRY_RISK_INCOME  \\\n",
              "0          62.0        24244.0           35.0                 Low   \n",
              "1          76.0       196439.0          152.0                 Low   \n",
              "2           6.0        33598.0           20.0                 Low   \n",
              "3          71.0       105896.0          238.0                 Low   \n",
              "4          96.0       187403.0          180.0                 Low   \n",
              "\n",
              "  COUNTRY_RISK_RESIDENCY RISK                          NAME  GENDER  \\\n",
              "0                    Low  low  Young, Marie Mildren Coleman  Female   \n",
              "1                    Low  low              Mark Stupar Lecy    Male   \n",
              "2                    Low  low    Dean Glasper Wendel Reeves    Male   \n",
              "3                    Low  low           Hulsey, Linda Rauth  Female   \n",
              "4                    Low  low    Carolyn Washington Roberts  Female   \n",
              "\n",
              "   CUSTOMER_ID  \n",
              "0     935382.0  \n",
              "1       2305.0  \n",
              "2     472403.0  \n",
              "3     227994.0  \n",
              "4     418265.0  "
            ],
            "text/html": [
              "\n",
              "  <div id=\"df-fc6dbb62-f42b-4eee-8e20-20a4b8da9860\">\n",
              "    <div class=\"colab-df-container\">\n",
              "      <div>\n",
              "<style scoped>\n",
              "    .dataframe tbody tr th:only-of-type {\n",
              "        vertical-align: middle;\n",
              "    }\n",
              "\n",
              "    .dataframe tbody tr th {\n",
              "        vertical-align: top;\n",
              "    }\n",
              "\n",
              "    .dataframe thead th {\n",
              "        text-align: right;\n",
              "    }\n",
              "</style>\n",
              "<table border=\"1\" class=\"dataframe\">\n",
              "  <thead>\n",
              "    <tr style=\"text-align: right;\">\n",
              "      <th></th>\n",
              "      <th>BIRTH_DT</th>\n",
              "      <th>CUST_ADD_DT</th>\n",
              "      <th>OCPTN_NM</th>\n",
              "      <th>RES_CNTRY_CA</th>\n",
              "      <th>CNTRY_OF_INCOME_CA</th>\n",
              "      <th>PEP_FL</th>\n",
              "      <th>CASH_SUM_IN</th>\n",
              "      <th>CASH_CNT_IN</th>\n",
              "      <th>CASH_SUM_OUT</th>\n",
              "      <th>CASH_CNT_OUT</th>\n",
              "      <th>WIRES_SUM_IN</th>\n",
              "      <th>WIRES_CNT_IN</th>\n",
              "      <th>WIRES_SUM_OUT</th>\n",
              "      <th>WIRES_CNT_OUT</th>\n",
              "      <th>COUNTRY_RISK_INCOME</th>\n",
              "      <th>COUNTRY_RISK_RESIDENCY</th>\n",
              "      <th>RISK</th>\n",
              "      <th>NAME</th>\n",
              "      <th>GENDER</th>\n",
              "      <th>CUSTOMER_ID</th>\n",
              "    </tr>\n",
              "  </thead>\n",
              "  <tbody>\n",
              "    <tr>\n",
              "      <th>0</th>\n",
              "      <td>1981-09-01</td>\n",
              "      <td>2007-07-05</td>\n",
              "      <td>89.0</td>\n",
              "      <td>1</td>\n",
              "      <td>1</td>\n",
              "      <td>0.0</td>\n",
              "      <td>2577.785</td>\n",
              "      <td>2.0</td>\n",
              "      <td>2851.663</td>\n",
              "      <td>7.0</td>\n",
              "      <td>70774.0</td>\n",
              "      <td>62.0</td>\n",
              "      <td>24244.0</td>\n",
              "      <td>35.0</td>\n",
              "      <td>Low</td>\n",
              "      <td>Low</td>\n",
              "      <td>low</td>\n",
              "      <td>Young, Marie Mildren Coleman</td>\n",
              "      <td>Female</td>\n",
              "      <td>935382.0</td>\n",
              "    </tr>\n",
              "    <tr>\n",
              "      <th>1</th>\n",
              "      <td>1994-02-21</td>\n",
              "      <td>2019-05-19</td>\n",
              "      <td>89.0</td>\n",
              "      <td>1</td>\n",
              "      <td>1</td>\n",
              "      <td>0.0</td>\n",
              "      <td>3035.502</td>\n",
              "      <td>2.0</td>\n",
              "      <td>4805.997</td>\n",
              "      <td>15.0</td>\n",
              "      <td>282929.0</td>\n",
              "      <td>76.0</td>\n",
              "      <td>196439.0</td>\n",
              "      <td>152.0</td>\n",
              "      <td>Low</td>\n",
              "      <td>Low</td>\n",
              "      <td>low</td>\n",
              "      <td>Mark Stupar Lecy</td>\n",
              "      <td>Male</td>\n",
              "      <td>2305.0</td>\n",
              "    </tr>\n",
              "    <tr>\n",
              "      <th>2</th>\n",
              "      <td>1962-11-16</td>\n",
              "      <td>2011-08-02</td>\n",
              "      <td>89.0</td>\n",
              "      <td>1</td>\n",
              "      <td>1</td>\n",
              "      <td>0.0</td>\n",
              "      <td>1617.571</td>\n",
              "      <td>1.0</td>\n",
              "      <td>3482.809</td>\n",
              "      <td>11.0</td>\n",
              "      <td>7632.0</td>\n",
              "      <td>6.0</td>\n",
              "      <td>33598.0</td>\n",
              "      <td>20.0</td>\n",
              "      <td>Low</td>\n",
              "      <td>Low</td>\n",
              "      <td>low</td>\n",
              "      <td>Dean Glasper Wendel Reeves</td>\n",
              "      <td>Male</td>\n",
              "      <td>472403.0</td>\n",
              "    </tr>\n",
              "    <tr>\n",
              "      <th>3</th>\n",
              "      <td>1998-06-20</td>\n",
              "      <td>2001-08-15</td>\n",
              "      <td>89.0</td>\n",
              "      <td>1</td>\n",
              "      <td>1</td>\n",
              "      <td>0.0</td>\n",
              "      <td>3587.042</td>\n",
              "      <td>5.0</td>\n",
              "      <td>1940.943</td>\n",
              "      <td>8.0</td>\n",
              "      <td>149253.0</td>\n",
              "      <td>71.0</td>\n",
              "      <td>105896.0</td>\n",
              "      <td>238.0</td>\n",
              "      <td>Low</td>\n",
              "      <td>Low</td>\n",
              "      <td>low</td>\n",
              "      <td>Hulsey, Linda Rauth</td>\n",
              "      <td>Female</td>\n",
              "      <td>227994.0</td>\n",
              "    </tr>\n",
              "    <tr>\n",
              "      <th>4</th>\n",
              "      <td>1942-01-24</td>\n",
              "      <td>2012-10-28</td>\n",
              "      <td>89.0</td>\n",
              "      <td>1</td>\n",
              "      <td>1</td>\n",
              "      <td>0.0</td>\n",
              "      <td>1725.524</td>\n",
              "      <td>2.0</td>\n",
              "      <td>13197.169</td>\n",
              "      <td>43.0</td>\n",
              "      <td>92318.0</td>\n",
              "      <td>96.0</td>\n",
              "      <td>187403.0</td>\n",
              "      <td>180.0</td>\n",
              "      <td>Low</td>\n",
              "      <td>Low</td>\n",
              "      <td>low</td>\n",
              "      <td>Carolyn Washington Roberts</td>\n",
              "      <td>Female</td>\n",
              "      <td>418265.0</td>\n",
              "    </tr>\n",
              "  </tbody>\n",
              "</table>\n",
              "</div>\n",
              "      <button class=\"colab-df-convert\" onclick=\"convertToInteractive('df-fc6dbb62-f42b-4eee-8e20-20a4b8da9860')\"\n",
              "              title=\"Convert this dataframe to an interactive table.\"\n",
              "              style=\"display:none;\">\n",
              "        \n",
              "  <svg xmlns=\"http://www.w3.org/2000/svg\" height=\"24px\"viewBox=\"0 0 24 24\"\n",
              "       width=\"24px\">\n",
              "    <path d=\"M0 0h24v24H0V0z\" fill=\"none\"/>\n",
              "    <path d=\"M18.56 5.44l.94 2.06.94-2.06 2.06-.94-2.06-.94-.94-2.06-.94 2.06-2.06.94zm-11 1L8.5 8.5l.94-2.06 2.06-.94-2.06-.94L8.5 2.5l-.94 2.06-2.06.94zm10 10l.94 2.06.94-2.06 2.06-.94-2.06-.94-.94-2.06-.94 2.06-2.06.94z\"/><path d=\"M17.41 7.96l-1.37-1.37c-.4-.4-.92-.59-1.43-.59-.52 0-1.04.2-1.43.59L10.3 9.45l-7.72 7.72c-.78.78-.78 2.05 0 2.83L4 21.41c.39.39.9.59 1.41.59.51 0 1.02-.2 1.41-.59l7.78-7.78 2.81-2.81c.8-.78.8-2.07 0-2.86zM5.41 20L4 18.59l7.72-7.72 1.47 1.35L5.41 20z\"/>\n",
              "  </svg>\n",
              "      </button>\n",
              "      \n",
              "  <style>\n",
              "    .colab-df-container {\n",
              "      display:flex;\n",
              "      flex-wrap:wrap;\n",
              "      gap: 12px;\n",
              "    }\n",
              "\n",
              "    .colab-df-convert {\n",
              "      background-color: #E8F0FE;\n",
              "      border: none;\n",
              "      border-radius: 50%;\n",
              "      cursor: pointer;\n",
              "      display: none;\n",
              "      fill: #1967D2;\n",
              "      height: 32px;\n",
              "      padding: 0 0 0 0;\n",
              "      width: 32px;\n",
              "    }\n",
              "\n",
              "    .colab-df-convert:hover {\n",
              "      background-color: #E2EBFA;\n",
              "      box-shadow: 0px 1px 2px rgba(60, 64, 67, 0.3), 0px 1px 3px 1px rgba(60, 64, 67, 0.15);\n",
              "      fill: #174EA6;\n",
              "    }\n",
              "\n",
              "    [theme=dark] .colab-df-convert {\n",
              "      background-color: #3B4455;\n",
              "      fill: #D2E3FC;\n",
              "    }\n",
              "\n",
              "    [theme=dark] .colab-df-convert:hover {\n",
              "      background-color: #434B5C;\n",
              "      box-shadow: 0px 1px 3px 1px rgba(0, 0, 0, 0.15);\n",
              "      filter: drop-shadow(0px 1px 2px rgba(0, 0, 0, 0.3));\n",
              "      fill: #FFFFFF;\n",
              "    }\n",
              "  </style>\n",
              "\n",
              "      <script>\n",
              "        const buttonEl =\n",
              "          document.querySelector('#df-fc6dbb62-f42b-4eee-8e20-20a4b8da9860 button.colab-df-convert');\n",
              "        buttonEl.style.display =\n",
              "          google.colab.kernel.accessAllowed ? 'block' : 'none';\n",
              "\n",
              "        async function convertToInteractive(key) {\n",
              "          const element = document.querySelector('#df-fc6dbb62-f42b-4eee-8e20-20a4b8da9860');\n",
              "          const dataTable =\n",
              "            await google.colab.kernel.invokeFunction('convertToInteractive',\n",
              "                                                     [key], {});\n",
              "          if (!dataTable) return;\n",
              "\n",
              "          const docLinkHtml = 'Like what you see? Visit the ' +\n",
              "            '<a target=\"_blank\" href=https://colab.research.google.com/notebooks/data_table.ipynb>data table notebook</a>'\n",
              "            + ' to learn more about interactive tables.';\n",
              "          element.innerHTML = '';\n",
              "          dataTable['output_type'] = 'display_data';\n",
              "          await google.colab.output.renderOutput(dataTable, element);\n",
              "          const docLink = document.createElement('div');\n",
              "          docLink.innerHTML = docLinkHtml;\n",
              "          element.appendChild(docLink);\n",
              "        }\n",
              "      </script>\n",
              "    </div>\n",
              "  </div>\n",
              "  "
            ]
          },
          "metadata": {},
          "execution_count": 38
        }
      ]
    },
    {
      "cell_type": "code",
      "source": [
        "data.shape"
      ],
      "metadata": {
        "colab": {
          "base_uri": "https://localhost:8080/"
        },
        "id": "RPCmxkcaxOaZ",
        "outputId": "6adbe722-bec4-4a54-a02a-a058333cee31"
      },
      "execution_count": 39,
      "outputs": [
        {
          "output_type": "execute_result",
          "data": {
            "text/plain": [
              "(1000000, 20)"
            ]
          },
          "metadata": {},
          "execution_count": 39
        }
      ]
    },
    {
      "cell_type": "code",
      "source": [
        "data.isnull().sum()"
      ],
      "metadata": {
        "colab": {
          "base_uri": "https://localhost:8080/"
        },
        "id": "4LebN6G7z5iM",
        "outputId": "7d742f50-8054-4d39-a9c0-bc7cda37727c"
      },
      "execution_count": 40,
      "outputs": [
        {
          "output_type": "execute_result",
          "data": {
            "text/plain": [
              "BIRTH_DT                     0\n",
              "CUST_ADD_DT               4178\n",
              "OCPTN_NM                  6384\n",
              "RES_CNTRY_CA                 0\n",
              "CNTRY_OF_INCOME_CA           0\n",
              "PEP_FL                       0\n",
              "CASH_SUM_IN                  0\n",
              "CASH_CNT_IN                  0\n",
              "CASH_SUM_OUT                 0\n",
              "CASH_CNT_OUT                 0\n",
              "WIRES_SUM_IN                 0\n",
              "WIRES_CNT_IN                 0\n",
              "WIRES_SUM_OUT                0\n",
              "WIRES_CNT_OUT                0\n",
              "COUNTRY_RISK_INCOME          0\n",
              "COUNTRY_RISK_RESIDENCY       0\n",
              "RISK                         0\n",
              "NAME                       660\n",
              "GENDER                     628\n",
              "CUSTOMER_ID                  0\n",
              "dtype: int64"
            ]
          },
          "metadata": {},
          "execution_count": 40
        }
      ]
    },
    {
      "cell_type": "code",
      "source": [
        "data[data['NAME'].isna()]"
      ],
      "metadata": {
        "colab": {
          "base_uri": "https://localhost:8080/",
          "height": 661
        },
        "id": "RpEocv0pzflY",
        "outputId": "c8c9ce03-083e-4745-d863-5c761fefc205"
      },
      "execution_count": 41,
      "outputs": [
        {
          "output_type": "execute_result",
          "data": {
            "text/plain": [
              "          BIRTH_DT CUST_ADD_DT  OCPTN_NM  RES_CNTRY_CA  CNTRY_OF_INCOME_CA  \\\n",
              "666     1992-02-15  2010-11-12      89.0             1                   1   \n",
              "1015    2009-05-14  2021-02-20      89.0             1                   1   \n",
              "1199    1953-10-26  1986-03-24      89.0             1                   1   \n",
              "1252    1945-11-13  2010-06-28       NaN             1                   1   \n",
              "2263    1977-04-22  2013-06-03      89.0             1                   1   \n",
              "...            ...         ...       ...           ...                 ...   \n",
              "993715  1987-07-17  2016-06-15     504.0             0                   1   \n",
              "993864  1970-09-14  2011-01-21      89.0             0                   1   \n",
              "994480  1953-11-20  2019-09-24      79.0             0                   1   \n",
              "997708  1971-12-18  2014-09-01      89.0             0                   1   \n",
              "997796  1962-12-18  2008-05-15      89.0             0                   1   \n",
              "\n",
              "        PEP_FL  CASH_SUM_IN  CASH_CNT_IN  CASH_SUM_OUT  CASH_CNT_OUT  \\\n",
              "666        0.0     4939.581          6.0      1028.585           4.0   \n",
              "1015       0.0     3556.222          3.0       338.113           1.0   \n",
              "1199       0.0    10251.613         17.0     14416.108          41.0   \n",
              "1252       0.0     5844.463          7.0     11162.385          18.0   \n",
              "2263       0.0     1442.583          2.0      3226.940          13.0   \n",
              "...        ...          ...          ...           ...           ...   \n",
              "993715     1.0    38391.000         12.0     35981.000          10.0   \n",
              "993864     0.0    31240.000         22.0     16938.000          19.0   \n",
              "994480     0.0     8679.000          5.0     63174.000          35.0   \n",
              "997708     0.0    62692.000         25.0     11552.000           3.0   \n",
              "997796     0.0     3100.413          0.0     11332.000           8.0   \n",
              "\n",
              "        WIRES_SUM_IN  WIRES_CNT_IN  WIRES_SUM_OUT  WIRES_CNT_OUT  \\\n",
              "666           7096.0           2.0        61067.0           49.0   \n",
              "1015         38090.0          15.0        80053.0           43.0   \n",
              "1199        172992.0          80.0       216597.0          297.0   \n",
              "1252        158864.0          94.0        91584.0           72.0   \n",
              "2263         49338.0          65.0        12038.0           35.0   \n",
              "...              ...           ...            ...            ...   \n",
              "993715      547714.0           5.0      1037825.0           49.0   \n",
              "993864    16636259.0          21.0      5142265.0          183.0   \n",
              "994480     6750058.0          23.0      2351034.0           88.0   \n",
              "997708     4904771.0           2.0      2189384.0           64.0   \n",
              "997796     4105843.0          44.0      1805933.0          177.0   \n",
              "\n",
              "       COUNTRY_RISK_INCOME COUNTRY_RISK_RESIDENCY    RISK NAME  GENDER  \\\n",
              "666                    Low                    Low     low  NaN  Female   \n",
              "1015                   Low                    Low     low  NaN     NaN   \n",
              "1199                   Low                    Low     low  NaN     NaN   \n",
              "1252                   Low                    Low     low  NaN     NaN   \n",
              "2263                   Low                    Low     low  NaN     NaN   \n",
              "...                    ...                    ...     ...  ...     ...   \n",
              "993715                 Low                   High  medium  NaN     NaN   \n",
              "993864                 Low                   High  medium  NaN     NaN   \n",
              "994480                 Low                   High  medium  NaN     NaN   \n",
              "997708                 Low                   High  medium  NaN     NaN   \n",
              "997796                 Low                   High    high  NaN     NaN   \n",
              "\n",
              "        CUSTOMER_ID  \n",
              "666         43461.0  \n",
              "1015       518946.0  \n",
              "1199       402686.0  \n",
              "1252       104453.0  \n",
              "2263       637208.0  \n",
              "...             ...  \n",
              "993715     896627.0  \n",
              "993864     600679.0  \n",
              "994480     731678.0  \n",
              "997708     691062.0  \n",
              "997796     617186.0  \n",
              "\n",
              "[660 rows x 20 columns]"
            ],
            "text/html": [
              "\n",
              "  <div id=\"df-86fa58a8-e604-4f94-b651-d8ed0e26eaa4\">\n",
              "    <div class=\"colab-df-container\">\n",
              "      <div>\n",
              "<style scoped>\n",
              "    .dataframe tbody tr th:only-of-type {\n",
              "        vertical-align: middle;\n",
              "    }\n",
              "\n",
              "    .dataframe tbody tr th {\n",
              "        vertical-align: top;\n",
              "    }\n",
              "\n",
              "    .dataframe thead th {\n",
              "        text-align: right;\n",
              "    }\n",
              "</style>\n",
              "<table border=\"1\" class=\"dataframe\">\n",
              "  <thead>\n",
              "    <tr style=\"text-align: right;\">\n",
              "      <th></th>\n",
              "      <th>BIRTH_DT</th>\n",
              "      <th>CUST_ADD_DT</th>\n",
              "      <th>OCPTN_NM</th>\n",
              "      <th>RES_CNTRY_CA</th>\n",
              "      <th>CNTRY_OF_INCOME_CA</th>\n",
              "      <th>PEP_FL</th>\n",
              "      <th>CASH_SUM_IN</th>\n",
              "      <th>CASH_CNT_IN</th>\n",
              "      <th>CASH_SUM_OUT</th>\n",
              "      <th>CASH_CNT_OUT</th>\n",
              "      <th>WIRES_SUM_IN</th>\n",
              "      <th>WIRES_CNT_IN</th>\n",
              "      <th>WIRES_SUM_OUT</th>\n",
              "      <th>WIRES_CNT_OUT</th>\n",
              "      <th>COUNTRY_RISK_INCOME</th>\n",
              "      <th>COUNTRY_RISK_RESIDENCY</th>\n",
              "      <th>RISK</th>\n",
              "      <th>NAME</th>\n",
              "      <th>GENDER</th>\n",
              "      <th>CUSTOMER_ID</th>\n",
              "    </tr>\n",
              "  </thead>\n",
              "  <tbody>\n",
              "    <tr>\n",
              "      <th>666</th>\n",
              "      <td>1992-02-15</td>\n",
              "      <td>2010-11-12</td>\n",
              "      <td>89.0</td>\n",
              "      <td>1</td>\n",
              "      <td>1</td>\n",
              "      <td>0.0</td>\n",
              "      <td>4939.581</td>\n",
              "      <td>6.0</td>\n",
              "      <td>1028.585</td>\n",
              "      <td>4.0</td>\n",
              "      <td>7096.0</td>\n",
              "      <td>2.0</td>\n",
              "      <td>61067.0</td>\n",
              "      <td>49.0</td>\n",
              "      <td>Low</td>\n",
              "      <td>Low</td>\n",
              "      <td>low</td>\n",
              "      <td>NaN</td>\n",
              "      <td>Female</td>\n",
              "      <td>43461.0</td>\n",
              "    </tr>\n",
              "    <tr>\n",
              "      <th>1015</th>\n",
              "      <td>2009-05-14</td>\n",
              "      <td>2021-02-20</td>\n",
              "      <td>89.0</td>\n",
              "      <td>1</td>\n",
              "      <td>1</td>\n",
              "      <td>0.0</td>\n",
              "      <td>3556.222</td>\n",
              "      <td>3.0</td>\n",
              "      <td>338.113</td>\n",
              "      <td>1.0</td>\n",
              "      <td>38090.0</td>\n",
              "      <td>15.0</td>\n",
              "      <td>80053.0</td>\n",
              "      <td>43.0</td>\n",
              "      <td>Low</td>\n",
              "      <td>Low</td>\n",
              "      <td>low</td>\n",
              "      <td>NaN</td>\n",
              "      <td>NaN</td>\n",
              "      <td>518946.0</td>\n",
              "    </tr>\n",
              "    <tr>\n",
              "      <th>1199</th>\n",
              "      <td>1953-10-26</td>\n",
              "      <td>1986-03-24</td>\n",
              "      <td>89.0</td>\n",
              "      <td>1</td>\n",
              "      <td>1</td>\n",
              "      <td>0.0</td>\n",
              "      <td>10251.613</td>\n",
              "      <td>17.0</td>\n",
              "      <td>14416.108</td>\n",
              "      <td>41.0</td>\n",
              "      <td>172992.0</td>\n",
              "      <td>80.0</td>\n",
              "      <td>216597.0</td>\n",
              "      <td>297.0</td>\n",
              "      <td>Low</td>\n",
              "      <td>Low</td>\n",
              "      <td>low</td>\n",
              "      <td>NaN</td>\n",
              "      <td>NaN</td>\n",
              "      <td>402686.0</td>\n",
              "    </tr>\n",
              "    <tr>\n",
              "      <th>1252</th>\n",
              "      <td>1945-11-13</td>\n",
              "      <td>2010-06-28</td>\n",
              "      <td>NaN</td>\n",
              "      <td>1</td>\n",
              "      <td>1</td>\n",
              "      <td>0.0</td>\n",
              "      <td>5844.463</td>\n",
              "      <td>7.0</td>\n",
              "      <td>11162.385</td>\n",
              "      <td>18.0</td>\n",
              "      <td>158864.0</td>\n",
              "      <td>94.0</td>\n",
              "      <td>91584.0</td>\n",
              "      <td>72.0</td>\n",
              "      <td>Low</td>\n",
              "      <td>Low</td>\n",
              "      <td>low</td>\n",
              "      <td>NaN</td>\n",
              "      <td>NaN</td>\n",
              "      <td>104453.0</td>\n",
              "    </tr>\n",
              "    <tr>\n",
              "      <th>2263</th>\n",
              "      <td>1977-04-22</td>\n",
              "      <td>2013-06-03</td>\n",
              "      <td>89.0</td>\n",
              "      <td>1</td>\n",
              "      <td>1</td>\n",
              "      <td>0.0</td>\n",
              "      <td>1442.583</td>\n",
              "      <td>2.0</td>\n",
              "      <td>3226.940</td>\n",
              "      <td>13.0</td>\n",
              "      <td>49338.0</td>\n",
              "      <td>65.0</td>\n",
              "      <td>12038.0</td>\n",
              "      <td>35.0</td>\n",
              "      <td>Low</td>\n",
              "      <td>Low</td>\n",
              "      <td>low</td>\n",
              "      <td>NaN</td>\n",
              "      <td>NaN</td>\n",
              "      <td>637208.0</td>\n",
              "    </tr>\n",
              "    <tr>\n",
              "      <th>...</th>\n",
              "      <td>...</td>\n",
              "      <td>...</td>\n",
              "      <td>...</td>\n",
              "      <td>...</td>\n",
              "      <td>...</td>\n",
              "      <td>...</td>\n",
              "      <td>...</td>\n",
              "      <td>...</td>\n",
              "      <td>...</td>\n",
              "      <td>...</td>\n",
              "      <td>...</td>\n",
              "      <td>...</td>\n",
              "      <td>...</td>\n",
              "      <td>...</td>\n",
              "      <td>...</td>\n",
              "      <td>...</td>\n",
              "      <td>...</td>\n",
              "      <td>...</td>\n",
              "      <td>...</td>\n",
              "      <td>...</td>\n",
              "    </tr>\n",
              "    <tr>\n",
              "      <th>993715</th>\n",
              "      <td>1987-07-17</td>\n",
              "      <td>2016-06-15</td>\n",
              "      <td>504.0</td>\n",
              "      <td>0</td>\n",
              "      <td>1</td>\n",
              "      <td>1.0</td>\n",
              "      <td>38391.000</td>\n",
              "      <td>12.0</td>\n",
              "      <td>35981.000</td>\n",
              "      <td>10.0</td>\n",
              "      <td>547714.0</td>\n",
              "      <td>5.0</td>\n",
              "      <td>1037825.0</td>\n",
              "      <td>49.0</td>\n",
              "      <td>Low</td>\n",
              "      <td>High</td>\n",
              "      <td>medium</td>\n",
              "      <td>NaN</td>\n",
              "      <td>NaN</td>\n",
              "      <td>896627.0</td>\n",
              "    </tr>\n",
              "    <tr>\n",
              "      <th>993864</th>\n",
              "      <td>1970-09-14</td>\n",
              "      <td>2011-01-21</td>\n",
              "      <td>89.0</td>\n",
              "      <td>0</td>\n",
              "      <td>1</td>\n",
              "      <td>0.0</td>\n",
              "      <td>31240.000</td>\n",
              "      <td>22.0</td>\n",
              "      <td>16938.000</td>\n",
              "      <td>19.0</td>\n",
              "      <td>16636259.0</td>\n",
              "      <td>21.0</td>\n",
              "      <td>5142265.0</td>\n",
              "      <td>183.0</td>\n",
              "      <td>Low</td>\n",
              "      <td>High</td>\n",
              "      <td>medium</td>\n",
              "      <td>NaN</td>\n",
              "      <td>NaN</td>\n",
              "      <td>600679.0</td>\n",
              "    </tr>\n",
              "    <tr>\n",
              "      <th>994480</th>\n",
              "      <td>1953-11-20</td>\n",
              "      <td>2019-09-24</td>\n",
              "      <td>79.0</td>\n",
              "      <td>0</td>\n",
              "      <td>1</td>\n",
              "      <td>0.0</td>\n",
              "      <td>8679.000</td>\n",
              "      <td>5.0</td>\n",
              "      <td>63174.000</td>\n",
              "      <td>35.0</td>\n",
              "      <td>6750058.0</td>\n",
              "      <td>23.0</td>\n",
              "      <td>2351034.0</td>\n",
              "      <td>88.0</td>\n",
              "      <td>Low</td>\n",
              "      <td>High</td>\n",
              "      <td>medium</td>\n",
              "      <td>NaN</td>\n",
              "      <td>NaN</td>\n",
              "      <td>731678.0</td>\n",
              "    </tr>\n",
              "    <tr>\n",
              "      <th>997708</th>\n",
              "      <td>1971-12-18</td>\n",
              "      <td>2014-09-01</td>\n",
              "      <td>89.0</td>\n",
              "      <td>0</td>\n",
              "      <td>1</td>\n",
              "      <td>0.0</td>\n",
              "      <td>62692.000</td>\n",
              "      <td>25.0</td>\n",
              "      <td>11552.000</td>\n",
              "      <td>3.0</td>\n",
              "      <td>4904771.0</td>\n",
              "      <td>2.0</td>\n",
              "      <td>2189384.0</td>\n",
              "      <td>64.0</td>\n",
              "      <td>Low</td>\n",
              "      <td>High</td>\n",
              "      <td>medium</td>\n",
              "      <td>NaN</td>\n",
              "      <td>NaN</td>\n",
              "      <td>691062.0</td>\n",
              "    </tr>\n",
              "    <tr>\n",
              "      <th>997796</th>\n",
              "      <td>1962-12-18</td>\n",
              "      <td>2008-05-15</td>\n",
              "      <td>89.0</td>\n",
              "      <td>0</td>\n",
              "      <td>1</td>\n",
              "      <td>0.0</td>\n",
              "      <td>3100.413</td>\n",
              "      <td>0.0</td>\n",
              "      <td>11332.000</td>\n",
              "      <td>8.0</td>\n",
              "      <td>4105843.0</td>\n",
              "      <td>44.0</td>\n",
              "      <td>1805933.0</td>\n",
              "      <td>177.0</td>\n",
              "      <td>Low</td>\n",
              "      <td>High</td>\n",
              "      <td>high</td>\n",
              "      <td>NaN</td>\n",
              "      <td>NaN</td>\n",
              "      <td>617186.0</td>\n",
              "    </tr>\n",
              "  </tbody>\n",
              "</table>\n",
              "<p>660 rows × 20 columns</p>\n",
              "</div>\n",
              "      <button class=\"colab-df-convert\" onclick=\"convertToInteractive('df-86fa58a8-e604-4f94-b651-d8ed0e26eaa4')\"\n",
              "              title=\"Convert this dataframe to an interactive table.\"\n",
              "              style=\"display:none;\">\n",
              "        \n",
              "  <svg xmlns=\"http://www.w3.org/2000/svg\" height=\"24px\"viewBox=\"0 0 24 24\"\n",
              "       width=\"24px\">\n",
              "    <path d=\"M0 0h24v24H0V0z\" fill=\"none\"/>\n",
              "    <path d=\"M18.56 5.44l.94 2.06.94-2.06 2.06-.94-2.06-.94-.94-2.06-.94 2.06-2.06.94zm-11 1L8.5 8.5l.94-2.06 2.06-.94-2.06-.94L8.5 2.5l-.94 2.06-2.06.94zm10 10l.94 2.06.94-2.06 2.06-.94-2.06-.94-.94-2.06-.94 2.06-2.06.94z\"/><path d=\"M17.41 7.96l-1.37-1.37c-.4-.4-.92-.59-1.43-.59-.52 0-1.04.2-1.43.59L10.3 9.45l-7.72 7.72c-.78.78-.78 2.05 0 2.83L4 21.41c.39.39.9.59 1.41.59.51 0 1.02-.2 1.41-.59l7.78-7.78 2.81-2.81c.8-.78.8-2.07 0-2.86zM5.41 20L4 18.59l7.72-7.72 1.47 1.35L5.41 20z\"/>\n",
              "  </svg>\n",
              "      </button>\n",
              "      \n",
              "  <style>\n",
              "    .colab-df-container {\n",
              "      display:flex;\n",
              "      flex-wrap:wrap;\n",
              "      gap: 12px;\n",
              "    }\n",
              "\n",
              "    .colab-df-convert {\n",
              "      background-color: #E8F0FE;\n",
              "      border: none;\n",
              "      border-radius: 50%;\n",
              "      cursor: pointer;\n",
              "      display: none;\n",
              "      fill: #1967D2;\n",
              "      height: 32px;\n",
              "      padding: 0 0 0 0;\n",
              "      width: 32px;\n",
              "    }\n",
              "\n",
              "    .colab-df-convert:hover {\n",
              "      background-color: #E2EBFA;\n",
              "      box-shadow: 0px 1px 2px rgba(60, 64, 67, 0.3), 0px 1px 3px 1px rgba(60, 64, 67, 0.15);\n",
              "      fill: #174EA6;\n",
              "    }\n",
              "\n",
              "    [theme=dark] .colab-df-convert {\n",
              "      background-color: #3B4455;\n",
              "      fill: #D2E3FC;\n",
              "    }\n",
              "\n",
              "    [theme=dark] .colab-df-convert:hover {\n",
              "      background-color: #434B5C;\n",
              "      box-shadow: 0px 1px 3px 1px rgba(0, 0, 0, 0.15);\n",
              "      filter: drop-shadow(0px 1px 2px rgba(0, 0, 0, 0.3));\n",
              "      fill: #FFFFFF;\n",
              "    }\n",
              "  </style>\n",
              "\n",
              "      <script>\n",
              "        const buttonEl =\n",
              "          document.querySelector('#df-86fa58a8-e604-4f94-b651-d8ed0e26eaa4 button.colab-df-convert');\n",
              "        buttonEl.style.display =\n",
              "          google.colab.kernel.accessAllowed ? 'block' : 'none';\n",
              "\n",
              "        async function convertToInteractive(key) {\n",
              "          const element = document.querySelector('#df-86fa58a8-e604-4f94-b651-d8ed0e26eaa4');\n",
              "          const dataTable =\n",
              "            await google.colab.kernel.invokeFunction('convertToInteractive',\n",
              "                                                     [key], {});\n",
              "          if (!dataTable) return;\n",
              "\n",
              "          const docLinkHtml = 'Like what you see? Visit the ' +\n",
              "            '<a target=\"_blank\" href=https://colab.research.google.com/notebooks/data_table.ipynb>data table notebook</a>'\n",
              "            + ' to learn more about interactive tables.';\n",
              "          element.innerHTML = '';\n",
              "          dataTable['output_type'] = 'display_data';\n",
              "          await google.colab.output.renderOutput(dataTable, element);\n",
              "          const docLink = document.createElement('div');\n",
              "          docLink.innerHTML = docLinkHtml;\n",
              "          element.appendChild(docLink);\n",
              "        }\n",
              "      </script>\n",
              "    </div>\n",
              "  </div>\n",
              "  "
            ]
          },
          "metadata": {},
          "execution_count": 41
        }
      ]
    },
    {
      "cell_type": "code",
      "source": [
        "sanction_list=sanction_names[['name','aliases','birth_date']]"
      ],
      "metadata": {
        "id": "Sg--Lifg1_pN"
      },
      "execution_count": 42,
      "outputs": []
    },
    {
      "cell_type": "code",
      "source": [
        "sanction_list.isnull().sum()"
      ],
      "metadata": {
        "colab": {
          "base_uri": "https://localhost:8080/"
        },
        "id": "JafXBelf0wfs",
        "outputId": "767e1fff-3a61-45cf-c106-ffd9c79ce29e"
      },
      "execution_count": 44,
      "outputs": [
        {
          "output_type": "execute_result",
          "data": {
            "text/plain": [
              "name               0\n",
              "aliases       103359\n",
              "birth_date    103818\n",
              "dtype: int64"
            ]
          },
          "metadata": {},
          "execution_count": 44
        }
      ]
    },
    {
      "cell_type": "markdown",
      "source": [
        "No missing names. But difficult to fill in DOB. "
      ],
      "metadata": {
        "id": "cwLHJpIs8NrC"
      }
    },
    {
      "cell_type": "code",
      "source": [
        "sanction_list.shape"
      ],
      "metadata": {
        "colab": {
          "base_uri": "https://localhost:8080/"
        },
        "id": "VjRhDaZF-4g5",
        "outputId": "200a9c96-eb41-49d8-b237-b5ad1fa3b1b2"
      },
      "execution_count": 54,
      "outputs": [
        {
          "output_type": "execute_result",
          "data": {
            "text/plain": [
              "(247143, 3)"
            ]
          },
          "metadata": {},
          "execution_count": 54
        }
      ]
    },
    {
      "cell_type": "code",
      "source": [],
      "metadata": {
        "id": "IVdjl6rw-2v5"
      },
      "execution_count": null,
      "outputs": []
    },
    {
      "cell_type": "code",
      "source": [
        "customer_names=data[['NAME','BIRTH_DT']]"
      ],
      "metadata": {
        "id": "sLKs7g4r2PXg"
      },
      "execution_count": 45,
      "outputs": []
    },
    {
      "cell_type": "code",
      "source": [
        "customer_names"
      ],
      "metadata": {
        "colab": {
          "base_uri": "https://localhost:8080/",
          "height": 423
        },
        "id": "jqERvcIC2nGe",
        "outputId": "6df8a2e2-69cf-41a8-f97f-fd7adb07cf21"
      },
      "execution_count": 48,
      "outputs": [
        {
          "output_type": "execute_result",
          "data": {
            "text/plain": [
              "                                  NAME    BIRTH_DT\n",
              "0         Young, Marie Mildren Coleman  1981-09-01\n",
              "1                     Mark Stupar Lecy  1994-02-21\n",
              "2           Dean Glasper Wendel Reeves  1962-11-16\n",
              "3                  Hulsey, Linda Rauth  1998-06-20\n",
              "4           Carolyn Washington Roberts  1942-01-24\n",
              "...                                ...         ...\n",
              "999995               Bret* Dove Gainey  1939-01-16\n",
              "999996       Anthony Ray Montano Gomez  1970-12-13\n",
              "999997  Bernadette Schofield Pace Mile  1958-09-09\n",
              "999998         Wasson, Russell Terrell  1983-09-15\n",
              "999999                Daniel Mckeighan  1962-01-23\n",
              "\n",
              "[1000000 rows x 2 columns]"
            ],
            "text/html": [
              "\n",
              "  <div id=\"df-6152c08d-8dd1-4be0-a3f7-5664ec65bfce\">\n",
              "    <div class=\"colab-df-container\">\n",
              "      <div>\n",
              "<style scoped>\n",
              "    .dataframe tbody tr th:only-of-type {\n",
              "        vertical-align: middle;\n",
              "    }\n",
              "\n",
              "    .dataframe tbody tr th {\n",
              "        vertical-align: top;\n",
              "    }\n",
              "\n",
              "    .dataframe thead th {\n",
              "        text-align: right;\n",
              "    }\n",
              "</style>\n",
              "<table border=\"1\" class=\"dataframe\">\n",
              "  <thead>\n",
              "    <tr style=\"text-align: right;\">\n",
              "      <th></th>\n",
              "      <th>NAME</th>\n",
              "      <th>BIRTH_DT</th>\n",
              "    </tr>\n",
              "  </thead>\n",
              "  <tbody>\n",
              "    <tr>\n",
              "      <th>0</th>\n",
              "      <td>Young, Marie Mildren Coleman</td>\n",
              "      <td>1981-09-01</td>\n",
              "    </tr>\n",
              "    <tr>\n",
              "      <th>1</th>\n",
              "      <td>Mark Stupar Lecy</td>\n",
              "      <td>1994-02-21</td>\n",
              "    </tr>\n",
              "    <tr>\n",
              "      <th>2</th>\n",
              "      <td>Dean Glasper Wendel Reeves</td>\n",
              "      <td>1962-11-16</td>\n",
              "    </tr>\n",
              "    <tr>\n",
              "      <th>3</th>\n",
              "      <td>Hulsey, Linda Rauth</td>\n",
              "      <td>1998-06-20</td>\n",
              "    </tr>\n",
              "    <tr>\n",
              "      <th>4</th>\n",
              "      <td>Carolyn Washington Roberts</td>\n",
              "      <td>1942-01-24</td>\n",
              "    </tr>\n",
              "    <tr>\n",
              "      <th>...</th>\n",
              "      <td>...</td>\n",
              "      <td>...</td>\n",
              "    </tr>\n",
              "    <tr>\n",
              "      <th>999995</th>\n",
              "      <td>Bret* Dove Gainey</td>\n",
              "      <td>1939-01-16</td>\n",
              "    </tr>\n",
              "    <tr>\n",
              "      <th>999996</th>\n",
              "      <td>Anthony Ray Montano Gomez</td>\n",
              "      <td>1970-12-13</td>\n",
              "    </tr>\n",
              "    <tr>\n",
              "      <th>999997</th>\n",
              "      <td>Bernadette Schofield Pace Mile</td>\n",
              "      <td>1958-09-09</td>\n",
              "    </tr>\n",
              "    <tr>\n",
              "      <th>999998</th>\n",
              "      <td>Wasson, Russell Terrell</td>\n",
              "      <td>1983-09-15</td>\n",
              "    </tr>\n",
              "    <tr>\n",
              "      <th>999999</th>\n",
              "      <td>Daniel Mckeighan</td>\n",
              "      <td>1962-01-23</td>\n",
              "    </tr>\n",
              "  </tbody>\n",
              "</table>\n",
              "<p>1000000 rows × 2 columns</p>\n",
              "</div>\n",
              "      <button class=\"colab-df-convert\" onclick=\"convertToInteractive('df-6152c08d-8dd1-4be0-a3f7-5664ec65bfce')\"\n",
              "              title=\"Convert this dataframe to an interactive table.\"\n",
              "              style=\"display:none;\">\n",
              "        \n",
              "  <svg xmlns=\"http://www.w3.org/2000/svg\" height=\"24px\"viewBox=\"0 0 24 24\"\n",
              "       width=\"24px\">\n",
              "    <path d=\"M0 0h24v24H0V0z\" fill=\"none\"/>\n",
              "    <path d=\"M18.56 5.44l.94 2.06.94-2.06 2.06-.94-2.06-.94-.94-2.06-.94 2.06-2.06.94zm-11 1L8.5 8.5l.94-2.06 2.06-.94-2.06-.94L8.5 2.5l-.94 2.06-2.06.94zm10 10l.94 2.06.94-2.06 2.06-.94-2.06-.94-.94-2.06-.94 2.06-2.06.94z\"/><path d=\"M17.41 7.96l-1.37-1.37c-.4-.4-.92-.59-1.43-.59-.52 0-1.04.2-1.43.59L10.3 9.45l-7.72 7.72c-.78.78-.78 2.05 0 2.83L4 21.41c.39.39.9.59 1.41.59.51 0 1.02-.2 1.41-.59l7.78-7.78 2.81-2.81c.8-.78.8-2.07 0-2.86zM5.41 20L4 18.59l7.72-7.72 1.47 1.35L5.41 20z\"/>\n",
              "  </svg>\n",
              "      </button>\n",
              "      \n",
              "  <style>\n",
              "    .colab-df-container {\n",
              "      display:flex;\n",
              "      flex-wrap:wrap;\n",
              "      gap: 12px;\n",
              "    }\n",
              "\n",
              "    .colab-df-convert {\n",
              "      background-color: #E8F0FE;\n",
              "      border: none;\n",
              "      border-radius: 50%;\n",
              "      cursor: pointer;\n",
              "      display: none;\n",
              "      fill: #1967D2;\n",
              "      height: 32px;\n",
              "      padding: 0 0 0 0;\n",
              "      width: 32px;\n",
              "    }\n",
              "\n",
              "    .colab-df-convert:hover {\n",
              "      background-color: #E2EBFA;\n",
              "      box-shadow: 0px 1px 2px rgba(60, 64, 67, 0.3), 0px 1px 3px 1px rgba(60, 64, 67, 0.15);\n",
              "      fill: #174EA6;\n",
              "    }\n",
              "\n",
              "    [theme=dark] .colab-df-convert {\n",
              "      background-color: #3B4455;\n",
              "      fill: #D2E3FC;\n",
              "    }\n",
              "\n",
              "    [theme=dark] .colab-df-convert:hover {\n",
              "      background-color: #434B5C;\n",
              "      box-shadow: 0px 1px 3px 1px rgba(0, 0, 0, 0.15);\n",
              "      filter: drop-shadow(0px 1px 2px rgba(0, 0, 0, 0.3));\n",
              "      fill: #FFFFFF;\n",
              "    }\n",
              "  </style>\n",
              "\n",
              "      <script>\n",
              "        const buttonEl =\n",
              "          document.querySelector('#df-6152c08d-8dd1-4be0-a3f7-5664ec65bfce button.colab-df-convert');\n",
              "        buttonEl.style.display =\n",
              "          google.colab.kernel.accessAllowed ? 'block' : 'none';\n",
              "\n",
              "        async function convertToInteractive(key) {\n",
              "          const element = document.querySelector('#df-6152c08d-8dd1-4be0-a3f7-5664ec65bfce');\n",
              "          const dataTable =\n",
              "            await google.colab.kernel.invokeFunction('convertToInteractive',\n",
              "                                                     [key], {});\n",
              "          if (!dataTable) return;\n",
              "\n",
              "          const docLinkHtml = 'Like what you see? Visit the ' +\n",
              "            '<a target=\"_blank\" href=https://colab.research.google.com/notebooks/data_table.ipynb>data table notebook</a>'\n",
              "            + ' to learn more about interactive tables.';\n",
              "          element.innerHTML = '';\n",
              "          dataTable['output_type'] = 'display_data';\n",
              "          await google.colab.output.renderOutput(dataTable, element);\n",
              "          const docLink = document.createElement('div');\n",
              "          docLink.innerHTML = docLinkHtml;\n",
              "          element.appendChild(docLink);\n",
              "        }\n",
              "      </script>\n",
              "    </div>\n",
              "  </div>\n",
              "  "
            ]
          },
          "metadata": {},
          "execution_count": 48
        }
      ]
    },
    {
      "cell_type": "markdown",
      "source": [
        "Delete 660 names"
      ],
      "metadata": {
        "id": "gciNe0OK8a05"
      }
    },
    {
      "cell_type": "code",
      "source": [
        "customer_names.dropna(inplace=True)"
      ],
      "metadata": {
        "colab": {
          "base_uri": "https://localhost:8080/"
        },
        "id": "3TkAxO4A8We4",
        "outputId": "bf8db748-9798-4505-ffd8-ee8dab8298bd"
      },
      "execution_count": 49,
      "outputs": [
        {
          "output_type": "stream",
          "name": "stderr",
          "text": [
            "/usr/local/lib/python3.8/dist-packages/pandas/util/_decorators.py:311: SettingWithCopyWarning: \n",
            "A value is trying to be set on a copy of a slice from a DataFrame\n",
            "\n",
            "See the caveats in the documentation: https://pandas.pydata.org/pandas-docs/stable/user_guide/indexing.html#returning-a-view-versus-a-copy\n",
            "  return func(*args, **kwargs)\n"
          ]
        }
      ]
    },
    {
      "cell_type": "code",
      "source": [
        "customer_names.shape"
      ],
      "metadata": {
        "colab": {
          "base_uri": "https://localhost:8080/"
        },
        "id": "MUgZS2A89j5l",
        "outputId": "37fa3dd8-e9f1-47da-908d-21312e6d8384"
      },
      "execution_count": 50,
      "outputs": [
        {
          "output_type": "execute_result",
          "data": {
            "text/plain": [
              "(999340, 2)"
            ]
          },
          "metadata": {},
          "execution_count": 50
        }
      ]
    },
    {
      "cell_type": "markdown",
      "source": [
        "## Unique DOBs present in Customer Database"
      ],
      "metadata": {
        "id": "Z5gy3Xqi9n1S"
      }
    },
    {
      "cell_type": "code",
      "source": [
        "len(customer_names.BIRTH_DT.unique())"
      ],
      "metadata": {
        "colab": {
          "base_uri": "https://localhost:8080/"
        },
        "id": "VuTS8o9T6fMP",
        "outputId": "b1fa15e3-4344-4275-d67d-07062fa7c0a4"
      },
      "execution_count": 51,
      "outputs": [
        {
          "output_type": "execute_result",
          "data": {
            "text/plain": [
              "37384"
            ]
          },
          "metadata": {},
          "execution_count": 51
        }
      ]
    },
    {
      "cell_type": "markdown",
      "source": [
        "## Unique Names pressent in Customer Database\n"
      ],
      "metadata": {
        "id": "2xnXL6Kr-cXT"
      }
    },
    {
      "cell_type": "code",
      "source": [
        "len(customer_names.NAME.unique())"
      ],
      "metadata": {
        "colab": {
          "base_uri": "https://localhost:8080/"
        },
        "id": "XbrFwydt-VwI",
        "outputId": "c7014dbf-eaf3-4b4a-881a-dae00443d2fa"
      },
      "execution_count": 52,
      "outputs": [
        {
          "output_type": "execute_result",
          "data": {
            "text/plain": [
              "995518"
            ]
          },
          "metadata": {},
          "execution_count": 52
        }
      ]
    },
    {
      "cell_type": "markdown",
      "source": [
        "only 3822 duplicate names are present. Without any preprocessing"
      ],
      "metadata": {
        "id": "kMkxNr2F_EK2"
      }
    },
    {
      "cell_type": "markdown",
      "source": [
        "## Unique DOB present in sanction list"
      ],
      "metadata": {
        "id": "-AsfXwqk9tTG"
      }
    },
    {
      "cell_type": "code",
      "source": [
        "len(sanction_list.birth_date.unique())"
      ],
      "metadata": {
        "colab": {
          "base_uri": "https://localhost:8080/"
        },
        "id": "tOMJewyM60Gh",
        "outputId": "8457a920-457b-4d73-8b50-b64f4ebcd518"
      },
      "execution_count": null,
      "outputs": [
        {
          "output_type": "execute_result",
          "data": {
            "text/plain": [
              "28923"
            ]
          },
          "metadata": {},
          "execution_count": 14
        }
      ]
    },
    {
      "cell_type": "markdown",
      "source": [
        "## Unique Names present in Sanction list"
      ],
      "metadata": {
        "id": "avNWYDlZ-j3V"
      }
    },
    {
      "cell_type": "code",
      "source": [
        "len(sanction_list.name.unique())"
      ],
      "metadata": {
        "colab": {
          "base_uri": "https://localhost:8080/"
        },
        "id": "BbevYmvd-nhp",
        "outputId": "1f21395c-a7f1-4f84-cf70-f2a5514fed41"
      },
      "execution_count": 53,
      "outputs": [
        {
          "output_type": "execute_result",
          "data": {
            "text/plain": [
              "240567"
            ]
          },
          "metadata": {},
          "execution_count": 53
        }
      ]
    },
    {
      "cell_type": "markdown",
      "source": [
        "## clean customer name data\n"
      ],
      "metadata": {
        "id": "p1ijA4h-2wJC"
      }
    },
    {
      "cell_type": "code",
      "source": [
        "import re"
      ],
      "metadata": {
        "id": "eb-ebH_5rDJM"
      },
      "execution_count": 56,
      "outputs": []
    },
    {
      "cell_type": "code",
      "source": [
        "def clean(col):\n",
        "  letters_only = re.sub('[^a-zA-Z]', ' ', str(col)) #keep only letters\n",
        "  lower_letters=letters_only.lower() #convert to lower.\n",
        "  return lower_letters \n"
      ],
      "metadata": {
        "id": "YlCIfWC4rruA"
      },
      "execution_count": 57,
      "outputs": []
    },
    {
      "cell_type": "code",
      "source": [
        "customer_names['cleaned_names']=customer_names['NAME'].apply(clean)"
      ],
      "metadata": {
        "colab": {
          "base_uri": "https://localhost:8080/"
        },
        "id": "MY9vOcLauPFz",
        "outputId": "02f01d85-9449-40b1-a0d9-4720388bab1c"
      },
      "execution_count": 58,
      "outputs": [
        {
          "output_type": "stream",
          "name": "stderr",
          "text": [
            "<ipython-input-58-920a0afc55c0>:1: SettingWithCopyWarning: \n",
            "A value is trying to be set on a copy of a slice from a DataFrame.\n",
            "Try using .loc[row_indexer,col_indexer] = value instead\n",
            "\n",
            "See the caveats in the documentation: https://pandas.pydata.org/pandas-docs/stable/user_guide/indexing.html#returning-a-view-versus-a-copy\n",
            "  customer_names['cleaned_names']=customer_names['NAME'].apply(clean)\n"
          ]
        }
      ]
    },
    {
      "cell_type": "code",
      "source": [
        "customer_names.head(2)"
      ],
      "metadata": {
        "colab": {
          "base_uri": "https://localhost:8080/",
          "height": 112
        },
        "id": "nduzVgA7uhwN",
        "outputId": "27911485-e3b1-4a42-89c6-c47b61b1aa1c"
      },
      "execution_count": 59,
      "outputs": [
        {
          "output_type": "execute_result",
          "data": {
            "text/plain": [
              "                           NAME    BIRTH_DT                 cleaned_names\n",
              "0  Young, Marie Mildren Coleman  1981-09-01  young  marie mildren coleman\n",
              "1              Mark Stupar Lecy  1994-02-21              mark stupar lecy"
            ],
            "text/html": [
              "\n",
              "  <div id=\"df-71a9920d-f221-4d11-bf87-2b47b118982d\">\n",
              "    <div class=\"colab-df-container\">\n",
              "      <div>\n",
              "<style scoped>\n",
              "    .dataframe tbody tr th:only-of-type {\n",
              "        vertical-align: middle;\n",
              "    }\n",
              "\n",
              "    .dataframe tbody tr th {\n",
              "        vertical-align: top;\n",
              "    }\n",
              "\n",
              "    .dataframe thead th {\n",
              "        text-align: right;\n",
              "    }\n",
              "</style>\n",
              "<table border=\"1\" class=\"dataframe\">\n",
              "  <thead>\n",
              "    <tr style=\"text-align: right;\">\n",
              "      <th></th>\n",
              "      <th>NAME</th>\n",
              "      <th>BIRTH_DT</th>\n",
              "      <th>cleaned_names</th>\n",
              "    </tr>\n",
              "  </thead>\n",
              "  <tbody>\n",
              "    <tr>\n",
              "      <th>0</th>\n",
              "      <td>Young, Marie Mildren Coleman</td>\n",
              "      <td>1981-09-01</td>\n",
              "      <td>young  marie mildren coleman</td>\n",
              "    </tr>\n",
              "    <tr>\n",
              "      <th>1</th>\n",
              "      <td>Mark Stupar Lecy</td>\n",
              "      <td>1994-02-21</td>\n",
              "      <td>mark stupar lecy</td>\n",
              "    </tr>\n",
              "  </tbody>\n",
              "</table>\n",
              "</div>\n",
              "      <button class=\"colab-df-convert\" onclick=\"convertToInteractive('df-71a9920d-f221-4d11-bf87-2b47b118982d')\"\n",
              "              title=\"Convert this dataframe to an interactive table.\"\n",
              "              style=\"display:none;\">\n",
              "        \n",
              "  <svg xmlns=\"http://www.w3.org/2000/svg\" height=\"24px\"viewBox=\"0 0 24 24\"\n",
              "       width=\"24px\">\n",
              "    <path d=\"M0 0h24v24H0V0z\" fill=\"none\"/>\n",
              "    <path d=\"M18.56 5.44l.94 2.06.94-2.06 2.06-.94-2.06-.94-.94-2.06-.94 2.06-2.06.94zm-11 1L8.5 8.5l.94-2.06 2.06-.94-2.06-.94L8.5 2.5l-.94 2.06-2.06.94zm10 10l.94 2.06.94-2.06 2.06-.94-2.06-.94-.94-2.06-.94 2.06-2.06.94z\"/><path d=\"M17.41 7.96l-1.37-1.37c-.4-.4-.92-.59-1.43-.59-.52 0-1.04.2-1.43.59L10.3 9.45l-7.72 7.72c-.78.78-.78 2.05 0 2.83L4 21.41c.39.39.9.59 1.41.59.51 0 1.02-.2 1.41-.59l7.78-7.78 2.81-2.81c.8-.78.8-2.07 0-2.86zM5.41 20L4 18.59l7.72-7.72 1.47 1.35L5.41 20z\"/>\n",
              "  </svg>\n",
              "      </button>\n",
              "      \n",
              "  <style>\n",
              "    .colab-df-container {\n",
              "      display:flex;\n",
              "      flex-wrap:wrap;\n",
              "      gap: 12px;\n",
              "    }\n",
              "\n",
              "    .colab-df-convert {\n",
              "      background-color: #E8F0FE;\n",
              "      border: none;\n",
              "      border-radius: 50%;\n",
              "      cursor: pointer;\n",
              "      display: none;\n",
              "      fill: #1967D2;\n",
              "      height: 32px;\n",
              "      padding: 0 0 0 0;\n",
              "      width: 32px;\n",
              "    }\n",
              "\n",
              "    .colab-df-convert:hover {\n",
              "      background-color: #E2EBFA;\n",
              "      box-shadow: 0px 1px 2px rgba(60, 64, 67, 0.3), 0px 1px 3px 1px rgba(60, 64, 67, 0.15);\n",
              "      fill: #174EA6;\n",
              "    }\n",
              "\n",
              "    [theme=dark] .colab-df-convert {\n",
              "      background-color: #3B4455;\n",
              "      fill: #D2E3FC;\n",
              "    }\n",
              "\n",
              "    [theme=dark] .colab-df-convert:hover {\n",
              "      background-color: #434B5C;\n",
              "      box-shadow: 0px 1px 3px 1px rgba(0, 0, 0, 0.15);\n",
              "      filter: drop-shadow(0px 1px 2px rgba(0, 0, 0, 0.3));\n",
              "      fill: #FFFFFF;\n",
              "    }\n",
              "  </style>\n",
              "\n",
              "      <script>\n",
              "        const buttonEl =\n",
              "          document.querySelector('#df-71a9920d-f221-4d11-bf87-2b47b118982d button.colab-df-convert');\n",
              "        buttonEl.style.display =\n",
              "          google.colab.kernel.accessAllowed ? 'block' : 'none';\n",
              "\n",
              "        async function convertToInteractive(key) {\n",
              "          const element = document.querySelector('#df-71a9920d-f221-4d11-bf87-2b47b118982d');\n",
              "          const dataTable =\n",
              "            await google.colab.kernel.invokeFunction('convertToInteractive',\n",
              "                                                     [key], {});\n",
              "          if (!dataTable) return;\n",
              "\n",
              "          const docLinkHtml = 'Like what you see? Visit the ' +\n",
              "            '<a target=\"_blank\" href=https://colab.research.google.com/notebooks/data_table.ipynb>data table notebook</a>'\n",
              "            + ' to learn more about interactive tables.';\n",
              "          element.innerHTML = '';\n",
              "          dataTable['output_type'] = 'display_data';\n",
              "          await google.colab.output.renderOutput(dataTable, element);\n",
              "          const docLink = document.createElement('div');\n",
              "          docLink.innerHTML = docLinkHtml;\n",
              "          element.appendChild(docLink);\n",
              "        }\n",
              "      </script>\n",
              "    </div>\n",
              "  </div>\n",
              "  "
            ]
          },
          "metadata": {},
          "execution_count": 59
        }
      ]
    },
    {
      "cell_type": "code",
      "source": [
        "customer_names.loc[612667]"
      ],
      "metadata": {
        "colab": {
          "base_uri": "https://localhost:8080/"
        },
        "id": "6t75rFsOwCjT",
        "outputId": "daf99752-3945-4e58-de78-14c2fc27c229"
      },
      "execution_count": 60,
      "outputs": [
        {
          "output_type": "execute_result",
          "data": {
            "text/plain": [
              "NAME             Finney, \\ne\n",
              "BIRTH_DT          1977-06-12\n",
              "cleaned_names    finney   ne\n",
              "Name: 612667, dtype: object"
            ]
          },
          "metadata": {},
          "execution_count": 60
        }
      ]
    },
    {
      "cell_type": "markdown",
      "source": [
        "Insight into cleaning. One letter could be missing. But this is just basic cleaning. "
      ],
      "metadata": {
        "id": "WhuPJqlA_U2K"
      }
    },
    {
      "cell_type": "code",
      "source": [
        "len(customer_names.cleaned_names.unique())"
      ],
      "metadata": {
        "colab": {
          "base_uri": "https://localhost:8080/"
        },
        "id": "oRQ5uCt4_iuh",
        "outputId": "4d8a0a7e-a657-4dc1-da8e-8f190239be7a"
      },
      "execution_count": 62,
      "outputs": [
        {
          "output_type": "execute_result",
          "data": {
            "text/plain": [
              "995367"
            ]
          },
          "metadata": {},
          "execution_count": 62
        }
      ]
    },
    {
      "cell_type": "markdown",
      "source": [
        "another 151 duplicate records found. "
      ],
      "metadata": {
        "id": "nRORLimu_wfJ"
      }
    },
    {
      "cell_type": "code",
      "source": [
        "customer_names.isna().sum() # no missing data"
      ],
      "metadata": {
        "colab": {
          "base_uri": "https://localhost:8080/"
        },
        "id": "8akQFUfDyxMy",
        "outputId": "dfbf14b4-6c7a-4718-9ba3-6f839a929ee0"
      },
      "execution_count": 67,
      "outputs": [
        {
          "output_type": "execute_result",
          "data": {
            "text/plain": [
              "NAME             0\n",
              "BIRTH_DT         0\n",
              "cleaned_names    0\n",
              "dtype: int64"
            ]
          },
          "metadata": {},
          "execution_count": 67
        }
      ]
    },
    {
      "cell_type": "markdown",
      "source": [
        "## clean sanction List"
      ],
      "metadata": {
        "id": "R7cFYp2Ozhfv"
      }
    },
    {
      "cell_type": "code",
      "source": [
        "sanction_list['cleaned_names']=sanction_list['name'].apply(clean)"
      ],
      "metadata": {
        "colab": {
          "base_uri": "https://localhost:8080/"
        },
        "id": "LVouCwK3y9qZ",
        "outputId": "d41818fc-bc08-434d-afba-5a8910412f77"
      },
      "execution_count": 64,
      "outputs": [
        {
          "output_type": "stream",
          "name": "stderr",
          "text": [
            "<ipython-input-64-b97c1e7bab3a>:1: SettingWithCopyWarning: \n",
            "A value is trying to be set on a copy of a slice from a DataFrame.\n",
            "Try using .loc[row_indexer,col_indexer] = value instead\n",
            "\n",
            "See the caveats in the documentation: https://pandas.pydata.org/pandas-docs/stable/user_guide/indexing.html#returning-a-view-versus-a-copy\n",
            "  sanction_list['cleaned_names']=sanction_list['name'].apply(clean)\n"
          ]
        }
      ]
    },
    {
      "cell_type": "code",
      "source": [
        "sanction_list.head(2)"
      ],
      "metadata": {
        "colab": {
          "base_uri": "https://localhost:8080/",
          "height": 112
        },
        "id": "yFkGuYAyz1DL",
        "outputId": "18cbe11b-dffc-41e6-aa66-872da476989a"
      },
      "execution_count": 65,
      "outputs": [
        {
          "output_type": "execute_result",
          "data": {
            "text/plain": [
              "                      name               aliases  birth_date  \\\n",
              "0           Kolyvanov Egor        Колыванов Егор  1980-11-15   \n",
              "1  Shipov Sergei Yurievich  Шипов Сергей Юрьевич  1966-04-17   \n",
              "\n",
              "             cleaned_names  \n",
              "0           kolyvanov egor  \n",
              "1  shipov sergei yurievich  "
            ],
            "text/html": [
              "\n",
              "  <div id=\"df-aec91b78-80a8-4c8e-a30e-51b60db005f2\">\n",
              "    <div class=\"colab-df-container\">\n",
              "      <div>\n",
              "<style scoped>\n",
              "    .dataframe tbody tr th:only-of-type {\n",
              "        vertical-align: middle;\n",
              "    }\n",
              "\n",
              "    .dataframe tbody tr th {\n",
              "        vertical-align: top;\n",
              "    }\n",
              "\n",
              "    .dataframe thead th {\n",
              "        text-align: right;\n",
              "    }\n",
              "</style>\n",
              "<table border=\"1\" class=\"dataframe\">\n",
              "  <thead>\n",
              "    <tr style=\"text-align: right;\">\n",
              "      <th></th>\n",
              "      <th>name</th>\n",
              "      <th>aliases</th>\n",
              "      <th>birth_date</th>\n",
              "      <th>cleaned_names</th>\n",
              "    </tr>\n",
              "  </thead>\n",
              "  <tbody>\n",
              "    <tr>\n",
              "      <th>0</th>\n",
              "      <td>Kolyvanov Egor</td>\n",
              "      <td>Колыванов Егор</td>\n",
              "      <td>1980-11-15</td>\n",
              "      <td>kolyvanov egor</td>\n",
              "    </tr>\n",
              "    <tr>\n",
              "      <th>1</th>\n",
              "      <td>Shipov Sergei Yurievich</td>\n",
              "      <td>Шипов Сергей Юрьевич</td>\n",
              "      <td>1966-04-17</td>\n",
              "      <td>shipov sergei yurievich</td>\n",
              "    </tr>\n",
              "  </tbody>\n",
              "</table>\n",
              "</div>\n",
              "      <button class=\"colab-df-convert\" onclick=\"convertToInteractive('df-aec91b78-80a8-4c8e-a30e-51b60db005f2')\"\n",
              "              title=\"Convert this dataframe to an interactive table.\"\n",
              "              style=\"display:none;\">\n",
              "        \n",
              "  <svg xmlns=\"http://www.w3.org/2000/svg\" height=\"24px\"viewBox=\"0 0 24 24\"\n",
              "       width=\"24px\">\n",
              "    <path d=\"M0 0h24v24H0V0z\" fill=\"none\"/>\n",
              "    <path d=\"M18.56 5.44l.94 2.06.94-2.06 2.06-.94-2.06-.94-.94-2.06-.94 2.06-2.06.94zm-11 1L8.5 8.5l.94-2.06 2.06-.94-2.06-.94L8.5 2.5l-.94 2.06-2.06.94zm10 10l.94 2.06.94-2.06 2.06-.94-2.06-.94-.94-2.06-.94 2.06-2.06.94z\"/><path d=\"M17.41 7.96l-1.37-1.37c-.4-.4-.92-.59-1.43-.59-.52 0-1.04.2-1.43.59L10.3 9.45l-7.72 7.72c-.78.78-.78 2.05 0 2.83L4 21.41c.39.39.9.59 1.41.59.51 0 1.02-.2 1.41-.59l7.78-7.78 2.81-2.81c.8-.78.8-2.07 0-2.86zM5.41 20L4 18.59l7.72-7.72 1.47 1.35L5.41 20z\"/>\n",
              "  </svg>\n",
              "      </button>\n",
              "      \n",
              "  <style>\n",
              "    .colab-df-container {\n",
              "      display:flex;\n",
              "      flex-wrap:wrap;\n",
              "      gap: 12px;\n",
              "    }\n",
              "\n",
              "    .colab-df-convert {\n",
              "      background-color: #E8F0FE;\n",
              "      border: none;\n",
              "      border-radius: 50%;\n",
              "      cursor: pointer;\n",
              "      display: none;\n",
              "      fill: #1967D2;\n",
              "      height: 32px;\n",
              "      padding: 0 0 0 0;\n",
              "      width: 32px;\n",
              "    }\n",
              "\n",
              "    .colab-df-convert:hover {\n",
              "      background-color: #E2EBFA;\n",
              "      box-shadow: 0px 1px 2px rgba(60, 64, 67, 0.3), 0px 1px 3px 1px rgba(60, 64, 67, 0.15);\n",
              "      fill: #174EA6;\n",
              "    }\n",
              "\n",
              "    [theme=dark] .colab-df-convert {\n",
              "      background-color: #3B4455;\n",
              "      fill: #D2E3FC;\n",
              "    }\n",
              "\n",
              "    [theme=dark] .colab-df-convert:hover {\n",
              "      background-color: #434B5C;\n",
              "      box-shadow: 0px 1px 3px 1px rgba(0, 0, 0, 0.15);\n",
              "      filter: drop-shadow(0px 1px 2px rgba(0, 0, 0, 0.3));\n",
              "      fill: #FFFFFF;\n",
              "    }\n",
              "  </style>\n",
              "\n",
              "      <script>\n",
              "        const buttonEl =\n",
              "          document.querySelector('#df-aec91b78-80a8-4c8e-a30e-51b60db005f2 button.colab-df-convert');\n",
              "        buttonEl.style.display =\n",
              "          google.colab.kernel.accessAllowed ? 'block' : 'none';\n",
              "\n",
              "        async function convertToInteractive(key) {\n",
              "          const element = document.querySelector('#df-aec91b78-80a8-4c8e-a30e-51b60db005f2');\n",
              "          const dataTable =\n",
              "            await google.colab.kernel.invokeFunction('convertToInteractive',\n",
              "                                                     [key], {});\n",
              "          if (!dataTable) return;\n",
              "\n",
              "          const docLinkHtml = 'Like what you see? Visit the ' +\n",
              "            '<a target=\"_blank\" href=https://colab.research.google.com/notebooks/data_table.ipynb>data table notebook</a>'\n",
              "            + ' to learn more about interactive tables.';\n",
              "          element.innerHTML = '';\n",
              "          dataTable['output_type'] = 'display_data';\n",
              "          await google.colab.output.renderOutput(dataTable, element);\n",
              "          const docLink = document.createElement('div');\n",
              "          docLink.innerHTML = docLinkHtml;\n",
              "          element.appendChild(docLink);\n",
              "        }\n",
              "      </script>\n",
              "    </div>\n",
              "  </div>\n",
              "  "
            ]
          },
          "metadata": {},
          "execution_count": 65
        }
      ]
    },
    {
      "cell_type": "code",
      "source": [
        "##rename columns and save\n",
        "sanction_list.rename(columns={'name':'NAME','birth_date':'BIRTH_DT'},inplace=True)"
      ],
      "metadata": {
        "colab": {
          "base_uri": "https://localhost:8080/"
        },
        "id": "518JGMDqAkSi",
        "outputId": "bbcac353-47bf-44f4-90ed-5fc650d86fbe"
      },
      "execution_count": 68,
      "outputs": [
        {
          "output_type": "stream",
          "name": "stderr",
          "text": [
            "/usr/local/lib/python3.8/dist-packages/pandas/core/frame.py:5039: SettingWithCopyWarning: \n",
            "A value is trying to be set on a copy of a slice from a DataFrame\n",
            "\n",
            "See the caveats in the documentation: https://pandas.pydata.org/pandas-docs/stable/user_guide/indexing.html#returning-a-view-versus-a-copy\n",
            "  return super().rename(\n"
          ]
        }
      ]
    },
    {
      "cell_type": "code",
      "source": [
        "sanction_list.head(2)"
      ],
      "metadata": {
        "colab": {
          "base_uri": "https://localhost:8080/",
          "height": 112
        },
        "id": "zIkWOfjLCp4G",
        "outputId": "f912cb80-6d47-4a5e-ffd2-41241b002750"
      },
      "execution_count": 69,
      "outputs": [
        {
          "output_type": "execute_result",
          "data": {
            "text/plain": [
              "                      NAME               aliases    BIRTH_DT  \\\n",
              "0           Kolyvanov Egor        Колыванов Егор  1980-11-15   \n",
              "1  Shipov Sergei Yurievich  Шипов Сергей Юрьевич  1966-04-17   \n",
              "\n",
              "             cleaned_names  \n",
              "0           kolyvanov egor  \n",
              "1  shipov sergei yurievich  "
            ],
            "text/html": [
              "\n",
              "  <div id=\"df-fc17ef68-cee8-43fc-a710-f8370a5b4575\">\n",
              "    <div class=\"colab-df-container\">\n",
              "      <div>\n",
              "<style scoped>\n",
              "    .dataframe tbody tr th:only-of-type {\n",
              "        vertical-align: middle;\n",
              "    }\n",
              "\n",
              "    .dataframe tbody tr th {\n",
              "        vertical-align: top;\n",
              "    }\n",
              "\n",
              "    .dataframe thead th {\n",
              "        text-align: right;\n",
              "    }\n",
              "</style>\n",
              "<table border=\"1\" class=\"dataframe\">\n",
              "  <thead>\n",
              "    <tr style=\"text-align: right;\">\n",
              "      <th></th>\n",
              "      <th>NAME</th>\n",
              "      <th>aliases</th>\n",
              "      <th>BIRTH_DT</th>\n",
              "      <th>cleaned_names</th>\n",
              "    </tr>\n",
              "  </thead>\n",
              "  <tbody>\n",
              "    <tr>\n",
              "      <th>0</th>\n",
              "      <td>Kolyvanov Egor</td>\n",
              "      <td>Колыванов Егор</td>\n",
              "      <td>1980-11-15</td>\n",
              "      <td>kolyvanov egor</td>\n",
              "    </tr>\n",
              "    <tr>\n",
              "      <th>1</th>\n",
              "      <td>Shipov Sergei Yurievich</td>\n",
              "      <td>Шипов Сергей Юрьевич</td>\n",
              "      <td>1966-04-17</td>\n",
              "      <td>shipov sergei yurievich</td>\n",
              "    </tr>\n",
              "  </tbody>\n",
              "</table>\n",
              "</div>\n",
              "      <button class=\"colab-df-convert\" onclick=\"convertToInteractive('df-fc17ef68-cee8-43fc-a710-f8370a5b4575')\"\n",
              "              title=\"Convert this dataframe to an interactive table.\"\n",
              "              style=\"display:none;\">\n",
              "        \n",
              "  <svg xmlns=\"http://www.w3.org/2000/svg\" height=\"24px\"viewBox=\"0 0 24 24\"\n",
              "       width=\"24px\">\n",
              "    <path d=\"M0 0h24v24H0V0z\" fill=\"none\"/>\n",
              "    <path d=\"M18.56 5.44l.94 2.06.94-2.06 2.06-.94-2.06-.94-.94-2.06-.94 2.06-2.06.94zm-11 1L8.5 8.5l.94-2.06 2.06-.94-2.06-.94L8.5 2.5l-.94 2.06-2.06.94zm10 10l.94 2.06.94-2.06 2.06-.94-2.06-.94-.94-2.06-.94 2.06-2.06.94z\"/><path d=\"M17.41 7.96l-1.37-1.37c-.4-.4-.92-.59-1.43-.59-.52 0-1.04.2-1.43.59L10.3 9.45l-7.72 7.72c-.78.78-.78 2.05 0 2.83L4 21.41c.39.39.9.59 1.41.59.51 0 1.02-.2 1.41-.59l7.78-7.78 2.81-2.81c.8-.78.8-2.07 0-2.86zM5.41 20L4 18.59l7.72-7.72 1.47 1.35L5.41 20z\"/>\n",
              "  </svg>\n",
              "      </button>\n",
              "      \n",
              "  <style>\n",
              "    .colab-df-container {\n",
              "      display:flex;\n",
              "      flex-wrap:wrap;\n",
              "      gap: 12px;\n",
              "    }\n",
              "\n",
              "    .colab-df-convert {\n",
              "      background-color: #E8F0FE;\n",
              "      border: none;\n",
              "      border-radius: 50%;\n",
              "      cursor: pointer;\n",
              "      display: none;\n",
              "      fill: #1967D2;\n",
              "      height: 32px;\n",
              "      padding: 0 0 0 0;\n",
              "      width: 32px;\n",
              "    }\n",
              "\n",
              "    .colab-df-convert:hover {\n",
              "      background-color: #E2EBFA;\n",
              "      box-shadow: 0px 1px 2px rgba(60, 64, 67, 0.3), 0px 1px 3px 1px rgba(60, 64, 67, 0.15);\n",
              "      fill: #174EA6;\n",
              "    }\n",
              "\n",
              "    [theme=dark] .colab-df-convert {\n",
              "      background-color: #3B4455;\n",
              "      fill: #D2E3FC;\n",
              "    }\n",
              "\n",
              "    [theme=dark] .colab-df-convert:hover {\n",
              "      background-color: #434B5C;\n",
              "      box-shadow: 0px 1px 3px 1px rgba(0, 0, 0, 0.15);\n",
              "      filter: drop-shadow(0px 1px 2px rgba(0, 0, 0, 0.3));\n",
              "      fill: #FFFFFF;\n",
              "    }\n",
              "  </style>\n",
              "\n",
              "      <script>\n",
              "        const buttonEl =\n",
              "          document.querySelector('#df-fc17ef68-cee8-43fc-a710-f8370a5b4575 button.colab-df-convert');\n",
              "        buttonEl.style.display =\n",
              "          google.colab.kernel.accessAllowed ? 'block' : 'none';\n",
              "\n",
              "        async function convertToInteractive(key) {\n",
              "          const element = document.querySelector('#df-fc17ef68-cee8-43fc-a710-f8370a5b4575');\n",
              "          const dataTable =\n",
              "            await google.colab.kernel.invokeFunction('convertToInteractive',\n",
              "                                                     [key], {});\n",
              "          if (!dataTable) return;\n",
              "\n",
              "          const docLinkHtml = 'Like what you see? Visit the ' +\n",
              "            '<a target=\"_blank\" href=https://colab.research.google.com/notebooks/data_table.ipynb>data table notebook</a>'\n",
              "            + ' to learn more about interactive tables.';\n",
              "          element.innerHTML = '';\n",
              "          dataTable['output_type'] = 'display_data';\n",
              "          await google.colab.output.renderOutput(dataTable, element);\n",
              "          const docLink = document.createElement('div');\n",
              "          docLink.innerHTML = docLinkHtml;\n",
              "          element.appendChild(docLink);\n",
              "        }\n",
              "      </script>\n",
              "    </div>\n",
              "  </div>\n",
              "  "
            ]
          },
          "metadata": {},
          "execution_count": 69
        }
      ]
    },
    {
      "cell_type": "code",
      "source": [
        "customer_names.to_csv('clean_customer_names.csv')"
      ],
      "metadata": {
        "id": "jmUQv953yay1"
      },
      "execution_count": 72,
      "outputs": []
    },
    {
      "cell_type": "code",
      "source": [
        "sanction_list.to_csv('clean_sanction_names.csv')"
      ],
      "metadata": {
        "id": "fe1qdxQNzytO"
      },
      "execution_count": 73,
      "outputs": []
    }
  ]
}
