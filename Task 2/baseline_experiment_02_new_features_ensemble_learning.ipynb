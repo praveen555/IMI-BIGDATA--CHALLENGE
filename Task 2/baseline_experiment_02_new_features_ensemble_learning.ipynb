{
  "nbformat": 4,
  "nbformat_minor": 0,
  "metadata": {
    "colab": {
      "provenance": [],
      "authorship_tag": "ABX9TyMDQt4rXraymZ9dPg+3VFXi",
      "include_colab_link": true
    },
    "kernelspec": {
      "name": "python3",
      "display_name": "Python 3"
    },
    "language_info": {
      "name": "python"
    },
    "gpuClass": "standard"
  },
  "cells": [
    {
      "cell_type": "markdown",
      "metadata": {
        "id": "view-in-github",
        "colab_type": "text"
      },
      "source": [
        "<a href=\"https://colab.research.google.com/github/praveen555/IMI-BIGDATA--CHALLENGE/blob/main/baseline_experiment_02_new_features_ensemble_learning.ipynb\" target=\"_parent\"><img src=\"https://colab.research.google.com/assets/colab-badge.svg\" alt=\"Open In Colab\"/></a>"
      ]
    },
    {
      "cell_type": "code",
      "execution_count": 1,
      "metadata": {
        "id": "QtdwjCEsCWgP"
      },
      "outputs": [],
      "source": [
        "import pandas as pd\n",
        "import numpy as np\n",
        "from sklearn.model_selection import train_test_split\n",
        "from sklearn.linear_model import *\n",
        "from sklearn.ensemble import *\n",
        "from sklearn.metrics import *"
      ]
    },
    {
      "cell_type": "code",
      "source": [
        "#np.random.seed(0) #Set to compare the difference across various experiements and reproduce the same results."
      ],
      "metadata": {
        "id": "68Q0rdC703r7"
      },
      "execution_count": 2,
      "outputs": []
    },
    {
      "cell_type": "code",
      "source": [
        "data=pd.read_csv('clean_uoft_nodes_v2.csv',\n",
        "                 parse_dates=['BIRTH_DT','CUST_ADD_DT'])"
      ],
      "metadata": {
        "id": "_XbNiw8bClfv"
      },
      "execution_count": 3,
      "outputs": []
    },
    {
      "cell_type": "code",
      "source": [
        "col=['CASH_CNT_IN','CASH_SUM_OUT','CASH_SUM_IN','CASH_CNT_OUT', 'WIRES_SUM_IN', 'WIRES_CNT_IN',\n",
        "       'WIRES_SUM_OUT', 'WIRES_CNT_OUT']"
      ],
      "metadata": {
        "id": "23uOmxjJsF-M"
      },
      "execution_count": 4,
      "outputs": []
    },
    {
      "cell_type": "code",
      "source": [
        "# ## Some the features have 0 and give inf or Nan when we divide\n",
        "for i in col:\n",
        "  data[i]=data[i]+1"
      ],
      "metadata": {
        "id": "F4repCKJwbNs"
      },
      "execution_count": 5,
      "outputs": []
    },
    {
      "cell_type": "code",
      "source": [
        "data['cash_diff']=data['CASH_SUM_IN']-data['CASH_SUM_OUT']\n",
        "data['wire_diff']=data['WIRES_SUM_IN']-data['WIRES_SUM_OUT']\n",
        "data['cash_cnt_diff']=data['CASH_CNT_IN']-data['CASH_CNT_OUT']\n",
        "data['wire_cnt_diff']=data['WIRES_CNT_IN']-data['WIRES_CNT_OUT']\n",
        "data['avg_cash_transaction_out']=data['CASH_SUM_OUT']/data['CASH_CNT_OUT']\n",
        "data['avg_wire_transaction_out']=data['WIRES_SUM_OUT']/data['WIRES_CNT_OUT']\n",
        "data['avg_cash_transaction_in']=data['CASH_SUM_IN']/data['CASH_CNT_IN']\n",
        "data['avg_wire_transaction_in']=data['WIRES_SUM_IN']/data['WIRES_CNT_IN']\n"
      ],
      "metadata": {
        "id": "gBAdcsWnODIg"
      },
      "execution_count": 6,
      "outputs": []
    },
    {
      "cell_type": "code",
      "source": [
        "data.head()"
      ],
      "metadata": {
        "colab": {
          "base_uri": "https://localhost:8080/",
          "height": 403
        },
        "id": "PLB5GLvpFvz2",
        "outputId": "bbaee9b1-67e7-467e-b4a5-3a11be9fe687"
      },
      "execution_count": 7,
      "outputs": [
        {
          "output_type": "execute_result",
          "data": {
            "text/plain": [
              "   Unnamed: 0   BIRTH_DT CUST_ADD_DT OCPTN_NM  RES_CNTRY_CA  \\\n",
              "0           0 1981-09-01  2007-07-05     High             1   \n",
              "1           1 1994-02-21  2019-05-19     High             1   \n",
              "2           2 1962-11-16  2011-08-02     High             1   \n",
              "3           3 1998-06-20  2001-08-15     High             1   \n",
              "4           4 1942-01-24  2012-10-28     High             1   \n",
              "\n",
              "   CNTRY_OF_INCOME_CA  PEP_FL  CASH_SUM_IN  CASH_CNT_IN  CASH_SUM_OUT  ...  \\\n",
              "0                   1     0.0     2578.785          3.0      2852.663  ...   \n",
              "1                   1     0.0     3036.502          3.0      4806.997  ...   \n",
              "2                   1     0.0     1618.571          2.0      3483.809  ...   \n",
              "3                   1     0.0     3588.042          6.0      1941.943  ...   \n",
              "4                   1     0.0     1726.524          3.0     13198.169  ...   \n",
              "\n",
              "   GENDER  CUSTOMER_ID  cash_diff  wire_diff  cash_cnt_diff wire_cnt_diff  \\\n",
              "0  Female     935382.0   -273.878    46530.0           -5.0          27.0   \n",
              "1    Male       2305.0  -1770.495    86490.0          -13.0         -76.0   \n",
              "2    Male     472403.0  -1865.238   -25966.0          -10.0         -14.0   \n",
              "3  Female     227994.0   1646.099    43357.0           -3.0        -167.0   \n",
              "4  Female     418265.0 -11471.645   -95085.0          -41.0         -84.0   \n",
              "\n",
              "  avg_cash_transaction_out avg_wire_transaction_out avg_cash_transaction_in  \\\n",
              "0               356.582875               673.472222              859.595000   \n",
              "1               300.437313              1283.921569             1012.167333   \n",
              "2               290.317417              1599.952381              809.285500   \n",
              "3               215.771444               443.083682              598.007000   \n",
              "4               299.958386              1035.381215              575.508000   \n",
              "\n",
              "  avg_wire_transaction_in  \n",
              "0             1123.412698  \n",
              "1             3674.415584  \n",
              "2             1090.428571  \n",
              "3             2072.972222  \n",
              "4              951.742268  \n",
              "\n",
              "[5 rows x 29 columns]"
            ],
            "text/html": [
              "\n",
              "  <div id=\"df-364484f6-68d5-4ff3-b203-627a8fdef340\">\n",
              "    <div class=\"colab-df-container\">\n",
              "      <div>\n",
              "<style scoped>\n",
              "    .dataframe tbody tr th:only-of-type {\n",
              "        vertical-align: middle;\n",
              "    }\n",
              "\n",
              "    .dataframe tbody tr th {\n",
              "        vertical-align: top;\n",
              "    }\n",
              "\n",
              "    .dataframe thead th {\n",
              "        text-align: right;\n",
              "    }\n",
              "</style>\n",
              "<table border=\"1\" class=\"dataframe\">\n",
              "  <thead>\n",
              "    <tr style=\"text-align: right;\">\n",
              "      <th></th>\n",
              "      <th>Unnamed: 0</th>\n",
              "      <th>BIRTH_DT</th>\n",
              "      <th>CUST_ADD_DT</th>\n",
              "      <th>OCPTN_NM</th>\n",
              "      <th>RES_CNTRY_CA</th>\n",
              "      <th>CNTRY_OF_INCOME_CA</th>\n",
              "      <th>PEP_FL</th>\n",
              "      <th>CASH_SUM_IN</th>\n",
              "      <th>CASH_CNT_IN</th>\n",
              "      <th>CASH_SUM_OUT</th>\n",
              "      <th>...</th>\n",
              "      <th>GENDER</th>\n",
              "      <th>CUSTOMER_ID</th>\n",
              "      <th>cash_diff</th>\n",
              "      <th>wire_diff</th>\n",
              "      <th>cash_cnt_diff</th>\n",
              "      <th>wire_cnt_diff</th>\n",
              "      <th>avg_cash_transaction_out</th>\n",
              "      <th>avg_wire_transaction_out</th>\n",
              "      <th>avg_cash_transaction_in</th>\n",
              "      <th>avg_wire_transaction_in</th>\n",
              "    </tr>\n",
              "  </thead>\n",
              "  <tbody>\n",
              "    <tr>\n",
              "      <th>0</th>\n",
              "      <td>0</td>\n",
              "      <td>1981-09-01</td>\n",
              "      <td>2007-07-05</td>\n",
              "      <td>High</td>\n",
              "      <td>1</td>\n",
              "      <td>1</td>\n",
              "      <td>0.0</td>\n",
              "      <td>2578.785</td>\n",
              "      <td>3.0</td>\n",
              "      <td>2852.663</td>\n",
              "      <td>...</td>\n",
              "      <td>Female</td>\n",
              "      <td>935382.0</td>\n",
              "      <td>-273.878</td>\n",
              "      <td>46530.0</td>\n",
              "      <td>-5.0</td>\n",
              "      <td>27.0</td>\n",
              "      <td>356.582875</td>\n",
              "      <td>673.472222</td>\n",
              "      <td>859.595000</td>\n",
              "      <td>1123.412698</td>\n",
              "    </tr>\n",
              "    <tr>\n",
              "      <th>1</th>\n",
              "      <td>1</td>\n",
              "      <td>1994-02-21</td>\n",
              "      <td>2019-05-19</td>\n",
              "      <td>High</td>\n",
              "      <td>1</td>\n",
              "      <td>1</td>\n",
              "      <td>0.0</td>\n",
              "      <td>3036.502</td>\n",
              "      <td>3.0</td>\n",
              "      <td>4806.997</td>\n",
              "      <td>...</td>\n",
              "      <td>Male</td>\n",
              "      <td>2305.0</td>\n",
              "      <td>-1770.495</td>\n",
              "      <td>86490.0</td>\n",
              "      <td>-13.0</td>\n",
              "      <td>-76.0</td>\n",
              "      <td>300.437313</td>\n",
              "      <td>1283.921569</td>\n",
              "      <td>1012.167333</td>\n",
              "      <td>3674.415584</td>\n",
              "    </tr>\n",
              "    <tr>\n",
              "      <th>2</th>\n",
              "      <td>2</td>\n",
              "      <td>1962-11-16</td>\n",
              "      <td>2011-08-02</td>\n",
              "      <td>High</td>\n",
              "      <td>1</td>\n",
              "      <td>1</td>\n",
              "      <td>0.0</td>\n",
              "      <td>1618.571</td>\n",
              "      <td>2.0</td>\n",
              "      <td>3483.809</td>\n",
              "      <td>...</td>\n",
              "      <td>Male</td>\n",
              "      <td>472403.0</td>\n",
              "      <td>-1865.238</td>\n",
              "      <td>-25966.0</td>\n",
              "      <td>-10.0</td>\n",
              "      <td>-14.0</td>\n",
              "      <td>290.317417</td>\n",
              "      <td>1599.952381</td>\n",
              "      <td>809.285500</td>\n",
              "      <td>1090.428571</td>\n",
              "    </tr>\n",
              "    <tr>\n",
              "      <th>3</th>\n",
              "      <td>3</td>\n",
              "      <td>1998-06-20</td>\n",
              "      <td>2001-08-15</td>\n",
              "      <td>High</td>\n",
              "      <td>1</td>\n",
              "      <td>1</td>\n",
              "      <td>0.0</td>\n",
              "      <td>3588.042</td>\n",
              "      <td>6.0</td>\n",
              "      <td>1941.943</td>\n",
              "      <td>...</td>\n",
              "      <td>Female</td>\n",
              "      <td>227994.0</td>\n",
              "      <td>1646.099</td>\n",
              "      <td>43357.0</td>\n",
              "      <td>-3.0</td>\n",
              "      <td>-167.0</td>\n",
              "      <td>215.771444</td>\n",
              "      <td>443.083682</td>\n",
              "      <td>598.007000</td>\n",
              "      <td>2072.972222</td>\n",
              "    </tr>\n",
              "    <tr>\n",
              "      <th>4</th>\n",
              "      <td>4</td>\n",
              "      <td>1942-01-24</td>\n",
              "      <td>2012-10-28</td>\n",
              "      <td>High</td>\n",
              "      <td>1</td>\n",
              "      <td>1</td>\n",
              "      <td>0.0</td>\n",
              "      <td>1726.524</td>\n",
              "      <td>3.0</td>\n",
              "      <td>13198.169</td>\n",
              "      <td>...</td>\n",
              "      <td>Female</td>\n",
              "      <td>418265.0</td>\n",
              "      <td>-11471.645</td>\n",
              "      <td>-95085.0</td>\n",
              "      <td>-41.0</td>\n",
              "      <td>-84.0</td>\n",
              "      <td>299.958386</td>\n",
              "      <td>1035.381215</td>\n",
              "      <td>575.508000</td>\n",
              "      <td>951.742268</td>\n",
              "    </tr>\n",
              "  </tbody>\n",
              "</table>\n",
              "<p>5 rows × 29 columns</p>\n",
              "</div>\n",
              "      <button class=\"colab-df-convert\" onclick=\"convertToInteractive('df-364484f6-68d5-4ff3-b203-627a8fdef340')\"\n",
              "              title=\"Convert this dataframe to an interactive table.\"\n",
              "              style=\"display:none;\">\n",
              "        \n",
              "  <svg xmlns=\"http://www.w3.org/2000/svg\" height=\"24px\"viewBox=\"0 0 24 24\"\n",
              "       width=\"24px\">\n",
              "    <path d=\"M0 0h24v24H0V0z\" fill=\"none\"/>\n",
              "    <path d=\"M18.56 5.44l.94 2.06.94-2.06 2.06-.94-2.06-.94-.94-2.06-.94 2.06-2.06.94zm-11 1L8.5 8.5l.94-2.06 2.06-.94-2.06-.94L8.5 2.5l-.94 2.06-2.06.94zm10 10l.94 2.06.94-2.06 2.06-.94-2.06-.94-.94-2.06-.94 2.06-2.06.94z\"/><path d=\"M17.41 7.96l-1.37-1.37c-.4-.4-.92-.59-1.43-.59-.52 0-1.04.2-1.43.59L10.3 9.45l-7.72 7.72c-.78.78-.78 2.05 0 2.83L4 21.41c.39.39.9.59 1.41.59.51 0 1.02-.2 1.41-.59l7.78-7.78 2.81-2.81c.8-.78.8-2.07 0-2.86zM5.41 20L4 18.59l7.72-7.72 1.47 1.35L5.41 20z\"/>\n",
              "  </svg>\n",
              "      </button>\n",
              "      \n",
              "  <style>\n",
              "    .colab-df-container {\n",
              "      display:flex;\n",
              "      flex-wrap:wrap;\n",
              "      gap: 12px;\n",
              "    }\n",
              "\n",
              "    .colab-df-convert {\n",
              "      background-color: #E8F0FE;\n",
              "      border: none;\n",
              "      border-radius: 50%;\n",
              "      cursor: pointer;\n",
              "      display: none;\n",
              "      fill: #1967D2;\n",
              "      height: 32px;\n",
              "      padding: 0 0 0 0;\n",
              "      width: 32px;\n",
              "    }\n",
              "\n",
              "    .colab-df-convert:hover {\n",
              "      background-color: #E2EBFA;\n",
              "      box-shadow: 0px 1px 2px rgba(60, 64, 67, 0.3), 0px 1px 3px 1px rgba(60, 64, 67, 0.15);\n",
              "      fill: #174EA6;\n",
              "    }\n",
              "\n",
              "    [theme=dark] .colab-df-convert {\n",
              "      background-color: #3B4455;\n",
              "      fill: #D2E3FC;\n",
              "    }\n",
              "\n",
              "    [theme=dark] .colab-df-convert:hover {\n",
              "      background-color: #434B5C;\n",
              "      box-shadow: 0px 1px 3px 1px rgba(0, 0, 0, 0.15);\n",
              "      filter: drop-shadow(0px 1px 2px rgba(0, 0, 0, 0.3));\n",
              "      fill: #FFFFFF;\n",
              "    }\n",
              "  </style>\n",
              "\n",
              "      <script>\n",
              "        const buttonEl =\n",
              "          document.querySelector('#df-364484f6-68d5-4ff3-b203-627a8fdef340 button.colab-df-convert');\n",
              "        buttonEl.style.display =\n",
              "          google.colab.kernel.accessAllowed ? 'block' : 'none';\n",
              "\n",
              "        async function convertToInteractive(key) {\n",
              "          const element = document.querySelector('#df-364484f6-68d5-4ff3-b203-627a8fdef340');\n",
              "          const dataTable =\n",
              "            await google.colab.kernel.invokeFunction('convertToInteractive',\n",
              "                                                     [key], {});\n",
              "          if (!dataTable) return;\n",
              "\n",
              "          const docLinkHtml = 'Like what you see? Visit the ' +\n",
              "            '<a target=\"_blank\" href=https://colab.research.google.com/notebooks/data_table.ipynb>data table notebook</a>'\n",
              "            + ' to learn more about interactive tables.';\n",
              "          element.innerHTML = '';\n",
              "          dataTable['output_type'] = 'display_data';\n",
              "          await google.colab.output.renderOutput(dataTable, element);\n",
              "          const docLink = document.createElement('div');\n",
              "          docLink.innerHTML = docLinkHtml;\n",
              "          element.appendChild(docLink);\n",
              "        }\n",
              "      </script>\n",
              "    </div>\n",
              "  </div>\n",
              "  "
            ]
          },
          "metadata": {},
          "execution_count": 7
        }
      ]
    },
    {
      "cell_type": "code",
      "source": [
        "data.columns"
      ],
      "metadata": {
        "colab": {
          "base_uri": "https://localhost:8080/"
        },
        "id": "CMNfPuJWD3cG",
        "outputId": "f963686f-0d27-4273-a27d-c818711e50ba"
      },
      "execution_count": 8,
      "outputs": [
        {
          "output_type": "execute_result",
          "data": {
            "text/plain": [
              "Index(['Unnamed: 0', 'BIRTH_DT', 'CUST_ADD_DT', 'OCPTN_NM', 'RES_CNTRY_CA',\n",
              "       'CNTRY_OF_INCOME_CA', 'PEP_FL', 'CASH_SUM_IN', 'CASH_CNT_IN',\n",
              "       'CASH_SUM_OUT', 'CASH_CNT_OUT', 'WIRES_SUM_IN', 'WIRES_CNT_IN',\n",
              "       'WIRES_SUM_OUT', 'WIRES_CNT_OUT', 'COUNTRY_RISK_INCOME',\n",
              "       'COUNTRY_RISK_RESIDENCY', 'RISK', 'NAME', 'GENDER', 'CUSTOMER_ID',\n",
              "       'cash_diff', 'wire_diff', 'cash_cnt_diff', 'wire_cnt_diff',\n",
              "       'avg_cash_transaction_out', 'avg_wire_transaction_out',\n",
              "       'avg_cash_transaction_in', 'avg_wire_transaction_in'],\n",
              "      dtype='object')"
            ]
          },
          "metadata": {},
          "execution_count": 8
        }
      ]
    },
    {
      "cell_type": "code",
      "source": [
        "data=data[data.columns[1:]]"
      ],
      "metadata": {
        "id": "UxXCy0XPD80x"
      },
      "execution_count": 9,
      "outputs": []
    },
    {
      "cell_type": "code",
      "source": [
        "data.drop(['BIRTH_DT','CUST_ADD_DT','CUSTOMER_ID','NAME'],inplace=True,axis=1)"
      ],
      "metadata": {
        "id": "ndL6jc3RcRcL"
      },
      "execution_count": 10,
      "outputs": []
    },
    {
      "cell_type": "code",
      "source": [
        "data.head()"
      ],
      "metadata": {
        "colab": {
          "base_uri": "https://localhost:8080/",
          "height": 299
        },
        "id": "CMSKEsa8EPC5",
        "outputId": "b9001326-4d46-4bb6-f97a-5f4a53d98634"
      },
      "execution_count": 11,
      "outputs": [
        {
          "output_type": "execute_result",
          "data": {
            "text/plain": [
              "  OCPTN_NM  RES_CNTRY_CA  CNTRY_OF_INCOME_CA  PEP_FL  CASH_SUM_IN  \\\n",
              "0     High             1                   1     0.0     2578.785   \n",
              "1     High             1                   1     0.0     3036.502   \n",
              "2     High             1                   1     0.0     1618.571   \n",
              "3     High             1                   1     0.0     3588.042   \n",
              "4     High             1                   1     0.0     1726.524   \n",
              "\n",
              "   CASH_CNT_IN  CASH_SUM_OUT  CASH_CNT_OUT  WIRES_SUM_IN  WIRES_CNT_IN  ...  \\\n",
              "0          3.0      2852.663           8.0       70775.0          63.0  ...   \n",
              "1          3.0      4806.997          16.0      282930.0          77.0  ...   \n",
              "2          2.0      3483.809          12.0        7633.0           7.0  ...   \n",
              "3          6.0      1941.943           9.0      149254.0          72.0  ...   \n",
              "4          3.0     13198.169          44.0       92319.0          97.0  ...   \n",
              "\n",
              "   RISK  GENDER  cash_diff wire_diff cash_cnt_diff wire_cnt_diff  \\\n",
              "0   low  Female   -273.878   46530.0          -5.0          27.0   \n",
              "1   low    Male  -1770.495   86490.0         -13.0         -76.0   \n",
              "2   low    Male  -1865.238  -25966.0         -10.0         -14.0   \n",
              "3   low  Female   1646.099   43357.0          -3.0        -167.0   \n",
              "4   low  Female -11471.645  -95085.0         -41.0         -84.0   \n",
              "\n",
              "   avg_cash_transaction_out  avg_wire_transaction_out  \\\n",
              "0                356.582875                673.472222   \n",
              "1                300.437313               1283.921569   \n",
              "2                290.317417               1599.952381   \n",
              "3                215.771444                443.083682   \n",
              "4                299.958386               1035.381215   \n",
              "\n",
              "   avg_cash_transaction_in  avg_wire_transaction_in  \n",
              "0               859.595000              1123.412698  \n",
              "1              1012.167333              3674.415584  \n",
              "2               809.285500              1090.428571  \n",
              "3               598.007000              2072.972222  \n",
              "4               575.508000               951.742268  \n",
              "\n",
              "[5 rows x 24 columns]"
            ],
            "text/html": [
              "\n",
              "  <div id=\"df-25697aea-bed4-4477-ac2a-f7d5ac1e06c8\">\n",
              "    <div class=\"colab-df-container\">\n",
              "      <div>\n",
              "<style scoped>\n",
              "    .dataframe tbody tr th:only-of-type {\n",
              "        vertical-align: middle;\n",
              "    }\n",
              "\n",
              "    .dataframe tbody tr th {\n",
              "        vertical-align: top;\n",
              "    }\n",
              "\n",
              "    .dataframe thead th {\n",
              "        text-align: right;\n",
              "    }\n",
              "</style>\n",
              "<table border=\"1\" class=\"dataframe\">\n",
              "  <thead>\n",
              "    <tr style=\"text-align: right;\">\n",
              "      <th></th>\n",
              "      <th>OCPTN_NM</th>\n",
              "      <th>RES_CNTRY_CA</th>\n",
              "      <th>CNTRY_OF_INCOME_CA</th>\n",
              "      <th>PEP_FL</th>\n",
              "      <th>CASH_SUM_IN</th>\n",
              "      <th>CASH_CNT_IN</th>\n",
              "      <th>CASH_SUM_OUT</th>\n",
              "      <th>CASH_CNT_OUT</th>\n",
              "      <th>WIRES_SUM_IN</th>\n",
              "      <th>WIRES_CNT_IN</th>\n",
              "      <th>...</th>\n",
              "      <th>RISK</th>\n",
              "      <th>GENDER</th>\n",
              "      <th>cash_diff</th>\n",
              "      <th>wire_diff</th>\n",
              "      <th>cash_cnt_diff</th>\n",
              "      <th>wire_cnt_diff</th>\n",
              "      <th>avg_cash_transaction_out</th>\n",
              "      <th>avg_wire_transaction_out</th>\n",
              "      <th>avg_cash_transaction_in</th>\n",
              "      <th>avg_wire_transaction_in</th>\n",
              "    </tr>\n",
              "  </thead>\n",
              "  <tbody>\n",
              "    <tr>\n",
              "      <th>0</th>\n",
              "      <td>High</td>\n",
              "      <td>1</td>\n",
              "      <td>1</td>\n",
              "      <td>0.0</td>\n",
              "      <td>2578.785</td>\n",
              "      <td>3.0</td>\n",
              "      <td>2852.663</td>\n",
              "      <td>8.0</td>\n",
              "      <td>70775.0</td>\n",
              "      <td>63.0</td>\n",
              "      <td>...</td>\n",
              "      <td>low</td>\n",
              "      <td>Female</td>\n",
              "      <td>-273.878</td>\n",
              "      <td>46530.0</td>\n",
              "      <td>-5.0</td>\n",
              "      <td>27.0</td>\n",
              "      <td>356.582875</td>\n",
              "      <td>673.472222</td>\n",
              "      <td>859.595000</td>\n",
              "      <td>1123.412698</td>\n",
              "    </tr>\n",
              "    <tr>\n",
              "      <th>1</th>\n",
              "      <td>High</td>\n",
              "      <td>1</td>\n",
              "      <td>1</td>\n",
              "      <td>0.0</td>\n",
              "      <td>3036.502</td>\n",
              "      <td>3.0</td>\n",
              "      <td>4806.997</td>\n",
              "      <td>16.0</td>\n",
              "      <td>282930.0</td>\n",
              "      <td>77.0</td>\n",
              "      <td>...</td>\n",
              "      <td>low</td>\n",
              "      <td>Male</td>\n",
              "      <td>-1770.495</td>\n",
              "      <td>86490.0</td>\n",
              "      <td>-13.0</td>\n",
              "      <td>-76.0</td>\n",
              "      <td>300.437313</td>\n",
              "      <td>1283.921569</td>\n",
              "      <td>1012.167333</td>\n",
              "      <td>3674.415584</td>\n",
              "    </tr>\n",
              "    <tr>\n",
              "      <th>2</th>\n",
              "      <td>High</td>\n",
              "      <td>1</td>\n",
              "      <td>1</td>\n",
              "      <td>0.0</td>\n",
              "      <td>1618.571</td>\n",
              "      <td>2.0</td>\n",
              "      <td>3483.809</td>\n",
              "      <td>12.0</td>\n",
              "      <td>7633.0</td>\n",
              "      <td>7.0</td>\n",
              "      <td>...</td>\n",
              "      <td>low</td>\n",
              "      <td>Male</td>\n",
              "      <td>-1865.238</td>\n",
              "      <td>-25966.0</td>\n",
              "      <td>-10.0</td>\n",
              "      <td>-14.0</td>\n",
              "      <td>290.317417</td>\n",
              "      <td>1599.952381</td>\n",
              "      <td>809.285500</td>\n",
              "      <td>1090.428571</td>\n",
              "    </tr>\n",
              "    <tr>\n",
              "      <th>3</th>\n",
              "      <td>High</td>\n",
              "      <td>1</td>\n",
              "      <td>1</td>\n",
              "      <td>0.0</td>\n",
              "      <td>3588.042</td>\n",
              "      <td>6.0</td>\n",
              "      <td>1941.943</td>\n",
              "      <td>9.0</td>\n",
              "      <td>149254.0</td>\n",
              "      <td>72.0</td>\n",
              "      <td>...</td>\n",
              "      <td>low</td>\n",
              "      <td>Female</td>\n",
              "      <td>1646.099</td>\n",
              "      <td>43357.0</td>\n",
              "      <td>-3.0</td>\n",
              "      <td>-167.0</td>\n",
              "      <td>215.771444</td>\n",
              "      <td>443.083682</td>\n",
              "      <td>598.007000</td>\n",
              "      <td>2072.972222</td>\n",
              "    </tr>\n",
              "    <tr>\n",
              "      <th>4</th>\n",
              "      <td>High</td>\n",
              "      <td>1</td>\n",
              "      <td>1</td>\n",
              "      <td>0.0</td>\n",
              "      <td>1726.524</td>\n",
              "      <td>3.0</td>\n",
              "      <td>13198.169</td>\n",
              "      <td>44.0</td>\n",
              "      <td>92319.0</td>\n",
              "      <td>97.0</td>\n",
              "      <td>...</td>\n",
              "      <td>low</td>\n",
              "      <td>Female</td>\n",
              "      <td>-11471.645</td>\n",
              "      <td>-95085.0</td>\n",
              "      <td>-41.0</td>\n",
              "      <td>-84.0</td>\n",
              "      <td>299.958386</td>\n",
              "      <td>1035.381215</td>\n",
              "      <td>575.508000</td>\n",
              "      <td>951.742268</td>\n",
              "    </tr>\n",
              "  </tbody>\n",
              "</table>\n",
              "<p>5 rows × 24 columns</p>\n",
              "</div>\n",
              "      <button class=\"colab-df-convert\" onclick=\"convertToInteractive('df-25697aea-bed4-4477-ac2a-f7d5ac1e06c8')\"\n",
              "              title=\"Convert this dataframe to an interactive table.\"\n",
              "              style=\"display:none;\">\n",
              "        \n",
              "  <svg xmlns=\"http://www.w3.org/2000/svg\" height=\"24px\"viewBox=\"0 0 24 24\"\n",
              "       width=\"24px\">\n",
              "    <path d=\"M0 0h24v24H0V0z\" fill=\"none\"/>\n",
              "    <path d=\"M18.56 5.44l.94 2.06.94-2.06 2.06-.94-2.06-.94-.94-2.06-.94 2.06-2.06.94zm-11 1L8.5 8.5l.94-2.06 2.06-.94-2.06-.94L8.5 2.5l-.94 2.06-2.06.94zm10 10l.94 2.06.94-2.06 2.06-.94-2.06-.94-.94-2.06-.94 2.06-2.06.94z\"/><path d=\"M17.41 7.96l-1.37-1.37c-.4-.4-.92-.59-1.43-.59-.52 0-1.04.2-1.43.59L10.3 9.45l-7.72 7.72c-.78.78-.78 2.05 0 2.83L4 21.41c.39.39.9.59 1.41.59.51 0 1.02-.2 1.41-.59l7.78-7.78 2.81-2.81c.8-.78.8-2.07 0-2.86zM5.41 20L4 18.59l7.72-7.72 1.47 1.35L5.41 20z\"/>\n",
              "  </svg>\n",
              "      </button>\n",
              "      \n",
              "  <style>\n",
              "    .colab-df-container {\n",
              "      display:flex;\n",
              "      flex-wrap:wrap;\n",
              "      gap: 12px;\n",
              "    }\n",
              "\n",
              "    .colab-df-convert {\n",
              "      background-color: #E8F0FE;\n",
              "      border: none;\n",
              "      border-radius: 50%;\n",
              "      cursor: pointer;\n",
              "      display: none;\n",
              "      fill: #1967D2;\n",
              "      height: 32px;\n",
              "      padding: 0 0 0 0;\n",
              "      width: 32px;\n",
              "    }\n",
              "\n",
              "    .colab-df-convert:hover {\n",
              "      background-color: #E2EBFA;\n",
              "      box-shadow: 0px 1px 2px rgba(60, 64, 67, 0.3), 0px 1px 3px 1px rgba(60, 64, 67, 0.15);\n",
              "      fill: #174EA6;\n",
              "    }\n",
              "\n",
              "    [theme=dark] .colab-df-convert {\n",
              "      background-color: #3B4455;\n",
              "      fill: #D2E3FC;\n",
              "    }\n",
              "\n",
              "    [theme=dark] .colab-df-convert:hover {\n",
              "      background-color: #434B5C;\n",
              "      box-shadow: 0px 1px 3px 1px rgba(0, 0, 0, 0.15);\n",
              "      filter: drop-shadow(0px 1px 2px rgba(0, 0, 0, 0.3));\n",
              "      fill: #FFFFFF;\n",
              "    }\n",
              "  </style>\n",
              "\n",
              "      <script>\n",
              "        const buttonEl =\n",
              "          document.querySelector('#df-25697aea-bed4-4477-ac2a-f7d5ac1e06c8 button.colab-df-convert');\n",
              "        buttonEl.style.display =\n",
              "          google.colab.kernel.accessAllowed ? 'block' : 'none';\n",
              "\n",
              "        async function convertToInteractive(key) {\n",
              "          const element = document.querySelector('#df-25697aea-bed4-4477-ac2a-f7d5ac1e06c8');\n",
              "          const dataTable =\n",
              "            await google.colab.kernel.invokeFunction('convertToInteractive',\n",
              "                                                     [key], {});\n",
              "          if (!dataTable) return;\n",
              "\n",
              "          const docLinkHtml = 'Like what you see? Visit the ' +\n",
              "            '<a target=\"_blank\" href=https://colab.research.google.com/notebooks/data_table.ipynb>data table notebook</a>'\n",
              "            + ' to learn more about interactive tables.';\n",
              "          element.innerHTML = '';\n",
              "          dataTable['output_type'] = 'display_data';\n",
              "          await google.colab.output.renderOutput(dataTable, element);\n",
              "          const docLink = document.createElement('div');\n",
              "          docLink.innerHTML = docLinkHtml;\n",
              "          element.appendChild(docLink);\n",
              "        }\n",
              "      </script>\n",
              "    </div>\n",
              "  </div>\n",
              "  "
            ]
          },
          "metadata": {},
          "execution_count": 11
        }
      ]
    },
    {
      "cell_type": "code",
      "source": [
        "data['RISK'].value_counts()\n"
      ],
      "metadata": {
        "colab": {
          "base_uri": "https://localhost:8080/"
        },
        "id": "js5OFZCSEPyz",
        "outputId": "5053b9ea-4322-45a7-9cc5-302e72c38238"
      },
      "execution_count": 12,
      "outputs": [
        {
          "output_type": "execute_result",
          "data": {
            "text/plain": [
              "low       600000\n",
              "medium    350000\n",
              "high       50000\n",
              "Name: RISK, dtype: int64"
            ]
          },
          "metadata": {},
          "execution_count": 12
        }
      ]
    },
    {
      "cell_type": "markdown",
      "source": [
        "## Biased only 5%  is high risk"
      ],
      "metadata": {
        "id": "jlcBNFrcPQ-4"
      }
    },
    {
      "cell_type": "markdown",
      "source": [
        "## One hot encode"
      ],
      "metadata": {
        "id": "3vP6ZrGydrYc"
      }
    },
    {
      "cell_type": "code",
      "source": [
        "data=pd.get_dummies(data,columns=['OCPTN_NM','COUNTRY_RISK_RESIDENCY', 'GENDER','COUNTRY_RISK_INCOME'])"
      ],
      "metadata": {
        "id": "gEChAWfUdrBO"
      },
      "execution_count": 13,
      "outputs": []
    },
    {
      "cell_type": "code",
      "source": [
        "data.head()"
      ],
      "metadata": {
        "colab": {
          "base_uri": "https://localhost:8080/",
          "height": 299
        },
        "id": "4IkhRscReEes",
        "outputId": "38f66e3c-0733-4b8d-dc8d-e1f084d04b3d"
      },
      "execution_count": 14,
      "outputs": [
        {
          "output_type": "execute_result",
          "data": {
            "text/plain": [
              "   RES_CNTRY_CA  CNTRY_OF_INCOME_CA  PEP_FL  CASH_SUM_IN  CASH_CNT_IN  \\\n",
              "0             1                   1     0.0     2578.785          3.0   \n",
              "1             1                   1     0.0     3036.502          3.0   \n",
              "2             1                   1     0.0     1618.571          2.0   \n",
              "3             1                   1     0.0     3588.042          6.0   \n",
              "4             1                   1     0.0     1726.524          3.0   \n",
              "\n",
              "   CASH_SUM_OUT  CASH_CNT_OUT  WIRES_SUM_IN  WIRES_CNT_IN  WIRES_SUM_OUT  ...  \\\n",
              "0      2852.663           8.0       70775.0          63.0        24245.0  ...   \n",
              "1      4806.997          16.0      282930.0          77.0       196440.0  ...   \n",
              "2      3483.809          12.0        7633.0           7.0        33599.0  ...   \n",
              "3      1941.943           9.0      149254.0          72.0       105897.0  ...   \n",
              "4     13198.169          44.0       92319.0          97.0       187404.0  ...   \n",
              "\n",
              "   OCPTN_NM_Low OCPTN_NM_Moderate  COUNTRY_RISK_RESIDENCY_High  \\\n",
              "0             0                 0                            0   \n",
              "1             0                 0                            0   \n",
              "2             0                 0                            0   \n",
              "3             0                 0                            0   \n",
              "4             0                 0                            0   \n",
              "\n",
              "   COUNTRY_RISK_RESIDENCY_Low  COUNTRY_RISK_RESIDENCY_Moderate  GENDER_Female  \\\n",
              "0                           1                                0              1   \n",
              "1                           1                                0              0   \n",
              "2                           1                                0              0   \n",
              "3                           1                                0              1   \n",
              "4                           1                                0              1   \n",
              "\n",
              "   GENDER_Male  COUNTRY_RISK_INCOME_High  COUNTRY_RISK_INCOME_Low  \\\n",
              "0            0                         0                        1   \n",
              "1            1                         0                        1   \n",
              "2            1                         0                        1   \n",
              "3            0                         0                        1   \n",
              "4            0                         0                        1   \n",
              "\n",
              "   COUNTRY_RISK_INCOME_Moderate  \n",
              "0                             0  \n",
              "1                             0  \n",
              "2                             0  \n",
              "3                             0  \n",
              "4                             0  \n",
              "\n",
              "[5 rows x 31 columns]"
            ],
            "text/html": [
              "\n",
              "  <div id=\"df-6214d673-871d-4406-a7ff-2c655afefc2e\">\n",
              "    <div class=\"colab-df-container\">\n",
              "      <div>\n",
              "<style scoped>\n",
              "    .dataframe tbody tr th:only-of-type {\n",
              "        vertical-align: middle;\n",
              "    }\n",
              "\n",
              "    .dataframe tbody tr th {\n",
              "        vertical-align: top;\n",
              "    }\n",
              "\n",
              "    .dataframe thead th {\n",
              "        text-align: right;\n",
              "    }\n",
              "</style>\n",
              "<table border=\"1\" class=\"dataframe\">\n",
              "  <thead>\n",
              "    <tr style=\"text-align: right;\">\n",
              "      <th></th>\n",
              "      <th>RES_CNTRY_CA</th>\n",
              "      <th>CNTRY_OF_INCOME_CA</th>\n",
              "      <th>PEP_FL</th>\n",
              "      <th>CASH_SUM_IN</th>\n",
              "      <th>CASH_CNT_IN</th>\n",
              "      <th>CASH_SUM_OUT</th>\n",
              "      <th>CASH_CNT_OUT</th>\n",
              "      <th>WIRES_SUM_IN</th>\n",
              "      <th>WIRES_CNT_IN</th>\n",
              "      <th>WIRES_SUM_OUT</th>\n",
              "      <th>...</th>\n",
              "      <th>OCPTN_NM_Low</th>\n",
              "      <th>OCPTN_NM_Moderate</th>\n",
              "      <th>COUNTRY_RISK_RESIDENCY_High</th>\n",
              "      <th>COUNTRY_RISK_RESIDENCY_Low</th>\n",
              "      <th>COUNTRY_RISK_RESIDENCY_Moderate</th>\n",
              "      <th>GENDER_Female</th>\n",
              "      <th>GENDER_Male</th>\n",
              "      <th>COUNTRY_RISK_INCOME_High</th>\n",
              "      <th>COUNTRY_RISK_INCOME_Low</th>\n",
              "      <th>COUNTRY_RISK_INCOME_Moderate</th>\n",
              "    </tr>\n",
              "  </thead>\n",
              "  <tbody>\n",
              "    <tr>\n",
              "      <th>0</th>\n",
              "      <td>1</td>\n",
              "      <td>1</td>\n",
              "      <td>0.0</td>\n",
              "      <td>2578.785</td>\n",
              "      <td>3.0</td>\n",
              "      <td>2852.663</td>\n",
              "      <td>8.0</td>\n",
              "      <td>70775.0</td>\n",
              "      <td>63.0</td>\n",
              "      <td>24245.0</td>\n",
              "      <td>...</td>\n",
              "      <td>0</td>\n",
              "      <td>0</td>\n",
              "      <td>0</td>\n",
              "      <td>1</td>\n",
              "      <td>0</td>\n",
              "      <td>1</td>\n",
              "      <td>0</td>\n",
              "      <td>0</td>\n",
              "      <td>1</td>\n",
              "      <td>0</td>\n",
              "    </tr>\n",
              "    <tr>\n",
              "      <th>1</th>\n",
              "      <td>1</td>\n",
              "      <td>1</td>\n",
              "      <td>0.0</td>\n",
              "      <td>3036.502</td>\n",
              "      <td>3.0</td>\n",
              "      <td>4806.997</td>\n",
              "      <td>16.0</td>\n",
              "      <td>282930.0</td>\n",
              "      <td>77.0</td>\n",
              "      <td>196440.0</td>\n",
              "      <td>...</td>\n",
              "      <td>0</td>\n",
              "      <td>0</td>\n",
              "      <td>0</td>\n",
              "      <td>1</td>\n",
              "      <td>0</td>\n",
              "      <td>0</td>\n",
              "      <td>1</td>\n",
              "      <td>0</td>\n",
              "      <td>1</td>\n",
              "      <td>0</td>\n",
              "    </tr>\n",
              "    <tr>\n",
              "      <th>2</th>\n",
              "      <td>1</td>\n",
              "      <td>1</td>\n",
              "      <td>0.0</td>\n",
              "      <td>1618.571</td>\n",
              "      <td>2.0</td>\n",
              "      <td>3483.809</td>\n",
              "      <td>12.0</td>\n",
              "      <td>7633.0</td>\n",
              "      <td>7.0</td>\n",
              "      <td>33599.0</td>\n",
              "      <td>...</td>\n",
              "      <td>0</td>\n",
              "      <td>0</td>\n",
              "      <td>0</td>\n",
              "      <td>1</td>\n",
              "      <td>0</td>\n",
              "      <td>0</td>\n",
              "      <td>1</td>\n",
              "      <td>0</td>\n",
              "      <td>1</td>\n",
              "      <td>0</td>\n",
              "    </tr>\n",
              "    <tr>\n",
              "      <th>3</th>\n",
              "      <td>1</td>\n",
              "      <td>1</td>\n",
              "      <td>0.0</td>\n",
              "      <td>3588.042</td>\n",
              "      <td>6.0</td>\n",
              "      <td>1941.943</td>\n",
              "      <td>9.0</td>\n",
              "      <td>149254.0</td>\n",
              "      <td>72.0</td>\n",
              "      <td>105897.0</td>\n",
              "      <td>...</td>\n",
              "      <td>0</td>\n",
              "      <td>0</td>\n",
              "      <td>0</td>\n",
              "      <td>1</td>\n",
              "      <td>0</td>\n",
              "      <td>1</td>\n",
              "      <td>0</td>\n",
              "      <td>0</td>\n",
              "      <td>1</td>\n",
              "      <td>0</td>\n",
              "    </tr>\n",
              "    <tr>\n",
              "      <th>4</th>\n",
              "      <td>1</td>\n",
              "      <td>1</td>\n",
              "      <td>0.0</td>\n",
              "      <td>1726.524</td>\n",
              "      <td>3.0</td>\n",
              "      <td>13198.169</td>\n",
              "      <td>44.0</td>\n",
              "      <td>92319.0</td>\n",
              "      <td>97.0</td>\n",
              "      <td>187404.0</td>\n",
              "      <td>...</td>\n",
              "      <td>0</td>\n",
              "      <td>0</td>\n",
              "      <td>0</td>\n",
              "      <td>1</td>\n",
              "      <td>0</td>\n",
              "      <td>1</td>\n",
              "      <td>0</td>\n",
              "      <td>0</td>\n",
              "      <td>1</td>\n",
              "      <td>0</td>\n",
              "    </tr>\n",
              "  </tbody>\n",
              "</table>\n",
              "<p>5 rows × 31 columns</p>\n",
              "</div>\n",
              "      <button class=\"colab-df-convert\" onclick=\"convertToInteractive('df-6214d673-871d-4406-a7ff-2c655afefc2e')\"\n",
              "              title=\"Convert this dataframe to an interactive table.\"\n",
              "              style=\"display:none;\">\n",
              "        \n",
              "  <svg xmlns=\"http://www.w3.org/2000/svg\" height=\"24px\"viewBox=\"0 0 24 24\"\n",
              "       width=\"24px\">\n",
              "    <path d=\"M0 0h24v24H0V0z\" fill=\"none\"/>\n",
              "    <path d=\"M18.56 5.44l.94 2.06.94-2.06 2.06-.94-2.06-.94-.94-2.06-.94 2.06-2.06.94zm-11 1L8.5 8.5l.94-2.06 2.06-.94-2.06-.94L8.5 2.5l-.94 2.06-2.06.94zm10 10l.94 2.06.94-2.06 2.06-.94-2.06-.94-.94-2.06-.94 2.06-2.06.94z\"/><path d=\"M17.41 7.96l-1.37-1.37c-.4-.4-.92-.59-1.43-.59-.52 0-1.04.2-1.43.59L10.3 9.45l-7.72 7.72c-.78.78-.78 2.05 0 2.83L4 21.41c.39.39.9.59 1.41.59.51 0 1.02-.2 1.41-.59l7.78-7.78 2.81-2.81c.8-.78.8-2.07 0-2.86zM5.41 20L4 18.59l7.72-7.72 1.47 1.35L5.41 20z\"/>\n",
              "  </svg>\n",
              "      </button>\n",
              "      \n",
              "  <style>\n",
              "    .colab-df-container {\n",
              "      display:flex;\n",
              "      flex-wrap:wrap;\n",
              "      gap: 12px;\n",
              "    }\n",
              "\n",
              "    .colab-df-convert {\n",
              "      background-color: #E8F0FE;\n",
              "      border: none;\n",
              "      border-radius: 50%;\n",
              "      cursor: pointer;\n",
              "      display: none;\n",
              "      fill: #1967D2;\n",
              "      height: 32px;\n",
              "      padding: 0 0 0 0;\n",
              "      width: 32px;\n",
              "    }\n",
              "\n",
              "    .colab-df-convert:hover {\n",
              "      background-color: #E2EBFA;\n",
              "      box-shadow: 0px 1px 2px rgba(60, 64, 67, 0.3), 0px 1px 3px 1px rgba(60, 64, 67, 0.15);\n",
              "      fill: #174EA6;\n",
              "    }\n",
              "\n",
              "    [theme=dark] .colab-df-convert {\n",
              "      background-color: #3B4455;\n",
              "      fill: #D2E3FC;\n",
              "    }\n",
              "\n",
              "    [theme=dark] .colab-df-convert:hover {\n",
              "      background-color: #434B5C;\n",
              "      box-shadow: 0px 1px 3px 1px rgba(0, 0, 0, 0.15);\n",
              "      filter: drop-shadow(0px 1px 2px rgba(0, 0, 0, 0.3));\n",
              "      fill: #FFFFFF;\n",
              "    }\n",
              "  </style>\n",
              "\n",
              "      <script>\n",
              "        const buttonEl =\n",
              "          document.querySelector('#df-6214d673-871d-4406-a7ff-2c655afefc2e button.colab-df-convert');\n",
              "        buttonEl.style.display =\n",
              "          google.colab.kernel.accessAllowed ? 'block' : 'none';\n",
              "\n",
              "        async function convertToInteractive(key) {\n",
              "          const element = document.querySelector('#df-6214d673-871d-4406-a7ff-2c655afefc2e');\n",
              "          const dataTable =\n",
              "            await google.colab.kernel.invokeFunction('convertToInteractive',\n",
              "                                                     [key], {});\n",
              "          if (!dataTable) return;\n",
              "\n",
              "          const docLinkHtml = 'Like what you see? Visit the ' +\n",
              "            '<a target=\"_blank\" href=https://colab.research.google.com/notebooks/data_table.ipynb>data table notebook</a>'\n",
              "            + ' to learn more about interactive tables.';\n",
              "          element.innerHTML = '';\n",
              "          dataTable['output_type'] = 'display_data';\n",
              "          await google.colab.output.renderOutput(dataTable, element);\n",
              "          const docLink = document.createElement('div');\n",
              "          docLink.innerHTML = docLinkHtml;\n",
              "          element.appendChild(docLink);\n",
              "        }\n",
              "      </script>\n",
              "    </div>\n",
              "  </div>\n",
              "  "
            ]
          },
          "metadata": {},
          "execution_count": 14
        }
      ]
    },
    {
      "cell_type": "markdown",
      "source": [
        "## Split in train-test"
      ],
      "metadata": {
        "id": "JcIZzobT8d1g"
      }
    },
    {
      "cell_type": "code",
      "source": [
        "y=data['RISK']"
      ],
      "metadata": {
        "id": "XBw0aPJIGW5g"
      },
      "execution_count": 15,
      "outputs": []
    },
    {
      "cell_type": "code",
      "source": [
        "x=data.loc[:, data.columns !='RISK']"
      ],
      "metadata": {
        "id": "ibOF0GWNGdDy"
      },
      "execution_count": 16,
      "outputs": []
    },
    {
      "cell_type": "code",
      "source": [
        "x.head()"
      ],
      "metadata": {
        "colab": {
          "base_uri": "https://localhost:8080/",
          "height": 299
        },
        "id": "H0Ny4evnemiX",
        "outputId": "9ca92e8b-2a34-471f-dbf2-58fd546e2b8a"
      },
      "execution_count": 17,
      "outputs": [
        {
          "output_type": "execute_result",
          "data": {
            "text/plain": [
              "   RES_CNTRY_CA  CNTRY_OF_INCOME_CA  PEP_FL  CASH_SUM_IN  CASH_CNT_IN  \\\n",
              "0             1                   1     0.0     2578.785          3.0   \n",
              "1             1                   1     0.0     3036.502          3.0   \n",
              "2             1                   1     0.0     1618.571          2.0   \n",
              "3             1                   1     0.0     3588.042          6.0   \n",
              "4             1                   1     0.0     1726.524          3.0   \n",
              "\n",
              "   CASH_SUM_OUT  CASH_CNT_OUT  WIRES_SUM_IN  WIRES_CNT_IN  WIRES_SUM_OUT  ...  \\\n",
              "0      2852.663           8.0       70775.0          63.0        24245.0  ...   \n",
              "1      4806.997          16.0      282930.0          77.0       196440.0  ...   \n",
              "2      3483.809          12.0        7633.0           7.0        33599.0  ...   \n",
              "3      1941.943           9.0      149254.0          72.0       105897.0  ...   \n",
              "4     13198.169          44.0       92319.0          97.0       187404.0  ...   \n",
              "\n",
              "   OCPTN_NM_Low  OCPTN_NM_Moderate  COUNTRY_RISK_RESIDENCY_High  \\\n",
              "0             0                  0                            0   \n",
              "1             0                  0                            0   \n",
              "2             0                  0                            0   \n",
              "3             0                  0                            0   \n",
              "4             0                  0                            0   \n",
              "\n",
              "   COUNTRY_RISK_RESIDENCY_Low  COUNTRY_RISK_RESIDENCY_Moderate  GENDER_Female  \\\n",
              "0                           1                                0              1   \n",
              "1                           1                                0              0   \n",
              "2                           1                                0              0   \n",
              "3                           1                                0              1   \n",
              "4                           1                                0              1   \n",
              "\n",
              "   GENDER_Male  COUNTRY_RISK_INCOME_High  COUNTRY_RISK_INCOME_Low  \\\n",
              "0            0                         0                        1   \n",
              "1            1                         0                        1   \n",
              "2            1                         0                        1   \n",
              "3            0                         0                        1   \n",
              "4            0                         0                        1   \n",
              "\n",
              "   COUNTRY_RISK_INCOME_Moderate  \n",
              "0                             0  \n",
              "1                             0  \n",
              "2                             0  \n",
              "3                             0  \n",
              "4                             0  \n",
              "\n",
              "[5 rows x 30 columns]"
            ],
            "text/html": [
              "\n",
              "  <div id=\"df-a49f919d-ac92-4809-8962-2eb9917ad235\">\n",
              "    <div class=\"colab-df-container\">\n",
              "      <div>\n",
              "<style scoped>\n",
              "    .dataframe tbody tr th:only-of-type {\n",
              "        vertical-align: middle;\n",
              "    }\n",
              "\n",
              "    .dataframe tbody tr th {\n",
              "        vertical-align: top;\n",
              "    }\n",
              "\n",
              "    .dataframe thead th {\n",
              "        text-align: right;\n",
              "    }\n",
              "</style>\n",
              "<table border=\"1\" class=\"dataframe\">\n",
              "  <thead>\n",
              "    <tr style=\"text-align: right;\">\n",
              "      <th></th>\n",
              "      <th>RES_CNTRY_CA</th>\n",
              "      <th>CNTRY_OF_INCOME_CA</th>\n",
              "      <th>PEP_FL</th>\n",
              "      <th>CASH_SUM_IN</th>\n",
              "      <th>CASH_CNT_IN</th>\n",
              "      <th>CASH_SUM_OUT</th>\n",
              "      <th>CASH_CNT_OUT</th>\n",
              "      <th>WIRES_SUM_IN</th>\n",
              "      <th>WIRES_CNT_IN</th>\n",
              "      <th>WIRES_SUM_OUT</th>\n",
              "      <th>...</th>\n",
              "      <th>OCPTN_NM_Low</th>\n",
              "      <th>OCPTN_NM_Moderate</th>\n",
              "      <th>COUNTRY_RISK_RESIDENCY_High</th>\n",
              "      <th>COUNTRY_RISK_RESIDENCY_Low</th>\n",
              "      <th>COUNTRY_RISK_RESIDENCY_Moderate</th>\n",
              "      <th>GENDER_Female</th>\n",
              "      <th>GENDER_Male</th>\n",
              "      <th>COUNTRY_RISK_INCOME_High</th>\n",
              "      <th>COUNTRY_RISK_INCOME_Low</th>\n",
              "      <th>COUNTRY_RISK_INCOME_Moderate</th>\n",
              "    </tr>\n",
              "  </thead>\n",
              "  <tbody>\n",
              "    <tr>\n",
              "      <th>0</th>\n",
              "      <td>1</td>\n",
              "      <td>1</td>\n",
              "      <td>0.0</td>\n",
              "      <td>2578.785</td>\n",
              "      <td>3.0</td>\n",
              "      <td>2852.663</td>\n",
              "      <td>8.0</td>\n",
              "      <td>70775.0</td>\n",
              "      <td>63.0</td>\n",
              "      <td>24245.0</td>\n",
              "      <td>...</td>\n",
              "      <td>0</td>\n",
              "      <td>0</td>\n",
              "      <td>0</td>\n",
              "      <td>1</td>\n",
              "      <td>0</td>\n",
              "      <td>1</td>\n",
              "      <td>0</td>\n",
              "      <td>0</td>\n",
              "      <td>1</td>\n",
              "      <td>0</td>\n",
              "    </tr>\n",
              "    <tr>\n",
              "      <th>1</th>\n",
              "      <td>1</td>\n",
              "      <td>1</td>\n",
              "      <td>0.0</td>\n",
              "      <td>3036.502</td>\n",
              "      <td>3.0</td>\n",
              "      <td>4806.997</td>\n",
              "      <td>16.0</td>\n",
              "      <td>282930.0</td>\n",
              "      <td>77.0</td>\n",
              "      <td>196440.0</td>\n",
              "      <td>...</td>\n",
              "      <td>0</td>\n",
              "      <td>0</td>\n",
              "      <td>0</td>\n",
              "      <td>1</td>\n",
              "      <td>0</td>\n",
              "      <td>0</td>\n",
              "      <td>1</td>\n",
              "      <td>0</td>\n",
              "      <td>1</td>\n",
              "      <td>0</td>\n",
              "    </tr>\n",
              "    <tr>\n",
              "      <th>2</th>\n",
              "      <td>1</td>\n",
              "      <td>1</td>\n",
              "      <td>0.0</td>\n",
              "      <td>1618.571</td>\n",
              "      <td>2.0</td>\n",
              "      <td>3483.809</td>\n",
              "      <td>12.0</td>\n",
              "      <td>7633.0</td>\n",
              "      <td>7.0</td>\n",
              "      <td>33599.0</td>\n",
              "      <td>...</td>\n",
              "      <td>0</td>\n",
              "      <td>0</td>\n",
              "      <td>0</td>\n",
              "      <td>1</td>\n",
              "      <td>0</td>\n",
              "      <td>0</td>\n",
              "      <td>1</td>\n",
              "      <td>0</td>\n",
              "      <td>1</td>\n",
              "      <td>0</td>\n",
              "    </tr>\n",
              "    <tr>\n",
              "      <th>3</th>\n",
              "      <td>1</td>\n",
              "      <td>1</td>\n",
              "      <td>0.0</td>\n",
              "      <td>3588.042</td>\n",
              "      <td>6.0</td>\n",
              "      <td>1941.943</td>\n",
              "      <td>9.0</td>\n",
              "      <td>149254.0</td>\n",
              "      <td>72.0</td>\n",
              "      <td>105897.0</td>\n",
              "      <td>...</td>\n",
              "      <td>0</td>\n",
              "      <td>0</td>\n",
              "      <td>0</td>\n",
              "      <td>1</td>\n",
              "      <td>0</td>\n",
              "      <td>1</td>\n",
              "      <td>0</td>\n",
              "      <td>0</td>\n",
              "      <td>1</td>\n",
              "      <td>0</td>\n",
              "    </tr>\n",
              "    <tr>\n",
              "      <th>4</th>\n",
              "      <td>1</td>\n",
              "      <td>1</td>\n",
              "      <td>0.0</td>\n",
              "      <td>1726.524</td>\n",
              "      <td>3.0</td>\n",
              "      <td>13198.169</td>\n",
              "      <td>44.0</td>\n",
              "      <td>92319.0</td>\n",
              "      <td>97.0</td>\n",
              "      <td>187404.0</td>\n",
              "      <td>...</td>\n",
              "      <td>0</td>\n",
              "      <td>0</td>\n",
              "      <td>0</td>\n",
              "      <td>1</td>\n",
              "      <td>0</td>\n",
              "      <td>1</td>\n",
              "      <td>0</td>\n",
              "      <td>0</td>\n",
              "      <td>1</td>\n",
              "      <td>0</td>\n",
              "    </tr>\n",
              "  </tbody>\n",
              "</table>\n",
              "<p>5 rows × 30 columns</p>\n",
              "</div>\n",
              "      <button class=\"colab-df-convert\" onclick=\"convertToInteractive('df-a49f919d-ac92-4809-8962-2eb9917ad235')\"\n",
              "              title=\"Convert this dataframe to an interactive table.\"\n",
              "              style=\"display:none;\">\n",
              "        \n",
              "  <svg xmlns=\"http://www.w3.org/2000/svg\" height=\"24px\"viewBox=\"0 0 24 24\"\n",
              "       width=\"24px\">\n",
              "    <path d=\"M0 0h24v24H0V0z\" fill=\"none\"/>\n",
              "    <path d=\"M18.56 5.44l.94 2.06.94-2.06 2.06-.94-2.06-.94-.94-2.06-.94 2.06-2.06.94zm-11 1L8.5 8.5l.94-2.06 2.06-.94-2.06-.94L8.5 2.5l-.94 2.06-2.06.94zm10 10l.94 2.06.94-2.06 2.06-.94-2.06-.94-.94-2.06-.94 2.06-2.06.94z\"/><path d=\"M17.41 7.96l-1.37-1.37c-.4-.4-.92-.59-1.43-.59-.52 0-1.04.2-1.43.59L10.3 9.45l-7.72 7.72c-.78.78-.78 2.05 0 2.83L4 21.41c.39.39.9.59 1.41.59.51 0 1.02-.2 1.41-.59l7.78-7.78 2.81-2.81c.8-.78.8-2.07 0-2.86zM5.41 20L4 18.59l7.72-7.72 1.47 1.35L5.41 20z\"/>\n",
              "  </svg>\n",
              "      </button>\n",
              "      \n",
              "  <style>\n",
              "    .colab-df-container {\n",
              "      display:flex;\n",
              "      flex-wrap:wrap;\n",
              "      gap: 12px;\n",
              "    }\n",
              "\n",
              "    .colab-df-convert {\n",
              "      background-color: #E8F0FE;\n",
              "      border: none;\n",
              "      border-radius: 50%;\n",
              "      cursor: pointer;\n",
              "      display: none;\n",
              "      fill: #1967D2;\n",
              "      height: 32px;\n",
              "      padding: 0 0 0 0;\n",
              "      width: 32px;\n",
              "    }\n",
              "\n",
              "    .colab-df-convert:hover {\n",
              "      background-color: #E2EBFA;\n",
              "      box-shadow: 0px 1px 2px rgba(60, 64, 67, 0.3), 0px 1px 3px 1px rgba(60, 64, 67, 0.15);\n",
              "      fill: #174EA6;\n",
              "    }\n",
              "\n",
              "    [theme=dark] .colab-df-convert {\n",
              "      background-color: #3B4455;\n",
              "      fill: #D2E3FC;\n",
              "    }\n",
              "\n",
              "    [theme=dark] .colab-df-convert:hover {\n",
              "      background-color: #434B5C;\n",
              "      box-shadow: 0px 1px 3px 1px rgba(0, 0, 0, 0.15);\n",
              "      filter: drop-shadow(0px 1px 2px rgba(0, 0, 0, 0.3));\n",
              "      fill: #FFFFFF;\n",
              "    }\n",
              "  </style>\n",
              "\n",
              "      <script>\n",
              "        const buttonEl =\n",
              "          document.querySelector('#df-a49f919d-ac92-4809-8962-2eb9917ad235 button.colab-df-convert');\n",
              "        buttonEl.style.display =\n",
              "          google.colab.kernel.accessAllowed ? 'block' : 'none';\n",
              "\n",
              "        async function convertToInteractive(key) {\n",
              "          const element = document.querySelector('#df-a49f919d-ac92-4809-8962-2eb9917ad235');\n",
              "          const dataTable =\n",
              "            await google.colab.kernel.invokeFunction('convertToInteractive',\n",
              "                                                     [key], {});\n",
              "          if (!dataTable) return;\n",
              "\n",
              "          const docLinkHtml = 'Like what you see? Visit the ' +\n",
              "            '<a target=\"_blank\" href=https://colab.research.google.com/notebooks/data_table.ipynb>data table notebook</a>'\n",
              "            + ' to learn more about interactive tables.';\n",
              "          element.innerHTML = '';\n",
              "          dataTable['output_type'] = 'display_data';\n",
              "          await google.colab.output.renderOutput(dataTable, element);\n",
              "          const docLink = document.createElement('div');\n",
              "          docLink.innerHTML = docLinkHtml;\n",
              "          element.appendChild(docLink);\n",
              "        }\n",
              "      </script>\n",
              "    </div>\n",
              "  </div>\n",
              "  "
            ]
          },
          "metadata": {},
          "execution_count": 17
        }
      ]
    },
    {
      "cell_type": "markdown",
      "source": [
        "## First split dataset and ensure test set. \n",
        "\n",
        "idea is generate multiple weak learnes trained on different subsets of data and combine them using Voting classifier."
      ],
      "metadata": {
        "id": "nirBuuUH67CX"
      }
    },
    {
      "cell_type": "code",
      "source": [
        "X_train, X_test, y_train, y_test = train_test_split(x, y, test_size=0.30,random_state=42)"
      ],
      "metadata": {
        "id": "f8BiZGYEEV72"
      },
      "execution_count": 18,
      "outputs": []
    },
    {
      "cell_type": "code",
      "source": [
        "print(X_train.shape,X_test.shape,y_train.shape,y_test.shape)"
      ],
      "metadata": {
        "colab": {
          "base_uri": "https://localhost:8080/"
        },
        "id": "rixe7UkBGtcY",
        "outputId": "d54401b1-e09d-4a22-f658-8243e8c8dd1f"
      },
      "execution_count": 19,
      "outputs": [
        {
          "output_type": "stream",
          "name": "stdout",
          "text": [
            "(700000, 30) (300000, 30) (700000,) (300000,)\n"
          ]
        }
      ]
    },
    {
      "cell_type": "code",
      "source": [
        "y_test.value_counts()"
      ],
      "metadata": {
        "colab": {
          "base_uri": "https://localhost:8080/"
        },
        "id": "PCG4oLRr0uT2",
        "outputId": "0b223810-db30-4503-e5b7-f5ce5dcfbfa0"
      },
      "execution_count": 20,
      "outputs": [
        {
          "output_type": "execute_result",
          "data": {
            "text/plain": [
              "low       180212\n",
              "medium    104916\n",
              "high       14872\n",
              "Name: RISK, dtype: int64"
            ]
          },
          "metadata": {},
          "execution_count": 20
        }
      ]
    },
    {
      "cell_type": "code",
      "source": [
        "y_train.value_counts()"
      ],
      "metadata": {
        "colab": {
          "base_uri": "https://localhost:8080/"
        },
        "id": "8HxArjgB0rz8",
        "outputId": "e32192c5-1720-436c-c515-21348c69fabb"
      },
      "execution_count": 21,
      "outputs": [
        {
          "output_type": "execute_result",
          "data": {
            "text/plain": [
              "low       419788\n",
              "medium    245084\n",
              "high       35128\n",
              "Name: RISK, dtype: int64"
            ]
          },
          "metadata": {},
          "execution_count": 21
        }
      ]
    },
    {
      "cell_type": "markdown",
      "source": [
        "## Now only work with x_train and y_train and generate multiple subsets for classifier to learn on."
      ],
      "metadata": {
        "id": "1-W1NIrG8wiV"
      }
    },
    {
      "cell_type": "markdown",
      "source": [
        "## 1st subset - train on all unbalanced dataset"
      ],
      "metadata": {
        "id": "OGCl-hdy83oy"
      }
    },
    {
      "cell_type": "code",
      "source": [
        "model_1=HistGradientBoostingClassifier()\n",
        "model_1.fit(X_train,y_train)"
      ],
      "metadata": {
        "colab": {
          "base_uri": "https://localhost:8080/"
        },
        "id": "vYn5n7rl88Ag",
        "outputId": "fd8c49c6-325e-455d-983a-0513c6b330cb"
      },
      "execution_count": 22,
      "outputs": [
        {
          "output_type": "execute_result",
          "data": {
            "text/plain": [
              "HistGradientBoostingClassifier()"
            ]
          },
          "metadata": {},
          "execution_count": 22
        }
      ]
    },
    {
      "cell_type": "code",
      "source": [
        "model_6=RandomForestClassifier()\n",
        "model_6.fit(X_train,y_train)"
      ],
      "metadata": {
        "colab": {
          "base_uri": "https://localhost:8080/"
        },
        "id": "XssnANd1Ipbh",
        "outputId": "5fade467-da54-4643-c023-98a55d935d9e"
      },
      "execution_count": 23,
      "outputs": [
        {
          "output_type": "execute_result",
          "data": {
            "text/plain": [
              "RandomForestClassifier()"
            ]
          },
          "metadata": {},
          "execution_count": 23
        }
      ]
    },
    {
      "cell_type": "markdown",
      "source": [
        "2nd subset- Undersample to have balanced dataset "
      ],
      "metadata": {
        "id": "zrcKwWhB9EE5"
      }
    },
    {
      "cell_type": "markdown",
      "source": [
        "## Undersample the x_train"
      ],
      "metadata": {
        "id": "MrldofgnYRoP"
      }
    },
    {
      "cell_type": "code",
      "source": [
        "from imblearn.under_sampling import RandomUnderSampler\n",
        "rus = RandomUnderSampler(random_state=42)\n",
        "X_resampled, y_resampled=rus.fit_resample(X_train,y_train)"
      ],
      "metadata": {
        "id": "lYte8Fo1gaMA"
      },
      "execution_count": 24,
      "outputs": []
    },
    {
      "cell_type": "code",
      "source": [
        "X_resampled.head()"
      ],
      "metadata": {
        "colab": {
          "base_uri": "https://localhost:8080/",
          "height": 299
        },
        "id": "i-E5LgcNiutc",
        "outputId": "55049c49-91e9-4710-bd87-ac39f5858d6c"
      },
      "execution_count": 25,
      "outputs": [
        {
          "output_type": "execute_result",
          "data": {
            "text/plain": [
              "   RES_CNTRY_CA  CNTRY_OF_INCOME_CA  PEP_FL  CASH_SUM_IN  CASH_CNT_IN  \\\n",
              "0             1                   1     0.0    16365.490         12.0   \n",
              "1             1                   1     1.0    31321.497         10.0   \n",
              "2             1                   1     0.0    33934.835         16.0   \n",
              "3             1                   1     0.0    13293.952          6.0   \n",
              "4             1                   1     1.0    66062.641         32.0   \n",
              "\n",
              "   CASH_SUM_OUT  CASH_CNT_OUT  WIRES_SUM_IN  WIRES_CNT_IN  WIRES_SUM_OUT  ...  \\\n",
              "0       13602.0          13.0     1286954.0          17.0       229268.0  ...   \n",
              "1       19724.0           6.0     2083754.0         223.0      1211917.0  ...   \n",
              "2       18619.0          12.0     1135212.0         118.0       287657.0  ...   \n",
              "3         646.0           1.0     3228217.0          37.0      1616665.0  ...   \n",
              "4       37513.0          49.0     3934182.0         168.0      1976339.0  ...   \n",
              "\n",
              "   OCPTN_NM_Low  OCPTN_NM_Moderate  COUNTRY_RISK_RESIDENCY_High  \\\n",
              "0             1                  0                            0   \n",
              "1             1                  0                            0   \n",
              "2             1                  0                            0   \n",
              "3             0                  0                            0   \n",
              "4             1                  0                            0   \n",
              "\n",
              "   COUNTRY_RISK_RESIDENCY_Low  COUNTRY_RISK_RESIDENCY_Moderate  GENDER_Female  \\\n",
              "0                           1                                0              0   \n",
              "1                           1                                0              0   \n",
              "2                           1                                0              1   \n",
              "3                           1                                0              0   \n",
              "4                           1                                0              1   \n",
              "\n",
              "   GENDER_Male  COUNTRY_RISK_INCOME_High  COUNTRY_RISK_INCOME_Low  \\\n",
              "0            1                         0                        1   \n",
              "1            1                         0                        1   \n",
              "2            0                         0                        1   \n",
              "3            1                         0                        1   \n",
              "4            0                         0                        1   \n",
              "\n",
              "   COUNTRY_RISK_INCOME_Moderate  \n",
              "0                             0  \n",
              "1                             0  \n",
              "2                             0  \n",
              "3                             0  \n",
              "4                             0  \n",
              "\n",
              "[5 rows x 30 columns]"
            ],
            "text/html": [
              "\n",
              "  <div id=\"df-8c9d77eb-e683-4074-8560-d36417e76643\">\n",
              "    <div class=\"colab-df-container\">\n",
              "      <div>\n",
              "<style scoped>\n",
              "    .dataframe tbody tr th:only-of-type {\n",
              "        vertical-align: middle;\n",
              "    }\n",
              "\n",
              "    .dataframe tbody tr th {\n",
              "        vertical-align: top;\n",
              "    }\n",
              "\n",
              "    .dataframe thead th {\n",
              "        text-align: right;\n",
              "    }\n",
              "</style>\n",
              "<table border=\"1\" class=\"dataframe\">\n",
              "  <thead>\n",
              "    <tr style=\"text-align: right;\">\n",
              "      <th></th>\n",
              "      <th>RES_CNTRY_CA</th>\n",
              "      <th>CNTRY_OF_INCOME_CA</th>\n",
              "      <th>PEP_FL</th>\n",
              "      <th>CASH_SUM_IN</th>\n",
              "      <th>CASH_CNT_IN</th>\n",
              "      <th>CASH_SUM_OUT</th>\n",
              "      <th>CASH_CNT_OUT</th>\n",
              "      <th>WIRES_SUM_IN</th>\n",
              "      <th>WIRES_CNT_IN</th>\n",
              "      <th>WIRES_SUM_OUT</th>\n",
              "      <th>...</th>\n",
              "      <th>OCPTN_NM_Low</th>\n",
              "      <th>OCPTN_NM_Moderate</th>\n",
              "      <th>COUNTRY_RISK_RESIDENCY_High</th>\n",
              "      <th>COUNTRY_RISK_RESIDENCY_Low</th>\n",
              "      <th>COUNTRY_RISK_RESIDENCY_Moderate</th>\n",
              "      <th>GENDER_Female</th>\n",
              "      <th>GENDER_Male</th>\n",
              "      <th>COUNTRY_RISK_INCOME_High</th>\n",
              "      <th>COUNTRY_RISK_INCOME_Low</th>\n",
              "      <th>COUNTRY_RISK_INCOME_Moderate</th>\n",
              "    </tr>\n",
              "  </thead>\n",
              "  <tbody>\n",
              "    <tr>\n",
              "      <th>0</th>\n",
              "      <td>1</td>\n",
              "      <td>1</td>\n",
              "      <td>0.0</td>\n",
              "      <td>16365.490</td>\n",
              "      <td>12.0</td>\n",
              "      <td>13602.0</td>\n",
              "      <td>13.0</td>\n",
              "      <td>1286954.0</td>\n",
              "      <td>17.0</td>\n",
              "      <td>229268.0</td>\n",
              "      <td>...</td>\n",
              "      <td>1</td>\n",
              "      <td>0</td>\n",
              "      <td>0</td>\n",
              "      <td>1</td>\n",
              "      <td>0</td>\n",
              "      <td>0</td>\n",
              "      <td>1</td>\n",
              "      <td>0</td>\n",
              "      <td>1</td>\n",
              "      <td>0</td>\n",
              "    </tr>\n",
              "    <tr>\n",
              "      <th>1</th>\n",
              "      <td>1</td>\n",
              "      <td>1</td>\n",
              "      <td>1.0</td>\n",
              "      <td>31321.497</td>\n",
              "      <td>10.0</td>\n",
              "      <td>19724.0</td>\n",
              "      <td>6.0</td>\n",
              "      <td>2083754.0</td>\n",
              "      <td>223.0</td>\n",
              "      <td>1211917.0</td>\n",
              "      <td>...</td>\n",
              "      <td>1</td>\n",
              "      <td>0</td>\n",
              "      <td>0</td>\n",
              "      <td>1</td>\n",
              "      <td>0</td>\n",
              "      <td>0</td>\n",
              "      <td>1</td>\n",
              "      <td>0</td>\n",
              "      <td>1</td>\n",
              "      <td>0</td>\n",
              "    </tr>\n",
              "    <tr>\n",
              "      <th>2</th>\n",
              "      <td>1</td>\n",
              "      <td>1</td>\n",
              "      <td>0.0</td>\n",
              "      <td>33934.835</td>\n",
              "      <td>16.0</td>\n",
              "      <td>18619.0</td>\n",
              "      <td>12.0</td>\n",
              "      <td>1135212.0</td>\n",
              "      <td>118.0</td>\n",
              "      <td>287657.0</td>\n",
              "      <td>...</td>\n",
              "      <td>1</td>\n",
              "      <td>0</td>\n",
              "      <td>0</td>\n",
              "      <td>1</td>\n",
              "      <td>0</td>\n",
              "      <td>1</td>\n",
              "      <td>0</td>\n",
              "      <td>0</td>\n",
              "      <td>1</td>\n",
              "      <td>0</td>\n",
              "    </tr>\n",
              "    <tr>\n",
              "      <th>3</th>\n",
              "      <td>1</td>\n",
              "      <td>1</td>\n",
              "      <td>0.0</td>\n",
              "      <td>13293.952</td>\n",
              "      <td>6.0</td>\n",
              "      <td>646.0</td>\n",
              "      <td>1.0</td>\n",
              "      <td>3228217.0</td>\n",
              "      <td>37.0</td>\n",
              "      <td>1616665.0</td>\n",
              "      <td>...</td>\n",
              "      <td>0</td>\n",
              "      <td>0</td>\n",
              "      <td>0</td>\n",
              "      <td>1</td>\n",
              "      <td>0</td>\n",
              "      <td>0</td>\n",
              "      <td>1</td>\n",
              "      <td>0</td>\n",
              "      <td>1</td>\n",
              "      <td>0</td>\n",
              "    </tr>\n",
              "    <tr>\n",
              "      <th>4</th>\n",
              "      <td>1</td>\n",
              "      <td>1</td>\n",
              "      <td>1.0</td>\n",
              "      <td>66062.641</td>\n",
              "      <td>32.0</td>\n",
              "      <td>37513.0</td>\n",
              "      <td>49.0</td>\n",
              "      <td>3934182.0</td>\n",
              "      <td>168.0</td>\n",
              "      <td>1976339.0</td>\n",
              "      <td>...</td>\n",
              "      <td>1</td>\n",
              "      <td>0</td>\n",
              "      <td>0</td>\n",
              "      <td>1</td>\n",
              "      <td>0</td>\n",
              "      <td>1</td>\n",
              "      <td>0</td>\n",
              "      <td>0</td>\n",
              "      <td>1</td>\n",
              "      <td>0</td>\n",
              "    </tr>\n",
              "  </tbody>\n",
              "</table>\n",
              "<p>5 rows × 30 columns</p>\n",
              "</div>\n",
              "      <button class=\"colab-df-convert\" onclick=\"convertToInteractive('df-8c9d77eb-e683-4074-8560-d36417e76643')\"\n",
              "              title=\"Convert this dataframe to an interactive table.\"\n",
              "              style=\"display:none;\">\n",
              "        \n",
              "  <svg xmlns=\"http://www.w3.org/2000/svg\" height=\"24px\"viewBox=\"0 0 24 24\"\n",
              "       width=\"24px\">\n",
              "    <path d=\"M0 0h24v24H0V0z\" fill=\"none\"/>\n",
              "    <path d=\"M18.56 5.44l.94 2.06.94-2.06 2.06-.94-2.06-.94-.94-2.06-.94 2.06-2.06.94zm-11 1L8.5 8.5l.94-2.06 2.06-.94-2.06-.94L8.5 2.5l-.94 2.06-2.06.94zm10 10l.94 2.06.94-2.06 2.06-.94-2.06-.94-.94-2.06-.94 2.06-2.06.94z\"/><path d=\"M17.41 7.96l-1.37-1.37c-.4-.4-.92-.59-1.43-.59-.52 0-1.04.2-1.43.59L10.3 9.45l-7.72 7.72c-.78.78-.78 2.05 0 2.83L4 21.41c.39.39.9.59 1.41.59.51 0 1.02-.2 1.41-.59l7.78-7.78 2.81-2.81c.8-.78.8-2.07 0-2.86zM5.41 20L4 18.59l7.72-7.72 1.47 1.35L5.41 20z\"/>\n",
              "  </svg>\n",
              "      </button>\n",
              "      \n",
              "  <style>\n",
              "    .colab-df-container {\n",
              "      display:flex;\n",
              "      flex-wrap:wrap;\n",
              "      gap: 12px;\n",
              "    }\n",
              "\n",
              "    .colab-df-convert {\n",
              "      background-color: #E8F0FE;\n",
              "      border: none;\n",
              "      border-radius: 50%;\n",
              "      cursor: pointer;\n",
              "      display: none;\n",
              "      fill: #1967D2;\n",
              "      height: 32px;\n",
              "      padding: 0 0 0 0;\n",
              "      width: 32px;\n",
              "    }\n",
              "\n",
              "    .colab-df-convert:hover {\n",
              "      background-color: #E2EBFA;\n",
              "      box-shadow: 0px 1px 2px rgba(60, 64, 67, 0.3), 0px 1px 3px 1px rgba(60, 64, 67, 0.15);\n",
              "      fill: #174EA6;\n",
              "    }\n",
              "\n",
              "    [theme=dark] .colab-df-convert {\n",
              "      background-color: #3B4455;\n",
              "      fill: #D2E3FC;\n",
              "    }\n",
              "\n",
              "    [theme=dark] .colab-df-convert:hover {\n",
              "      background-color: #434B5C;\n",
              "      box-shadow: 0px 1px 3px 1px rgba(0, 0, 0, 0.15);\n",
              "      filter: drop-shadow(0px 1px 2px rgba(0, 0, 0, 0.3));\n",
              "      fill: #FFFFFF;\n",
              "    }\n",
              "  </style>\n",
              "\n",
              "      <script>\n",
              "        const buttonEl =\n",
              "          document.querySelector('#df-8c9d77eb-e683-4074-8560-d36417e76643 button.colab-df-convert');\n",
              "        buttonEl.style.display =\n",
              "          google.colab.kernel.accessAllowed ? 'block' : 'none';\n",
              "\n",
              "        async function convertToInteractive(key) {\n",
              "          const element = document.querySelector('#df-8c9d77eb-e683-4074-8560-d36417e76643');\n",
              "          const dataTable =\n",
              "            await google.colab.kernel.invokeFunction('convertToInteractive',\n",
              "                                                     [key], {});\n",
              "          if (!dataTable) return;\n",
              "\n",
              "          const docLinkHtml = 'Like what you see? Visit the ' +\n",
              "            '<a target=\"_blank\" href=https://colab.research.google.com/notebooks/data_table.ipynb>data table notebook</a>'\n",
              "            + ' to learn more about interactive tables.';\n",
              "          element.innerHTML = '';\n",
              "          dataTable['output_type'] = 'display_data';\n",
              "          await google.colab.output.renderOutput(dataTable, element);\n",
              "          const docLink = document.createElement('div');\n",
              "          docLink.innerHTML = docLinkHtml;\n",
              "          element.appendChild(docLink);\n",
              "        }\n",
              "      </script>\n",
              "    </div>\n",
              "  </div>\n",
              "  "
            ]
          },
          "metadata": {},
          "execution_count": 25
        }
      ]
    },
    {
      "cell_type": "code",
      "source": [
        "y_resampled.value_counts()"
      ],
      "metadata": {
        "colab": {
          "base_uri": "https://localhost:8080/"
        },
        "id": "EC2HWAQciZau",
        "outputId": "ce9250f6-fdab-4adf-82c8-85d4cdfdaee4"
      },
      "execution_count": 26,
      "outputs": [
        {
          "output_type": "execute_result",
          "data": {
            "text/plain": [
              "high      35128\n",
              "low       35128\n",
              "medium    35128\n",
              "Name: RISK, dtype: int64"
            ]
          },
          "metadata": {},
          "execution_count": 26
        }
      ]
    },
    {
      "cell_type": "code",
      "source": [
        "model_2=HistGradientBoostingClassifier()\n",
        "model_2.fit(X_resampled,y_resampled)"
      ],
      "metadata": {
        "colab": {
          "base_uri": "https://localhost:8080/"
        },
        "id": "Q1GeYv_6-fLX",
        "outputId": "5284e381-ae65-4bb1-d6b2-62b71679539b"
      },
      "execution_count": 27,
      "outputs": [
        {
          "output_type": "execute_result",
          "data": {
            "text/plain": [
              "HistGradientBoostingClassifier()"
            ]
          },
          "metadata": {},
          "execution_count": 27
        }
      ]
    },
    {
      "cell_type": "code",
      "source": [
        "model_7=RandomForestClassifier()\n",
        "model_7.fit(X_resampled,y_resampled)"
      ],
      "metadata": {
        "colab": {
          "base_uri": "https://localhost:8080/"
        },
        "id": "bIjPmMlIIxf7",
        "outputId": "65728887-4bc7-4a4b-90b9-9002b2d07f7b"
      },
      "execution_count": 28,
      "outputs": [
        {
          "output_type": "execute_result",
          "data": {
            "text/plain": [
              "RandomForestClassifier()"
            ]
          },
          "metadata": {},
          "execution_count": 28
        }
      ]
    },
    {
      "cell_type": "markdown",
      "source": [
        "3rd subset of data- Train only on low and medium"
      ],
      "metadata": {
        "id": "W-T9v4e8-lYv"
      }
    },
    {
      "cell_type": "code",
      "source": [
        "low_medium_index=y_train[(y_train=='low')|(y_train=='medium')].index"
      ],
      "metadata": {
        "id": "KbTISjvK-psz"
      },
      "execution_count": 29,
      "outputs": []
    },
    {
      "cell_type": "code",
      "source": [
        "low_medium_y_train=y_train[(y_train=='low')|(y_train=='medium')]"
      ],
      "metadata": {
        "id": "9nQ774ho_rMZ"
      },
      "execution_count": 30,
      "outputs": []
    },
    {
      "cell_type": "code",
      "source": [
        "low_medium_x_train=X_train.loc[low_medium_index]"
      ],
      "metadata": {
        "id": "Qf6EIrKL_ZyG"
      },
      "execution_count": 31,
      "outputs": []
    },
    {
      "cell_type": "code",
      "source": [
        "print(low_medium_x_train.shape,low_medium_y_train.shape)"
      ],
      "metadata": {
        "colab": {
          "base_uri": "https://localhost:8080/"
        },
        "id": "iM4hujvi_1zX",
        "outputId": "8b688bcb-04b7-46d8-b0b9-7f7c0c1a97a4"
      },
      "execution_count": 32,
      "outputs": [
        {
          "output_type": "stream",
          "name": "stdout",
          "text": [
            "(664872, 30) (664872,)\n"
          ]
        }
      ]
    },
    {
      "cell_type": "code",
      "source": [
        "model_3=HistGradientBoostingClassifier()\n",
        "model_3.fit(low_medium_x_train,low_medium_y_train)"
      ],
      "metadata": {
        "colab": {
          "base_uri": "https://localhost:8080/"
        },
        "id": "OK4ukxYUAB18",
        "outputId": "12aff8c1-9db2-45f3-9981-63499b8456b0"
      },
      "execution_count": 33,
      "outputs": [
        {
          "output_type": "execute_result",
          "data": {
            "text/plain": [
              "HistGradientBoostingClassifier()"
            ]
          },
          "metadata": {},
          "execution_count": 33
        }
      ]
    },
    {
      "cell_type": "code",
      "source": [
        "model_8=RandomForestClassifier()\n",
        "model_8.fit(low_medium_x_train,low_medium_y_train)"
      ],
      "metadata": {
        "colab": {
          "base_uri": "https://localhost:8080/"
        },
        "id": "R22-6hY8I4Li",
        "outputId": "589bf416-c879-4f32-93ea-51e69783844b"
      },
      "execution_count": 34,
      "outputs": [
        {
          "output_type": "execute_result",
          "data": {
            "text/plain": [
              "RandomForestClassifier()"
            ]
          },
          "metadata": {},
          "execution_count": 34
        }
      ]
    },
    {
      "cell_type": "markdown",
      "source": [
        "## 4th subset of data is high-medium"
      ],
      "metadata": {
        "id": "tEXVafTRAJbW"
      }
    },
    {
      "cell_type": "code",
      "source": [
        "high_medium_index=y_train[(y_train=='high')|(y_train=='medium')].index\n",
        "high_medium_y_train=y_train[(y_train=='high')|(y_train=='medium')]\n",
        "high_medium_x_train=X_train.loc[high_medium_index]\n",
        "print(high_medium_x_train.shape,high_medium_y_train.shape)"
      ],
      "metadata": {
        "colab": {
          "base_uri": "https://localhost:8080/"
        },
        "id": "ghVBrv1lAWwN",
        "outputId": "cc9f849b-223c-4e2b-e75f-59b3b60c35e4"
      },
      "execution_count": 35,
      "outputs": [
        {
          "output_type": "stream",
          "name": "stdout",
          "text": [
            "(280212, 30) (280212,)\n"
          ]
        }
      ]
    },
    {
      "cell_type": "code",
      "source": [
        "model_4=HistGradientBoostingClassifier()\n",
        "model_4.fit(high_medium_x_train,high_medium_y_train)"
      ],
      "metadata": {
        "colab": {
          "base_uri": "https://localhost:8080/"
        },
        "id": "xLwLKnezAsgq",
        "outputId": "42e6caa3-68cf-4941-a5a4-f9e4e878df8e"
      },
      "execution_count": 36,
      "outputs": [
        {
          "output_type": "execute_result",
          "data": {
            "text/plain": [
              "HistGradientBoostingClassifier()"
            ]
          },
          "metadata": {},
          "execution_count": 36
        }
      ]
    },
    {
      "cell_type": "code",
      "source": [
        "model_9=RandomForestClassifier()\n",
        "model_9.fit(high_medium_x_train,high_medium_y_train)"
      ],
      "metadata": {
        "colab": {
          "base_uri": "https://localhost:8080/"
        },
        "id": "0CavwxIWGmdR",
        "outputId": "e71d3472-4ea3-4cb8-a81c-dc8b309b16a9"
      },
      "execution_count": 37,
      "outputs": [
        {
          "output_type": "execute_result",
          "data": {
            "text/plain": [
              "RandomForestClassifier()"
            ]
          },
          "metadata": {},
          "execution_count": 37
        }
      ]
    },
    {
      "cell_type": "markdown",
      "source": [
        "## 5th type of dataset high-low"
      ],
      "metadata": {
        "id": "CY6EPyYdGcBx"
      }
    },
    {
      "cell_type": "code",
      "source": [
        "high_low_index=y_train[(y_train=='high')|(y_train=='low')].index\n",
        "high_low_y_train=y_train[(y_train=='high')|(y_train=='low')]\n",
        "high_low_x_train=X_train.loc[high_low_index]\n",
        "print(high_low_x_train.shape,high_low_y_train.shape)"
      ],
      "metadata": {
        "colab": {
          "base_uri": "https://localhost:8080/"
        },
        "id": "E1xbMZR_Gbkn",
        "outputId": "4cfbe1aa-49dc-4d46-e20a-f4f006f91ca3"
      },
      "execution_count": 38,
      "outputs": [
        {
          "output_type": "stream",
          "name": "stdout",
          "text": [
            "(454916, 30) (454916,)\n"
          ]
        }
      ]
    },
    {
      "cell_type": "code",
      "source": [
        "model_5=HistGradientBoostingClassifier()\n",
        "model_5.fit(high_low_x_train,high_low_y_train)"
      ],
      "metadata": {
        "colab": {
          "base_uri": "https://localhost:8080/"
        },
        "id": "pmQTMCGVG0cQ",
        "outputId": "51d6b4e6-5796-447e-a960-34ac857de1fd"
      },
      "execution_count": 39,
      "outputs": [
        {
          "output_type": "execute_result",
          "data": {
            "text/plain": [
              "HistGradientBoostingClassifier()"
            ]
          },
          "metadata": {},
          "execution_count": 39
        }
      ]
    },
    {
      "cell_type": "code",
      "source": [
        "model_10=RandomForestClassifier()\n",
        "model_10.fit(high_low_x_train,high_low_y_train)"
      ],
      "metadata": {
        "colab": {
          "base_uri": "https://localhost:8080/"
        },
        "id": "yPE0l5EaIg4p",
        "outputId": "59cffeda-c7c7-42bb-c879-729c702c46c9"
      },
      "execution_count": 40,
      "outputs": [
        {
          "output_type": "execute_result",
          "data": {
            "text/plain": [
              "RandomForestClassifier()"
            ]
          },
          "metadata": {},
          "execution_count": 40
        }
      ]
    },
    {
      "cell_type": "markdown",
      "source": [
        "## Standarize the datasets- Not required on tree based algos."
      ],
      "metadata": {
        "id": "tNiOqwZ5G9GO"
      }
    },
    {
      "cell_type": "code",
      "source": [
        "#from sklearn.preprocessing import StandardScaler\n"
      ],
      "metadata": {
        "id": "ayMlZCSsG_iz"
      },
      "execution_count": 41,
      "outputs": []
    },
    {
      "cell_type": "code",
      "source": [
        "# scaler = StandardScaler()\n",
        "# normalized_x_train = pd.DataFrame(\n",
        "#     scaler.fit_transform(X_resampled),\n",
        "#     columns = X_resampled.columns, index=X_resampled.index)"
      ],
      "metadata": {
        "id": "sR07jaZsG5g3"
      },
      "execution_count": 42,
      "outputs": []
    },
    {
      "cell_type": "code",
      "source": [
        "# normalized_x_train.head()"
      ],
      "metadata": {
        "id": "pjLo9YHgHNkM"
      },
      "execution_count": 43,
      "outputs": []
    },
    {
      "cell_type": "code",
      "source": [
        "# normalized_x_test = pd.DataFrame(scaler.transform(test_t),columns = test_t.columns,index=test_t.index)"
      ],
      "metadata": {
        "id": "dBFGuxgUItOK"
      },
      "execution_count": 44,
      "outputs": []
    },
    {
      "cell_type": "code",
      "source": [
        "# normalized_x_test.head()"
      ],
      "metadata": {
        "id": "L0Zb6FakSrLP"
      },
      "execution_count": 45,
      "outputs": []
    },
    {
      "cell_type": "code",
      "source": [
        "# ## helper function \n",
        "# def reports(y_true,y_pred):\n",
        "#   print(\"Accuracy: \",accuracy_score(y_true,y_pred))\n",
        "#   print(\"Recall Score: \",recall_score(y_true,y_pred,average='macro'))\n",
        "#   print(\"Precision Score: \",precision_score(y_true,y_pred,average='macro'))\n",
        "#   print(\"F1 score: \",f1_score(y_true,y_pred,average='macro'))\n",
        "#   print(classification_report(y_true,y_pred))\n",
        "#   print(\"Confusion Matrix : \")\n",
        "#   print(confusion_matrix(y_true,y_pred))"
      ],
      "metadata": {
        "id": "E2FMA1kzbchF"
      },
      "execution_count": 46,
      "outputs": []
    },
    {
      "cell_type": "code",
      "source": [
        "# models= [('LogReg',LogisticRegression()),\n",
        "         \n",
        "#           ('RF', RandomForestClassifier()),\n",
        "#           ('AdaBoostClassifier',AdaBoostClassifier() ),\n",
        "#           ('GradientBoostingClassifier',GradientBoostingClassifier()), \n",
        "#           ('HistGradientBoostingClassifier',HistGradientBoostingClassifier()),\n",
        "#         ]"
      ],
      "metadata": {
        "id": "WgSPgnKLc8Ws"
      },
      "execution_count": 47,
      "outputs": []
    },
    {
      "cell_type": "code",
      "source": [
        "# def experiment(x_train,x_test,y_train,y_test):\n",
        "#   for name,model in models:\n",
        "#     clf = model.fit(x_train, y_train)\n",
        "#     y_pred = clf.predict(x_test)\n",
        "#     print(\"For model: \",name)\n",
        "#     reports(y_test,y_pred)\n"
      ],
      "metadata": {
        "id": "C1ARwAdLe4XI"
      },
      "execution_count": 48,
      "outputs": []
    },
    {
      "cell_type": "code",
      "source": [
        "# experiment(normalized_x_train,normalized_x_test,y_resampled,y_test)"
      ],
      "metadata": {
        "id": "UzwWbTk7f61u"
      },
      "execution_count": 49,
      "outputs": []
    },
    {
      "cell_type": "markdown",
      "source": [
        "tp-13658,\n",
        "fn-1242,fp-21450\n",
        "tn-263650\n",
        "tp+fp="
      ],
      "metadata": {
        "id": "SOoS0ecvpkVL"
      }
    },
    {
      "cell_type": "markdown",
      "source": [
        "hist gradient boosting classier works best out of models selected. Better to chose higher recall than precision \n",
        "\n",
        "Question is what kind of error could be tolerate ? \n",
        "\n",
        "<li> Classifying an innocent customer as fraud (low precision)\n",
        "<li> Missing to identifying as someone who made fraud (low recall)\n",
        "\n",
        "<li>Recall is Fraud identified / Over total Fraud \n",
        "<li>Precision is “fraud caught over predictions I made for fraud”\n",
        "\n",
        "From confusion matrix the model made lot of false positive (fp='fill value') as high risk customers which would be bad customer experience\n",
        "\n",
        "However on other hand from test set the model was able to correctly predict (tp='fill value') high risk customers over 15k cases. So a high recall is achieved. \n"
      ],
      "metadata": {
        "id": "0Sn_k0t2jAwP"
      }
    },
    {
      "cell_type": "markdown",
      "source": [
        "Some other notes\n",
        "\n",
        "1. Balancing the dataset helped improved the score. \n",
        "2. HP tuning to imporve the results further ? \n",
        "3. Try feature engineering \n",
        "4. Try deep learning networks to improve this score. "
      ],
      "metadata": {
        "id": "IAqtraM30Mvq"
      }
    },
    {
      "cell_type": "code",
      "source": [
        "## 11th dataset\n",
        "high_index=y_train[y_train=='high'].index\n",
        "high_y_train=y_train[y_train=='high']\n",
        "high_x_train=X_train.loc[high_index]\n",
        "print(high_x_train.shape,high_y_train.shape)\n"
      ],
      "metadata": {
        "colab": {
          "base_uri": "https://localhost:8080/"
        },
        "id": "heGeOikfR-Td",
        "outputId": "e93cb170-54b3-4945-f3cf-ee3b70d8c432"
      },
      "execution_count": 50,
      "outputs": [
        {
          "output_type": "stream",
          "name": "stdout",
          "text": [
            "(35128, 30) (35128,)\n"
          ]
        }
      ]
    },
    {
      "cell_type": "code",
      "source": [
        "model_11=RandomForestClassifier()\n",
        "model_11.fit(high_x_train,high_y_train)"
      ],
      "metadata": {
        "colab": {
          "base_uri": "https://localhost:8080/"
        },
        "id": "EuuXDlfISSkK",
        "outputId": "5e68a31f-5519-4688-f6c9-cfc46ab6f622"
      },
      "execution_count": 51,
      "outputs": [
        {
          "output_type": "execute_result",
          "data": {
            "text/plain": [
              "RandomForestClassifier()"
            ]
          },
          "metadata": {},
          "execution_count": 51
        }
      ]
    },
    {
      "cell_type": "markdown",
      "source": [
        "## Voting Classifier"
      ],
      "metadata": {
        "id": "dyAvwR4LSj12"
      }
    },
    {
      "cell_type": "code",
      "source": [
        "pip install mlxtend  \n"
      ],
      "metadata": {
        "colab": {
          "base_uri": "https://localhost:8080/"
        },
        "id": "eXH75VLUUGYo",
        "outputId": "234781b1-c544-413b-b06a-1996b08a612b"
      },
      "execution_count": 52,
      "outputs": [
        {
          "output_type": "stream",
          "name": "stdout",
          "text": [
            "Looking in indexes: https://pypi.org/simple, https://us-python.pkg.dev/colab-wheels/public/simple/\n",
            "Requirement already satisfied: mlxtend in /usr/local/lib/python3.8/dist-packages (0.14.0)\n",
            "Requirement already satisfied: scipy>=0.17 in /usr/local/lib/python3.8/dist-packages (from mlxtend) (1.7.3)\n",
            "Requirement already satisfied: pandas>=0.17.1 in /usr/local/lib/python3.8/dist-packages (from mlxtend) (1.3.5)\n",
            "Requirement already satisfied: scikit-learn>=0.18 in /usr/local/lib/python3.8/dist-packages (from mlxtend) (1.0.2)\n",
            "Requirement already satisfied: numpy>=1.10.4 in /usr/local/lib/python3.8/dist-packages (from mlxtend) (1.21.6)\n",
            "Requirement already satisfied: setuptools in /usr/local/lib/python3.8/dist-packages (from mlxtend) (57.4.0)\n",
            "Requirement already satisfied: matplotlib>=1.5.1 in /usr/local/lib/python3.8/dist-packages (from mlxtend) (3.2.2)\n",
            "Requirement already satisfied: pyparsing!=2.0.4,!=2.1.2,!=2.1.6,>=2.0.1 in /usr/local/lib/python3.8/dist-packages (from matplotlib>=1.5.1->mlxtend) (3.0.9)\n",
            "Requirement already satisfied: python-dateutil>=2.1 in /usr/local/lib/python3.8/dist-packages (from matplotlib>=1.5.1->mlxtend) (2.8.2)\n",
            "Requirement already satisfied: kiwisolver>=1.0.1 in /usr/local/lib/python3.8/dist-packages (from matplotlib>=1.5.1->mlxtend) (1.4.4)\n",
            "Requirement already satisfied: cycler>=0.10 in /usr/local/lib/python3.8/dist-packages (from matplotlib>=1.5.1->mlxtend) (0.11.0)\n",
            "Requirement already satisfied: pytz>=2017.3 in /usr/local/lib/python3.8/dist-packages (from pandas>=0.17.1->mlxtend) (2022.7.1)\n",
            "Requirement already satisfied: threadpoolctl>=2.0.0 in /usr/local/lib/python3.8/dist-packages (from scikit-learn>=0.18->mlxtend) (3.1.0)\n",
            "Requirement already satisfied: joblib>=0.11 in /usr/local/lib/python3.8/dist-packages (from scikit-learn>=0.18->mlxtend) (1.2.0)\n",
            "Requirement already satisfied: six>=1.5 in /usr/local/lib/python3.8/dist-packages (from python-dateutil>=2.1->matplotlib>=1.5.1->mlxtend) (1.15.0)\n"
          ]
        }
      ]
    },
    {
      "cell_type": "code",
      "source": [
        "pip install mlxtend --upgrade --no-deps"
      ],
      "metadata": {
        "colab": {
          "base_uri": "https://localhost:8080/"
        },
        "id": "cEf6XZURDJ63",
        "outputId": "9107c970-e3b1-4b7b-8740-d3afc2bf4852"
      },
      "execution_count": 53,
      "outputs": [
        {
          "output_type": "stream",
          "name": "stdout",
          "text": [
            "Looking in indexes: https://pypi.org/simple, https://us-python.pkg.dev/colab-wheels/public/simple/\n",
            "Requirement already satisfied: mlxtend in /usr/local/lib/python3.8/dist-packages (0.14.0)\n",
            "Collecting mlxtend\n",
            "  Downloading mlxtend-0.21.0-py2.py3-none-any.whl (1.3 MB)\n",
            "\u001b[2K     \u001b[90m━━━━━━━━━━━━━━━━━━━━━━━━━━━━━━━━━━━━━━━━\u001b[0m \u001b[32m1.3/1.3 MB\u001b[0m \u001b[31m12.7 MB/s\u001b[0m eta \u001b[36m0:00:00\u001b[0m\n",
            "\u001b[?25hInstalling collected packages: mlxtend\n",
            "  Attempting uninstall: mlxtend\n",
            "    Found existing installation: mlxtend 0.14.0\n",
            "    Uninstalling mlxtend-0.14.0:\n",
            "      Successfully uninstalled mlxtend-0.14.0\n",
            "Successfully installed mlxtend-0.21.0\n"
          ]
        }
      ]
    },
    {
      "cell_type": "code",
      "source": [
        "# import six\n",
        "# import sys\n",
        "# sys.modules['sklearn.externals.six'] = six"
      ],
      "metadata": {
        "id": "_SkhzoQwCB5v"
      },
      "execution_count": 54,
      "outputs": []
    },
    {
      "cell_type": "code",
      "source": [
        "from mlxtend.classifier import EnsembleVoteClassifier\n",
        "import copy"
      ],
      "metadata": {
        "id": "SY0v1GFfVxSC"
      },
      "execution_count": 55,
      "outputs": []
    },
    {
      "cell_type": "code",
      "source": [
        "eclf = EnsembleVoteClassifier(clfs=[model_1,model_2,model_3,model_4,model_5],fit_base_estimators=False)\n"
      ],
      "metadata": {
        "id": "ZjpUko_dXOjA"
      },
      "execution_count": 56,
      "outputs": []
    },
    {
      "cell_type": "code",
      "source": [
        "eclf.fit(X_train,y_train)"
      ],
      "metadata": {
        "colab": {
          "base_uri": "https://localhost:8080/"
        },
        "id": "27ASigduXcd-",
        "outputId": "a5f9331c-2153-4f56-c2b2-fc424bcaf51f"
      },
      "execution_count": 57,
      "outputs": [
        {
          "output_type": "stream",
          "name": "stderr",
          "text": [
            "/usr/local/lib/python3.8/dist-packages/mlxtend/classifier/ensemble_vote.py:173: UserWarning: fit_base_estimators=False enforces use_clones to be `False`\n",
            "  warnings.warn(\n"
          ]
        },
        {
          "output_type": "execute_result",
          "data": {
            "text/plain": [
              "EnsembleVoteClassifier(clfs=[HistGradientBoostingClassifier(),\n",
              "                             HistGradientBoostingClassifier(),\n",
              "                             HistGradientBoostingClassifier(),\n",
              "                             HistGradientBoostingClassifier(),\n",
              "                             HistGradientBoostingClassifier()],\n",
              "                       fit_base_estimators=False, use_clones=False)"
            ]
          },
          "metadata": {},
          "execution_count": 57
        }
      ]
    },
    {
      "cell_type": "code",
      "source": [
        "y_pred_eclf=eclf.predict(X_test)"
      ],
      "metadata": {
        "id": "d3KY1RBpYC3_"
      },
      "execution_count": 58,
      "outputs": []
    },
    {
      "cell_type": "code",
      "source": [
        "print(classification_report(y_test,y_pred_eclf))"
      ],
      "metadata": {
        "colab": {
          "base_uri": "https://localhost:8080/"
        },
        "id": "kHJxUi0iYJsd",
        "outputId": "d5db0c3e-3b81-49c2-df54-71e97df7aef8"
      },
      "execution_count": 59,
      "outputs": [
        {
          "output_type": "stream",
          "name": "stdout",
          "text": [
            "              precision    recall  f1-score   support\n",
            "\n",
            "        high       0.63      0.48      0.54     14872\n",
            "         low       1.00      1.00      1.00    180212\n",
            "      medium       0.93      0.96      0.94    104916\n",
            "\n",
            "    accuracy                           0.96    300000\n",
            "   macro avg       0.85      0.81      0.83    300000\n",
            "weighted avg       0.96      0.96      0.96    300000\n",
            "\n"
          ]
        }
      ]
    },
    {
      "cell_type": "code",
      "source": [
        "eclf2= EnsembleVoteClassifier(clfs=[model_1,model_2,model_3,model_4,model_5,model_6,model_7,model_8,model_9,model_10],fit_base_estimators=False)\n"
      ],
      "metadata": {
        "id": "4Jucarb1HJBp"
      },
      "execution_count": 60,
      "outputs": []
    },
    {
      "cell_type": "code",
      "source": [
        "eclf2.fit(X_train,y_train)"
      ],
      "metadata": {
        "colab": {
          "base_uri": "https://localhost:8080/"
        },
        "id": "knpZWKYAJWzW",
        "outputId": "fae6ebfb-9613-449b-f725-c51bb6de4a80"
      },
      "execution_count": 61,
      "outputs": [
        {
          "output_type": "stream",
          "name": "stderr",
          "text": [
            "/usr/local/lib/python3.8/dist-packages/mlxtend/classifier/ensemble_vote.py:173: UserWarning: fit_base_estimators=False enforces use_clones to be `False`\n",
            "  warnings.warn(\n"
          ]
        },
        {
          "output_type": "execute_result",
          "data": {
            "text/plain": [
              "EnsembleVoteClassifier(clfs=[HistGradientBoostingClassifier(),\n",
              "                             HistGradientBoostingClassifier(),\n",
              "                             HistGradientBoostingClassifier(),\n",
              "                             HistGradientBoostingClassifier(),\n",
              "                             HistGradientBoostingClassifier(),\n",
              "                             RandomForestClassifier(), RandomForestClassifier(),\n",
              "                             RandomForestClassifier(), RandomForestClassifier(),\n",
              "                             RandomForestClassifier()],\n",
              "                       fit_base_estimators=False, use_clones=False)"
            ]
          },
          "metadata": {},
          "execution_count": 61
        }
      ]
    },
    {
      "cell_type": "code",
      "source": [
        "y_pred_eclf2=eclf2.predict(X_test)"
      ],
      "metadata": {
        "id": "ccdepGpBJaQ6"
      },
      "execution_count": 62,
      "outputs": []
    },
    {
      "cell_type": "code",
      "source": [
        "print(classification_report(y_test,y_pred_eclf2))"
      ],
      "metadata": {
        "colab": {
          "base_uri": "https://localhost:8080/"
        },
        "id": "61KfgBGcJecK",
        "outputId": "d2076da9-7d79-4810-992a-db0b1e811b4f"
      },
      "execution_count": 63,
      "outputs": [
        {
          "output_type": "stream",
          "name": "stdout",
          "text": [
            "              precision    recall  f1-score   support\n",
            "\n",
            "        high       0.60      0.53      0.56     14872\n",
            "         low       1.00      1.00      1.00    180212\n",
            "      medium       0.93      0.95      0.94    104916\n",
            "\n",
            "    accuracy                           0.96    300000\n",
            "   macro avg       0.85      0.83      0.83    300000\n",
            "weighted avg       0.96      0.96      0.96    300000\n",
            "\n"
          ]
        }
      ]
    },
    {
      "cell_type": "code",
      "source": [
        "model_7.feature_importances_"
      ],
      "metadata": {
        "colab": {
          "base_uri": "https://localhost:8080/"
        },
        "id": "nSkq-_O8Jgka",
        "outputId": "8fe4f016-c4f2-4c4f-9f8a-0d45a1417085"
      },
      "execution_count": 64,
      "outputs": [
        {
          "output_type": "execute_result",
          "data": {
            "text/plain": [
              "array([8.35907720e-04, 4.44564075e-04, 9.58847809e-03, 5.03782263e-02,\n",
              "       1.52304243e-02, 4.31734127e-02, 1.53443108e-02, 1.40813677e-01,\n",
              "       1.63070169e-02, 7.08373738e-02, 1.72460770e-02, 4.00749415e-02,\n",
              "       8.21745974e-02, 1.52815982e-02, 1.67091964e-02, 1.44969634e-01,\n",
              "       7.73126438e-02, 7.48538180e-02, 1.58231021e-01, 1.99208471e-03,\n",
              "       2.16103734e-03, 5.26496821e-04, 6.09338021e-04, 6.62628653e-04,\n",
              "       8.89558369e-05, 1.82255571e-03, 1.79537327e-03, 2.34336037e-04,\n",
              "       2.53438955e-04, 4.68353565e-05])"
            ]
          },
          "metadata": {},
          "execution_count": 64
        }
      ]
    },
    {
      "cell_type": "code",
      "source": [
        "model_7.feature_names_in_"
      ],
      "metadata": {
        "colab": {
          "base_uri": "https://localhost:8080/"
        },
        "id": "oV_2C4n_QJpC",
        "outputId": "ea5d1e40-273a-483f-eec7-4b043de02fdd"
      },
      "execution_count": 65,
      "outputs": [
        {
          "output_type": "execute_result",
          "data": {
            "text/plain": [
              "array(['RES_CNTRY_CA', 'CNTRY_OF_INCOME_CA', 'PEP_FL', 'CASH_SUM_IN',\n",
              "       'CASH_CNT_IN', 'CASH_SUM_OUT', 'CASH_CNT_OUT', 'WIRES_SUM_IN',\n",
              "       'WIRES_CNT_IN', 'WIRES_SUM_OUT', 'WIRES_CNT_OUT', 'cash_diff',\n",
              "       'wire_diff', 'cash_cnt_diff', 'wire_cnt_diff',\n",
              "       'avg_cash_transaction_out', 'avg_wire_transaction_out',\n",
              "       'avg_cash_transaction_in', 'avg_wire_transaction_in',\n",
              "       'OCPTN_NM_High', 'OCPTN_NM_Low', 'OCPTN_NM_Moderate',\n",
              "       'COUNTRY_RISK_RESIDENCY_High', 'COUNTRY_RISK_RESIDENCY_Low',\n",
              "       'COUNTRY_RISK_RESIDENCY_Moderate', 'GENDER_Female', 'GENDER_Male',\n",
              "       'COUNTRY_RISK_INCOME_High', 'COUNTRY_RISK_INCOME_Low',\n",
              "       'COUNTRY_RISK_INCOME_Moderate'], dtype=object)"
            ]
          },
          "metadata": {},
          "execution_count": 65
        }
      ]
    },
    {
      "cell_type": "code",
      "source": [
        "feature_importance=pd.DataFrame({'feature':model_7.feature_names_in_,'score':model_7.feature_importances_})"
      ],
      "metadata": {
        "id": "0XJjW8LAQoV2"
      },
      "execution_count": 66,
      "outputs": []
    },
    {
      "cell_type": "code",
      "source": [
        "feature_importance.sort_values(['score'],inplace=True,ascending=False)"
      ],
      "metadata": {
        "id": "2rDGNofiQX_y"
      },
      "execution_count": 67,
      "outputs": []
    },
    {
      "cell_type": "code",
      "source": [
        "feature_importance"
      ],
      "metadata": {
        "colab": {
          "base_uri": "https://localhost:8080/",
          "height": 990
        },
        "id": "rMwZdN7EQ7Cr",
        "outputId": "86d90b8a-a593-4b8b-d932-fff5e5df96ba"
      },
      "execution_count": 68,
      "outputs": [
        {
          "output_type": "execute_result",
          "data": {
            "text/plain": [
              "                            feature     score\n",
              "18          avg_wire_transaction_in  0.158231\n",
              "15         avg_cash_transaction_out  0.144970\n",
              "7                      WIRES_SUM_IN  0.140814\n",
              "12                        wire_diff  0.082175\n",
              "16         avg_wire_transaction_out  0.077313\n",
              "17          avg_cash_transaction_in  0.074854\n",
              "9                     WIRES_SUM_OUT  0.070837\n",
              "3                       CASH_SUM_IN  0.050378\n",
              "5                      CASH_SUM_OUT  0.043173\n",
              "11                        cash_diff  0.040075\n",
              "10                    WIRES_CNT_OUT  0.017246\n",
              "14                    wire_cnt_diff  0.016709\n",
              "8                      WIRES_CNT_IN  0.016307\n",
              "6                      CASH_CNT_OUT  0.015344\n",
              "13                    cash_cnt_diff  0.015282\n",
              "4                       CASH_CNT_IN  0.015230\n",
              "2                            PEP_FL  0.009588\n",
              "20                     OCPTN_NM_Low  0.002161\n",
              "19                    OCPTN_NM_High  0.001992\n",
              "25                    GENDER_Female  0.001823\n",
              "26                      GENDER_Male  0.001795\n",
              "0                      RES_CNTRY_CA  0.000836\n",
              "23       COUNTRY_RISK_RESIDENCY_Low  0.000663\n",
              "22      COUNTRY_RISK_RESIDENCY_High  0.000609\n",
              "21                OCPTN_NM_Moderate  0.000526\n",
              "1                CNTRY_OF_INCOME_CA  0.000445\n",
              "28          COUNTRY_RISK_INCOME_Low  0.000253\n",
              "27         COUNTRY_RISK_INCOME_High  0.000234\n",
              "24  COUNTRY_RISK_RESIDENCY_Moderate  0.000089\n",
              "29     COUNTRY_RISK_INCOME_Moderate  0.000047"
            ],
            "text/html": [
              "\n",
              "  <div id=\"df-c707e508-7064-4457-a571-69fc94cdaf80\">\n",
              "    <div class=\"colab-df-container\">\n",
              "      <div>\n",
              "<style scoped>\n",
              "    .dataframe tbody tr th:only-of-type {\n",
              "        vertical-align: middle;\n",
              "    }\n",
              "\n",
              "    .dataframe tbody tr th {\n",
              "        vertical-align: top;\n",
              "    }\n",
              "\n",
              "    .dataframe thead th {\n",
              "        text-align: right;\n",
              "    }\n",
              "</style>\n",
              "<table border=\"1\" class=\"dataframe\">\n",
              "  <thead>\n",
              "    <tr style=\"text-align: right;\">\n",
              "      <th></th>\n",
              "      <th>feature</th>\n",
              "      <th>score</th>\n",
              "    </tr>\n",
              "  </thead>\n",
              "  <tbody>\n",
              "    <tr>\n",
              "      <th>18</th>\n",
              "      <td>avg_wire_transaction_in</td>\n",
              "      <td>0.158231</td>\n",
              "    </tr>\n",
              "    <tr>\n",
              "      <th>15</th>\n",
              "      <td>avg_cash_transaction_out</td>\n",
              "      <td>0.144970</td>\n",
              "    </tr>\n",
              "    <tr>\n",
              "      <th>7</th>\n",
              "      <td>WIRES_SUM_IN</td>\n",
              "      <td>0.140814</td>\n",
              "    </tr>\n",
              "    <tr>\n",
              "      <th>12</th>\n",
              "      <td>wire_diff</td>\n",
              "      <td>0.082175</td>\n",
              "    </tr>\n",
              "    <tr>\n",
              "      <th>16</th>\n",
              "      <td>avg_wire_transaction_out</td>\n",
              "      <td>0.077313</td>\n",
              "    </tr>\n",
              "    <tr>\n",
              "      <th>17</th>\n",
              "      <td>avg_cash_transaction_in</td>\n",
              "      <td>0.074854</td>\n",
              "    </tr>\n",
              "    <tr>\n",
              "      <th>9</th>\n",
              "      <td>WIRES_SUM_OUT</td>\n",
              "      <td>0.070837</td>\n",
              "    </tr>\n",
              "    <tr>\n",
              "      <th>3</th>\n",
              "      <td>CASH_SUM_IN</td>\n",
              "      <td>0.050378</td>\n",
              "    </tr>\n",
              "    <tr>\n",
              "      <th>5</th>\n",
              "      <td>CASH_SUM_OUT</td>\n",
              "      <td>0.043173</td>\n",
              "    </tr>\n",
              "    <tr>\n",
              "      <th>11</th>\n",
              "      <td>cash_diff</td>\n",
              "      <td>0.040075</td>\n",
              "    </tr>\n",
              "    <tr>\n",
              "      <th>10</th>\n",
              "      <td>WIRES_CNT_OUT</td>\n",
              "      <td>0.017246</td>\n",
              "    </tr>\n",
              "    <tr>\n",
              "      <th>14</th>\n",
              "      <td>wire_cnt_diff</td>\n",
              "      <td>0.016709</td>\n",
              "    </tr>\n",
              "    <tr>\n",
              "      <th>8</th>\n",
              "      <td>WIRES_CNT_IN</td>\n",
              "      <td>0.016307</td>\n",
              "    </tr>\n",
              "    <tr>\n",
              "      <th>6</th>\n",
              "      <td>CASH_CNT_OUT</td>\n",
              "      <td>0.015344</td>\n",
              "    </tr>\n",
              "    <tr>\n",
              "      <th>13</th>\n",
              "      <td>cash_cnt_diff</td>\n",
              "      <td>0.015282</td>\n",
              "    </tr>\n",
              "    <tr>\n",
              "      <th>4</th>\n",
              "      <td>CASH_CNT_IN</td>\n",
              "      <td>0.015230</td>\n",
              "    </tr>\n",
              "    <tr>\n",
              "      <th>2</th>\n",
              "      <td>PEP_FL</td>\n",
              "      <td>0.009588</td>\n",
              "    </tr>\n",
              "    <tr>\n",
              "      <th>20</th>\n",
              "      <td>OCPTN_NM_Low</td>\n",
              "      <td>0.002161</td>\n",
              "    </tr>\n",
              "    <tr>\n",
              "      <th>19</th>\n",
              "      <td>OCPTN_NM_High</td>\n",
              "      <td>0.001992</td>\n",
              "    </tr>\n",
              "    <tr>\n",
              "      <th>25</th>\n",
              "      <td>GENDER_Female</td>\n",
              "      <td>0.001823</td>\n",
              "    </tr>\n",
              "    <tr>\n",
              "      <th>26</th>\n",
              "      <td>GENDER_Male</td>\n",
              "      <td>0.001795</td>\n",
              "    </tr>\n",
              "    <tr>\n",
              "      <th>0</th>\n",
              "      <td>RES_CNTRY_CA</td>\n",
              "      <td>0.000836</td>\n",
              "    </tr>\n",
              "    <tr>\n",
              "      <th>23</th>\n",
              "      <td>COUNTRY_RISK_RESIDENCY_Low</td>\n",
              "      <td>0.000663</td>\n",
              "    </tr>\n",
              "    <tr>\n",
              "      <th>22</th>\n",
              "      <td>COUNTRY_RISK_RESIDENCY_High</td>\n",
              "      <td>0.000609</td>\n",
              "    </tr>\n",
              "    <tr>\n",
              "      <th>21</th>\n",
              "      <td>OCPTN_NM_Moderate</td>\n",
              "      <td>0.000526</td>\n",
              "    </tr>\n",
              "    <tr>\n",
              "      <th>1</th>\n",
              "      <td>CNTRY_OF_INCOME_CA</td>\n",
              "      <td>0.000445</td>\n",
              "    </tr>\n",
              "    <tr>\n",
              "      <th>28</th>\n",
              "      <td>COUNTRY_RISK_INCOME_Low</td>\n",
              "      <td>0.000253</td>\n",
              "    </tr>\n",
              "    <tr>\n",
              "      <th>27</th>\n",
              "      <td>COUNTRY_RISK_INCOME_High</td>\n",
              "      <td>0.000234</td>\n",
              "    </tr>\n",
              "    <tr>\n",
              "      <th>24</th>\n",
              "      <td>COUNTRY_RISK_RESIDENCY_Moderate</td>\n",
              "      <td>0.000089</td>\n",
              "    </tr>\n",
              "    <tr>\n",
              "      <th>29</th>\n",
              "      <td>COUNTRY_RISK_INCOME_Moderate</td>\n",
              "      <td>0.000047</td>\n",
              "    </tr>\n",
              "  </tbody>\n",
              "</table>\n",
              "</div>\n",
              "      <button class=\"colab-df-convert\" onclick=\"convertToInteractive('df-c707e508-7064-4457-a571-69fc94cdaf80')\"\n",
              "              title=\"Convert this dataframe to an interactive table.\"\n",
              "              style=\"display:none;\">\n",
              "        \n",
              "  <svg xmlns=\"http://www.w3.org/2000/svg\" height=\"24px\"viewBox=\"0 0 24 24\"\n",
              "       width=\"24px\">\n",
              "    <path d=\"M0 0h24v24H0V0z\" fill=\"none\"/>\n",
              "    <path d=\"M18.56 5.44l.94 2.06.94-2.06 2.06-.94-2.06-.94-.94-2.06-.94 2.06-2.06.94zm-11 1L8.5 8.5l.94-2.06 2.06-.94-2.06-.94L8.5 2.5l-.94 2.06-2.06.94zm10 10l.94 2.06.94-2.06 2.06-.94-2.06-.94-.94-2.06-.94 2.06-2.06.94z\"/><path d=\"M17.41 7.96l-1.37-1.37c-.4-.4-.92-.59-1.43-.59-.52 0-1.04.2-1.43.59L10.3 9.45l-7.72 7.72c-.78.78-.78 2.05 0 2.83L4 21.41c.39.39.9.59 1.41.59.51 0 1.02-.2 1.41-.59l7.78-7.78 2.81-2.81c.8-.78.8-2.07 0-2.86zM5.41 20L4 18.59l7.72-7.72 1.47 1.35L5.41 20z\"/>\n",
              "  </svg>\n",
              "      </button>\n",
              "      \n",
              "  <style>\n",
              "    .colab-df-container {\n",
              "      display:flex;\n",
              "      flex-wrap:wrap;\n",
              "      gap: 12px;\n",
              "    }\n",
              "\n",
              "    .colab-df-convert {\n",
              "      background-color: #E8F0FE;\n",
              "      border: none;\n",
              "      border-radius: 50%;\n",
              "      cursor: pointer;\n",
              "      display: none;\n",
              "      fill: #1967D2;\n",
              "      height: 32px;\n",
              "      padding: 0 0 0 0;\n",
              "      width: 32px;\n",
              "    }\n",
              "\n",
              "    .colab-df-convert:hover {\n",
              "      background-color: #E2EBFA;\n",
              "      box-shadow: 0px 1px 2px rgba(60, 64, 67, 0.3), 0px 1px 3px 1px rgba(60, 64, 67, 0.15);\n",
              "      fill: #174EA6;\n",
              "    }\n",
              "\n",
              "    [theme=dark] .colab-df-convert {\n",
              "      background-color: #3B4455;\n",
              "      fill: #D2E3FC;\n",
              "    }\n",
              "\n",
              "    [theme=dark] .colab-df-convert:hover {\n",
              "      background-color: #434B5C;\n",
              "      box-shadow: 0px 1px 3px 1px rgba(0, 0, 0, 0.15);\n",
              "      filter: drop-shadow(0px 1px 2px rgba(0, 0, 0, 0.3));\n",
              "      fill: #FFFFFF;\n",
              "    }\n",
              "  </style>\n",
              "\n",
              "      <script>\n",
              "        const buttonEl =\n",
              "          document.querySelector('#df-c707e508-7064-4457-a571-69fc94cdaf80 button.colab-df-convert');\n",
              "        buttonEl.style.display =\n",
              "          google.colab.kernel.accessAllowed ? 'block' : 'none';\n",
              "\n",
              "        async function convertToInteractive(key) {\n",
              "          const element = document.querySelector('#df-c707e508-7064-4457-a571-69fc94cdaf80');\n",
              "          const dataTable =\n",
              "            await google.colab.kernel.invokeFunction('convertToInteractive',\n",
              "                                                     [key], {});\n",
              "          if (!dataTable) return;\n",
              "\n",
              "          const docLinkHtml = 'Like what you see? Visit the ' +\n",
              "            '<a target=\"_blank\" href=https://colab.research.google.com/notebooks/data_table.ipynb>data table notebook</a>'\n",
              "            + ' to learn more about interactive tables.';\n",
              "          element.innerHTML = '';\n",
              "          dataTable['output_type'] = 'display_data';\n",
              "          await google.colab.output.renderOutput(dataTable, element);\n",
              "          const docLink = document.createElement('div');\n",
              "          docLink.innerHTML = docLinkHtml;\n",
              "          element.appendChild(docLink);\n",
              "        }\n",
              "      </script>\n",
              "    </div>\n",
              "  </div>\n",
              "  "
            ]
          },
          "metadata": {},
          "execution_count": 68
        }
      ]
    },
    {
      "cell_type": "code",
      "source": [
        "eclf3= EnsembleVoteClassifier(clfs=[model_1,model_2,model_3,model_4,model_5,model_6,model_7,model_8,model_9,model_10,model_11],fit_base_estimators=False)\n"
      ],
      "metadata": {
        "id": "hDHBkgpSRFy5"
      },
      "execution_count": 69,
      "outputs": []
    },
    {
      "cell_type": "code",
      "source": [
        "eclf3.fit(X_train,y_train)"
      ],
      "metadata": {
        "colab": {
          "base_uri": "https://localhost:8080/"
        },
        "id": "elZHzx9gSnle",
        "outputId": "049217fc-95a6-4c45-b9f4-e643622b1c5e"
      },
      "execution_count": 70,
      "outputs": [
        {
          "output_type": "stream",
          "name": "stderr",
          "text": [
            "/usr/local/lib/python3.8/dist-packages/mlxtend/classifier/ensemble_vote.py:173: UserWarning: fit_base_estimators=False enforces use_clones to be `False`\n",
            "  warnings.warn(\n"
          ]
        },
        {
          "output_type": "execute_result",
          "data": {
            "text/plain": [
              "EnsembleVoteClassifier(clfs=[HistGradientBoostingClassifier(),\n",
              "                             HistGradientBoostingClassifier(),\n",
              "                             HistGradientBoostingClassifier(),\n",
              "                             HistGradientBoostingClassifier(),\n",
              "                             HistGradientBoostingClassifier(),\n",
              "                             RandomForestClassifier(), RandomForestClassifier(),\n",
              "                             RandomForestClassifier(), RandomForestClassifier(),\n",
              "                             RandomForestClassifier(),\n",
              "                             RandomForestClassifier()],\n",
              "                       fit_base_estimators=False, use_clones=False)"
            ]
          },
          "metadata": {},
          "execution_count": 70
        }
      ]
    },
    {
      "cell_type": "code",
      "source": [
        "y_pred_eclf3=eclf3.predict(X_test)"
      ],
      "metadata": {
        "id": "TS1eUWMGSfIm"
      },
      "execution_count": 71,
      "outputs": []
    },
    {
      "cell_type": "code",
      "source": [
        "print(classification_report(y_test,y_pred_eclf3))"
      ],
      "metadata": {
        "colab": {
          "base_uri": "https://localhost:8080/"
        },
        "id": "Rxc-p8gaSmrM",
        "outputId": "d436ed14-ea75-4701-a55f-a0a4a4c1c9cd"
      },
      "execution_count": 72,
      "outputs": [
        {
          "output_type": "stream",
          "name": "stdout",
          "text": [
            "              precision    recall  f1-score   support\n",
            "\n",
            "        high       0.60      0.53      0.56     14872\n",
            "         low       1.00      1.00      1.00    180212\n",
            "      medium       0.93      0.95      0.94    104916\n",
            "\n",
            "    accuracy                           0.96    300000\n",
            "   macro avg       0.85      0.83      0.83    300000\n",
            "weighted avg       0.96      0.96      0.96    300000\n",
            "\n"
          ]
        }
      ]
    },
    {
      "cell_type": "code",
      "source": [],
      "metadata": {
        "id": "HC3iMO0aSyqh"
      },
      "execution_count": 72,
      "outputs": []
    }
  ]
}