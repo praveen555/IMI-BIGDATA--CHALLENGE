{
  "cells": [
    {
      "cell_type": "code",
      "execution_count": 1,
      "metadata": {
        "id": "QtdwjCEsCWgP"
      },
      "outputs": [],
      "source": [
        "import pandas as pd\n",
        "import numpy as np\n",
        "from sklearn.model_selection import train_test_split\n",
        "from sklearn.linear_model import *\n",
        "from sklearn.ensemble import *\n",
        "from sklearn.metrics import *"
      ]
    },
    {
      "cell_type": "code",
      "execution_count": 2,
      "metadata": {
        "id": "68Q0rdC703r7"
      },
      "outputs": [],
      "source": [
        "#np.random.seed(0) #Set to compare the difference across various experiements and reproduce the same results."
      ]
    },
    {
      "cell_type": "code",
      "execution_count": 3,
      "metadata": {
        "id": "_XbNiw8bClfv"
      },
      "outputs": [],
      "source": [
        "data=pd.read_csv('UofT_nodes.csv',\n",
        "                 parse_dates=['BIRTH_DT','CUST_ADD_DT'])"
      ]
    },
    {
      "cell_type": "markdown",
      "source": [
        "# Drop Nan\n",
        "Note- I also tried filling it with mean however there were no changes. "
      ],
      "metadata": {
        "id": "7JFuqJIG1MGP"
      }
    },
    {
      "cell_type": "code",
      "source": [
        "data.dropna(inplace=True,axis=0)"
      ],
      "metadata": {
        "id": "QT7zCwgfzXT-"
      },
      "execution_count": 4,
      "outputs": []
    },
    {
      "cell_type": "code",
      "execution_count": 5,
      "metadata": {
        "id": "23uOmxjJsF-M"
      },
      "outputs": [],
      "source": [
        "col=['CASH_CNT_IN','CASH_SUM_OUT','CASH_SUM_IN','CASH_CNT_OUT', 'WIRES_SUM_IN', 'WIRES_CNT_IN',\n",
        "       'WIRES_SUM_OUT', 'WIRES_CNT_OUT']"
      ]
    },
    {
      "cell_type": "code",
      "execution_count": 6,
      "metadata": {
        "id": "F4repCKJwbNs"
      },
      "outputs": [],
      "source": [
        "# ## Some the features have 0 and give inf or Nan when we divide\n",
        "for i in col:\n",
        "  data[i]=data[i]+1"
      ]
    },
    {
      "cell_type": "markdown",
      "source": [
        "## Some generic ideas to generate cash flow of person based on intuition ideas such as  \n",
        "\n",
        "\n",
        "1.   Wired amount per month is exceedlingly high.\n",
        "2.   Large deposits in cash/wire every transaction. \n",
        "3. Any regular pattern per month in wire in/out of money. \n",
        "etc. etc.\n",
        "4. Trying to send more money than money being recevied. \n",
        "5. Financial fraud age group could be committed by people within age groups between 25-40. (etc)\n",
        "\n",
        "Precision only improved by 0.02 from original score without these features. \n",
        "\n",
        "- Recall- precision inverse relationship. \n",
        "- new features could improve both these socres. \n",
        "\n"
      ],
      "metadata": {
        "id": "lsy2upZE1WPK"
      }
    },
    {
      "cell_type": "code",
      "execution_count": 7,
      "metadata": {
        "id": "gBAdcsWnODIg"
      },
      "outputs": [],
      "source": [
        "data['cash_diff']=data['CASH_SUM_IN']-data['CASH_SUM_OUT']\n",
        "data['wire_diff']=data['WIRES_SUM_IN']-data['WIRES_SUM_OUT']\n",
        "data['cash_cnt_diff']=data['CASH_CNT_IN']-data['CASH_CNT_OUT']\n",
        "data['wire_cnt_diff']=data['WIRES_CNT_IN']-data['WIRES_CNT_OUT']\n",
        "data['avg_cash_transaction_out']=data['CASH_SUM_OUT']/data['CASH_CNT_OUT']\n",
        "data['avg_wire_transaction_out']=data['WIRES_SUM_OUT']/data['WIRES_CNT_OUT']\n",
        "data['avg_cash_transaction_in']=data['CASH_SUM_IN']/data['CASH_CNT_IN']\n",
        "data['avg_wire_transaction_in']=data['WIRES_SUM_IN']/data['WIRES_CNT_IN']\n",
        "data['monthly_cash_in']=data['CASH_SUM_IN']/12\n",
        "data['monthly_cash_out']=data['CASH_SUM_OUT']/12\n",
        "data['monthly_wire_in']=data['WIRES_SUM_IN']/12\n",
        "data['monthly_wire_out']=data['WIRES_SUM_OUT']/12\n",
        "data['diff_year']=data['CUST_ADD_DT'].dt.year-data['BIRTH_DT'].dt.year\n",
        "data['age']=2023-data['BIRTH_DT'].dt.year\n",
        "data['cust_age_bank']=2023-data['CUST_ADD_DT'].dt.year\n",
        "data['total_money_left']=data['CASH_SUM_IN']+data['WIRES_SUM_IN']-data['CASH_SUM_OUT']-data['WIRES_SUM_OUT']"
      ]
    },
    {
      "cell_type": "code",
      "source": [
        "data.isna().sum()"
      ],
      "metadata": {
        "colab": {
          "base_uri": "https://localhost:8080/"
        },
        "id": "hOYuEKjZzwDg",
        "outputId": "0a998dbe-5bc6-4937-beeb-bf51833c35b5"
      },
      "execution_count": 8,
      "outputs": [
        {
          "output_type": "execute_result",
          "data": {
            "text/plain": [
              "BIRTH_DT                    0\n",
              "CUST_ADD_DT                 0\n",
              "OCPTN_NM                    0\n",
              "RES_CNTRY_CA                0\n",
              "CNTRY_OF_INCOME_CA          0\n",
              "PEP_FL                      0\n",
              "CASH_SUM_IN                 0\n",
              "CASH_CNT_IN                 0\n",
              "CASH_SUM_OUT                0\n",
              "CASH_CNT_OUT                0\n",
              "WIRES_SUM_IN                0\n",
              "WIRES_CNT_IN                0\n",
              "WIRES_SUM_OUT               0\n",
              "WIRES_CNT_OUT               0\n",
              "COUNTRY_RISK_INCOME         0\n",
              "COUNTRY_RISK_RESIDENCY      0\n",
              "RISK                        0\n",
              "NAME                        0\n",
              "GENDER                      0\n",
              "CUSTOMER_ID                 0\n",
              "cash_diff                   0\n",
              "wire_diff                   0\n",
              "cash_cnt_diff               0\n",
              "wire_cnt_diff               0\n",
              "avg_cash_transaction_out    0\n",
              "avg_wire_transaction_out    0\n",
              "avg_cash_transaction_in     0\n",
              "avg_wire_transaction_in     0\n",
              "monthly_cash_in             0\n",
              "monthly_cash_out            0\n",
              "monthly_wire_in             0\n",
              "monthly_wire_out            0\n",
              "diff_year                   0\n",
              "age                         0\n",
              "cust_age_bank               0\n",
              "total_money_left            0\n",
              "dtype: int64"
            ]
          },
          "metadata": {},
          "execution_count": 8
        }
      ]
    },
    {
      "cell_type": "code",
      "source": [
        "data.head()"
      ],
      "metadata": {
        "colab": {
          "base_uri": "https://localhost:8080/",
          "height": 386
        },
        "id": "zh8vPH0WbPVb",
        "outputId": "455f5ea5-7b6f-47b7-e59d-359eb3277482"
      },
      "execution_count": 9,
      "outputs": [
        {
          "output_type": "execute_result",
          "data": {
            "text/plain": [
              "    BIRTH_DT CUST_ADD_DT  OCPTN_NM  RES_CNTRY_CA  CNTRY_OF_INCOME_CA  PEP_FL  \\\n",
              "0 1981-09-01  2007-07-05      89.0             1                   1     0.0   \n",
              "1 1994-02-21  2019-05-19      89.0             1                   1     0.0   \n",
              "2 1962-11-16  2011-08-02      89.0             1                   1     0.0   \n",
              "3 1998-06-20  2001-08-15      89.0             1                   1     0.0   \n",
              "4 1942-01-24  2012-10-28      89.0             1                   1     0.0   \n",
              "\n",
              "   CASH_SUM_IN  CASH_CNT_IN  CASH_SUM_OUT  CASH_CNT_OUT  ...  \\\n",
              "0     2578.785          3.0      2852.663           8.0  ...   \n",
              "1     3036.502          3.0      4806.997          16.0  ...   \n",
              "2     1618.571          2.0      3483.809          12.0  ...   \n",
              "3     3588.042          6.0      1941.943           9.0  ...   \n",
              "4     1726.524          3.0     13198.169          44.0  ...   \n",
              "\n",
              "   avg_cash_transaction_in  avg_wire_transaction_in  monthly_cash_in  \\\n",
              "0               859.595000              1123.412698       214.898750   \n",
              "1              1012.167333              3674.415584       253.041833   \n",
              "2               809.285500              1090.428571       134.880917   \n",
              "3               598.007000              2072.972222       299.003500   \n",
              "4               575.508000               951.742268       143.877000   \n",
              "\n",
              "   monthly_cash_out monthly_wire_in monthly_wire_out diff_year age  \\\n",
              "0        237.721917     5897.916667      2020.416667        26  42   \n",
              "1        400.583083    23577.500000     16370.000000        25  29   \n",
              "2        290.317417      636.083333      2799.916667        49  61   \n",
              "3        161.828583    12437.833333      8824.750000         3  25   \n",
              "4       1099.847417     7693.250000     15617.000000        70  81   \n",
              "\n",
              "  cust_age_bank  total_money_left  \n",
              "0            16         46256.122  \n",
              "1             4         84719.505  \n",
              "2            12        -27831.238  \n",
              "3            22         45003.099  \n",
              "4            11       -106556.645  \n",
              "\n",
              "[5 rows x 36 columns]"
            ],
            "text/html": [
              "\n",
              "  <div id=\"df-ecb76fad-a473-4f5f-96b8-e4b3170f08e3\">\n",
              "    <div class=\"colab-df-container\">\n",
              "      <div>\n",
              "<style scoped>\n",
              "    .dataframe tbody tr th:only-of-type {\n",
              "        vertical-align: middle;\n",
              "    }\n",
              "\n",
              "    .dataframe tbody tr th {\n",
              "        vertical-align: top;\n",
              "    }\n",
              "\n",
              "    .dataframe thead th {\n",
              "        text-align: right;\n",
              "    }\n",
              "</style>\n",
              "<table border=\"1\" class=\"dataframe\">\n",
              "  <thead>\n",
              "    <tr style=\"text-align: right;\">\n",
              "      <th></th>\n",
              "      <th>BIRTH_DT</th>\n",
              "      <th>CUST_ADD_DT</th>\n",
              "      <th>OCPTN_NM</th>\n",
              "      <th>RES_CNTRY_CA</th>\n",
              "      <th>CNTRY_OF_INCOME_CA</th>\n",
              "      <th>PEP_FL</th>\n",
              "      <th>CASH_SUM_IN</th>\n",
              "      <th>CASH_CNT_IN</th>\n",
              "      <th>CASH_SUM_OUT</th>\n",
              "      <th>CASH_CNT_OUT</th>\n",
              "      <th>...</th>\n",
              "      <th>avg_cash_transaction_in</th>\n",
              "      <th>avg_wire_transaction_in</th>\n",
              "      <th>monthly_cash_in</th>\n",
              "      <th>monthly_cash_out</th>\n",
              "      <th>monthly_wire_in</th>\n",
              "      <th>monthly_wire_out</th>\n",
              "      <th>diff_year</th>\n",
              "      <th>age</th>\n",
              "      <th>cust_age_bank</th>\n",
              "      <th>total_money_left</th>\n",
              "    </tr>\n",
              "  </thead>\n",
              "  <tbody>\n",
              "    <tr>\n",
              "      <th>0</th>\n",
              "      <td>1981-09-01</td>\n",
              "      <td>2007-07-05</td>\n",
              "      <td>89.0</td>\n",
              "      <td>1</td>\n",
              "      <td>1</td>\n",
              "      <td>0.0</td>\n",
              "      <td>2578.785</td>\n",
              "      <td>3.0</td>\n",
              "      <td>2852.663</td>\n",
              "      <td>8.0</td>\n",
              "      <td>...</td>\n",
              "      <td>859.595000</td>\n",
              "      <td>1123.412698</td>\n",
              "      <td>214.898750</td>\n",
              "      <td>237.721917</td>\n",
              "      <td>5897.916667</td>\n",
              "      <td>2020.416667</td>\n",
              "      <td>26</td>\n",
              "      <td>42</td>\n",
              "      <td>16</td>\n",
              "      <td>46256.122</td>\n",
              "    </tr>\n",
              "    <tr>\n",
              "      <th>1</th>\n",
              "      <td>1994-02-21</td>\n",
              "      <td>2019-05-19</td>\n",
              "      <td>89.0</td>\n",
              "      <td>1</td>\n",
              "      <td>1</td>\n",
              "      <td>0.0</td>\n",
              "      <td>3036.502</td>\n",
              "      <td>3.0</td>\n",
              "      <td>4806.997</td>\n",
              "      <td>16.0</td>\n",
              "      <td>...</td>\n",
              "      <td>1012.167333</td>\n",
              "      <td>3674.415584</td>\n",
              "      <td>253.041833</td>\n",
              "      <td>400.583083</td>\n",
              "      <td>23577.500000</td>\n",
              "      <td>16370.000000</td>\n",
              "      <td>25</td>\n",
              "      <td>29</td>\n",
              "      <td>4</td>\n",
              "      <td>84719.505</td>\n",
              "    </tr>\n",
              "    <tr>\n",
              "      <th>2</th>\n",
              "      <td>1962-11-16</td>\n",
              "      <td>2011-08-02</td>\n",
              "      <td>89.0</td>\n",
              "      <td>1</td>\n",
              "      <td>1</td>\n",
              "      <td>0.0</td>\n",
              "      <td>1618.571</td>\n",
              "      <td>2.0</td>\n",
              "      <td>3483.809</td>\n",
              "      <td>12.0</td>\n",
              "      <td>...</td>\n",
              "      <td>809.285500</td>\n",
              "      <td>1090.428571</td>\n",
              "      <td>134.880917</td>\n",
              "      <td>290.317417</td>\n",
              "      <td>636.083333</td>\n",
              "      <td>2799.916667</td>\n",
              "      <td>49</td>\n",
              "      <td>61</td>\n",
              "      <td>12</td>\n",
              "      <td>-27831.238</td>\n",
              "    </tr>\n",
              "    <tr>\n",
              "      <th>3</th>\n",
              "      <td>1998-06-20</td>\n",
              "      <td>2001-08-15</td>\n",
              "      <td>89.0</td>\n",
              "      <td>1</td>\n",
              "      <td>1</td>\n",
              "      <td>0.0</td>\n",
              "      <td>3588.042</td>\n",
              "      <td>6.0</td>\n",
              "      <td>1941.943</td>\n",
              "      <td>9.0</td>\n",
              "      <td>...</td>\n",
              "      <td>598.007000</td>\n",
              "      <td>2072.972222</td>\n",
              "      <td>299.003500</td>\n",
              "      <td>161.828583</td>\n",
              "      <td>12437.833333</td>\n",
              "      <td>8824.750000</td>\n",
              "      <td>3</td>\n",
              "      <td>25</td>\n",
              "      <td>22</td>\n",
              "      <td>45003.099</td>\n",
              "    </tr>\n",
              "    <tr>\n",
              "      <th>4</th>\n",
              "      <td>1942-01-24</td>\n",
              "      <td>2012-10-28</td>\n",
              "      <td>89.0</td>\n",
              "      <td>1</td>\n",
              "      <td>1</td>\n",
              "      <td>0.0</td>\n",
              "      <td>1726.524</td>\n",
              "      <td>3.0</td>\n",
              "      <td>13198.169</td>\n",
              "      <td>44.0</td>\n",
              "      <td>...</td>\n",
              "      <td>575.508000</td>\n",
              "      <td>951.742268</td>\n",
              "      <td>143.877000</td>\n",
              "      <td>1099.847417</td>\n",
              "      <td>7693.250000</td>\n",
              "      <td>15617.000000</td>\n",
              "      <td>70</td>\n",
              "      <td>81</td>\n",
              "      <td>11</td>\n",
              "      <td>-106556.645</td>\n",
              "    </tr>\n",
              "  </tbody>\n",
              "</table>\n",
              "<p>5 rows × 36 columns</p>\n",
              "</div>\n",
              "      <button class=\"colab-df-convert\" onclick=\"convertToInteractive('df-ecb76fad-a473-4f5f-96b8-e4b3170f08e3')\"\n",
              "              title=\"Convert this dataframe to an interactive table.\"\n",
              "              style=\"display:none;\">\n",
              "        \n",
              "  <svg xmlns=\"http://www.w3.org/2000/svg\" height=\"24px\"viewBox=\"0 0 24 24\"\n",
              "       width=\"24px\">\n",
              "    <path d=\"M0 0h24v24H0V0z\" fill=\"none\"/>\n",
              "    <path d=\"M18.56 5.44l.94 2.06.94-2.06 2.06-.94-2.06-.94-.94-2.06-.94 2.06-2.06.94zm-11 1L8.5 8.5l.94-2.06 2.06-.94-2.06-.94L8.5 2.5l-.94 2.06-2.06.94zm10 10l.94 2.06.94-2.06 2.06-.94-2.06-.94-.94-2.06-.94 2.06-2.06.94z\"/><path d=\"M17.41 7.96l-1.37-1.37c-.4-.4-.92-.59-1.43-.59-.52 0-1.04.2-1.43.59L10.3 9.45l-7.72 7.72c-.78.78-.78 2.05 0 2.83L4 21.41c.39.39.9.59 1.41.59.51 0 1.02-.2 1.41-.59l7.78-7.78 2.81-2.81c.8-.78.8-2.07 0-2.86zM5.41 20L4 18.59l7.72-7.72 1.47 1.35L5.41 20z\"/>\n",
              "  </svg>\n",
              "      </button>\n",
              "      \n",
              "  <style>\n",
              "    .colab-df-container {\n",
              "      display:flex;\n",
              "      flex-wrap:wrap;\n",
              "      gap: 12px;\n",
              "    }\n",
              "\n",
              "    .colab-df-convert {\n",
              "      background-color: #E8F0FE;\n",
              "      border: none;\n",
              "      border-radius: 50%;\n",
              "      cursor: pointer;\n",
              "      display: none;\n",
              "      fill: #1967D2;\n",
              "      height: 32px;\n",
              "      padding: 0 0 0 0;\n",
              "      width: 32px;\n",
              "    }\n",
              "\n",
              "    .colab-df-convert:hover {\n",
              "      background-color: #E2EBFA;\n",
              "      box-shadow: 0px 1px 2px rgba(60, 64, 67, 0.3), 0px 1px 3px 1px rgba(60, 64, 67, 0.15);\n",
              "      fill: #174EA6;\n",
              "    }\n",
              "\n",
              "    [theme=dark] .colab-df-convert {\n",
              "      background-color: #3B4455;\n",
              "      fill: #D2E3FC;\n",
              "    }\n",
              "\n",
              "    [theme=dark] .colab-df-convert:hover {\n",
              "      background-color: #434B5C;\n",
              "      box-shadow: 0px 1px 3px 1px rgba(0, 0, 0, 0.15);\n",
              "      filter: drop-shadow(0px 1px 2px rgba(0, 0, 0, 0.3));\n",
              "      fill: #FFFFFF;\n",
              "    }\n",
              "  </style>\n",
              "\n",
              "      <script>\n",
              "        const buttonEl =\n",
              "          document.querySelector('#df-ecb76fad-a473-4f5f-96b8-e4b3170f08e3 button.colab-df-convert');\n",
              "        buttonEl.style.display =\n",
              "          google.colab.kernel.accessAllowed ? 'block' : 'none';\n",
              "\n",
              "        async function convertToInteractive(key) {\n",
              "          const element = document.querySelector('#df-ecb76fad-a473-4f5f-96b8-e4b3170f08e3');\n",
              "          const dataTable =\n",
              "            await google.colab.kernel.invokeFunction('convertToInteractive',\n",
              "                                                     [key], {});\n",
              "          if (!dataTable) return;\n",
              "\n",
              "          const docLinkHtml = 'Like what you see? Visit the ' +\n",
              "            '<a target=\"_blank\" href=https://colab.research.google.com/notebooks/data_table.ipynb>data table notebook</a>'\n",
              "            + ' to learn more about interactive tables.';\n",
              "          element.innerHTML = '';\n",
              "          dataTable['output_type'] = 'display_data';\n",
              "          await google.colab.output.renderOutput(dataTable, element);\n",
              "          const docLink = document.createElement('div');\n",
              "          docLink.innerHTML = docLinkHtml;\n",
              "          element.appendChild(docLink);\n",
              "        }\n",
              "      </script>\n",
              "    </div>\n",
              "  </div>\n",
              "  "
            ]
          },
          "metadata": {},
          "execution_count": 9
        }
      ]
    },
    {
      "cell_type": "code",
      "execution_count": 10,
      "metadata": {
        "colab": {
          "base_uri": "https://localhost:8080/"
        },
        "id": "CMNfPuJWD3cG",
        "outputId": "e2abca93-7dae-4f3b-a98b-50ec152081bf"
      },
      "outputs": [
        {
          "output_type": "execute_result",
          "data": {
            "text/plain": [
              "Index(['BIRTH_DT', 'CUST_ADD_DT', 'OCPTN_NM', 'RES_CNTRY_CA',\n",
              "       'CNTRY_OF_INCOME_CA', 'PEP_FL', 'CASH_SUM_IN', 'CASH_CNT_IN',\n",
              "       'CASH_SUM_OUT', 'CASH_CNT_OUT', 'WIRES_SUM_IN', 'WIRES_CNT_IN',\n",
              "       'WIRES_SUM_OUT', 'WIRES_CNT_OUT', 'COUNTRY_RISK_INCOME',\n",
              "       'COUNTRY_RISK_RESIDENCY', 'RISK', 'NAME', 'GENDER', 'CUSTOMER_ID',\n",
              "       'cash_diff', 'wire_diff', 'cash_cnt_diff', 'wire_cnt_diff',\n",
              "       'avg_cash_transaction_out', 'avg_wire_transaction_out',\n",
              "       'avg_cash_transaction_in', 'avg_wire_transaction_in', 'monthly_cash_in',\n",
              "       'monthly_cash_out', 'monthly_wire_in', 'monthly_wire_out', 'diff_year',\n",
              "       'age', 'cust_age_bank', 'total_money_left'],\n",
              "      dtype='object')"
            ]
          },
          "metadata": {},
          "execution_count": 10
        }
      ],
      "source": [
        "data.columns"
      ]
    },
    {
      "cell_type": "code",
      "execution_count": 11,
      "metadata": {
        "id": "ndL6jc3RcRcL"
      },
      "outputs": [],
      "source": [
        "data.drop(['BIRTH_DT','CUST_ADD_DT','CUSTOMER_ID','NAME'],inplace=True,axis=1)"
      ]
    },
    {
      "cell_type": "code",
      "execution_count": 12,
      "metadata": {
        "id": "CMSKEsa8EPC5"
      },
      "outputs": [],
      "source": [
        "oc=pd.read_csv('UofT_occupation_risk.csv')"
      ]
    },
    {
      "cell_type": "code",
      "source": [
        "data[\"OCPTN_NM\"]=data[\"OCPTN_NM\"].map(oc.set_index(\"code\")[\"occupation_risk\"])"
      ],
      "metadata": {
        "id": "sA_VjdurIfYI"
      },
      "execution_count": 13,
      "outputs": []
    },
    {
      "cell_type": "code",
      "execution_count": 14,
      "metadata": {
        "colab": {
          "base_uri": "https://localhost:8080/"
        },
        "id": "js5OFZCSEPyz",
        "outputId": "a9fd5d9a-c7e5-4bf7-fa96-95515933c3f0"
      },
      "outputs": [
        {
          "output_type": "execute_result",
          "data": {
            "text/plain": [
              "low       593204\n",
              "medium    346153\n",
              "high       49463\n",
              "Name: RISK, dtype: int64"
            ]
          },
          "metadata": {},
          "execution_count": 14
        }
      ],
      "source": [
        "data['RISK'].value_counts()\n"
      ]
    },
    {
      "cell_type": "markdown",
      "metadata": {
        "id": "jlcBNFrcPQ-4"
      },
      "source": [
        "## Biased only 5%  is high risk"
      ]
    },
    {
      "cell_type": "markdown",
      "metadata": {
        "id": "3vP6ZrGydrYc"
      },
      "source": [
        "## One hot encode\n",
        "\n",
        "I guess it does not really matter if you encode before or after split since you are just coverting categorical variables into binary. Unlike normalization & standarization. "
      ]
    },
    {
      "cell_type": "code",
      "source": [
        "x=data.loc[:, data.columns !='RISK']\n",
        "y=data['RISK']"
      ],
      "metadata": {
        "id": "IRFVf0JnHlbJ"
      },
      "execution_count": 15,
      "outputs": []
    },
    {
      "cell_type": "code",
      "source": [
        "x.shape"
      ],
      "metadata": {
        "colab": {
          "base_uri": "https://localhost:8080/"
        },
        "id": "NKlyD-uSJEe5",
        "outputId": "c467713e-df5c-4a47-bcfc-51ff22360a84"
      },
      "execution_count": 16,
      "outputs": [
        {
          "output_type": "execute_result",
          "data": {
            "text/plain": [
              "(988820, 31)"
            ]
          },
          "metadata": {},
          "execution_count": 16
        }
      ]
    },
    {
      "cell_type": "code",
      "execution_count": 17,
      "metadata": {
        "id": "gEChAWfUdrBO"
      },
      "outputs": [],
      "source": [
        "data=pd.get_dummies(x)"
      ]
    },
    {
      "cell_type": "code",
      "source": [
        "data.shape"
      ],
      "metadata": {
        "colab": {
          "base_uri": "https://localhost:8080/"
        },
        "id": "CByWbBLH1JKc",
        "outputId": "29cf3c1a-3fb4-4778-ff6b-348e04e335aa"
      },
      "execution_count": 18,
      "outputs": [
        {
          "output_type": "execute_result",
          "data": {
            "text/plain": [
              "(988820, 38)"
            ]
          },
          "metadata": {},
          "execution_count": 18
        }
      ]
    },
    {
      "cell_type": "code",
      "execution_count": 19,
      "metadata": {
        "colab": {
          "base_uri": "https://localhost:8080/",
          "height": 299
        },
        "id": "4IkhRscReEes",
        "outputId": "0446d454-c78f-4975-9712-b6570ef584cd"
      },
      "outputs": [
        {
          "output_type": "execute_result",
          "data": {
            "text/plain": [
              "   RES_CNTRY_CA  CNTRY_OF_INCOME_CA  PEP_FL  CASH_SUM_IN  CASH_CNT_IN  \\\n",
              "0             1                   1     0.0     2578.785          3.0   \n",
              "1             1                   1     0.0     3036.502          3.0   \n",
              "2             1                   1     0.0     1618.571          2.0   \n",
              "3             1                   1     0.0     3588.042          6.0   \n",
              "4             1                   1     0.0     1726.524          3.0   \n",
              "\n",
              "   CASH_SUM_OUT  CASH_CNT_OUT  WIRES_SUM_IN  WIRES_CNT_IN  WIRES_SUM_OUT  ...  \\\n",
              "0      2852.663           8.0       70775.0          63.0        24245.0  ...   \n",
              "1      4806.997          16.0      282930.0          77.0       196440.0  ...   \n",
              "2      3483.809          12.0        7633.0           7.0        33599.0  ...   \n",
              "3      1941.943           9.0      149254.0          72.0       105897.0  ...   \n",
              "4     13198.169          44.0       92319.0          97.0       187404.0  ...   \n",
              "\n",
              "   OCPTN_NM_Low  OCPTN_NM_Moderate  COUNTRY_RISK_INCOME_High  \\\n",
              "0             0                  0                         0   \n",
              "1             0                  0                         0   \n",
              "2             0                  0                         0   \n",
              "3             0                  0                         0   \n",
              "4             0                  0                         0   \n",
              "\n",
              "   COUNTRY_RISK_INCOME_Low  COUNTRY_RISK_INCOME_Moderate  \\\n",
              "0                        1                             0   \n",
              "1                        1                             0   \n",
              "2                        1                             0   \n",
              "3                        1                             0   \n",
              "4                        1                             0   \n",
              "\n",
              "   COUNTRY_RISK_RESIDENCY_High  COUNTRY_RISK_RESIDENCY_Low  \\\n",
              "0                            0                           1   \n",
              "1                            0                           1   \n",
              "2                            0                           1   \n",
              "3                            0                           1   \n",
              "4                            0                           1   \n",
              "\n",
              "   COUNTRY_RISK_RESIDENCY_Moderate  GENDER_Female  GENDER_Male  \n",
              "0                                0              1            0  \n",
              "1                                0              0            1  \n",
              "2                                0              0            1  \n",
              "3                                0              1            0  \n",
              "4                                0              1            0  \n",
              "\n",
              "[5 rows x 38 columns]"
            ],
            "text/html": [
              "\n",
              "  <div id=\"df-443efa16-7b11-474b-96e5-0400ef77e7e7\">\n",
              "    <div class=\"colab-df-container\">\n",
              "      <div>\n",
              "<style scoped>\n",
              "    .dataframe tbody tr th:only-of-type {\n",
              "        vertical-align: middle;\n",
              "    }\n",
              "\n",
              "    .dataframe tbody tr th {\n",
              "        vertical-align: top;\n",
              "    }\n",
              "\n",
              "    .dataframe thead th {\n",
              "        text-align: right;\n",
              "    }\n",
              "</style>\n",
              "<table border=\"1\" class=\"dataframe\">\n",
              "  <thead>\n",
              "    <tr style=\"text-align: right;\">\n",
              "      <th></th>\n",
              "      <th>RES_CNTRY_CA</th>\n",
              "      <th>CNTRY_OF_INCOME_CA</th>\n",
              "      <th>PEP_FL</th>\n",
              "      <th>CASH_SUM_IN</th>\n",
              "      <th>CASH_CNT_IN</th>\n",
              "      <th>CASH_SUM_OUT</th>\n",
              "      <th>CASH_CNT_OUT</th>\n",
              "      <th>WIRES_SUM_IN</th>\n",
              "      <th>WIRES_CNT_IN</th>\n",
              "      <th>WIRES_SUM_OUT</th>\n",
              "      <th>...</th>\n",
              "      <th>OCPTN_NM_Low</th>\n",
              "      <th>OCPTN_NM_Moderate</th>\n",
              "      <th>COUNTRY_RISK_INCOME_High</th>\n",
              "      <th>COUNTRY_RISK_INCOME_Low</th>\n",
              "      <th>COUNTRY_RISK_INCOME_Moderate</th>\n",
              "      <th>COUNTRY_RISK_RESIDENCY_High</th>\n",
              "      <th>COUNTRY_RISK_RESIDENCY_Low</th>\n",
              "      <th>COUNTRY_RISK_RESIDENCY_Moderate</th>\n",
              "      <th>GENDER_Female</th>\n",
              "      <th>GENDER_Male</th>\n",
              "    </tr>\n",
              "  </thead>\n",
              "  <tbody>\n",
              "    <tr>\n",
              "      <th>0</th>\n",
              "      <td>1</td>\n",
              "      <td>1</td>\n",
              "      <td>0.0</td>\n",
              "      <td>2578.785</td>\n",
              "      <td>3.0</td>\n",
              "      <td>2852.663</td>\n",
              "      <td>8.0</td>\n",
              "      <td>70775.0</td>\n",
              "      <td>63.0</td>\n",
              "      <td>24245.0</td>\n",
              "      <td>...</td>\n",
              "      <td>0</td>\n",
              "      <td>0</td>\n",
              "      <td>0</td>\n",
              "      <td>1</td>\n",
              "      <td>0</td>\n",
              "      <td>0</td>\n",
              "      <td>1</td>\n",
              "      <td>0</td>\n",
              "      <td>1</td>\n",
              "      <td>0</td>\n",
              "    </tr>\n",
              "    <tr>\n",
              "      <th>1</th>\n",
              "      <td>1</td>\n",
              "      <td>1</td>\n",
              "      <td>0.0</td>\n",
              "      <td>3036.502</td>\n",
              "      <td>3.0</td>\n",
              "      <td>4806.997</td>\n",
              "      <td>16.0</td>\n",
              "      <td>282930.0</td>\n",
              "      <td>77.0</td>\n",
              "      <td>196440.0</td>\n",
              "      <td>...</td>\n",
              "      <td>0</td>\n",
              "      <td>0</td>\n",
              "      <td>0</td>\n",
              "      <td>1</td>\n",
              "      <td>0</td>\n",
              "      <td>0</td>\n",
              "      <td>1</td>\n",
              "      <td>0</td>\n",
              "      <td>0</td>\n",
              "      <td>1</td>\n",
              "    </tr>\n",
              "    <tr>\n",
              "      <th>2</th>\n",
              "      <td>1</td>\n",
              "      <td>1</td>\n",
              "      <td>0.0</td>\n",
              "      <td>1618.571</td>\n",
              "      <td>2.0</td>\n",
              "      <td>3483.809</td>\n",
              "      <td>12.0</td>\n",
              "      <td>7633.0</td>\n",
              "      <td>7.0</td>\n",
              "      <td>33599.0</td>\n",
              "      <td>...</td>\n",
              "      <td>0</td>\n",
              "      <td>0</td>\n",
              "      <td>0</td>\n",
              "      <td>1</td>\n",
              "      <td>0</td>\n",
              "      <td>0</td>\n",
              "      <td>1</td>\n",
              "      <td>0</td>\n",
              "      <td>0</td>\n",
              "      <td>1</td>\n",
              "    </tr>\n",
              "    <tr>\n",
              "      <th>3</th>\n",
              "      <td>1</td>\n",
              "      <td>1</td>\n",
              "      <td>0.0</td>\n",
              "      <td>3588.042</td>\n",
              "      <td>6.0</td>\n",
              "      <td>1941.943</td>\n",
              "      <td>9.0</td>\n",
              "      <td>149254.0</td>\n",
              "      <td>72.0</td>\n",
              "      <td>105897.0</td>\n",
              "      <td>...</td>\n",
              "      <td>0</td>\n",
              "      <td>0</td>\n",
              "      <td>0</td>\n",
              "      <td>1</td>\n",
              "      <td>0</td>\n",
              "      <td>0</td>\n",
              "      <td>1</td>\n",
              "      <td>0</td>\n",
              "      <td>1</td>\n",
              "      <td>0</td>\n",
              "    </tr>\n",
              "    <tr>\n",
              "      <th>4</th>\n",
              "      <td>1</td>\n",
              "      <td>1</td>\n",
              "      <td>0.0</td>\n",
              "      <td>1726.524</td>\n",
              "      <td>3.0</td>\n",
              "      <td>13198.169</td>\n",
              "      <td>44.0</td>\n",
              "      <td>92319.0</td>\n",
              "      <td>97.0</td>\n",
              "      <td>187404.0</td>\n",
              "      <td>...</td>\n",
              "      <td>0</td>\n",
              "      <td>0</td>\n",
              "      <td>0</td>\n",
              "      <td>1</td>\n",
              "      <td>0</td>\n",
              "      <td>0</td>\n",
              "      <td>1</td>\n",
              "      <td>0</td>\n",
              "      <td>1</td>\n",
              "      <td>0</td>\n",
              "    </tr>\n",
              "  </tbody>\n",
              "</table>\n",
              "<p>5 rows × 38 columns</p>\n",
              "</div>\n",
              "      <button class=\"colab-df-convert\" onclick=\"convertToInteractive('df-443efa16-7b11-474b-96e5-0400ef77e7e7')\"\n",
              "              title=\"Convert this dataframe to an interactive table.\"\n",
              "              style=\"display:none;\">\n",
              "        \n",
              "  <svg xmlns=\"http://www.w3.org/2000/svg\" height=\"24px\"viewBox=\"0 0 24 24\"\n",
              "       width=\"24px\">\n",
              "    <path d=\"M0 0h24v24H0V0z\" fill=\"none\"/>\n",
              "    <path d=\"M18.56 5.44l.94 2.06.94-2.06 2.06-.94-2.06-.94-.94-2.06-.94 2.06-2.06.94zm-11 1L8.5 8.5l.94-2.06 2.06-.94-2.06-.94L8.5 2.5l-.94 2.06-2.06.94zm10 10l.94 2.06.94-2.06 2.06-.94-2.06-.94-.94-2.06-.94 2.06-2.06.94z\"/><path d=\"M17.41 7.96l-1.37-1.37c-.4-.4-.92-.59-1.43-.59-.52 0-1.04.2-1.43.59L10.3 9.45l-7.72 7.72c-.78.78-.78 2.05 0 2.83L4 21.41c.39.39.9.59 1.41.59.51 0 1.02-.2 1.41-.59l7.78-7.78 2.81-2.81c.8-.78.8-2.07 0-2.86zM5.41 20L4 18.59l7.72-7.72 1.47 1.35L5.41 20z\"/>\n",
              "  </svg>\n",
              "      </button>\n",
              "      \n",
              "  <style>\n",
              "    .colab-df-container {\n",
              "      display:flex;\n",
              "      flex-wrap:wrap;\n",
              "      gap: 12px;\n",
              "    }\n",
              "\n",
              "    .colab-df-convert {\n",
              "      background-color: #E8F0FE;\n",
              "      border: none;\n",
              "      border-radius: 50%;\n",
              "      cursor: pointer;\n",
              "      display: none;\n",
              "      fill: #1967D2;\n",
              "      height: 32px;\n",
              "      padding: 0 0 0 0;\n",
              "      width: 32px;\n",
              "    }\n",
              "\n",
              "    .colab-df-convert:hover {\n",
              "      background-color: #E2EBFA;\n",
              "      box-shadow: 0px 1px 2px rgba(60, 64, 67, 0.3), 0px 1px 3px 1px rgba(60, 64, 67, 0.15);\n",
              "      fill: #174EA6;\n",
              "    }\n",
              "\n",
              "    [theme=dark] .colab-df-convert {\n",
              "      background-color: #3B4455;\n",
              "      fill: #D2E3FC;\n",
              "    }\n",
              "\n",
              "    [theme=dark] .colab-df-convert:hover {\n",
              "      background-color: #434B5C;\n",
              "      box-shadow: 0px 1px 3px 1px rgba(0, 0, 0, 0.15);\n",
              "      filter: drop-shadow(0px 1px 2px rgba(0, 0, 0, 0.3));\n",
              "      fill: #FFFFFF;\n",
              "    }\n",
              "  </style>\n",
              "\n",
              "      <script>\n",
              "        const buttonEl =\n",
              "          document.querySelector('#df-443efa16-7b11-474b-96e5-0400ef77e7e7 button.colab-df-convert');\n",
              "        buttonEl.style.display =\n",
              "          google.colab.kernel.accessAllowed ? 'block' : 'none';\n",
              "\n",
              "        async function convertToInteractive(key) {\n",
              "          const element = document.querySelector('#df-443efa16-7b11-474b-96e5-0400ef77e7e7');\n",
              "          const dataTable =\n",
              "            await google.colab.kernel.invokeFunction('convertToInteractive',\n",
              "                                                     [key], {});\n",
              "          if (!dataTable) return;\n",
              "\n",
              "          const docLinkHtml = 'Like what you see? Visit the ' +\n",
              "            '<a target=\"_blank\" href=https://colab.research.google.com/notebooks/data_table.ipynb>data table notebook</a>'\n",
              "            + ' to learn more about interactive tables.';\n",
              "          element.innerHTML = '';\n",
              "          dataTable['output_type'] = 'display_data';\n",
              "          await google.colab.output.renderOutput(dataTable, element);\n",
              "          const docLink = document.createElement('div');\n",
              "          docLink.innerHTML = docLinkHtml;\n",
              "          element.appendChild(docLink);\n",
              "        }\n",
              "      </script>\n",
              "    </div>\n",
              "  </div>\n",
              "  "
            ]
          },
          "metadata": {},
          "execution_count": 19
        }
      ],
      "source": [
        "data.head()"
      ]
    },
    {
      "cell_type": "markdown",
      "metadata": {
        "id": "JcIZzobT8d1g"
      },
      "source": [
        "## Split in train-test"
      ]
    },
    {
      "cell_type": "code",
      "execution_count": 20,
      "metadata": {
        "id": "f8BiZGYEEV72"
      },
      "outputs": [],
      "source": [
        "X_train, X_test, y_train, y_test = train_test_split(data, y, test_size=0.30,random_state=42)"
      ]
    },
    {
      "cell_type": "code",
      "execution_count": 21,
      "metadata": {
        "colab": {
          "base_uri": "https://localhost:8080/"
        },
        "id": "rixe7UkBGtcY",
        "outputId": "12f7a3a7-e127-488b-8c1a-7111ca09f2ec"
      },
      "outputs": [
        {
          "output_type": "stream",
          "name": "stdout",
          "text": [
            "(692174, 38) (296646, 38) (692174,) (296646,)\n"
          ]
        }
      ],
      "source": [
        "print(X_train.shape,X_test.shape,y_train.shape,y_test.shape)"
      ]
    },
    {
      "cell_type": "code",
      "execution_count": 22,
      "metadata": {
        "colab": {
          "base_uri": "https://localhost:8080/"
        },
        "id": "PCG4oLRr0uT2",
        "outputId": "50dcf082-35ef-4337-b933-5e46afa0b933"
      },
      "outputs": [
        {
          "output_type": "execute_result",
          "data": {
            "text/plain": [
              "low       178064\n",
              "medium    103704\n",
              "high       14878\n",
              "Name: RISK, dtype: int64"
            ]
          },
          "metadata": {},
          "execution_count": 22
        }
      ],
      "source": [
        "y_test.value_counts()"
      ]
    },
    {
      "cell_type": "code",
      "execution_count": 23,
      "metadata": {
        "colab": {
          "base_uri": "https://localhost:8080/"
        },
        "id": "8HxArjgB0rz8",
        "outputId": "f622a2d7-f75a-43e6-9d21-0885b16209e6"
      },
      "outputs": [
        {
          "output_type": "execute_result",
          "data": {
            "text/plain": [
              "low       415140\n",
              "medium    242449\n",
              "high       34585\n",
              "Name: RISK, dtype: int64"
            ]
          },
          "metadata": {},
          "execution_count": 23
        }
      ],
      "source": [
        "y_train.value_counts()"
      ]
    },
    {
      "cell_type": "markdown",
      "metadata": {
        "id": "1-W1NIrG8wiV"
      },
      "source": [
        "## Now only work with x_train and y_train and take out only high and medium."
      ]
    },
    {
      "cell_type": "markdown",
      "metadata": {
        "id": "zrcKwWhB9EE5"
      },
      "source": [
        "1subset- Undersample to have balanced dataset "
      ]
    },
    {
      "cell_type": "markdown",
      "metadata": {
        "id": "MrldofgnYRoP"
      },
      "source": [
        "## Undersample the x_train"
      ]
    },
    {
      "cell_type": "code",
      "execution_count": 24,
      "metadata": {
        "id": "lYte8Fo1gaMA"
      },
      "outputs": [],
      "source": [
        "from imblearn.under_sampling import RandomUnderSampler\n",
        "rus = RandomUnderSampler()\n",
        "X_resampled, y_resampled=rus.fit_resample(X_train,y_train)"
      ]
    },
    {
      "cell_type": "code",
      "execution_count": 25,
      "metadata": {
        "colab": {
          "base_uri": "https://localhost:8080/",
          "height": 299
        },
        "id": "i-E5LgcNiutc",
        "outputId": "bed6e5a0-d690-465e-9dff-a19d6b5ddf12"
      },
      "outputs": [
        {
          "output_type": "execute_result",
          "data": {
            "text/plain": [
              "   RES_CNTRY_CA  CNTRY_OF_INCOME_CA  PEP_FL  CASH_SUM_IN  CASH_CNT_IN  \\\n",
              "0             1                   1     0.0    31046.093         18.0   \n",
              "1             1                   1     1.0     2755.352          3.0   \n",
              "2             1                   1     1.0      808.439          1.0   \n",
              "3             1                   1     1.0    15417.038          7.0   \n",
              "4             1                   1     0.0    34726.599         24.0   \n",
              "\n",
              "   CASH_SUM_OUT  CASH_CNT_OUT  WIRES_SUM_IN  WIRES_CNT_IN  WIRES_SUM_OUT  ...  \\\n",
              "0       44605.0          53.0     5628865.0         135.0      1943135.0  ...   \n",
              "1       45838.0          46.0     4630133.0         164.0      2272641.0  ...   \n",
              "2        1850.0           8.0     7127475.0         134.0      3572961.0  ...   \n",
              "3       38640.0          30.0     2569453.0         147.0      2446838.0  ...   \n",
              "4       73759.0          88.0     1028779.0          76.0       418566.0  ...   \n",
              "\n",
              "   OCPTN_NM_Low  OCPTN_NM_Moderate  COUNTRY_RISK_INCOME_High  \\\n",
              "0             1                  0                         0   \n",
              "1             0                  0                         0   \n",
              "2             0                  0                         0   \n",
              "3             1                  0                         0   \n",
              "4             0                  0                         0   \n",
              "\n",
              "   COUNTRY_RISK_INCOME_Low  COUNTRY_RISK_INCOME_Moderate  \\\n",
              "0                        1                             0   \n",
              "1                        1                             0   \n",
              "2                        1                             0   \n",
              "3                        1                             0   \n",
              "4                        1                             0   \n",
              "\n",
              "   COUNTRY_RISK_RESIDENCY_High  COUNTRY_RISK_RESIDENCY_Low  \\\n",
              "0                            0                           1   \n",
              "1                            0                           1   \n",
              "2                            0                           1   \n",
              "3                            0                           1   \n",
              "4                            0                           1   \n",
              "\n",
              "   COUNTRY_RISK_RESIDENCY_Moderate  GENDER_Female  GENDER_Male  \n",
              "0                                0              1            0  \n",
              "1                                0              1            0  \n",
              "2                                0              1            0  \n",
              "3                                0              1            0  \n",
              "4                                0              1            0  \n",
              "\n",
              "[5 rows x 38 columns]"
            ],
            "text/html": [
              "\n",
              "  <div id=\"df-9f452ecc-8d74-4b2d-8577-3418c196da69\">\n",
              "    <div class=\"colab-df-container\">\n",
              "      <div>\n",
              "<style scoped>\n",
              "    .dataframe tbody tr th:only-of-type {\n",
              "        vertical-align: middle;\n",
              "    }\n",
              "\n",
              "    .dataframe tbody tr th {\n",
              "        vertical-align: top;\n",
              "    }\n",
              "\n",
              "    .dataframe thead th {\n",
              "        text-align: right;\n",
              "    }\n",
              "</style>\n",
              "<table border=\"1\" class=\"dataframe\">\n",
              "  <thead>\n",
              "    <tr style=\"text-align: right;\">\n",
              "      <th></th>\n",
              "      <th>RES_CNTRY_CA</th>\n",
              "      <th>CNTRY_OF_INCOME_CA</th>\n",
              "      <th>PEP_FL</th>\n",
              "      <th>CASH_SUM_IN</th>\n",
              "      <th>CASH_CNT_IN</th>\n",
              "      <th>CASH_SUM_OUT</th>\n",
              "      <th>CASH_CNT_OUT</th>\n",
              "      <th>WIRES_SUM_IN</th>\n",
              "      <th>WIRES_CNT_IN</th>\n",
              "      <th>WIRES_SUM_OUT</th>\n",
              "      <th>...</th>\n",
              "      <th>OCPTN_NM_Low</th>\n",
              "      <th>OCPTN_NM_Moderate</th>\n",
              "      <th>COUNTRY_RISK_INCOME_High</th>\n",
              "      <th>COUNTRY_RISK_INCOME_Low</th>\n",
              "      <th>COUNTRY_RISK_INCOME_Moderate</th>\n",
              "      <th>COUNTRY_RISK_RESIDENCY_High</th>\n",
              "      <th>COUNTRY_RISK_RESIDENCY_Low</th>\n",
              "      <th>COUNTRY_RISK_RESIDENCY_Moderate</th>\n",
              "      <th>GENDER_Female</th>\n",
              "      <th>GENDER_Male</th>\n",
              "    </tr>\n",
              "  </thead>\n",
              "  <tbody>\n",
              "    <tr>\n",
              "      <th>0</th>\n",
              "      <td>1</td>\n",
              "      <td>1</td>\n",
              "      <td>0.0</td>\n",
              "      <td>31046.093</td>\n",
              "      <td>18.0</td>\n",
              "      <td>44605.0</td>\n",
              "      <td>53.0</td>\n",
              "      <td>5628865.0</td>\n",
              "      <td>135.0</td>\n",
              "      <td>1943135.0</td>\n",
              "      <td>...</td>\n",
              "      <td>1</td>\n",
              "      <td>0</td>\n",
              "      <td>0</td>\n",
              "      <td>1</td>\n",
              "      <td>0</td>\n",
              "      <td>0</td>\n",
              "      <td>1</td>\n",
              "      <td>0</td>\n",
              "      <td>1</td>\n",
              "      <td>0</td>\n",
              "    </tr>\n",
              "    <tr>\n",
              "      <th>1</th>\n",
              "      <td>1</td>\n",
              "      <td>1</td>\n",
              "      <td>1.0</td>\n",
              "      <td>2755.352</td>\n",
              "      <td>3.0</td>\n",
              "      <td>45838.0</td>\n",
              "      <td>46.0</td>\n",
              "      <td>4630133.0</td>\n",
              "      <td>164.0</td>\n",
              "      <td>2272641.0</td>\n",
              "      <td>...</td>\n",
              "      <td>0</td>\n",
              "      <td>0</td>\n",
              "      <td>0</td>\n",
              "      <td>1</td>\n",
              "      <td>0</td>\n",
              "      <td>0</td>\n",
              "      <td>1</td>\n",
              "      <td>0</td>\n",
              "      <td>1</td>\n",
              "      <td>0</td>\n",
              "    </tr>\n",
              "    <tr>\n",
              "      <th>2</th>\n",
              "      <td>1</td>\n",
              "      <td>1</td>\n",
              "      <td>1.0</td>\n",
              "      <td>808.439</td>\n",
              "      <td>1.0</td>\n",
              "      <td>1850.0</td>\n",
              "      <td>8.0</td>\n",
              "      <td>7127475.0</td>\n",
              "      <td>134.0</td>\n",
              "      <td>3572961.0</td>\n",
              "      <td>...</td>\n",
              "      <td>0</td>\n",
              "      <td>0</td>\n",
              "      <td>0</td>\n",
              "      <td>1</td>\n",
              "      <td>0</td>\n",
              "      <td>0</td>\n",
              "      <td>1</td>\n",
              "      <td>0</td>\n",
              "      <td>1</td>\n",
              "      <td>0</td>\n",
              "    </tr>\n",
              "    <tr>\n",
              "      <th>3</th>\n",
              "      <td>1</td>\n",
              "      <td>1</td>\n",
              "      <td>1.0</td>\n",
              "      <td>15417.038</td>\n",
              "      <td>7.0</td>\n",
              "      <td>38640.0</td>\n",
              "      <td>30.0</td>\n",
              "      <td>2569453.0</td>\n",
              "      <td>147.0</td>\n",
              "      <td>2446838.0</td>\n",
              "      <td>...</td>\n",
              "      <td>1</td>\n",
              "      <td>0</td>\n",
              "      <td>0</td>\n",
              "      <td>1</td>\n",
              "      <td>0</td>\n",
              "      <td>0</td>\n",
              "      <td>1</td>\n",
              "      <td>0</td>\n",
              "      <td>1</td>\n",
              "      <td>0</td>\n",
              "    </tr>\n",
              "    <tr>\n",
              "      <th>4</th>\n",
              "      <td>1</td>\n",
              "      <td>1</td>\n",
              "      <td>0.0</td>\n",
              "      <td>34726.599</td>\n",
              "      <td>24.0</td>\n",
              "      <td>73759.0</td>\n",
              "      <td>88.0</td>\n",
              "      <td>1028779.0</td>\n",
              "      <td>76.0</td>\n",
              "      <td>418566.0</td>\n",
              "      <td>...</td>\n",
              "      <td>0</td>\n",
              "      <td>0</td>\n",
              "      <td>0</td>\n",
              "      <td>1</td>\n",
              "      <td>0</td>\n",
              "      <td>0</td>\n",
              "      <td>1</td>\n",
              "      <td>0</td>\n",
              "      <td>1</td>\n",
              "      <td>0</td>\n",
              "    </tr>\n",
              "  </tbody>\n",
              "</table>\n",
              "<p>5 rows × 38 columns</p>\n",
              "</div>\n",
              "      <button class=\"colab-df-convert\" onclick=\"convertToInteractive('df-9f452ecc-8d74-4b2d-8577-3418c196da69')\"\n",
              "              title=\"Convert this dataframe to an interactive table.\"\n",
              "              style=\"display:none;\">\n",
              "        \n",
              "  <svg xmlns=\"http://www.w3.org/2000/svg\" height=\"24px\"viewBox=\"0 0 24 24\"\n",
              "       width=\"24px\">\n",
              "    <path d=\"M0 0h24v24H0V0z\" fill=\"none\"/>\n",
              "    <path d=\"M18.56 5.44l.94 2.06.94-2.06 2.06-.94-2.06-.94-.94-2.06-.94 2.06-2.06.94zm-11 1L8.5 8.5l.94-2.06 2.06-.94-2.06-.94L8.5 2.5l-.94 2.06-2.06.94zm10 10l.94 2.06.94-2.06 2.06-.94-2.06-.94-.94-2.06-.94 2.06-2.06.94z\"/><path d=\"M17.41 7.96l-1.37-1.37c-.4-.4-.92-.59-1.43-.59-.52 0-1.04.2-1.43.59L10.3 9.45l-7.72 7.72c-.78.78-.78 2.05 0 2.83L4 21.41c.39.39.9.59 1.41.59.51 0 1.02-.2 1.41-.59l7.78-7.78 2.81-2.81c.8-.78.8-2.07 0-2.86zM5.41 20L4 18.59l7.72-7.72 1.47 1.35L5.41 20z\"/>\n",
              "  </svg>\n",
              "      </button>\n",
              "      \n",
              "  <style>\n",
              "    .colab-df-container {\n",
              "      display:flex;\n",
              "      flex-wrap:wrap;\n",
              "      gap: 12px;\n",
              "    }\n",
              "\n",
              "    .colab-df-convert {\n",
              "      background-color: #E8F0FE;\n",
              "      border: none;\n",
              "      border-radius: 50%;\n",
              "      cursor: pointer;\n",
              "      display: none;\n",
              "      fill: #1967D2;\n",
              "      height: 32px;\n",
              "      padding: 0 0 0 0;\n",
              "      width: 32px;\n",
              "    }\n",
              "\n",
              "    .colab-df-convert:hover {\n",
              "      background-color: #E2EBFA;\n",
              "      box-shadow: 0px 1px 2px rgba(60, 64, 67, 0.3), 0px 1px 3px 1px rgba(60, 64, 67, 0.15);\n",
              "      fill: #174EA6;\n",
              "    }\n",
              "\n",
              "    [theme=dark] .colab-df-convert {\n",
              "      background-color: #3B4455;\n",
              "      fill: #D2E3FC;\n",
              "    }\n",
              "\n",
              "    [theme=dark] .colab-df-convert:hover {\n",
              "      background-color: #434B5C;\n",
              "      box-shadow: 0px 1px 3px 1px rgba(0, 0, 0, 0.15);\n",
              "      filter: drop-shadow(0px 1px 2px rgba(0, 0, 0, 0.3));\n",
              "      fill: #FFFFFF;\n",
              "    }\n",
              "  </style>\n",
              "\n",
              "      <script>\n",
              "        const buttonEl =\n",
              "          document.querySelector('#df-9f452ecc-8d74-4b2d-8577-3418c196da69 button.colab-df-convert');\n",
              "        buttonEl.style.display =\n",
              "          google.colab.kernel.accessAllowed ? 'block' : 'none';\n",
              "\n",
              "        async function convertToInteractive(key) {\n",
              "          const element = document.querySelector('#df-9f452ecc-8d74-4b2d-8577-3418c196da69');\n",
              "          const dataTable =\n",
              "            await google.colab.kernel.invokeFunction('convertToInteractive',\n",
              "                                                     [key], {});\n",
              "          if (!dataTable) return;\n",
              "\n",
              "          const docLinkHtml = 'Like what you see? Visit the ' +\n",
              "            '<a target=\"_blank\" href=https://colab.research.google.com/notebooks/data_table.ipynb>data table notebook</a>'\n",
              "            + ' to learn more about interactive tables.';\n",
              "          element.innerHTML = '';\n",
              "          dataTable['output_type'] = 'display_data';\n",
              "          await google.colab.output.renderOutput(dataTable, element);\n",
              "          const docLink = document.createElement('div');\n",
              "          docLink.innerHTML = docLinkHtml;\n",
              "          element.appendChild(docLink);\n",
              "        }\n",
              "      </script>\n",
              "    </div>\n",
              "  </div>\n",
              "  "
            ]
          },
          "metadata": {},
          "execution_count": 25
        }
      ],
      "source": [
        "X_resampled.head()"
      ]
    },
    {
      "cell_type": "code",
      "execution_count": 26,
      "metadata": {
        "colab": {
          "base_uri": "https://localhost:8080/"
        },
        "id": "EC2HWAQciZau",
        "outputId": "a20a0d6e-ce76-4612-caf3-e4b639dfd4c0"
      },
      "outputs": [
        {
          "output_type": "execute_result",
          "data": {
            "text/plain": [
              "high      34585\n",
              "low       34585\n",
              "medium    34585\n",
              "Name: RISK, dtype: int64"
            ]
          },
          "metadata": {},
          "execution_count": 26
        }
      ],
      "source": [
        "y_resampled.value_counts()"
      ]
    },
    {
      "cell_type": "markdown",
      "source": [
        "loss='log_loss', *, learning_rate=0.1, max_iter=100, max_leaf_nodes=31, max_depth=None, min_samples_leaf=20, l2_regularization=0.0, max_bins=255, categorical_features=None, monotonic_cst=None, interaction_cst=None, warm_start=False, early_stopping='auto', scoring='loss', validation_fraction=0.1, n_iter_no_change=10, tol=1e-07, verbose=0, random_state=None, class_weight=None"
      ],
      "metadata": {
        "id": "mdnNtGEw0cZf"
      }
    },
    {
      "cell_type": "code",
      "execution_count": 27,
      "metadata": {
        "colab": {
          "base_uri": "https://localhost:8080/"
        },
        "id": "Q1GeYv_6-fLX",
        "outputId": "59e808c8-2490-4391-f50a-4e34b7c38ffd"
      },
      "outputs": [
        {
          "output_type": "execute_result",
          "data": {
            "text/plain": [
              "HistGradientBoostingClassifier()"
            ]
          },
          "metadata": {},
          "execution_count": 27
        }
      ],
      "source": [
        "model_1=HistGradientBoostingClassifier()\n",
        "model_1.fit(X_resampled,y_resampled)"
      ]
    },
    {
      "cell_type": "markdown",
      "source": [
        "## Evaluate model 1 on x_test"
      ],
      "metadata": {
        "id": "Oog2mfUVySDv"
      }
    },
    {
      "cell_type": "code",
      "execution_count": 28,
      "metadata": {
        "colab": {
          "base_uri": "https://localhost:8080/"
        },
        "id": "Hkk1rlT4Bq7Q",
        "outputId": "8adfea83-228f-4b85-ae4f-cfa674b1e993"
      },
      "outputs": [
        {
          "output_type": "stream",
          "name": "stdout",
          "text": [
            "              precision    recall  f1-score   support\n",
            "\n",
            "        high       0.42      0.91      0.57     14878\n",
            "         low       1.00      1.00      1.00    178064\n",
            "      medium       0.98      0.82      0.89    103704\n",
            "\n",
            "    accuracy                           0.93    296646\n",
            "   macro avg       0.80      0.91      0.82    296646\n",
            "weighted avg       0.97      0.93      0.94    296646\n",
            "\n"
          ]
        }
      ],
      "source": [
        "y_pred_model_1=model_1.predict(X_test)\n",
        "print(classification_report(y_test,y_pred_model_1))"
      ]
    },
    {
      "cell_type": "markdown",
      "metadata": {
        "id": "tEXVafTRAJbW"
      },
      "source": [
        "## 2nd subset of data is high-medium"
      ]
    },
    {
      "cell_type": "code",
      "execution_count": 29,
      "metadata": {
        "id": "ghVBrv1lAWwN",
        "colab": {
          "base_uri": "https://localhost:8080/"
        },
        "outputId": "65e7c633-ddb8-485e-cc5e-7727ab2bcddd"
      },
      "outputs": [
        {
          "output_type": "stream",
          "name": "stdout",
          "text": [
            "(277034, 38) (277034,)\n"
          ]
        }
      ],
      "source": [
        "high_medium_index=y_train[(y_train=='high')|(y_train=='medium')].index\n",
        "high_medium_y_train=y_train[(y_train=='high')|(y_train=='medium')]\n",
        "high_medium_x_train=X_train.loc[high_medium_index]\n",
        "print(high_medium_x_train.shape,high_medium_y_train.shape)"
      ]
    },
    {
      "cell_type": "code",
      "source": [
        "rus2=RandomUnderSampler()"
      ],
      "metadata": {
        "id": "GfDi5ZGPkSBc"
      },
      "execution_count": 30,
      "outputs": []
    },
    {
      "cell_type": "code",
      "source": [
        "x_resampled_high, y_resampled_high=rus2.fit_resample(high_medium_x_train,high_medium_y_train)"
      ],
      "metadata": {
        "id": "qXfA6cW5jtfW"
      },
      "execution_count": 31,
      "outputs": []
    },
    {
      "cell_type": "code",
      "source": [
        "y_resampled_high.value_counts()"
      ],
      "metadata": {
        "id": "PbYey2bioypq",
        "colab": {
          "base_uri": "https://localhost:8080/"
        },
        "outputId": "b30fcea0-38a5-4aa9-e248-b842c9f3110c"
      },
      "execution_count": 32,
      "outputs": [
        {
          "output_type": "execute_result",
          "data": {
            "text/plain": [
              "high      34585\n",
              "medium    34585\n",
              "Name: RISK, dtype: int64"
            ]
          },
          "metadata": {},
          "execution_count": 32
        }
      ]
    },
    {
      "cell_type": "markdown",
      "source": [
        "## Split dataset into train-test"
      ],
      "metadata": {
        "id": "pLCsWfiKxaG_"
      }
    },
    {
      "cell_type": "code",
      "source": [
        "x_med_high_train, x_med_high_test, y_med_high_train, y_med_high_test = train_test_split(x_resampled_high, y_resampled_high, test_size=0.20,random_state=42,stratify=y_resampled_high)"
      ],
      "metadata": {
        "id": "0cmXGGpsxZxY"
      },
      "execution_count": 33,
      "outputs": []
    },
    {
      "cell_type": "code",
      "source": [
        "print(x_med_high_train.shape,x_med_high_test.shape,y_med_high_train.shape,y_med_high_test.shape)"
      ],
      "metadata": {
        "colab": {
          "base_uri": "https://localhost:8080/"
        },
        "id": "mYvl-hISzMOB",
        "outputId": "a3e63d6f-7863-4e4e-95e8-c387632fdfcd"
      },
      "execution_count": 34,
      "outputs": [
        {
          "output_type": "stream",
          "name": "stdout",
          "text": [
            "(55336, 38) (13834, 38) (55336,) (13834,)\n"
          ]
        }
      ]
    },
    {
      "cell_type": "code",
      "source": [
        "y_med_high_train.value_counts()"
      ],
      "metadata": {
        "colab": {
          "base_uri": "https://localhost:8080/"
        },
        "id": "eWO36lZfx6t2",
        "outputId": "41819dd2-7c38-44c2-f1cb-6b9ee09d8b7c"
      },
      "execution_count": 35,
      "outputs": [
        {
          "output_type": "execute_result",
          "data": {
            "text/plain": [
              "medium    27668\n",
              "high      27668\n",
              "Name: RISK, dtype: int64"
            ]
          },
          "metadata": {},
          "execution_count": 35
        }
      ]
    },
    {
      "cell_type": "code",
      "execution_count": 36,
      "metadata": {
        "id": "xLwLKnezAsgq",
        "colab": {
          "base_uri": "https://localhost:8080/"
        },
        "outputId": "aa7abc21-b94e-4ab2-c615-88b397c187af"
      },
      "outputs": [
        {
          "output_type": "execute_result",
          "data": {
            "text/plain": [
              "HistGradientBoostingClassifier()"
            ]
          },
          "metadata": {},
          "execution_count": 36
        }
      ],
      "source": [
        "model_2=HistGradientBoostingClassifier()\n",
        "model_2.fit(x_med_high_train,y_med_high_train)"
      ]
    },
    {
      "cell_type": "markdown",
      "source": [
        "## Evaluate model 2 on x_med_high_test"
      ],
      "metadata": {
        "id": "AARlHM2SyvLQ"
      }
    },
    {
      "cell_type": "code",
      "source": [
        "y_pred_2=model_2.predict(x_med_high_test)\n",
        "print(classification_report(y_med_high_test,y_pred_2))"
      ],
      "metadata": {
        "colab": {
          "base_uri": "https://localhost:8080/"
        },
        "id": "6VQezwwxyy0W",
        "outputId": "00169e84-12cb-48c4-cf69-1a2e79d00299"
      },
      "execution_count": 37,
      "outputs": [
        {
          "output_type": "stream",
          "name": "stdout",
          "text": [
            "              precision    recall  f1-score   support\n",
            "\n",
            "        high       0.83      0.92      0.87      6917\n",
            "      medium       0.91      0.82      0.86      6917\n",
            "\n",
            "    accuracy                           0.87     13834\n",
            "   macro avg       0.87      0.87      0.87     13834\n",
            "weighted avg       0.87      0.87      0.87     13834\n",
            "\n"
          ]
        }
      ]
    },
    {
      "cell_type": "code",
      "source": [
        "# ## if model 1 gives medium run the results from model 2 and take its output and append to y_pred\n",
        "# ## Else just append model 1 results to y_pred\n",
        "# y_pred=[]\n",
        "# for idx, row in (tqdm(X_test.iterrows())):\n",
        "#     row_data = row.values.reshape(1, -1)\n",
        "#     row_df = pd.DataFrame(row_data, columns=row.index)\n",
        "#     output=model_1.predict(row_df)[0]\n",
        "#     if output=='medium':\n",
        "#       output_2=model_2.predict(row_df)[0]\n",
        "#       y_pred.append(output_2)\n",
        "#     else:\n",
        "#       y_pred.append(output)"
      ],
      "metadata": {
        "id": "ptHaI1q5ksl8"
      },
      "execution_count": 38,
      "outputs": []
    },
    {
      "cell_type": "code",
      "source": [
        "y_pred_model_1=model_1.predict(X_test)"
      ],
      "metadata": {
        "id": "U2d_0zsm37Xa"
      },
      "execution_count": 39,
      "outputs": []
    },
    {
      "cell_type": "code",
      "source": [
        "out=pd.DataFrame({'model_1':y_pred_model_1},index=X_test.index)\n",
        "#select only those index where the model_1 gives as medium \n",
        "med=out[out['model_1']=='medium']\n",
        "#select from X_test for those index\n",
        "idx=med.index\n",
        "med_x_test=X_test.loc[idx]\n",
        "## pass these data through model_2\n",
        "y_pred_model_2=model_2.predict(med_x_test)\n",
        "out_2=pd.DataFrame({'model_2':y_pred_model_2},index=idx)\n",
        "#merge two df-- outer join \n",
        "df=out.merge(out_2,how='outer',left_index=True, right_index=True)\n",
        "#fill missing values in model_2 with that of model_1. This is because model_2 will only have medium and high. \n",
        "#So low values should be filled\n",
        "df['model_2'].fillna(df['model_1'],inplace=True)\n",
        "#sort the index of the dataframe\n",
        "df.sort_index(inplace=True)\n",
        "#final predicted model outputs \n",
        "y_pred=df['model_2']\n",
        "#sort the y_test index\n",
        "y_test.sort_index(inplace=True)"
      ],
      "metadata": {
        "id": "qFFEEVgn4NxC"
      },
      "execution_count": 40,
      "outputs": []
    },
    {
      "cell_type": "markdown",
      "source": [
        "## Check if two dataframe index are equal"
      ],
      "metadata": {
        "id": "_L6kXUzv_Fzq"
      }
    },
    {
      "cell_type": "code",
      "source": [
        "y_test.index.equals(df.index)"
      ],
      "metadata": {
        "colab": {
          "base_uri": "https://localhost:8080/"
        },
        "id": "whleEJj9_E7C",
        "outputId": "9aaa41d7-6d8e-4965-c2ee-7ffe43c677f0"
      },
      "execution_count": 41,
      "outputs": [
        {
          "output_type": "execute_result",
          "data": {
            "text/plain": [
              "True"
            ]
          },
          "metadata": {},
          "execution_count": 41
        }
      ]
    },
    {
      "cell_type": "code",
      "source": [
        "print(classification_report(y_test,y_pred))"
      ],
      "metadata": {
        "id": "uBMtdz5Opws1",
        "colab": {
          "base_uri": "https://localhost:8080/"
        },
        "outputId": "2669f724-45be-4d21-9242-dc0cf170daa4"
      },
      "execution_count": 42,
      "outputs": [
        {
          "output_type": "stream",
          "name": "stdout",
          "text": [
            "              precision    recall  f1-score   support\n",
            "\n",
            "        high       0.40      0.93      0.56     14878\n",
            "         low       1.00      1.00      1.00    178064\n",
            "      medium       0.99      0.80      0.88    103704\n",
            "\n",
            "    accuracy                           0.93    296646\n",
            "   macro avg       0.80      0.91      0.81    296646\n",
            "weighted avg       0.97      0.93      0.94    296646\n",
            "\n"
          ]
        }
      ]
    },
    {
      "cell_type": "markdown",
      "source": [
        "## recall improves at the cost of precision- Inverse relationship ??"
      ],
      "metadata": {
        "id": "KYMFKkl-AfwF"
      }
    },
    {
      "cell_type": "markdown",
      "source": [
        "## Understand where is the model going wrong."
      ],
      "metadata": {
        "id": "ryxi2CSy1G_B"
      }
    },
    {
      "cell_type": "code",
      "source": [
        "print(confusion_matrix(y_test,y_pred))\n",
        "\n",
        "## row wise high,low,med\n",
        "##col wise high,low,med"
      ],
      "metadata": {
        "colab": {
          "base_uri": "https://localhost:8080/"
        },
        "id": "dca5W_sDzoOD",
        "outputId": "1dc1aef2-9da2-4099-aeb9-adeeb33819fb"
      },
      "execution_count": 43,
      "outputs": [
        {
          "output_type": "stream",
          "name": "stdout",
          "text": [
            "[[ 13802     31   1045]\n",
            " [   123 177941      0]\n",
            " [ 20713     43  82948]]\n"
          ]
        }
      ]
    },
    {
      "cell_type": "markdown",
      "source": [
        "## Notes on confusion matrix\n",
        "\n",
        "*   Mostly the model puts around 21k samples of medium risk into high risk which reduces the precision of high risk.\n",
        "*  only 31 samples from high risk class are misclassfied into low( which is good).\n",
        "* 1009 high risk samples are misclassfied into medium. Which is still better as classifying into low is much worse than medium\n",
        "\n"
      ],
      "metadata": {
        "id": "CPWTSG0qC6Ru"
      }
    },
    {
      "cell_type": "code",
      "source": [
        "test_model=RandomForestClassifier()\n",
        "test_model.fit(X_resampled,y_resampled)\n",
        "importances = test_model.feature_importances_\n",
        "feature=pd.DataFrame({'feature_name':X_resampled.columns,'score':importances})"
      ],
      "metadata": {
        "id": "KIDbfTBZ6zRy"
      },
      "execution_count": 44,
      "outputs": []
    },
    {
      "cell_type": "code",
      "source": [
        "feature.sort_values('score',inplace=True)"
      ],
      "metadata": {
        "id": "8SifKRnC8e1a"
      },
      "execution_count": 45,
      "outputs": []
    },
    {
      "cell_type": "code",
      "source": [
        "feature"
      ],
      "metadata": {
        "colab": {
          "base_uri": "https://localhost:8080/",
          "height": 1000
        },
        "id": "jxmJFc6b8oYW",
        "outputId": "d37a1b81-04aa-4810-944c-c0784879fe31"
      },
      "execution_count": 46,
      "outputs": [
        {
          "output_type": "execute_result",
          "data": {
            "text/plain": [
              "                       feature_name     score\n",
              "32     COUNTRY_RISK_INCOME_Moderate  0.000038\n",
              "35  COUNTRY_RISK_RESIDENCY_Moderate  0.000058\n",
              "30         COUNTRY_RISK_INCOME_High  0.000172\n",
              "31          COUNTRY_RISK_INCOME_Low  0.000201\n",
              "1                CNTRY_OF_INCOME_CA  0.000306\n",
              "34       COUNTRY_RISK_RESIDENCY_Low  0.000399\n",
              "33      COUNTRY_RISK_RESIDENCY_High  0.000418\n",
              "29                OCPTN_NM_Moderate  0.000510\n",
              "0                      RES_CNTRY_CA  0.000693\n",
              "37                      GENDER_Male  0.001186\n",
              "36                    GENDER_Female  0.001209\n",
              "27                    OCPTN_NM_High  0.001258\n",
              "28                     OCPTN_NM_Low  0.001271\n",
              "2                            PEP_FL  0.006382\n",
              "24                              age  0.008322\n",
              "4                       CASH_CNT_IN  0.009256\n",
              "23                        diff_year  0.009524\n",
              "13                    cash_cnt_diff  0.010042\n",
              "6                      CASH_CNT_OUT  0.010638\n",
              "8                      WIRES_CNT_IN  0.012284\n",
              "25                    cust_age_bank  0.012419\n",
              "14                    wire_cnt_diff  0.013127\n",
              "10                    WIRES_CNT_OUT  0.013536\n",
              "3                       CASH_SUM_IN  0.020521\n",
              "11                        cash_diff  0.023074\n",
              "5                      CASH_SUM_OUT  0.026039\n",
              "19                  monthly_cash_in  0.028038\n",
              "20                 monthly_cash_out  0.029486\n",
              "26                 total_money_left  0.047970\n",
              "9                     WIRES_SUM_OUT  0.051420\n",
              "17          avg_cash_transaction_in  0.060604\n",
              "12                        wire_diff  0.060866\n",
              "22                 monthly_wire_out  0.061994\n",
              "16         avg_wire_transaction_out  0.062743\n",
              "18          avg_wire_transaction_in  0.083997\n",
              "7                      WIRES_SUM_IN  0.086238\n",
              "21                  monthly_wire_in  0.117739\n",
              "15         avg_cash_transaction_out  0.126019"
            ],
            "text/html": [
              "\n",
              "  <div id=\"df-f937d198-cb20-4ace-80b2-db8a6597f2dc\">\n",
              "    <div class=\"colab-df-container\">\n",
              "      <div>\n",
              "<style scoped>\n",
              "    .dataframe tbody tr th:only-of-type {\n",
              "        vertical-align: middle;\n",
              "    }\n",
              "\n",
              "    .dataframe tbody tr th {\n",
              "        vertical-align: top;\n",
              "    }\n",
              "\n",
              "    .dataframe thead th {\n",
              "        text-align: right;\n",
              "    }\n",
              "</style>\n",
              "<table border=\"1\" class=\"dataframe\">\n",
              "  <thead>\n",
              "    <tr style=\"text-align: right;\">\n",
              "      <th></th>\n",
              "      <th>feature_name</th>\n",
              "      <th>score</th>\n",
              "    </tr>\n",
              "  </thead>\n",
              "  <tbody>\n",
              "    <tr>\n",
              "      <th>32</th>\n",
              "      <td>COUNTRY_RISK_INCOME_Moderate</td>\n",
              "      <td>0.000038</td>\n",
              "    </tr>\n",
              "    <tr>\n",
              "      <th>35</th>\n",
              "      <td>COUNTRY_RISK_RESIDENCY_Moderate</td>\n",
              "      <td>0.000058</td>\n",
              "    </tr>\n",
              "    <tr>\n",
              "      <th>30</th>\n",
              "      <td>COUNTRY_RISK_INCOME_High</td>\n",
              "      <td>0.000172</td>\n",
              "    </tr>\n",
              "    <tr>\n",
              "      <th>31</th>\n",
              "      <td>COUNTRY_RISK_INCOME_Low</td>\n",
              "      <td>0.000201</td>\n",
              "    </tr>\n",
              "    <tr>\n",
              "      <th>1</th>\n",
              "      <td>CNTRY_OF_INCOME_CA</td>\n",
              "      <td>0.000306</td>\n",
              "    </tr>\n",
              "    <tr>\n",
              "      <th>34</th>\n",
              "      <td>COUNTRY_RISK_RESIDENCY_Low</td>\n",
              "      <td>0.000399</td>\n",
              "    </tr>\n",
              "    <tr>\n",
              "      <th>33</th>\n",
              "      <td>COUNTRY_RISK_RESIDENCY_High</td>\n",
              "      <td>0.000418</td>\n",
              "    </tr>\n",
              "    <tr>\n",
              "      <th>29</th>\n",
              "      <td>OCPTN_NM_Moderate</td>\n",
              "      <td>0.000510</td>\n",
              "    </tr>\n",
              "    <tr>\n",
              "      <th>0</th>\n",
              "      <td>RES_CNTRY_CA</td>\n",
              "      <td>0.000693</td>\n",
              "    </tr>\n",
              "    <tr>\n",
              "      <th>37</th>\n",
              "      <td>GENDER_Male</td>\n",
              "      <td>0.001186</td>\n",
              "    </tr>\n",
              "    <tr>\n",
              "      <th>36</th>\n",
              "      <td>GENDER_Female</td>\n",
              "      <td>0.001209</td>\n",
              "    </tr>\n",
              "    <tr>\n",
              "      <th>27</th>\n",
              "      <td>OCPTN_NM_High</td>\n",
              "      <td>0.001258</td>\n",
              "    </tr>\n",
              "    <tr>\n",
              "      <th>28</th>\n",
              "      <td>OCPTN_NM_Low</td>\n",
              "      <td>0.001271</td>\n",
              "    </tr>\n",
              "    <tr>\n",
              "      <th>2</th>\n",
              "      <td>PEP_FL</td>\n",
              "      <td>0.006382</td>\n",
              "    </tr>\n",
              "    <tr>\n",
              "      <th>24</th>\n",
              "      <td>age</td>\n",
              "      <td>0.008322</td>\n",
              "    </tr>\n",
              "    <tr>\n",
              "      <th>4</th>\n",
              "      <td>CASH_CNT_IN</td>\n",
              "      <td>0.009256</td>\n",
              "    </tr>\n",
              "    <tr>\n",
              "      <th>23</th>\n",
              "      <td>diff_year</td>\n",
              "      <td>0.009524</td>\n",
              "    </tr>\n",
              "    <tr>\n",
              "      <th>13</th>\n",
              "      <td>cash_cnt_diff</td>\n",
              "      <td>0.010042</td>\n",
              "    </tr>\n",
              "    <tr>\n",
              "      <th>6</th>\n",
              "      <td>CASH_CNT_OUT</td>\n",
              "      <td>0.010638</td>\n",
              "    </tr>\n",
              "    <tr>\n",
              "      <th>8</th>\n",
              "      <td>WIRES_CNT_IN</td>\n",
              "      <td>0.012284</td>\n",
              "    </tr>\n",
              "    <tr>\n",
              "      <th>25</th>\n",
              "      <td>cust_age_bank</td>\n",
              "      <td>0.012419</td>\n",
              "    </tr>\n",
              "    <tr>\n",
              "      <th>14</th>\n",
              "      <td>wire_cnt_diff</td>\n",
              "      <td>0.013127</td>\n",
              "    </tr>\n",
              "    <tr>\n",
              "      <th>10</th>\n",
              "      <td>WIRES_CNT_OUT</td>\n",
              "      <td>0.013536</td>\n",
              "    </tr>\n",
              "    <tr>\n",
              "      <th>3</th>\n",
              "      <td>CASH_SUM_IN</td>\n",
              "      <td>0.020521</td>\n",
              "    </tr>\n",
              "    <tr>\n",
              "      <th>11</th>\n",
              "      <td>cash_diff</td>\n",
              "      <td>0.023074</td>\n",
              "    </tr>\n",
              "    <tr>\n",
              "      <th>5</th>\n",
              "      <td>CASH_SUM_OUT</td>\n",
              "      <td>0.026039</td>\n",
              "    </tr>\n",
              "    <tr>\n",
              "      <th>19</th>\n",
              "      <td>monthly_cash_in</td>\n",
              "      <td>0.028038</td>\n",
              "    </tr>\n",
              "    <tr>\n",
              "      <th>20</th>\n",
              "      <td>monthly_cash_out</td>\n",
              "      <td>0.029486</td>\n",
              "    </tr>\n",
              "    <tr>\n",
              "      <th>26</th>\n",
              "      <td>total_money_left</td>\n",
              "      <td>0.047970</td>\n",
              "    </tr>\n",
              "    <tr>\n",
              "      <th>9</th>\n",
              "      <td>WIRES_SUM_OUT</td>\n",
              "      <td>0.051420</td>\n",
              "    </tr>\n",
              "    <tr>\n",
              "      <th>17</th>\n",
              "      <td>avg_cash_transaction_in</td>\n",
              "      <td>0.060604</td>\n",
              "    </tr>\n",
              "    <tr>\n",
              "      <th>12</th>\n",
              "      <td>wire_diff</td>\n",
              "      <td>0.060866</td>\n",
              "    </tr>\n",
              "    <tr>\n",
              "      <th>22</th>\n",
              "      <td>monthly_wire_out</td>\n",
              "      <td>0.061994</td>\n",
              "    </tr>\n",
              "    <tr>\n",
              "      <th>16</th>\n",
              "      <td>avg_wire_transaction_out</td>\n",
              "      <td>0.062743</td>\n",
              "    </tr>\n",
              "    <tr>\n",
              "      <th>18</th>\n",
              "      <td>avg_wire_transaction_in</td>\n",
              "      <td>0.083997</td>\n",
              "    </tr>\n",
              "    <tr>\n",
              "      <th>7</th>\n",
              "      <td>WIRES_SUM_IN</td>\n",
              "      <td>0.086238</td>\n",
              "    </tr>\n",
              "    <tr>\n",
              "      <th>21</th>\n",
              "      <td>monthly_wire_in</td>\n",
              "      <td>0.117739</td>\n",
              "    </tr>\n",
              "    <tr>\n",
              "      <th>15</th>\n",
              "      <td>avg_cash_transaction_out</td>\n",
              "      <td>0.126019</td>\n",
              "    </tr>\n",
              "  </tbody>\n",
              "</table>\n",
              "</div>\n",
              "      <button class=\"colab-df-convert\" onclick=\"convertToInteractive('df-f937d198-cb20-4ace-80b2-db8a6597f2dc')\"\n",
              "              title=\"Convert this dataframe to an interactive table.\"\n",
              "              style=\"display:none;\">\n",
              "        \n",
              "  <svg xmlns=\"http://www.w3.org/2000/svg\" height=\"24px\"viewBox=\"0 0 24 24\"\n",
              "       width=\"24px\">\n",
              "    <path d=\"M0 0h24v24H0V0z\" fill=\"none\"/>\n",
              "    <path d=\"M18.56 5.44l.94 2.06.94-2.06 2.06-.94-2.06-.94-.94-2.06-.94 2.06-2.06.94zm-11 1L8.5 8.5l.94-2.06 2.06-.94-2.06-.94L8.5 2.5l-.94 2.06-2.06.94zm10 10l.94 2.06.94-2.06 2.06-.94-2.06-.94-.94-2.06-.94 2.06-2.06.94z\"/><path d=\"M17.41 7.96l-1.37-1.37c-.4-.4-.92-.59-1.43-.59-.52 0-1.04.2-1.43.59L10.3 9.45l-7.72 7.72c-.78.78-.78 2.05 0 2.83L4 21.41c.39.39.9.59 1.41.59.51 0 1.02-.2 1.41-.59l7.78-7.78 2.81-2.81c.8-.78.8-2.07 0-2.86zM5.41 20L4 18.59l7.72-7.72 1.47 1.35L5.41 20z\"/>\n",
              "  </svg>\n",
              "      </button>\n",
              "      \n",
              "  <style>\n",
              "    .colab-df-container {\n",
              "      display:flex;\n",
              "      flex-wrap:wrap;\n",
              "      gap: 12px;\n",
              "    }\n",
              "\n",
              "    .colab-df-convert {\n",
              "      background-color: #E8F0FE;\n",
              "      border: none;\n",
              "      border-radius: 50%;\n",
              "      cursor: pointer;\n",
              "      display: none;\n",
              "      fill: #1967D2;\n",
              "      height: 32px;\n",
              "      padding: 0 0 0 0;\n",
              "      width: 32px;\n",
              "    }\n",
              "\n",
              "    .colab-df-convert:hover {\n",
              "      background-color: #E2EBFA;\n",
              "      box-shadow: 0px 1px 2px rgba(60, 64, 67, 0.3), 0px 1px 3px 1px rgba(60, 64, 67, 0.15);\n",
              "      fill: #174EA6;\n",
              "    }\n",
              "\n",
              "    [theme=dark] .colab-df-convert {\n",
              "      background-color: #3B4455;\n",
              "      fill: #D2E3FC;\n",
              "    }\n",
              "\n",
              "    [theme=dark] .colab-df-convert:hover {\n",
              "      background-color: #434B5C;\n",
              "      box-shadow: 0px 1px 3px 1px rgba(0, 0, 0, 0.15);\n",
              "      filter: drop-shadow(0px 1px 2px rgba(0, 0, 0, 0.3));\n",
              "      fill: #FFFFFF;\n",
              "    }\n",
              "  </style>\n",
              "\n",
              "      <script>\n",
              "        const buttonEl =\n",
              "          document.querySelector('#df-f937d198-cb20-4ace-80b2-db8a6597f2dc button.colab-df-convert');\n",
              "        buttonEl.style.display =\n",
              "          google.colab.kernel.accessAllowed ? 'block' : 'none';\n",
              "\n",
              "        async function convertToInteractive(key) {\n",
              "          const element = document.querySelector('#df-f937d198-cb20-4ace-80b2-db8a6597f2dc');\n",
              "          const dataTable =\n",
              "            await google.colab.kernel.invokeFunction('convertToInteractive',\n",
              "                                                     [key], {});\n",
              "          if (!dataTable) return;\n",
              "\n",
              "          const docLinkHtml = 'Like what you see? Visit the ' +\n",
              "            '<a target=\"_blank\" href=https://colab.research.google.com/notebooks/data_table.ipynb>data table notebook</a>'\n",
              "            + ' to learn more about interactive tables.';\n",
              "          element.innerHTML = '';\n",
              "          dataTable['output_type'] = 'display_data';\n",
              "          await google.colab.output.renderOutput(dataTable, element);\n",
              "          const docLink = document.createElement('div');\n",
              "          docLink.innerHTML = docLinkHtml;\n",
              "          element.appendChild(docLink);\n",
              "        }\n",
              "      </script>\n",
              "    </div>\n",
              "  </div>\n",
              "  "
            ]
          },
          "metadata": {},
          "execution_count": 46
        }
      ]
    },
    {
      "cell_type": "code",
      "source": [
        "# out=pd.DataFrame({'true':y_test.values,'pred':y_pred_model_1},index=y_test.index)"
      ],
      "metadata": {
        "id": "iSOg3RKf1Kvy"
      },
      "execution_count": 47,
      "outputs": []
    },
    {
      "cell_type": "code",
      "source": [
        "# misclassified=out[out['pred']!=out['true']]"
      ],
      "metadata": {
        "id": "yxGc3_4o1hsL"
      },
      "execution_count": 48,
      "outputs": []
    },
    {
      "cell_type": "code",
      "source": [
        "# correct=out[out['pred']==out['true']]"
      ],
      "metadata": {
        "id": "DLkXcAqh5VBX"
      },
      "execution_count": 49,
      "outputs": []
    },
    {
      "cell_type": "code",
      "source": [
        "# correct.value_counts()"
      ],
      "metadata": {
        "id": "Rv_NucN65ZXQ"
      },
      "execution_count": 50,
      "outputs": []
    },
    {
      "cell_type": "code",
      "source": [
        "# y_test.value_counts()"
      ],
      "metadata": {
        "id": "B-ldfYMd5fR_"
      },
      "execution_count": 51,
      "outputs": []
    },
    {
      "cell_type": "code",
      "source": [
        "# out['pred'].value_counts()"
      ],
      "metadata": {
        "id": "EWesHgOH7JsD"
      },
      "execution_count": 52,
      "outputs": []
    },
    {
      "cell_type": "code",
      "source": [
        "# l=(180212-180145)\n",
        "# m=(104916-86163)\n",
        "# h=(14872-33692)\n",
        "# print(l,m,h)"
      ],
      "metadata": {
        "id": "jBNDU8fe5ib9"
      },
      "execution_count": 53,
      "outputs": []
    },
    {
      "cell_type": "markdown",
      "source": [
        "When Y_true is low what are the misclassified ones."
      ],
      "metadata": {
        "id": "Fkx3XbaU165K"
      }
    },
    {
      "cell_type": "code",
      "source": [
        "# y_true_low=misclassified[misclassified['true']=='low']\n",
        "# y_true_low['pred'].value_counts()"
      ],
      "metadata": {
        "id": "hq33HiHO1-9o"
      },
      "execution_count": 54,
      "outputs": []
    },
    {
      "cell_type": "markdown",
      "source": [
        "## when y_true is medium what are the misclassified ones."
      ],
      "metadata": {
        "id": "29Zr9E9P2VMZ"
      }
    },
    {
      "cell_type": "code",
      "source": [
        "# y_true_high=misclassified[misclassified['true']=='medium']\n",
        "# y_true_high['pred'].value_counts()"
      ],
      "metadata": {
        "id": "vyu3mDcI2cJ9"
      },
      "execution_count": 55,
      "outputs": []
    },
    {
      "cell_type": "markdown",
      "source": [
        "This means most of medium risk people are getting classified into high risk. Which is still okay and better than low risk."
      ],
      "metadata": {
        "id": "WSBFvQAo2zdg"
      }
    },
    {
      "cell_type": "code",
      "source": [
        "# y_true_high=misclassified[misclassified['true']=='high']\n",
        "# y_true_high['pred'].value_counts()"
      ],
      "metadata": {
        "id": "8nNDp2Rk27_3"
      },
      "execution_count": 56,
      "outputs": []
    },
    {
      "cell_type": "markdown",
      "source": [
        "So model is still doing better as it assigning more values to medium than low. "
      ],
      "metadata": {
        "id": "JsclyVW03EGe"
      }
    },
    {
      "cell_type": "code",
      "source": [
        "# misclassified['true'].value_counts()"
      ],
      "metadata": {
        "id": "wuM-lqBu1tKD"
      },
      "execution_count": 57,
      "outputs": []
    },
    {
      "cell_type": "code",
      "source": [
        "# misclassified['pred'].value_counts()"
      ],
      "metadata": {
        "id": "J303nsVJ1z2Z"
      },
      "execution_count": 58,
      "outputs": []
    },
    {
      "cell_type": "code",
      "source": [
        "# outliers=misclassified.index"
      ],
      "metadata": {
        "id": "XIGzt33g3YS7"
      },
      "execution_count": 59,
      "outputs": []
    },
    {
      "cell_type": "code",
      "source": [
        "# df=data.loc[outliers]"
      ],
      "metadata": {
        "id": "YWLEVYnk47MB"
      },
      "execution_count": 60,
      "outputs": []
    },
    {
      "cell_type": "code",
      "source": [
        "# df['RISK'].value_counts()"
      ],
      "metadata": {
        "id": "5rYLYLgz5E9Q"
      },
      "execution_count": 61,
      "outputs": []
    },
    {
      "cell_type": "code",
      "source": [
        "# conf_matrix=confusion_matrix(y_test,y_pred)\n",
        "# print(conf_matrix)\n",
        "\n",
        "# ##high low medium"
      ],
      "metadata": {
        "id": "hzB-GkkT9IfC"
      },
      "execution_count": 62,
      "outputs": []
    },
    {
      "cell_type": "code",
      "source": [
        "# import numpy as np\n",
        "# def extract_tp_fp_fn_tn_for_each_class(confusion_matrix):\n",
        "#     num_classes = confusion_matrix.shape[0]\n",
        "#     tp = np.zeros(num_classes, dtype=int)\n",
        "#     fp = np.zeros(num_classes, dtype=int)\n",
        "#     fn = np.zeros(num_classes, dtype=int)\n",
        "#     tn = np.zeros(num_classes, dtype=int)\n",
        "#     for i in range(num_classes):\n",
        "#         # tp[i] = confusion_matrix[i][i]\n",
        "#         fp[i] = np.sum(confusion_matrix[:, i]) - tp[i]\n",
        "#         fn[i] = np.sum(confusion_matrix[i, :]) - tp[i]\n",
        "#         tn[i] = np.sum(confusion_matrix) - tp[i] - fp[i] - fn[i]\n",
        "#     return tp, fp, fn, tn\n"
      ],
      "metadata": {
        "id": "VjOawMTq9VS-"
      },
      "execution_count": 63,
      "outputs": []
    },
    {
      "cell_type": "code",
      "source": [
        "# tp,fp,fn,tn=extract_tp_fp_fn_tn_for_each_class(conf_matrix)"
      ],
      "metadata": {
        "id": "RycmsP5X-Wf4"
      },
      "execution_count": 64,
      "outputs": []
    },
    {
      "cell_type": "code",
      "source": [
        "# tp"
      ],
      "metadata": {
        "id": "a39bKu55-hwM"
      },
      "execution_count": 65,
      "outputs": []
    },
    {
      "cell_type": "code",
      "source": [
        "# fp"
      ],
      "metadata": {
        "id": "8l8W_3_u-jG0"
      },
      "execution_count": 66,
      "outputs": []
    },
    {
      "cell_type": "code",
      "source": [
        "# fn"
      ],
      "metadata": {
        "id": "YycSOX0N-kIK"
      },
      "execution_count": 67,
      "outputs": []
    },
    {
      "cell_type": "code",
      "source": [
        "# tn"
      ],
      "metadata": {
        "id": "q7TeRVRb-lSw"
      },
      "execution_count": 68,
      "outputs": []
    }
  ],
  "metadata": {
    "colab": {
      "provenance": []
    },
    "gpuClass": "standard",
    "kernelspec": {
      "display_name": "Python 3",
      "name": "python3"
    },
    "language_info": {
      "name": "python"
    }
  },
  "nbformat": 4,
  "nbformat_minor": 0
}