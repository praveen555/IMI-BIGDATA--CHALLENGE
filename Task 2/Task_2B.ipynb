{
  "nbformat": 4,
  "nbformat_minor": 0,
  "metadata": {
    "colab": {
      "provenance": []
    },
    "kernelspec": {
      "name": "python3",
      "display_name": "Python 3"
    },
    "language_info": {
      "name": "python"
    }
  },
  "cells": [
    {
      "cell_type": "code",
      "execution_count": 1,
      "metadata": {
        "id": "_UqAilOkQ6Qw"
      },
      "outputs": [],
      "source": [
        "import pandas as pd"
      ]
    },
    {
      "cell_type": "code",
      "source": [
        "bad_actor_list=pd.read_csv('bad_actors_list_v1.csv',index_col=['CUSTOMER_ID'])\n",
        "bad_actor_index=bad_actor_list.index"
      ],
      "metadata": {
        "id": "4abCEDElRQQe"
      },
      "execution_count": 2,
      "outputs": []
    },
    {
      "cell_type": "code",
      "source": [
        "data=pd.read_csv('clean_uoft_nodes_v2.csv',parse_dates=['BIRTH_DT','CUST_ADD_DT'],index_col=['CUSTOMER_ID'])"
      ],
      "metadata": {
        "id": "FshX5-KlRdXS"
      },
      "execution_count": 3,
      "outputs": []
    },
    {
      "cell_type": "code",
      "source": [
        "col=['CASH_CNT_IN','CASH_SUM_OUT','CASH_SUM_IN','CASH_CNT_OUT', 'WIRES_SUM_IN', 'WIRES_CNT_IN',\n",
        "       'WIRES_SUM_OUT', 'WIRES_CNT_OUT']\n",
        "# ## Some the features have 0 and give inf or Nan when we divide\n",
        "for i in col:\n",
        "  data[i]=data[i]+1"
      ],
      "metadata": {
        "id": "7qQthRKvRfXW"
      },
      "execution_count": 4,
      "outputs": []
    },
    {
      "cell_type": "code",
      "source": [
        "data['cash_diff']=data['CASH_SUM_IN']-data['CASH_SUM_OUT']\n",
        "data['wire_diff']=data['WIRES_SUM_IN']-data['WIRES_SUM_OUT']\n",
        "data['cash_cnt_diff']=data['CASH_CNT_IN']-data['CASH_CNT_OUT']\n",
        "data['wire_cnt_diff']=data['WIRES_CNT_IN']-data['WIRES_CNT_OUT']\n",
        "data['avg_cash_transaction_out']=data['CASH_SUM_OUT']/data['CASH_CNT_OUT']\n",
        "data['avg_wire_transaction_out']=data['WIRES_SUM_OUT']/data['WIRES_CNT_OUT']\n",
        "data['avg_cash_transaction_in']=data['CASH_SUM_IN']/data['CASH_CNT_IN']\n",
        "data['avg_wire_transaction_in']=data['WIRES_SUM_IN']/data['WIRES_CNT_IN']\n",
        "data['monthly_cash_in']=data['CASH_SUM_IN']/12\n",
        "data['monthly_cash_out']=data['CASH_SUM_OUT']/12\n",
        "data['monthly_wire_in']=data['WIRES_SUM_IN']/12\n",
        "data['monthly_wire_out']=data['WIRES_SUM_OUT']/12\n",
        "data['year_diff']=data['CUST_ADD_DT'].dt.year-data['BIRTH_DT'].dt.year"
      ],
      "metadata": {
        "id": "pOM-rGrFTWGP"
      },
      "execution_count": 5,
      "outputs": []
    },
    {
      "cell_type": "code",
      "source": [
        "data.drop(['BIRTH_DT', 'CUST_ADD_DT','NAME'],inplace=True,axis=1)\n",
        "data=pd.get_dummies(data,columns=['OCPTN_NM','COUNTRY_RISK_INCOME','COUNTRY_RISK_RESIDENCY','GENDER'])"
      ],
      "metadata": {
        "id": "L3xwTCXiUBBV"
      },
      "execution_count": 6,
      "outputs": []
    },
    {
      "cell_type": "code",
      "source": [
        "data.head()"
      ],
      "metadata": {
        "colab": {
          "base_uri": "https://localhost:8080/",
          "height": 330
        },
        "id": "R2sX4DoMULBy",
        "outputId": "f0225c3f-8f0c-4e2b-f6c0-f74cd2f0e22d"
      },
      "execution_count": 7,
      "outputs": [
        {
          "output_type": "execute_result",
          "data": {
            "text/plain": [
              "             RES_CNTRY_CA  CNTRY_OF_INCOME_CA  PEP_FL  CASH_SUM_IN  \\\n",
              "CUSTOMER_ID                                                          \n",
              "935382                  1                   1       0     2578.785   \n",
              "2305                    1                   1       0     3036.502   \n",
              "472403                  1                   1       0     1618.571   \n",
              "227994                  1                   1       0     3588.042   \n",
              "418265                  1                   1       0     1726.524   \n",
              "\n",
              "             CASH_CNT_IN  CASH_SUM_OUT  CASH_CNT_OUT  WIRES_SUM_IN  \\\n",
              "CUSTOMER_ID                                                          \n",
              "935382                 3      2852.663             8         70775   \n",
              "2305                   3      4806.997            16        282930   \n",
              "472403                 2      3483.809            12          7633   \n",
              "227994                 6      1941.943             9        149254   \n",
              "418265                 3     13198.169            44         92319   \n",
              "\n",
              "             WIRES_CNT_IN  WIRES_SUM_OUT  ...  OCPTN_NM_Low OCPTN_NM_Moderate  \\\n",
              "CUSTOMER_ID                               ...                                   \n",
              "935382                 63          24245  ...             0                 0   \n",
              "2305                   77         196440  ...             0                 0   \n",
              "472403                  7          33599  ...             0                 0   \n",
              "227994                 72         105897  ...             0                 0   \n",
              "418265                 97         187404  ...             0                 0   \n",
              "\n",
              "             COUNTRY_RISK_INCOME_High  COUNTRY_RISK_INCOME_Low  \\\n",
              "CUSTOMER_ID                                                      \n",
              "935382                              0                        1   \n",
              "2305                                0                        1   \n",
              "472403                              0                        1   \n",
              "227994                              0                        1   \n",
              "418265                              0                        1   \n",
              "\n",
              "             COUNTRY_RISK_INCOME_Moderate  COUNTRY_RISK_RESIDENCY_High  \\\n",
              "CUSTOMER_ID                                                              \n",
              "935382                                  0                            0   \n",
              "2305                                    0                            0   \n",
              "472403                                  0                            0   \n",
              "227994                                  0                            0   \n",
              "418265                                  0                            0   \n",
              "\n",
              "             COUNTRY_RISK_RESIDENCY_Low  COUNTRY_RISK_RESIDENCY_Moderate  \\\n",
              "CUSTOMER_ID                                                                \n",
              "935382                                1                                0   \n",
              "2305                                  1                                0   \n",
              "472403                                1                                0   \n",
              "227994                                1                                0   \n",
              "418265                                1                                0   \n",
              "\n",
              "             GENDER_Female  GENDER_Male  \n",
              "CUSTOMER_ID                              \n",
              "935382                   1            0  \n",
              "2305                     0            1  \n",
              "472403                   0            1  \n",
              "227994                   1            0  \n",
              "418265                   1            0  \n",
              "\n",
              "[5 rows x 36 columns]"
            ],
            "text/html": [
              "\n",
              "  <div id=\"df-974e0ef2-84a6-4d50-9a15-2131e3b9c369\">\n",
              "    <div class=\"colab-df-container\">\n",
              "      <div>\n",
              "<style scoped>\n",
              "    .dataframe tbody tr th:only-of-type {\n",
              "        vertical-align: middle;\n",
              "    }\n",
              "\n",
              "    .dataframe tbody tr th {\n",
              "        vertical-align: top;\n",
              "    }\n",
              "\n",
              "    .dataframe thead th {\n",
              "        text-align: right;\n",
              "    }\n",
              "</style>\n",
              "<table border=\"1\" class=\"dataframe\">\n",
              "  <thead>\n",
              "    <tr style=\"text-align: right;\">\n",
              "      <th></th>\n",
              "      <th>RES_CNTRY_CA</th>\n",
              "      <th>CNTRY_OF_INCOME_CA</th>\n",
              "      <th>PEP_FL</th>\n",
              "      <th>CASH_SUM_IN</th>\n",
              "      <th>CASH_CNT_IN</th>\n",
              "      <th>CASH_SUM_OUT</th>\n",
              "      <th>CASH_CNT_OUT</th>\n",
              "      <th>WIRES_SUM_IN</th>\n",
              "      <th>WIRES_CNT_IN</th>\n",
              "      <th>WIRES_SUM_OUT</th>\n",
              "      <th>...</th>\n",
              "      <th>OCPTN_NM_Low</th>\n",
              "      <th>OCPTN_NM_Moderate</th>\n",
              "      <th>COUNTRY_RISK_INCOME_High</th>\n",
              "      <th>COUNTRY_RISK_INCOME_Low</th>\n",
              "      <th>COUNTRY_RISK_INCOME_Moderate</th>\n",
              "      <th>COUNTRY_RISK_RESIDENCY_High</th>\n",
              "      <th>COUNTRY_RISK_RESIDENCY_Low</th>\n",
              "      <th>COUNTRY_RISK_RESIDENCY_Moderate</th>\n",
              "      <th>GENDER_Female</th>\n",
              "      <th>GENDER_Male</th>\n",
              "    </tr>\n",
              "    <tr>\n",
              "      <th>CUSTOMER_ID</th>\n",
              "      <th></th>\n",
              "      <th></th>\n",
              "      <th></th>\n",
              "      <th></th>\n",
              "      <th></th>\n",
              "      <th></th>\n",
              "      <th></th>\n",
              "      <th></th>\n",
              "      <th></th>\n",
              "      <th></th>\n",
              "      <th></th>\n",
              "      <th></th>\n",
              "      <th></th>\n",
              "      <th></th>\n",
              "      <th></th>\n",
              "      <th></th>\n",
              "      <th></th>\n",
              "      <th></th>\n",
              "      <th></th>\n",
              "      <th></th>\n",
              "      <th></th>\n",
              "    </tr>\n",
              "  </thead>\n",
              "  <tbody>\n",
              "    <tr>\n",
              "      <th>935382</th>\n",
              "      <td>1</td>\n",
              "      <td>1</td>\n",
              "      <td>0</td>\n",
              "      <td>2578.785</td>\n",
              "      <td>3</td>\n",
              "      <td>2852.663</td>\n",
              "      <td>8</td>\n",
              "      <td>70775</td>\n",
              "      <td>63</td>\n",
              "      <td>24245</td>\n",
              "      <td>...</td>\n",
              "      <td>0</td>\n",
              "      <td>0</td>\n",
              "      <td>0</td>\n",
              "      <td>1</td>\n",
              "      <td>0</td>\n",
              "      <td>0</td>\n",
              "      <td>1</td>\n",
              "      <td>0</td>\n",
              "      <td>1</td>\n",
              "      <td>0</td>\n",
              "    </tr>\n",
              "    <tr>\n",
              "      <th>2305</th>\n",
              "      <td>1</td>\n",
              "      <td>1</td>\n",
              "      <td>0</td>\n",
              "      <td>3036.502</td>\n",
              "      <td>3</td>\n",
              "      <td>4806.997</td>\n",
              "      <td>16</td>\n",
              "      <td>282930</td>\n",
              "      <td>77</td>\n",
              "      <td>196440</td>\n",
              "      <td>...</td>\n",
              "      <td>0</td>\n",
              "      <td>0</td>\n",
              "      <td>0</td>\n",
              "      <td>1</td>\n",
              "      <td>0</td>\n",
              "      <td>0</td>\n",
              "      <td>1</td>\n",
              "      <td>0</td>\n",
              "      <td>0</td>\n",
              "      <td>1</td>\n",
              "    </tr>\n",
              "    <tr>\n",
              "      <th>472403</th>\n",
              "      <td>1</td>\n",
              "      <td>1</td>\n",
              "      <td>0</td>\n",
              "      <td>1618.571</td>\n",
              "      <td>2</td>\n",
              "      <td>3483.809</td>\n",
              "      <td>12</td>\n",
              "      <td>7633</td>\n",
              "      <td>7</td>\n",
              "      <td>33599</td>\n",
              "      <td>...</td>\n",
              "      <td>0</td>\n",
              "      <td>0</td>\n",
              "      <td>0</td>\n",
              "      <td>1</td>\n",
              "      <td>0</td>\n",
              "      <td>0</td>\n",
              "      <td>1</td>\n",
              "      <td>0</td>\n",
              "      <td>0</td>\n",
              "      <td>1</td>\n",
              "    </tr>\n",
              "    <tr>\n",
              "      <th>227994</th>\n",
              "      <td>1</td>\n",
              "      <td>1</td>\n",
              "      <td>0</td>\n",
              "      <td>3588.042</td>\n",
              "      <td>6</td>\n",
              "      <td>1941.943</td>\n",
              "      <td>9</td>\n",
              "      <td>149254</td>\n",
              "      <td>72</td>\n",
              "      <td>105897</td>\n",
              "      <td>...</td>\n",
              "      <td>0</td>\n",
              "      <td>0</td>\n",
              "      <td>0</td>\n",
              "      <td>1</td>\n",
              "      <td>0</td>\n",
              "      <td>0</td>\n",
              "      <td>1</td>\n",
              "      <td>0</td>\n",
              "      <td>1</td>\n",
              "      <td>0</td>\n",
              "    </tr>\n",
              "    <tr>\n",
              "      <th>418265</th>\n",
              "      <td>1</td>\n",
              "      <td>1</td>\n",
              "      <td>0</td>\n",
              "      <td>1726.524</td>\n",
              "      <td>3</td>\n",
              "      <td>13198.169</td>\n",
              "      <td>44</td>\n",
              "      <td>92319</td>\n",
              "      <td>97</td>\n",
              "      <td>187404</td>\n",
              "      <td>...</td>\n",
              "      <td>0</td>\n",
              "      <td>0</td>\n",
              "      <td>0</td>\n",
              "      <td>1</td>\n",
              "      <td>0</td>\n",
              "      <td>0</td>\n",
              "      <td>1</td>\n",
              "      <td>0</td>\n",
              "      <td>1</td>\n",
              "      <td>0</td>\n",
              "    </tr>\n",
              "  </tbody>\n",
              "</table>\n",
              "<p>5 rows × 36 columns</p>\n",
              "</div>\n",
              "      <button class=\"colab-df-convert\" onclick=\"convertToInteractive('df-974e0ef2-84a6-4d50-9a15-2131e3b9c369')\"\n",
              "              title=\"Convert this dataframe to an interactive table.\"\n",
              "              style=\"display:none;\">\n",
              "        \n",
              "  <svg xmlns=\"http://www.w3.org/2000/svg\" height=\"24px\"viewBox=\"0 0 24 24\"\n",
              "       width=\"24px\">\n",
              "    <path d=\"M0 0h24v24H0V0z\" fill=\"none\"/>\n",
              "    <path d=\"M18.56 5.44l.94 2.06.94-2.06 2.06-.94-2.06-.94-.94-2.06-.94 2.06-2.06.94zm-11 1L8.5 8.5l.94-2.06 2.06-.94-2.06-.94L8.5 2.5l-.94 2.06-2.06.94zm10 10l.94 2.06.94-2.06 2.06-.94-2.06-.94-.94-2.06-.94 2.06-2.06.94z\"/><path d=\"M17.41 7.96l-1.37-1.37c-.4-.4-.92-.59-1.43-.59-.52 0-1.04.2-1.43.59L10.3 9.45l-7.72 7.72c-.78.78-.78 2.05 0 2.83L4 21.41c.39.39.9.59 1.41.59.51 0 1.02-.2 1.41-.59l7.78-7.78 2.81-2.81c.8-.78.8-2.07 0-2.86zM5.41 20L4 18.59l7.72-7.72 1.47 1.35L5.41 20z\"/>\n",
              "  </svg>\n",
              "      </button>\n",
              "      \n",
              "  <style>\n",
              "    .colab-df-container {\n",
              "      display:flex;\n",
              "      flex-wrap:wrap;\n",
              "      gap: 12px;\n",
              "    }\n",
              "\n",
              "    .colab-df-convert {\n",
              "      background-color: #E8F0FE;\n",
              "      border: none;\n",
              "      border-radius: 50%;\n",
              "      cursor: pointer;\n",
              "      display: none;\n",
              "      fill: #1967D2;\n",
              "      height: 32px;\n",
              "      padding: 0 0 0 0;\n",
              "      width: 32px;\n",
              "    }\n",
              "\n",
              "    .colab-df-convert:hover {\n",
              "      background-color: #E2EBFA;\n",
              "      box-shadow: 0px 1px 2px rgba(60, 64, 67, 0.3), 0px 1px 3px 1px rgba(60, 64, 67, 0.15);\n",
              "      fill: #174EA6;\n",
              "    }\n",
              "\n",
              "    [theme=dark] .colab-df-convert {\n",
              "      background-color: #3B4455;\n",
              "      fill: #D2E3FC;\n",
              "    }\n",
              "\n",
              "    [theme=dark] .colab-df-convert:hover {\n",
              "      background-color: #434B5C;\n",
              "      box-shadow: 0px 1px 3px 1px rgba(0, 0, 0, 0.15);\n",
              "      filter: drop-shadow(0px 1px 2px rgba(0, 0, 0, 0.3));\n",
              "      fill: #FFFFFF;\n",
              "    }\n",
              "  </style>\n",
              "\n",
              "      <script>\n",
              "        const buttonEl =\n",
              "          document.querySelector('#df-974e0ef2-84a6-4d50-9a15-2131e3b9c369 button.colab-df-convert');\n",
              "        buttonEl.style.display =\n",
              "          google.colab.kernel.accessAllowed ? 'block' : 'none';\n",
              "\n",
              "        async function convertToInteractive(key) {\n",
              "          const element = document.querySelector('#df-974e0ef2-84a6-4d50-9a15-2131e3b9c369');\n",
              "          const dataTable =\n",
              "            await google.colab.kernel.invokeFunction('convertToInteractive',\n",
              "                                                     [key], {});\n",
              "          if (!dataTable) return;\n",
              "\n",
              "          const docLinkHtml = 'Like what you see? Visit the ' +\n",
              "            '<a target=\"_blank\" href=https://colab.research.google.com/notebooks/data_table.ipynb>data table notebook</a>'\n",
              "            + ' to learn more about interactive tables.';\n",
              "          element.innerHTML = '';\n",
              "          dataTable['output_type'] = 'display_data';\n",
              "          await google.colab.output.renderOutput(dataTable, element);\n",
              "          const docLink = document.createElement('div');\n",
              "          docLink.innerHTML = docLinkHtml;\n",
              "          element.appendChild(docLink);\n",
              "        }\n",
              "      </script>\n",
              "    </div>\n",
              "  </div>\n",
              "  "
            ]
          },
          "metadata": {},
          "execution_count": 7
        }
      ]
    },
    {
      "cell_type": "markdown",
      "source": [
        "## Create Label for bad actors "
      ],
      "metadata": {
        "id": "L_LsfWUqUgPV"
      }
    },
    {
      "cell_type": "code",
      "source": [
        "data['label']=None"
      ],
      "metadata": {
        "id": "vi0Che69UM-x"
      },
      "execution_count": 8,
      "outputs": []
    },
    {
      "cell_type": "code",
      "source": [
        "data.loc[bad_actor_index,'label']=1"
      ],
      "metadata": {
        "id": "m6nyrS8qVW5F"
      },
      "execution_count": 9,
      "outputs": []
    },
    {
      "cell_type": "code",
      "source": [
        "data['label']=data['label'].fillna(0)"
      ],
      "metadata": {
        "id": "H8oUucQVVXsg"
      },
      "execution_count": 10,
      "outputs": []
    },
    {
      "cell_type": "markdown",
      "source": [
        "## check our distribution it should be 50 counts of 1 and 999950 counts of 0"
      ],
      "metadata": {
        "id": "jt_K-A42XVwS"
      }
    },
    {
      "cell_type": "code",
      "source": [
        "data['label'].value_counts()"
      ],
      "metadata": {
        "colab": {
          "base_uri": "https://localhost:8080/"
        },
        "id": "KwWwCe-VW_fD",
        "outputId": "a0787299-2b8f-4cab-e0c9-6c0aaa2c32a0"
      },
      "execution_count": 11,
      "outputs": [
        {
          "output_type": "execute_result",
          "data": {
            "text/plain": [
              "0    999950\n",
              "1        50\n",
              "Name: label, dtype: int64"
            ]
          },
          "metadata": {},
          "execution_count": 11
        }
      ]
    },
    {
      "cell_type": "markdown",
      "source": [
        "## Sampling data. \n",
        "Since we are only having two classes, now it important how we sample the data since now both low+medium are in a single class. \n",
        "Main idea is take 100 samples each from low and medium so that we ensure some of the actual medium samples are also counted into the data. This would allow the model to identify the medium samples are low. Which otherwise might not be true if we just do random sampling.\n",
        "\n",
        "Use 25 samples of high risk to oversample to bring 100 samples of each class. Using stratify split to have 50 of each class in train test. \n",
        "\n",
        "Mainly because oversampling data to match the actual low samples is not viable and will just introduce more noise. "
      ],
      "metadata": {
        "id": "KGLZcIgFXw4e"
      }
    },
    {
      "cell_type": "code",
      "source": [
        "medium_data=data[data['RISK']=='medium']\n",
        "medium_index=medium_data.index\n",
        "low_data=data[data['RISK']=='low']\n",
        "low_index=low_data.index"
      ],
      "metadata": {
        "id": "whYJcuxkbO05"
      },
      "execution_count": 12,
      "outputs": []
    },
    {
      "cell_type": "code",
      "source": [
        "df_1=data[data['label']==1]\n",
        "df_1_idx=df_1.index"
      ],
      "metadata": {
        "id": "AIgiRQOlXRu_"
      },
      "execution_count": 13,
      "outputs": []
    },
    {
      "cell_type": "markdown",
      "source": [
        "Now check if index values are present in low and medium classes if yes, we need to remove those samples to avoid duplicates when random sampling or we can do that after concat alsow."
      ],
      "metadata": {
        "id": "RrFaMsj0cGZL"
      }
    },
    {
      "cell_type": "code",
      "source": [
        "df_1.index.isin(low_data.index)"
      ],
      "metadata": {
        "colab": {
          "base_uri": "https://localhost:8080/"
        },
        "id": "kAsKEzRXasWU",
        "outputId": "ac3b8f91-9f89-4b5b-ca16-59a30c7db215"
      },
      "execution_count": 14,
      "outputs": [
        {
          "output_type": "execute_result",
          "data": {
            "text/plain": [
              "array([False, False, False, False, False, False, False, False, False,\n",
              "       False, False, False, False, False, False, False, False, False,\n",
              "       False, False, False, False, False, False, False, False, False,\n",
              "       False, False, False, False, False, False, False, False, False,\n",
              "       False, False, False, False, False, False, False, False, False,\n",
              "       False, False, False, False, False])"
            ]
          },
          "metadata": {},
          "execution_count": 14
        }
      ]
    },
    {
      "cell_type": "markdown",
      "source": [
        "no index is matching from low"
      ],
      "metadata": {
        "id": "njUpbjkffeW0"
      }
    },
    {
      "cell_type": "code",
      "source": [
        "df_1.index.isin(medium_data.index)"
      ],
      "metadata": {
        "colab": {
          "base_uri": "https://localhost:8080/"
        },
        "id": "QKTkh99Hbtl5",
        "outputId": "0579f50a-5285-4424-c3e8-11209492e381"
      },
      "execution_count": 15,
      "outputs": [
        {
          "output_type": "execute_result",
          "data": {
            "text/plain": [
              "array([False, False, False, False, False, False, False, False, False,\n",
              "        True, False, False, False, False,  True, False,  True,  True,\n",
              "       False, False, False, False, False, False, False, False, False,\n",
              "       False, False, False, False, False, False, False, False, False,\n",
              "       False, False, False, False, False, False, False, False, False,\n",
              "       False, False, False, False, False])"
            ]
          },
          "metadata": {},
          "execution_count": 15
        }
      ]
    },
    {
      "cell_type": "markdown",
      "source": [
        "4 indexes are matching from medium. We can delete duplicates after merging. "
      ],
      "metadata": {
        "id": "EcbEqax7fiC_"
      }
    },
    {
      "cell_type": "code",
      "source": [
        "df_2=medium_data.sample(50)\n",
        "df_3=low_data.sample(50)"
      ],
      "metadata": {
        "id": "j8Vcfou4c6-5"
      },
      "execution_count": 16,
      "outputs": []
    },
    {
      "cell_type": "code",
      "source": [
        "df_final=pd.concat([df_1,df_2,df_3])"
      ],
      "metadata": {
        "id": "0MG1vRGCfuqw"
      },
      "execution_count": 17,
      "outputs": []
    },
    {
      "cell_type": "code",
      "source": [
        "df_final.columns"
      ],
      "metadata": {
        "colab": {
          "base_uri": "https://localhost:8080/"
        },
        "id": "_yGtcBgJioBY",
        "outputId": "8c5cf5a8-6f5f-49bd-d5c4-093e7f15b509"
      },
      "execution_count": 18,
      "outputs": [
        {
          "output_type": "execute_result",
          "data": {
            "text/plain": [
              "Index(['RES_CNTRY_CA', 'CNTRY_OF_INCOME_CA', 'PEP_FL', 'CASH_SUM_IN',\n",
              "       'CASH_CNT_IN', 'CASH_SUM_OUT', 'CASH_CNT_OUT', 'WIRES_SUM_IN',\n",
              "       'WIRES_CNT_IN', 'WIRES_SUM_OUT', 'WIRES_CNT_OUT', 'RISK', 'cash_diff',\n",
              "       'wire_diff', 'cash_cnt_diff', 'wire_cnt_diff',\n",
              "       'avg_cash_transaction_out', 'avg_wire_transaction_out',\n",
              "       'avg_cash_transaction_in', 'avg_wire_transaction_in', 'monthly_cash_in',\n",
              "       'monthly_cash_out', 'monthly_wire_in', 'monthly_wire_out', 'year_diff',\n",
              "       'OCPTN_NM_High', 'OCPTN_NM_Low', 'OCPTN_NM_Moderate',\n",
              "       'COUNTRY_RISK_INCOME_High', 'COUNTRY_RISK_INCOME_Low',\n",
              "       'COUNTRY_RISK_INCOME_Moderate', 'COUNTRY_RISK_RESIDENCY_High',\n",
              "       'COUNTRY_RISK_RESIDENCY_Low', 'COUNTRY_RISK_RESIDENCY_Moderate',\n",
              "       'GENDER_Female', 'GENDER_Male', 'label'],\n",
              "      dtype='object')"
            ]
          },
          "metadata": {},
          "execution_count": 18
        }
      ]
    },
    {
      "cell_type": "code",
      "source": [
        "df_final.drop(['RISK'],inplace=True,axis=1)"
      ],
      "metadata": {
        "id": "Dzi7OXHBivLI"
      },
      "execution_count": 19,
      "outputs": []
    },
    {
      "cell_type": "code",
      "source": [
        "df_final"
      ],
      "metadata": {
        "colab": {
          "base_uri": "https://localhost:8080/",
          "height": 519
        },
        "id": "X9-qCevyimK7",
        "outputId": "a1b1d868-579a-4467-ffc5-513691c64c29"
      },
      "execution_count": 20,
      "outputs": [
        {
          "output_type": "execute_result",
          "data": {
            "text/plain": [
              "             RES_CNTRY_CA  CNTRY_OF_INCOME_CA  PEP_FL  CASH_SUM_IN  \\\n",
              "CUSTOMER_ID                                                          \n",
              "214538                  1                   1       0    25832.652   \n",
              "917730                  1                   1       0     2409.782   \n",
              "359412                  1                   1       0    60349.480   \n",
              "763368                  1                   1       0    17930.276   \n",
              "404022                  1                   1       0    42625.993   \n",
              "...                   ...                 ...     ...          ...   \n",
              "990297                  1                   1       0      723.912   \n",
              "743932                  1                   1       0     2254.559   \n",
              "261459                  1                   1       0     1408.234   \n",
              "667239                  1                   1       0     1246.335   \n",
              "407909                  1                   1       0     2325.714   \n",
              "\n",
              "             CASH_CNT_IN  CASH_SUM_OUT  CASH_CNT_OUT  WIRES_SUM_IN  \\\n",
              "CUSTOMER_ID                                                          \n",
              "214538                12      8489.000             3       6683717   \n",
              "917730                 2     27873.000            33        796376   \n",
              "359412                32     30092.000            31       7049311   \n",
              "763368                 9       315.000             2         75442   \n",
              "404022                24     55846.000            37       6000240   \n",
              "...                  ...           ...           ...           ...   \n",
              "990297                 2      6492.684            24         46681   \n",
              "743932                 3      5684.855            22        166923   \n",
              "261459                 4     11674.889            44        186287   \n",
              "667239                 2      1925.392             4        236691   \n",
              "407909                 5      8716.468            24        282762   \n",
              "\n",
              "             WIRES_CNT_IN  WIRES_SUM_OUT  ...  OCPTN_NM_Moderate  \\\n",
              "CUSTOMER_ID                               ...                      \n",
              "214538                173        3287716  ...                  0   \n",
              "917730                 36         218560  ...                  0   \n",
              "359412                153        3055464  ...                  0   \n",
              "763368                 19          17400  ...                  0   \n",
              "404022                122        2485034  ...                  0   \n",
              "...                   ...            ...  ...                ...   \n",
              "990297                 41          24178  ...                  0   \n",
              "743932                 89         282586  ...                  0   \n",
              "261459                124         252523  ...                  0   \n",
              "667239                124         137373  ...                  0   \n",
              "407909                 99         115531  ...                  0   \n",
              "\n",
              "             COUNTRY_RISK_INCOME_High  COUNTRY_RISK_INCOME_Low  \\\n",
              "CUSTOMER_ID                                                      \n",
              "214538                              0                        1   \n",
              "917730                              0                        1   \n",
              "359412                              0                        1   \n",
              "763368                              0                        1   \n",
              "404022                              0                        1   \n",
              "...                               ...                      ...   \n",
              "990297                              0                        1   \n",
              "743932                              0                        1   \n",
              "261459                              0                        1   \n",
              "667239                              0                        1   \n",
              "407909                              0                        1   \n",
              "\n",
              "             COUNTRY_RISK_INCOME_Moderate  COUNTRY_RISK_RESIDENCY_High  \\\n",
              "CUSTOMER_ID                                                              \n",
              "214538                                  0                            0   \n",
              "917730                                  0                            0   \n",
              "359412                                  0                            0   \n",
              "763368                                  0                            0   \n",
              "404022                                  0                            0   \n",
              "...                                   ...                          ...   \n",
              "990297                                  0                            0   \n",
              "743932                                  0                            0   \n",
              "261459                                  0                            0   \n",
              "667239                                  0                            0   \n",
              "407909                                  0                            0   \n",
              "\n",
              "             COUNTRY_RISK_RESIDENCY_Low  COUNTRY_RISK_RESIDENCY_Moderate  \\\n",
              "CUSTOMER_ID                                                                \n",
              "214538                                1                                0   \n",
              "917730                                1                                0   \n",
              "359412                                1                                0   \n",
              "763368                                1                                0   \n",
              "404022                                1                                0   \n",
              "...                                 ...                              ...   \n",
              "990297                                1                                0   \n",
              "743932                                1                                0   \n",
              "261459                                1                                0   \n",
              "667239                                1                                0   \n",
              "407909                                1                                0   \n",
              "\n",
              "             GENDER_Female  GENDER_Male  label  \n",
              "CUSTOMER_ID                                     \n",
              "214538                   1            0      1  \n",
              "917730                   0            1      1  \n",
              "359412                   1            0      1  \n",
              "763368                   1            0      1  \n",
              "404022                   0            1      1  \n",
              "...                    ...          ...    ...  \n",
              "990297                   1            0      0  \n",
              "743932                   1            0      0  \n",
              "261459                   0            1      0  \n",
              "667239                   0            1      0  \n",
              "407909                   1            0      0  \n",
              "\n",
              "[150 rows x 36 columns]"
            ],
            "text/html": [
              "\n",
              "  <div id=\"df-f3a110b1-9312-4b39-84b2-371412d965fe\">\n",
              "    <div class=\"colab-df-container\">\n",
              "      <div>\n",
              "<style scoped>\n",
              "    .dataframe tbody tr th:only-of-type {\n",
              "        vertical-align: middle;\n",
              "    }\n",
              "\n",
              "    .dataframe tbody tr th {\n",
              "        vertical-align: top;\n",
              "    }\n",
              "\n",
              "    .dataframe thead th {\n",
              "        text-align: right;\n",
              "    }\n",
              "</style>\n",
              "<table border=\"1\" class=\"dataframe\">\n",
              "  <thead>\n",
              "    <tr style=\"text-align: right;\">\n",
              "      <th></th>\n",
              "      <th>RES_CNTRY_CA</th>\n",
              "      <th>CNTRY_OF_INCOME_CA</th>\n",
              "      <th>PEP_FL</th>\n",
              "      <th>CASH_SUM_IN</th>\n",
              "      <th>CASH_CNT_IN</th>\n",
              "      <th>CASH_SUM_OUT</th>\n",
              "      <th>CASH_CNT_OUT</th>\n",
              "      <th>WIRES_SUM_IN</th>\n",
              "      <th>WIRES_CNT_IN</th>\n",
              "      <th>WIRES_SUM_OUT</th>\n",
              "      <th>...</th>\n",
              "      <th>OCPTN_NM_Moderate</th>\n",
              "      <th>COUNTRY_RISK_INCOME_High</th>\n",
              "      <th>COUNTRY_RISK_INCOME_Low</th>\n",
              "      <th>COUNTRY_RISK_INCOME_Moderate</th>\n",
              "      <th>COUNTRY_RISK_RESIDENCY_High</th>\n",
              "      <th>COUNTRY_RISK_RESIDENCY_Low</th>\n",
              "      <th>COUNTRY_RISK_RESIDENCY_Moderate</th>\n",
              "      <th>GENDER_Female</th>\n",
              "      <th>GENDER_Male</th>\n",
              "      <th>label</th>\n",
              "    </tr>\n",
              "    <tr>\n",
              "      <th>CUSTOMER_ID</th>\n",
              "      <th></th>\n",
              "      <th></th>\n",
              "      <th></th>\n",
              "      <th></th>\n",
              "      <th></th>\n",
              "      <th></th>\n",
              "      <th></th>\n",
              "      <th></th>\n",
              "      <th></th>\n",
              "      <th></th>\n",
              "      <th></th>\n",
              "      <th></th>\n",
              "      <th></th>\n",
              "      <th></th>\n",
              "      <th></th>\n",
              "      <th></th>\n",
              "      <th></th>\n",
              "      <th></th>\n",
              "      <th></th>\n",
              "      <th></th>\n",
              "      <th></th>\n",
              "    </tr>\n",
              "  </thead>\n",
              "  <tbody>\n",
              "    <tr>\n",
              "      <th>214538</th>\n",
              "      <td>1</td>\n",
              "      <td>1</td>\n",
              "      <td>0</td>\n",
              "      <td>25832.652</td>\n",
              "      <td>12</td>\n",
              "      <td>8489.000</td>\n",
              "      <td>3</td>\n",
              "      <td>6683717</td>\n",
              "      <td>173</td>\n",
              "      <td>3287716</td>\n",
              "      <td>...</td>\n",
              "      <td>0</td>\n",
              "      <td>0</td>\n",
              "      <td>1</td>\n",
              "      <td>0</td>\n",
              "      <td>0</td>\n",
              "      <td>1</td>\n",
              "      <td>0</td>\n",
              "      <td>1</td>\n",
              "      <td>0</td>\n",
              "      <td>1</td>\n",
              "    </tr>\n",
              "    <tr>\n",
              "      <th>917730</th>\n",
              "      <td>1</td>\n",
              "      <td>1</td>\n",
              "      <td>0</td>\n",
              "      <td>2409.782</td>\n",
              "      <td>2</td>\n",
              "      <td>27873.000</td>\n",
              "      <td>33</td>\n",
              "      <td>796376</td>\n",
              "      <td>36</td>\n",
              "      <td>218560</td>\n",
              "      <td>...</td>\n",
              "      <td>0</td>\n",
              "      <td>0</td>\n",
              "      <td>1</td>\n",
              "      <td>0</td>\n",
              "      <td>0</td>\n",
              "      <td>1</td>\n",
              "      <td>0</td>\n",
              "      <td>0</td>\n",
              "      <td>1</td>\n",
              "      <td>1</td>\n",
              "    </tr>\n",
              "    <tr>\n",
              "      <th>359412</th>\n",
              "      <td>1</td>\n",
              "      <td>1</td>\n",
              "      <td>0</td>\n",
              "      <td>60349.480</td>\n",
              "      <td>32</td>\n",
              "      <td>30092.000</td>\n",
              "      <td>31</td>\n",
              "      <td>7049311</td>\n",
              "      <td>153</td>\n",
              "      <td>3055464</td>\n",
              "      <td>...</td>\n",
              "      <td>0</td>\n",
              "      <td>0</td>\n",
              "      <td>1</td>\n",
              "      <td>0</td>\n",
              "      <td>0</td>\n",
              "      <td>1</td>\n",
              "      <td>0</td>\n",
              "      <td>1</td>\n",
              "      <td>0</td>\n",
              "      <td>1</td>\n",
              "    </tr>\n",
              "    <tr>\n",
              "      <th>763368</th>\n",
              "      <td>1</td>\n",
              "      <td>1</td>\n",
              "      <td>0</td>\n",
              "      <td>17930.276</td>\n",
              "      <td>9</td>\n",
              "      <td>315.000</td>\n",
              "      <td>2</td>\n",
              "      <td>75442</td>\n",
              "      <td>19</td>\n",
              "      <td>17400</td>\n",
              "      <td>...</td>\n",
              "      <td>0</td>\n",
              "      <td>0</td>\n",
              "      <td>1</td>\n",
              "      <td>0</td>\n",
              "      <td>0</td>\n",
              "      <td>1</td>\n",
              "      <td>0</td>\n",
              "      <td>1</td>\n",
              "      <td>0</td>\n",
              "      <td>1</td>\n",
              "    </tr>\n",
              "    <tr>\n",
              "      <th>404022</th>\n",
              "      <td>1</td>\n",
              "      <td>1</td>\n",
              "      <td>0</td>\n",
              "      <td>42625.993</td>\n",
              "      <td>24</td>\n",
              "      <td>55846.000</td>\n",
              "      <td>37</td>\n",
              "      <td>6000240</td>\n",
              "      <td>122</td>\n",
              "      <td>2485034</td>\n",
              "      <td>...</td>\n",
              "      <td>0</td>\n",
              "      <td>0</td>\n",
              "      <td>1</td>\n",
              "      <td>0</td>\n",
              "      <td>0</td>\n",
              "      <td>1</td>\n",
              "      <td>0</td>\n",
              "      <td>0</td>\n",
              "      <td>1</td>\n",
              "      <td>1</td>\n",
              "    </tr>\n",
              "    <tr>\n",
              "      <th>...</th>\n",
              "      <td>...</td>\n",
              "      <td>...</td>\n",
              "      <td>...</td>\n",
              "      <td>...</td>\n",
              "      <td>...</td>\n",
              "      <td>...</td>\n",
              "      <td>...</td>\n",
              "      <td>...</td>\n",
              "      <td>...</td>\n",
              "      <td>...</td>\n",
              "      <td>...</td>\n",
              "      <td>...</td>\n",
              "      <td>...</td>\n",
              "      <td>...</td>\n",
              "      <td>...</td>\n",
              "      <td>...</td>\n",
              "      <td>...</td>\n",
              "      <td>...</td>\n",
              "      <td>...</td>\n",
              "      <td>...</td>\n",
              "      <td>...</td>\n",
              "    </tr>\n",
              "    <tr>\n",
              "      <th>990297</th>\n",
              "      <td>1</td>\n",
              "      <td>1</td>\n",
              "      <td>0</td>\n",
              "      <td>723.912</td>\n",
              "      <td>2</td>\n",
              "      <td>6492.684</td>\n",
              "      <td>24</td>\n",
              "      <td>46681</td>\n",
              "      <td>41</td>\n",
              "      <td>24178</td>\n",
              "      <td>...</td>\n",
              "      <td>0</td>\n",
              "      <td>0</td>\n",
              "      <td>1</td>\n",
              "      <td>0</td>\n",
              "      <td>0</td>\n",
              "      <td>1</td>\n",
              "      <td>0</td>\n",
              "      <td>1</td>\n",
              "      <td>0</td>\n",
              "      <td>0</td>\n",
              "    </tr>\n",
              "    <tr>\n",
              "      <th>743932</th>\n",
              "      <td>1</td>\n",
              "      <td>1</td>\n",
              "      <td>0</td>\n",
              "      <td>2254.559</td>\n",
              "      <td>3</td>\n",
              "      <td>5684.855</td>\n",
              "      <td>22</td>\n",
              "      <td>166923</td>\n",
              "      <td>89</td>\n",
              "      <td>282586</td>\n",
              "      <td>...</td>\n",
              "      <td>0</td>\n",
              "      <td>0</td>\n",
              "      <td>1</td>\n",
              "      <td>0</td>\n",
              "      <td>0</td>\n",
              "      <td>1</td>\n",
              "      <td>0</td>\n",
              "      <td>1</td>\n",
              "      <td>0</td>\n",
              "      <td>0</td>\n",
              "    </tr>\n",
              "    <tr>\n",
              "      <th>261459</th>\n",
              "      <td>1</td>\n",
              "      <td>1</td>\n",
              "      <td>0</td>\n",
              "      <td>1408.234</td>\n",
              "      <td>4</td>\n",
              "      <td>11674.889</td>\n",
              "      <td>44</td>\n",
              "      <td>186287</td>\n",
              "      <td>124</td>\n",
              "      <td>252523</td>\n",
              "      <td>...</td>\n",
              "      <td>0</td>\n",
              "      <td>0</td>\n",
              "      <td>1</td>\n",
              "      <td>0</td>\n",
              "      <td>0</td>\n",
              "      <td>1</td>\n",
              "      <td>0</td>\n",
              "      <td>0</td>\n",
              "      <td>1</td>\n",
              "      <td>0</td>\n",
              "    </tr>\n",
              "    <tr>\n",
              "      <th>667239</th>\n",
              "      <td>1</td>\n",
              "      <td>1</td>\n",
              "      <td>0</td>\n",
              "      <td>1246.335</td>\n",
              "      <td>2</td>\n",
              "      <td>1925.392</td>\n",
              "      <td>4</td>\n",
              "      <td>236691</td>\n",
              "      <td>124</td>\n",
              "      <td>137373</td>\n",
              "      <td>...</td>\n",
              "      <td>0</td>\n",
              "      <td>0</td>\n",
              "      <td>1</td>\n",
              "      <td>0</td>\n",
              "      <td>0</td>\n",
              "      <td>1</td>\n",
              "      <td>0</td>\n",
              "      <td>0</td>\n",
              "      <td>1</td>\n",
              "      <td>0</td>\n",
              "    </tr>\n",
              "    <tr>\n",
              "      <th>407909</th>\n",
              "      <td>1</td>\n",
              "      <td>1</td>\n",
              "      <td>0</td>\n",
              "      <td>2325.714</td>\n",
              "      <td>5</td>\n",
              "      <td>8716.468</td>\n",
              "      <td>24</td>\n",
              "      <td>282762</td>\n",
              "      <td>99</td>\n",
              "      <td>115531</td>\n",
              "      <td>...</td>\n",
              "      <td>0</td>\n",
              "      <td>0</td>\n",
              "      <td>1</td>\n",
              "      <td>0</td>\n",
              "      <td>0</td>\n",
              "      <td>1</td>\n",
              "      <td>0</td>\n",
              "      <td>1</td>\n",
              "      <td>0</td>\n",
              "      <td>0</td>\n",
              "    </tr>\n",
              "  </tbody>\n",
              "</table>\n",
              "<p>150 rows × 36 columns</p>\n",
              "</div>\n",
              "      <button class=\"colab-df-convert\" onclick=\"convertToInteractive('df-f3a110b1-9312-4b39-84b2-371412d965fe')\"\n",
              "              title=\"Convert this dataframe to an interactive table.\"\n",
              "              style=\"display:none;\">\n",
              "        \n",
              "  <svg xmlns=\"http://www.w3.org/2000/svg\" height=\"24px\"viewBox=\"0 0 24 24\"\n",
              "       width=\"24px\">\n",
              "    <path d=\"M0 0h24v24H0V0z\" fill=\"none\"/>\n",
              "    <path d=\"M18.56 5.44l.94 2.06.94-2.06 2.06-.94-2.06-.94-.94-2.06-.94 2.06-2.06.94zm-11 1L8.5 8.5l.94-2.06 2.06-.94-2.06-.94L8.5 2.5l-.94 2.06-2.06.94zm10 10l.94 2.06.94-2.06 2.06-.94-2.06-.94-.94-2.06-.94 2.06-2.06.94z\"/><path d=\"M17.41 7.96l-1.37-1.37c-.4-.4-.92-.59-1.43-.59-.52 0-1.04.2-1.43.59L10.3 9.45l-7.72 7.72c-.78.78-.78 2.05 0 2.83L4 21.41c.39.39.9.59 1.41.59.51 0 1.02-.2 1.41-.59l7.78-7.78 2.81-2.81c.8-.78.8-2.07 0-2.86zM5.41 20L4 18.59l7.72-7.72 1.47 1.35L5.41 20z\"/>\n",
              "  </svg>\n",
              "      </button>\n",
              "      \n",
              "  <style>\n",
              "    .colab-df-container {\n",
              "      display:flex;\n",
              "      flex-wrap:wrap;\n",
              "      gap: 12px;\n",
              "    }\n",
              "\n",
              "    .colab-df-convert {\n",
              "      background-color: #E8F0FE;\n",
              "      border: none;\n",
              "      border-radius: 50%;\n",
              "      cursor: pointer;\n",
              "      display: none;\n",
              "      fill: #1967D2;\n",
              "      height: 32px;\n",
              "      padding: 0 0 0 0;\n",
              "      width: 32px;\n",
              "    }\n",
              "\n",
              "    .colab-df-convert:hover {\n",
              "      background-color: #E2EBFA;\n",
              "      box-shadow: 0px 1px 2px rgba(60, 64, 67, 0.3), 0px 1px 3px 1px rgba(60, 64, 67, 0.15);\n",
              "      fill: #174EA6;\n",
              "    }\n",
              "\n",
              "    [theme=dark] .colab-df-convert {\n",
              "      background-color: #3B4455;\n",
              "      fill: #D2E3FC;\n",
              "    }\n",
              "\n",
              "    [theme=dark] .colab-df-convert:hover {\n",
              "      background-color: #434B5C;\n",
              "      box-shadow: 0px 1px 3px 1px rgba(0, 0, 0, 0.15);\n",
              "      filter: drop-shadow(0px 1px 2px rgba(0, 0, 0, 0.3));\n",
              "      fill: #FFFFFF;\n",
              "    }\n",
              "  </style>\n",
              "\n",
              "      <script>\n",
              "        const buttonEl =\n",
              "          document.querySelector('#df-f3a110b1-9312-4b39-84b2-371412d965fe button.colab-df-convert');\n",
              "        buttonEl.style.display =\n",
              "          google.colab.kernel.accessAllowed ? 'block' : 'none';\n",
              "\n",
              "        async function convertToInteractive(key) {\n",
              "          const element = document.querySelector('#df-f3a110b1-9312-4b39-84b2-371412d965fe');\n",
              "          const dataTable =\n",
              "            await google.colab.kernel.invokeFunction('convertToInteractive',\n",
              "                                                     [key], {});\n",
              "          if (!dataTable) return;\n",
              "\n",
              "          const docLinkHtml = 'Like what you see? Visit the ' +\n",
              "            '<a target=\"_blank\" href=https://colab.research.google.com/notebooks/data_table.ipynb>data table notebook</a>'\n",
              "            + ' to learn more about interactive tables.';\n",
              "          element.innerHTML = '';\n",
              "          dataTable['output_type'] = 'display_data';\n",
              "          await google.colab.output.renderOutput(dataTable, element);\n",
              "          const docLink = document.createElement('div');\n",
              "          docLink.innerHTML = docLinkHtml;\n",
              "          element.appendChild(docLink);\n",
              "        }\n",
              "      </script>\n",
              "    </div>\n",
              "  </div>\n",
              "  "
            ]
          },
          "metadata": {},
          "execution_count": 20
        }
      ]
    },
    {
      "cell_type": "markdown",
      "source": [
        "## Check if the merged df has duplicates, if yes then delete else proceed forward."
      ],
      "metadata": {
        "id": "gCtYvRwAhwr7"
      }
    },
    {
      "cell_type": "code",
      "source": [
        "if df_final.index.has_duplicates==True:\n",
        "  df_final.drop_duplicates()\n",
        "  print(\"Duplicates found and removed\")\n",
        "else:\n",
        "  print(\"No duplicates found\")"
      ],
      "metadata": {
        "colab": {
          "base_uri": "https://localhost:8080/"
        },
        "id": "HJSXIVn1he9P",
        "outputId": "bf7e0995-c2ce-4db6-8e3c-cd1da8098c34"
      },
      "execution_count": 21,
      "outputs": [
        {
          "output_type": "stream",
          "name": "stdout",
          "text": [
            "No duplicates found\n"
          ]
        }
      ]
    },
    {
      "cell_type": "markdown",
      "source": [
        "## Split into train_test"
      ],
      "metadata": {
        "id": "SO6-N4vsi_kY"
      }
    },
    {
      "cell_type": "code",
      "source": [
        "y=df_final['label']\n",
        "x=df_final.loc[:,df_final.columns!='label']"
      ],
      "metadata": {
        "id": "Yu0we-uqjP3l"
      },
      "execution_count": 22,
      "outputs": []
    },
    {
      "cell_type": "code",
      "source": [
        "print(x.shape,y.shape)"
      ],
      "metadata": {
        "colab": {
          "base_uri": "https://localhost:8080/"
        },
        "id": "QHvYs95wlAUO",
        "outputId": "5fc168e2-4639-43ef-8bda-a4fb20cd6b88"
      },
      "execution_count": 23,
      "outputs": [
        {
          "output_type": "stream",
          "name": "stdout",
          "text": [
            "(150, 35) (150,)\n"
          ]
        }
      ]
    },
    {
      "cell_type": "code",
      "source": [
        "from sklearn.model_selection import train_test_split\n",
        "x_train,x_test,y_train,y_test=train_test_split(x,y,test_size=0.3,stratify=y)"
      ],
      "metadata": {
        "id": "wu9Xw5cRhfrY"
      },
      "execution_count": 24,
      "outputs": []
    },
    {
      "cell_type": "code",
      "source": [
        "print(x_train.shape,y_train.shape,x_test.shape,y_test.shape)"
      ],
      "metadata": {
        "colab": {
          "base_uri": "https://localhost:8080/"
        },
        "id": "9v9Aia80lJsU",
        "outputId": "69144ec9-69f4-45ed-fb47-55294ff896f1"
      },
      "execution_count": 25,
      "outputs": [
        {
          "output_type": "stream",
          "name": "stdout",
          "text": [
            "(105, 35) (105,) (45, 35) (45,)\n"
          ]
        }
      ]
    },
    {
      "cell_type": "code",
      "source": [
        "y_train.value_counts()"
      ],
      "metadata": {
        "colab": {
          "base_uri": "https://localhost:8080/"
        },
        "id": "bNDqQzQFlNcl",
        "outputId": "54e1a38a-d95b-4206-a3ee-b50673903238"
      },
      "execution_count": 26,
      "outputs": [
        {
          "output_type": "execute_result",
          "data": {
            "text/plain": [
              "0    70\n",
              "1    35\n",
              "Name: label, dtype: int64"
            ]
          },
          "metadata": {},
          "execution_count": 26
        }
      ]
    },
    {
      "cell_type": "code",
      "source": [
        "y_test.value_counts()"
      ],
      "metadata": {
        "colab": {
          "base_uri": "https://localhost:8080/"
        },
        "id": "7NZSlkkalRVf",
        "outputId": "d1282a9b-9c0e-4602-c3d8-d87cfcaf6a8a"
      },
      "execution_count": 27,
      "outputs": [
        {
          "output_type": "execute_result",
          "data": {
            "text/plain": [
              "0    30\n",
              "1    15\n",
              "Name: label, dtype: int64"
            ]
          },
          "metadata": {},
          "execution_count": 27
        }
      ]
    },
    {
      "cell_type": "markdown",
      "source": [
        "## Standarize for linear models like SVM etc"
      ],
      "metadata": {
        "id": "xLciv21R1Lgr"
      }
    },
    {
      "cell_type": "code",
      "source": [
        "from sklearn.preprocessing import StandardScaler\n",
        "scaler=StandardScaler()\n",
        "scaler.fit(x_train)\n",
        "x_train_std=scaler.transform(x_train)\n",
        "x_test_std=scaler.transform(x_test)"
      ],
      "metadata": {
        "id": "yKEyx9iI1PS4"
      },
      "execution_count": 28,
      "outputs": []
    },
    {
      "cell_type": "code",
      "source": [
        "x_train_std.shape"
      ],
      "metadata": {
        "colab": {
          "base_uri": "https://localhost:8080/"
        },
        "id": "YadCO-vy1vf0",
        "outputId": "f66a302f-d1e2-4be1-d11b-3584ae7d4caa"
      },
      "execution_count": 29,
      "outputs": [
        {
          "output_type": "execute_result",
          "data": {
            "text/plain": [
              "(105, 35)"
            ]
          },
          "metadata": {},
          "execution_count": 29
        }
      ]
    },
    {
      "cell_type": "code",
      "source": [
        "x_test_std.shape"
      ],
      "metadata": {
        "colab": {
          "base_uri": "https://localhost:8080/"
        },
        "id": "ejLK-gHZ11TK",
        "outputId": "081d2c42-38b0-4ace-bab6-bef5750a7717"
      },
      "execution_count": 30,
      "outputs": [
        {
          "output_type": "execute_result",
          "data": {
            "text/plain": [
              "(45, 35)"
            ]
          },
          "metadata": {},
          "execution_count": 30
        }
      ]
    },
    {
      "cell_type": "markdown",
      "source": [
        "## try oversampling to bring traint to equal distribution"
      ],
      "metadata": {
        "id": "uaTWSA81owWP"
      }
    },
    {
      "cell_type": "code",
      "source": [
        "from imblearn.over_sampling import SMOTE\n",
        "sm = SMOTE()\n",
        "X_res, y_res = sm.fit_resample(x_train_std, y_train)\n",
        "print(X_res.shape,y_res.shape)\n",
        "print(y_res.value_counts())"
      ],
      "metadata": {
        "colab": {
          "base_uri": "https://localhost:8080/"
        },
        "id": "U3HzbPoull7T",
        "outputId": "31c2aa36-8e48-455b-e54a-167aa9771cea"
      },
      "execution_count": 31,
      "outputs": [
        {
          "output_type": "stream",
          "name": "stdout",
          "text": [
            "(140, 35) (140,)\n",
            "0    70\n",
            "1    70\n",
            "Name: label, dtype: int64\n"
          ]
        }
      ]
    },
    {
      "cell_type": "code",
      "source": [
        "from sklearn.metrics import *\n",
        "from sklearn.ensemble import *\n",
        "import xgboost as xgb\n",
        "model_1=RandomForestClassifier()\n",
        "model_2=HistGradientBoostingClassifier()\n",
        "model_3=xgb.XGBClassifier()\n",
        "model_1.fit(X_res,y_res)\n",
        "model_2.fit(X_res,y_res)\n",
        "model_3.fit(X_res,y_res)"
      ],
      "metadata": {
        "colab": {
          "base_uri": "https://localhost:8080/"
        },
        "id": "0XAc0OZ9phVi",
        "outputId": "2f3df069-5e87-4c74-b373-850687d2f0ab"
      },
      "execution_count": 32,
      "outputs": [
        {
          "output_type": "execute_result",
          "data": {
            "text/plain": [
              "XGBClassifier()"
            ]
          },
          "metadata": {},
          "execution_count": 32
        }
      ]
    },
    {
      "cell_type": "code",
      "source": [
        "def metrics(y_true,y_pred):\n",
        "  print(classification_report(y_true,y_pred))\n",
        "  print(confusion_matrix(y_true,y_pred))"
      ],
      "metadata": {
        "id": "V6xjhcofr5yM"
      },
      "execution_count": 33,
      "outputs": []
    },
    {
      "cell_type": "code",
      "source": [
        "y_pred_1=model_1.predict(x_test_std)\n",
        "y_pred_2=model_2.predict(x_test_std)\n",
        "y_pred_3=model_3.predict(x_test_std)"
      ],
      "metadata": {
        "id": "ypok7oP6qZnY"
      },
      "execution_count": 34,
      "outputs": []
    },
    {
      "cell_type": "code",
      "source": [
        "metrics(y_test,y_pred_1)"
      ],
      "metadata": {
        "colab": {
          "base_uri": "https://localhost:8080/"
        },
        "id": "9X9J-PNdrKE-",
        "outputId": "e6641e00-05df-4a93-c619-a3666726cbf6"
      },
      "execution_count": 35,
      "outputs": [
        {
          "output_type": "stream",
          "name": "stdout",
          "text": [
            "              precision    recall  f1-score   support\n",
            "\n",
            "           0       0.90      0.87      0.88        30\n",
            "           1       0.75      0.80      0.77        15\n",
            "\n",
            "    accuracy                           0.84        45\n",
            "   macro avg       0.82      0.83      0.83        45\n",
            "weighted avg       0.85      0.84      0.85        45\n",
            "\n",
            "[[26  4]\n",
            " [ 3 12]]\n"
          ]
        }
      ]
    },
    {
      "cell_type": "code",
      "source": [
        "metrics(y_test,y_pred_2)"
      ],
      "metadata": {
        "colab": {
          "base_uri": "https://localhost:8080/"
        },
        "id": "sXCo7hV8s5Yd",
        "outputId": "f6f813c3-6fcc-492c-e8ef-06e04406877d"
      },
      "execution_count": 36,
      "outputs": [
        {
          "output_type": "stream",
          "name": "stdout",
          "text": [
            "              precision    recall  f1-score   support\n",
            "\n",
            "           0       0.89      0.83      0.86        30\n",
            "           1       0.71      0.80      0.75        15\n",
            "\n",
            "    accuracy                           0.82        45\n",
            "   macro avg       0.80      0.82      0.81        45\n",
            "weighted avg       0.83      0.82      0.82        45\n",
            "\n",
            "[[25  5]\n",
            " [ 3 12]]\n"
          ]
        }
      ]
    },
    {
      "cell_type": "code",
      "source": [
        "metrics(y_test,y_pred_3)"
      ],
      "metadata": {
        "colab": {
          "base_uri": "https://localhost:8080/"
        },
        "id": "h75LIoSPs7ow",
        "outputId": "fc1c7241-2643-44eb-e802-a158abd27f69"
      },
      "execution_count": 37,
      "outputs": [
        {
          "output_type": "stream",
          "name": "stdout",
          "text": [
            "              precision    recall  f1-score   support\n",
            "\n",
            "           0       0.96      0.83      0.89        30\n",
            "           1       0.74      0.93      0.82        15\n",
            "\n",
            "    accuracy                           0.87        45\n",
            "   macro avg       0.85      0.88      0.86        45\n",
            "weighted avg       0.89      0.87      0.87        45\n",
            "\n",
            "[[25  5]\n",
            " [ 1 14]]\n"
          ]
        }
      ]
    },
    {
      "cell_type": "code",
      "source": [
        "print(accuracy_score(y_res,model_1.predict(X_res)))"
      ],
      "metadata": {
        "colab": {
          "base_uri": "https://localhost:8080/"
        },
        "id": "0qFCe3TDs86s",
        "outputId": "45c49884-ece6-47f4-a01e-e2fb0a0e30a1"
      },
      "execution_count": 38,
      "outputs": [
        {
          "output_type": "stream",
          "name": "stdout",
          "text": [
            "1.0\n"
          ]
        }
      ]
    },
    {
      "cell_type": "markdown",
      "source": [
        "## Try some linear classification models like SVM , Logisitic Regression etc"
      ],
      "metadata": {
        "id": "xuRCM91_2dCY"
      }
    },
    {
      "cell_type": "code",
      "source": [
        "from sklearn.svm import LinearSVC\n",
        "svc = LinearSVC()\n",
        "svc.fit(X_res,y_res)\n",
        "y_pred_4=svc.predict(x_test_std)\n",
        "metrics(y_test,y_pred_4)"
      ],
      "metadata": {
        "colab": {
          "base_uri": "https://localhost:8080/"
        },
        "id": "DweciEewvOaV",
        "outputId": "3e711c4e-16d5-400f-a29f-8faa56e5f908"
      },
      "execution_count": 39,
      "outputs": [
        {
          "output_type": "stream",
          "name": "stdout",
          "text": [
            "              precision    recall  f1-score   support\n",
            "\n",
            "           0       0.93      0.83      0.88        30\n",
            "           1       0.72      0.87      0.79        15\n",
            "\n",
            "    accuracy                           0.84        45\n",
            "   macro avg       0.82      0.85      0.83        45\n",
            "weighted avg       0.86      0.84      0.85        45\n",
            "\n",
            "[[25  5]\n",
            " [ 2 13]]\n"
          ]
        },
        {
          "output_type": "stream",
          "name": "stderr",
          "text": [
            "/usr/local/lib/python3.8/dist-packages/sklearn/svm/_base.py:1206: ConvergenceWarning: Liblinear failed to converge, increase the number of iterations.\n",
            "  warnings.warn(\n"
          ]
        }
      ]
    },
    {
      "cell_type": "code",
      "source": [
        "from sklearn.linear_model import LogisticRegression\n",
        "lr=LogisticRegression()\n",
        "lr.fit(X_res,y_res)\n",
        "y_pred_5=lr.predict(x_test_std)\n",
        "metrics(y_test,y_pred_5)"
      ],
      "metadata": {
        "colab": {
          "base_uri": "https://localhost:8080/"
        },
        "id": "ufi-UI2G4sK9",
        "outputId": "d001fa65-0415-467d-ac28-a6e7f2ff82eb"
      },
      "execution_count": 40,
      "outputs": [
        {
          "output_type": "stream",
          "name": "stdout",
          "text": [
            "              precision    recall  f1-score   support\n",
            "\n",
            "           0       0.89      0.80      0.84        30\n",
            "           1       0.67      0.80      0.73        15\n",
            "\n",
            "    accuracy                           0.80        45\n",
            "   macro avg       0.78      0.80      0.78        45\n",
            "weighted avg       0.81      0.80      0.80        45\n",
            "\n",
            "[[24  6]\n",
            " [ 3 12]]\n"
          ]
        }
      ]
    },
    {
      "cell_type": "code",
      "source": [],
      "metadata": {
        "id": "axIKUzid5Rtd"
      },
      "execution_count": 40,
      "outputs": []
    }
  ]
}