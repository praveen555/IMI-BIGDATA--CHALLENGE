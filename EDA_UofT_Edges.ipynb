{
 "cells": [
  {
   "cell_type": "markdown",
   "id": "030dd71d-c305-4d6f-bc62-d99333955eeb",
   "metadata": {},
   "source": [
    "# Exploratory Data Analysis for UofT Edges Dataset"
   ]
  },
  {
   "cell_type": "code",
   "execution_count": 1,
   "id": "0fb4656f-af40-4d11-b141-c7dfddbc3a49",
   "metadata": {},
   "outputs": [],
   "source": [
    "#!pip install libraries\n",
    "#!pip install seaborn\n",
    "#!pip install bioinfokit\n",
    "#!pip install statsmodels\n",
    "#!pip install scikit_posthocs\n",
    "#!pip install pingouin"
   ]
  },
  {
   "cell_type": "code",
   "execution_count": 2,
   "id": "24daa68a-6129-4d79-81eb-3f9fec7ab6be",
   "metadata": {},
   "outputs": [],
   "source": [
    "#Libraries \n",
    "import pandas as edges \n",
    "import numpy as np \n",
    "import matplotlib.pyplot as plt\n",
    "import seaborn as sns\n",
    "import pingouin as pg\n",
    "\n",
    "import statsmodels.api as sm\n",
    "from statsmodels.formula.api import ols\n",
    "from statsmodels.graphics.factorplots import interaction_plot\n",
    "\n",
    "from sklearn.linear_model import LinearRegression\n",
    "\n",
    "import statsmodels.api as sa\n",
    "import statsmodels.formula.api as sfa\n",
    "import scikit_posthocs as sp\n",
    "\n",
    "import scipy\n",
    "from scipy import stats\n",
    "\n",
    "from bioinfokit.analys import stat\n"
   ]
  },
  {
   "cell_type": "markdown",
   "id": "ce2668be-3e85-47b3-8c81-28bf766b0713",
   "metadata": {},
   "source": [
    "# Getting to Know Dataset\n",
    "\n",
    "Importing and checking columns, rows, datatype, and dimension."
   ]
  },
  {
   "cell_type": "code",
   "execution_count": 3,
   "id": "43067481-e850-4ebe-89e7-6bca435cb591",
   "metadata": {},
   "outputs": [
    {
     "data": {
      "text/html": [
       "<div>\n",
       "<style scoped>\n",
       "    .dataframe tbody tr th:only-of-type {\n",
       "        vertical-align: middle;\n",
       "    }\n",
       "\n",
       "    .dataframe tbody tr th {\n",
       "        vertical-align: top;\n",
       "    }\n",
       "\n",
       "    .dataframe thead th {\n",
       "        text-align: right;\n",
       "    }\n",
       "</style>\n",
       "<table border=\"1\" class=\"dataframe\">\n",
       "  <thead>\n",
       "    <tr style=\"text-align: right;\">\n",
       "      <th></th>\n",
       "      <th>source</th>\n",
       "      <th>target</th>\n",
       "      <th>emt</th>\n",
       "    </tr>\n",
       "  </thead>\n",
       "  <tbody>\n",
       "    <tr>\n",
       "      <th>0</th>\n",
       "      <td>983859.0</td>\n",
       "      <td>544485.0</td>\n",
       "      <td>503.807815</td>\n",
       "    </tr>\n",
       "    <tr>\n",
       "      <th>1</th>\n",
       "      <td>605618.0</td>\n",
       "      <td>362627.0</td>\n",
       "      <td>5157.568486</td>\n",
       "    </tr>\n",
       "    <tr>\n",
       "      <th>2</th>\n",
       "      <td>323189.0</td>\n",
       "      <td>118238.0</td>\n",
       "      <td>498.628481</td>\n",
       "    </tr>\n",
       "    <tr>\n",
       "      <th>3</th>\n",
       "      <td>919153.0</td>\n",
       "      <td>983859.0</td>\n",
       "      <td>401.962668</td>\n",
       "    </tr>\n",
       "    <tr>\n",
       "      <th>4</th>\n",
       "      <td>995748.0</td>\n",
       "      <td>983859.0</td>\n",
       "      <td>5095.458776</td>\n",
       "    </tr>\n",
       "  </tbody>\n",
       "</table>\n",
       "</div>"
      ],
      "text/plain": [
       "     source    target          emt\n",
       "0  983859.0  544485.0   503.807815\n",
       "1  605618.0  362627.0  5157.568486\n",
       "2  323189.0  118238.0   498.628481\n",
       "3  919153.0  983859.0   401.962668\n",
       "4  995748.0  983859.0  5095.458776"
      ]
     },
     "execution_count": 3,
     "metadata": {},
     "output_type": "execute_result"
    }
   ],
   "source": [
    "#Import csv file as pandas dataframe\n",
    "edges = edges.read_csv('UofT_edges.csv')\n",
    "edges.head()"
   ]
  },
  {
   "cell_type": "code",
   "execution_count": 4,
   "id": "41dda5ad-7c6d-499c-ba3c-575dc6306280",
   "metadata": {},
   "outputs": [
    {
     "data": {
      "text/html": [
       "<div>\n",
       "<style scoped>\n",
       "    .dataframe tbody tr th:only-of-type {\n",
       "        vertical-align: middle;\n",
       "    }\n",
       "\n",
       "    .dataframe tbody tr th {\n",
       "        vertical-align: top;\n",
       "    }\n",
       "\n",
       "    .dataframe thead th {\n",
       "        text-align: right;\n",
       "    }\n",
       "</style>\n",
       "<table border=\"1\" class=\"dataframe\">\n",
       "  <thead>\n",
       "    <tr style=\"text-align: right;\">\n",
       "      <th></th>\n",
       "      <th>source</th>\n",
       "      <th>target</th>\n",
       "      <th>emt</th>\n",
       "    </tr>\n",
       "  </thead>\n",
       "  <tbody>\n",
       "    <tr>\n",
       "      <th>count</th>\n",
       "      <td>4.662330e+05</td>\n",
       "      <td>4.662330e+05</td>\n",
       "      <td>466233.000000</td>\n",
       "    </tr>\n",
       "    <tr>\n",
       "      <th>mean</th>\n",
       "      <td>4.999237e+05</td>\n",
       "      <td>4.996089e+05</td>\n",
       "      <td>1080.340028</td>\n",
       "    </tr>\n",
       "    <tr>\n",
       "      <th>std</th>\n",
       "      <td>2.885814e+05</td>\n",
       "      <td>2.885656e+05</td>\n",
       "      <td>1305.276141</td>\n",
       "    </tr>\n",
       "    <tr>\n",
       "      <th>min</th>\n",
       "      <td>7.000000e+00</td>\n",
       "      <td>5.000000e+00</td>\n",
       "      <td>56.912763</td>\n",
       "    </tr>\n",
       "    <tr>\n",
       "      <th>25%</th>\n",
       "      <td>2.509160e+05</td>\n",
       "      <td>2.498470e+05</td>\n",
       "      <td>155.783331</td>\n",
       "    </tr>\n",
       "    <tr>\n",
       "      <th>50%</th>\n",
       "      <td>4.998480e+05</td>\n",
       "      <td>4.983410e+05</td>\n",
       "      <td>393.821975</td>\n",
       "    </tr>\n",
       "    <tr>\n",
       "      <th>75%</th>\n",
       "      <td>7.503390e+05</td>\n",
       "      <td>7.498650e+05</td>\n",
       "      <td>1516.447882</td>\n",
       "    </tr>\n",
       "    <tr>\n",
       "      <th>max</th>\n",
       "      <td>1.000674e+06</td>\n",
       "      <td>1.000674e+06</td>\n",
       "      <td>5394.814418</td>\n",
       "    </tr>\n",
       "  </tbody>\n",
       "</table>\n",
       "</div>"
      ],
      "text/plain": [
       "             source        target            emt\n",
       "count  4.662330e+05  4.662330e+05  466233.000000\n",
       "mean   4.999237e+05  4.996089e+05    1080.340028\n",
       "std    2.885814e+05  2.885656e+05    1305.276141\n",
       "min    7.000000e+00  5.000000e+00      56.912763\n",
       "25%    2.509160e+05  2.498470e+05     155.783331\n",
       "50%    4.998480e+05  4.983410e+05     393.821975\n",
       "75%    7.503390e+05  7.498650e+05    1516.447882\n",
       "max    1.000674e+06  1.000674e+06    5394.814418"
      ]
     },
     "execution_count": 4,
     "metadata": {},
     "output_type": "execute_result"
    }
   ],
   "source": [
    "#Exploring data characteristics\n",
    "edges.describe()"
   ]
  },
  {
   "cell_type": "code",
   "execution_count": 5,
   "id": "b296a29b-c1cf-49f8-b41a-7457f0c165cf",
   "metadata": {},
   "outputs": [
    {
     "name": "stdout",
     "output_type": "stream",
     "text": [
      "source\n",
      "target\n",
      "emt\n"
     ]
    }
   ],
   "source": [
    "for col in edges.columns: \n",
    "    print(col) "
   ]
  },
  {
   "cell_type": "code",
   "execution_count": 6,
   "id": "53415d94-461a-4d86-8d60-2ed17c74ce25",
   "metadata": {},
   "outputs": [
    {
     "data": {
      "text/plain": [
       "source    float64\n",
       "target    float64\n",
       "emt       float64\n",
       "dtype: object"
      ]
     },
     "execution_count": 6,
     "metadata": {},
     "output_type": "execute_result"
    }
   ],
   "source": [
    "#Checking data types in dataframe\n",
    "col_types = edges.dtypes\n",
    "col_types"
   ]
  },
  {
   "cell_type": "code",
   "execution_count": 7,
   "id": "e0dfbf91-cbdd-4787-9e80-bd89d3b8b57f",
   "metadata": {},
   "outputs": [
    {
     "data": {
      "text/plain": [
       "(466233, 3)"
      ]
     },
     "execution_count": 7,
     "metadata": {},
     "output_type": "execute_result"
    }
   ],
   "source": [
    "#Checking dimensions of the dataframe\n",
    "dims = edges.shape\n",
    "dims"
   ]
  },
  {
   "cell_type": "code",
   "execution_count": 10,
   "id": "3e06dd24-752a-4354-a5ea-a661383a03bd",
   "metadata": {},
   "outputs": [
    {
     "data": {
      "text/plain": [
       "23797.0     14\n",
       "637592.0    14\n",
       "580800.0    13\n",
       "681115.0    13\n",
       "762214.0    13\n",
       "            ..\n",
       "124922.0     1\n",
       "576596.0     1\n",
       "63208.0      1\n",
       "548278.0     1\n",
       "758280.0     1\n",
       "Name: source, Length: 240826, dtype: int64"
      ]
     },
     "execution_count": 10,
     "metadata": {},
     "output_type": "execute_result"
    }
   ],
   "source": [
    "#Unique value counts for Occuptations\n",
    "Source_freqs = edges['source'].value_counts()\n",
    "Source_freqs"
   ]
  },
  {
   "cell_type": "code",
   "execution_count": 11,
   "id": "efcac393-6768-4690-9cd1-7d2f2de0dffc",
   "metadata": {},
   "outputs": [
    {
     "data": {
      "text/plain": [
       "547346.0    15\n",
       "402152.0    15\n",
       "648909.0    14\n",
       "974277.0    13\n",
       "591214.0    13\n",
       "            ..\n",
       "717589.0     1\n",
       "195945.0     1\n",
       "584523.0     1\n",
       "334728.0     1\n",
       "137297.0     1\n",
       "Name: target, Length: 241285, dtype: int64"
      ]
     },
     "execution_count": 11,
     "metadata": {},
     "output_type": "execute_result"
    }
   ],
   "source": [
    "#Unique value counts for Country Risk Income\n",
    "target_freqs = edges['target'].value_counts()\n",
    "target_freqs"
   ]
  },
  {
   "cell_type": "code",
   "execution_count": 12,
   "id": "819db3d8-306d-402a-95fb-95f40b35d5d8",
   "metadata": {},
   "outputs": [
    {
     "data": {
      "text/plain": [
       "503.807815     1\n",
       "94.396489      1\n",
       "4076.362659    1\n",
       "1445.442226    1\n",
       "108.625267     1\n",
       "              ..\n",
       "164.025471     1\n",
       "145.820487     1\n",
       "2242.982729    1\n",
       "391.362974     1\n",
       "100.431608     1\n",
       "Name: emt, Length: 466233, dtype: int64"
      ]
     },
     "execution_count": 12,
     "metadata": {},
     "output_type": "execute_result"
    }
   ],
   "source": [
    "#Unique value counts for Country Risk Residency\n",
    "emt_freqs = edges['emt'].value_counts()\n",
    "emt_freqs"
   ]
  },
  {
   "cell_type": "markdown",
   "id": "a7d207cf-df03-4b87-a503-4a1305c4733c",
   "metadata": {},
   "source": [
    "# Data Cleaning\n",
    "\n",
    "Cleaning edges dataset using tidy data principles."
   ]
  },
  {
   "cell_type": "code",
   "execution_count": 15,
   "id": "672bea6c-b07e-405e-87b1-853b8e6cd877",
   "metadata": {},
   "outputs": [
    {
     "data": {
      "text/plain": [
       "0"
      ]
     },
     "execution_count": 15,
     "metadata": {},
     "output_type": "execute_result"
    }
   ],
   "source": [
    "edges.isnull().values.any().sum()"
   ]
  },
  {
   "cell_type": "code",
   "execution_count": 16,
   "id": "0b94181a-0a74-4632-9ce7-d697256c84f4",
   "metadata": {},
   "outputs": [
    {
     "data": {
      "text/plain": [
       "source    0\n",
       "target    0\n",
       "emt       0\n",
       "dtype: int64"
      ]
     },
     "execution_count": 16,
     "metadata": {},
     "output_type": "execute_result"
    }
   ],
   "source": [
    "#Calculate the number of missing values in each column:\n",
    "edges.isnull().sum()"
   ]
  },
  {
   "cell_type": "code",
   "execution_count": 17,
   "id": "7cd23011-f31d-47bb-81ef-9c4cd82fba73",
   "metadata": {},
   "outputs": [
    {
     "data": {
      "text/plain": [
       "<AxesSubplot:>"
      ]
     },
     "execution_count": 17,
     "metadata": {},
     "output_type": "execute_result"
    },
    {
     "data": {
      "image/png": "[encoded data removed]",
      "text/plain": [
       "<Figure size 640x480 with 1 Axes>"
      ]
     },
     "metadata": {},
     "output_type": "display_data"
    }
   ],
   "source": [
    "#Use a heatmap to visualize missing data\n",
    "sns.heatmap(edges.isnull(), cbar=False)"
   ]
  },
  {
   "cell_type": "code",
   "execution_count": 18,
   "id": "81383ca0-a517-49d9-879b-c2c96b6d25e0",
   "metadata": {},
   "outputs": [
    {
     "data": {
      "text/html": [
       "<div>\n",
       "<style scoped>\n",
       "    .dataframe tbody tr th:only-of-type {\n",
       "        vertical-align: middle;\n",
       "    }\n",
       "\n",
       "    .dataframe tbody tr th {\n",
       "        vertical-align: top;\n",
       "    }\n",
       "\n",
       "    .dataframe thead th {\n",
       "        text-align: right;\n",
       "    }\n",
       "</style>\n",
       "<table border=\"1\" class=\"dataframe\">\n",
       "  <thead>\n",
       "    <tr style=\"text-align: right;\">\n",
       "      <th></th>\n",
       "      <th>source</th>\n",
       "      <th>target</th>\n",
       "      <th>emt</th>\n",
       "    </tr>\n",
       "  </thead>\n",
       "  <tbody>\n",
       "    <tr>\n",
       "      <th>0</th>\n",
       "      <td>983859.0</td>\n",
       "      <td>544485.0</td>\n",
       "      <td>503.807815</td>\n",
       "    </tr>\n",
       "    <tr>\n",
       "      <th>1</th>\n",
       "      <td>605618.0</td>\n",
       "      <td>362627.0</td>\n",
       "      <td>5157.568486</td>\n",
       "    </tr>\n",
       "    <tr>\n",
       "      <th>2</th>\n",
       "      <td>323189.0</td>\n",
       "      <td>118238.0</td>\n",
       "      <td>498.628481</td>\n",
       "    </tr>\n",
       "    <tr>\n",
       "      <th>3</th>\n",
       "      <td>919153.0</td>\n",
       "      <td>983859.0</td>\n",
       "      <td>401.962668</td>\n",
       "    </tr>\n",
       "    <tr>\n",
       "      <th>4</th>\n",
       "      <td>995748.0</td>\n",
       "      <td>983859.0</td>\n",
       "      <td>5095.458776</td>\n",
       "    </tr>\n",
       "    <tr>\n",
       "      <th>...</th>\n",
       "      <td>...</td>\n",
       "      <td>...</td>\n",
       "      <td>...</td>\n",
       "    </tr>\n",
       "    <tr>\n",
       "      <th>466228</th>\n",
       "      <td>743092.0</td>\n",
       "      <td>307628.0</td>\n",
       "      <td>2959.506391</td>\n",
       "    </tr>\n",
       "    <tr>\n",
       "      <th>466229</th>\n",
       "      <td>420266.0</td>\n",
       "      <td>489593.0</td>\n",
       "      <td>208.011081</td>\n",
       "    </tr>\n",
       "    <tr>\n",
       "      <th>466230</th>\n",
       "      <td>441447.0</td>\n",
       "      <td>877470.0</td>\n",
       "      <td>2221.199295</td>\n",
       "    </tr>\n",
       "    <tr>\n",
       "      <th>466231</th>\n",
       "      <td>444883.0</td>\n",
       "      <td>137297.0</td>\n",
       "      <td>1175.932049</td>\n",
       "    </tr>\n",
       "    <tr>\n",
       "      <th>466232</th>\n",
       "      <td>500103.0</td>\n",
       "      <td>123640.0</td>\n",
       "      <td>100.431608</td>\n",
       "    </tr>\n",
       "  </tbody>\n",
       "</table>\n",
       "<p>466233 rows × 3 columns</p>\n",
       "</div>"
      ],
      "text/plain": [
       "          source    target          emt\n",
       "0       983859.0  544485.0   503.807815\n",
       "1       605618.0  362627.0  5157.568486\n",
       "2       323189.0  118238.0   498.628481\n",
       "3       919153.0  983859.0   401.962668\n",
       "4       995748.0  983859.0  5095.458776\n",
       "...          ...       ...          ...\n",
       "466228  743092.0  307628.0  2959.506391\n",
       "466229  420266.0  489593.0   208.011081\n",
       "466230  441447.0  877470.0  2221.199295\n",
       "466231  444883.0  137297.0  1175.932049\n",
       "466232  500103.0  123640.0   100.431608\n",
       "\n",
       "[466233 rows x 3 columns]"
      ]
     },
     "execution_count": 18,
     "metadata": {},
     "output_type": "execute_result"
    }
   ],
   "source": [
    "edges.dropna()"
   ]
  },
  {
   "cell_type": "markdown",
   "id": "465d9c3b-bf0f-455d-aee8-3722e3abf967",
   "metadata": {},
   "source": [
    "# Correlations"
   ]
  },
  {
   "cell_type": "code",
   "execution_count": 19,
   "id": "cb6ebd36-5595-4f65-960f-763247df9247",
   "metadata": {},
   "outputs": [
    {
     "data": {
      "text/html": [
       "<div>\n",
       "<style scoped>\n",
       "    .dataframe tbody tr th:only-of-type {\n",
       "        vertical-align: middle;\n",
       "    }\n",
       "\n",
       "    .dataframe tbody tr th {\n",
       "        vertical-align: top;\n",
       "    }\n",
       "\n",
       "    .dataframe thead th {\n",
       "        text-align: right;\n",
       "    }\n",
       "</style>\n",
       "<table border=\"1\" class=\"dataframe\">\n",
       "  <thead>\n",
       "    <tr style=\"text-align: right;\">\n",
       "      <th></th>\n",
       "      <th>source</th>\n",
       "      <th>target</th>\n",
       "      <th>emt</th>\n",
       "    </tr>\n",
       "  </thead>\n",
       "  <tbody>\n",
       "    <tr>\n",
       "      <th>source</th>\n",
       "      <td>1.000000</td>\n",
       "      <td>-0.000409</td>\n",
       "      <td>0.000620</td>\n",
       "    </tr>\n",
       "    <tr>\n",
       "      <th>target</th>\n",
       "      <td>-0.000409</td>\n",
       "      <td>1.000000</td>\n",
       "      <td>0.002468</td>\n",
       "    </tr>\n",
       "    <tr>\n",
       "      <th>emt</th>\n",
       "      <td>0.000620</td>\n",
       "      <td>0.002468</td>\n",
       "      <td>1.000000</td>\n",
       "    </tr>\n",
       "  </tbody>\n",
       "</table>\n",
       "</div>"
      ],
      "text/plain": [
       "          source    target       emt\n",
       "source  1.000000 -0.000409  0.000620\n",
       "target -0.000409  1.000000  0.002468\n",
       "emt     0.000620  0.002468  1.000000"
      ]
     },
     "execution_count": 19,
     "metadata": {},
     "output_type": "execute_result"
    }
   ],
   "source": [
    "#Overview of all correlations between all pairs of numerical columns\n",
    "edges.corr()"
   ]
  },
  {
   "cell_type": "code",
   "execution_count": 20,
   "id": "c9b10e64-fe71-4711-96b5-afb3f95d86fb",
   "metadata": {},
   "outputs": [
    {
     "data": {
      "text/html": [
       "<style type=\"text/css\">\n",
       "#T_bb09c_row0_col0, #T_bb09c_row1_col1, #T_bb09c_row2_col2 {\n",
       "  background-color: #08306b;\n",
       "  color: #f1f1f1;\n",
       "}\n",
       "#T_bb09c_row0_col1, #T_bb09c_row0_col2, #T_bb09c_row1_col0, #T_bb09c_row1_col2, #T_bb09c_row2_col0, #T_bb09c_row2_col1 {\n",
       "  background-color: #f7fbff;\n",
       "  color: #000000;\n",
       "}\n",
       "</style>\n",
       "<table id=\"T_bb09c\">\n",
       "  <thead>\n",
       "    <tr>\n",
       "      <th class=\"blank level0\" >&nbsp;</th>\n",
       "      <th id=\"T_bb09c_level0_col0\" class=\"col_heading level0 col0\" >source</th>\n",
       "      <th id=\"T_bb09c_level0_col1\" class=\"col_heading level0 col1\" >target</th>\n",
       "      <th id=\"T_bb09c_level0_col2\" class=\"col_heading level0 col2\" >emt</th>\n",
       "    </tr>\n",
       "  </thead>\n",
       "  <tbody>\n",
       "    <tr>\n",
       "      <th id=\"T_bb09c_level0_row0\" class=\"row_heading level0 row0\" >source</th>\n",
       "      <td id=\"T_bb09c_row0_col0\" class=\"data row0 col0\" >1.000000</td>\n",
       "      <td id=\"T_bb09c_row0_col1\" class=\"data row0 col1\" >-0.000409</td>\n",
       "      <td id=\"T_bb09c_row0_col2\" class=\"data row0 col2\" >0.000620</td>\n",
       "    </tr>\n",
       "    <tr>\n",
       "      <th id=\"T_bb09c_level0_row1\" class=\"row_heading level0 row1\" >target</th>\n",
       "      <td id=\"T_bb09c_row1_col0\" class=\"data row1 col0\" >-0.000409</td>\n",
       "      <td id=\"T_bb09c_row1_col1\" class=\"data row1 col1\" >1.000000</td>\n",
       "      <td id=\"T_bb09c_row1_col2\" class=\"data row1 col2\" >0.002468</td>\n",
       "    </tr>\n",
       "    <tr>\n",
       "      <th id=\"T_bb09c_level0_row2\" class=\"row_heading level0 row2\" >emt</th>\n",
       "      <td id=\"T_bb09c_row2_col0\" class=\"data row2 col0\" >0.000620</td>\n",
       "      <td id=\"T_bb09c_row2_col1\" class=\"data row2 col1\" >0.002468</td>\n",
       "      <td id=\"T_bb09c_row2_col2\" class=\"data row2 col2\" >1.000000</td>\n",
       "    </tr>\n",
       "  </tbody>\n",
       "</table>\n"
      ],
      "text/plain": [
       "<pandas.io.formats.style.Styler at 0x153b4b29d00>"
      ]
     },
     "execution_count": 20,
     "metadata": {},
     "output_type": "execute_result"
    }
   ],
   "source": [
    "edges.corr().style.background_gradient(cmap=\"Blues\")"
   ]
  },
  {
   "cell_type": "code",
   "execution_count": null,
   "id": "3bb5b8f9-a64f-425b-981d-d731622c76ff",
   "metadata": {},
   "outputs": [],
   "source": []
  }
 ],
 "metadata": {
  "kernelspec": {
   "display_name": "Python 3 (ipykernel)",
   "language": "python",
   "name": "python3"
  },
  "language_info": {
   "codemirror_mode": {
    "name": "ipython",
    "version": 3
   },
   "file_extension": ".py",
   "mimetype": "text/x-python",
   "name": "python",
   "nbconvert_exporter": "python",
   "pygments_lexer": "ipython3",
   "version": "3.9.13"
  }
 },
 "nbformat": 4,
 "nbformat_minor": 5
}
