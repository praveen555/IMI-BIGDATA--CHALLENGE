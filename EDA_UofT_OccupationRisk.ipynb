{
 "cells": [
  {
   "cell_type": "markdown",
   "id": "030dd71d-c305-4d6f-bc62-d99333955eeb",
   "metadata": {},
   "source": [
    "# Exploratory Data Analysis for UofT occ_risk Dataset"
   ]
  },
  {
   "cell_type": "code",
   "execution_count": 1,
   "id": "0fb4656f-af40-4d11-b141-c7dfddbc3a49",
   "metadata": {},
   "outputs": [],
   "source": [
    "#!pip install libraries\n",
    "#!pip install seaborn\n",
    "#!pip install bioinfokit\n",
    "#!pip install statsmodels\n",
    "#!pip install scikit_posthocs\n",
    "#!pip install pingouin"
   ]
  },
  {
   "cell_type": "code",
   "execution_count": 2,
   "id": "24daa68a-6129-4d79-81eb-3f9fec7ab6be",
   "metadata": {},
   "outputs": [],
   "source": [
    "#Libraries \n",
    "import pandas as occ_risk \n",
    "import numpy as np \n",
    "import matplotlib.pyplot as plt\n",
    "import seaborn as sns\n",
    "import pingouin as pg\n",
    "\n",
    "import statsmodels.api as sm\n",
    "from statsmodels.formula.api import ols\n",
    "from statsmodels.graphics.factorplots import interaction_plot\n",
    "\n",
    "from sklearn.linear_model import LinearRegression\n",
    "\n",
    "import statsmodels.api as sa\n",
    "import statsmodels.formula.api as sfa\n",
    "import scikit_posthocs as sp\n",
    "\n",
    "import scipy\n",
    "from scipy import stats\n",
    "\n",
    "from bioinfokit.analys import stat\n"
   ]
  },
  {
   "cell_type": "markdown",
   "id": "ce2668be-3e85-47b3-8c81-28bf766b0713",
   "metadata": {},
   "source": [
    "# Getting to Know Dataset\n",
    "\n",
    "Importing and checking columns, rows, datatype, and dimension."
   ]
  },
  {
   "cell_type": "code",
   "execution_count": 3,
   "id": "43067481-e850-4ebe-89e7-6bca435cb591",
   "metadata": {},
   "outputs": [
    {
     "data": {
      "text/html": [
       "<div>\n",
       "<style scoped>\n",
       "    .dataframe tbody tr th:only-of-type {\n",
       "        vertical-align: middle;\n",
       "    }\n",
       "\n",
       "    .dataframe tbody tr th {\n",
       "        vertical-align: top;\n",
       "    }\n",
       "\n",
       "    .dataframe thead th {\n",
       "        text-align: right;\n",
       "    }\n",
       "</style>\n",
       "<table border=\"1\" class=\"dataframe\">\n",
       "  <thead>\n",
       "    <tr style=\"text-align: right;\">\n",
       "      <th></th>\n",
       "      <th>code</th>\n",
       "      <th>occupation_risk</th>\n",
       "    </tr>\n",
       "  </thead>\n",
       "  <tbody>\n",
       "    <tr>\n",
       "      <th>0</th>\n",
       "      <td>0</td>\n",
       "      <td>Low</td>\n",
       "    </tr>\n",
       "    <tr>\n",
       "      <th>1</th>\n",
       "      <td>1</td>\n",
       "      <td>High</td>\n",
       "    </tr>\n",
       "    <tr>\n",
       "      <th>2</th>\n",
       "      <td>2</td>\n",
       "      <td>Low</td>\n",
       "    </tr>\n",
       "    <tr>\n",
       "      <th>3</th>\n",
       "      <td>3</td>\n",
       "      <td>Low</td>\n",
       "    </tr>\n",
       "    <tr>\n",
       "      <th>4</th>\n",
       "      <td>4</td>\n",
       "      <td>Low</td>\n",
       "    </tr>\n",
       "  </tbody>\n",
       "</table>\n",
       "</div>"
      ],
      "text/plain": [
       "   code occupation_risk\n",
       "0     0             Low\n",
       "1     1            High\n",
       "2     2             Low\n",
       "3     3             Low\n",
       "4     4             Low"
      ]
     },
     "execution_count": 3,
     "metadata": {},
     "output_type": "execute_result"
    }
   ],
   "source": [
    "#Import csv file as pandas dataframe\n",
    "occ_risk = occ_risk.read_csv('UofT_occupation_risk.csv')\n",
    "occ_risk.head()"
   ]
  },
  {
   "cell_type": "code",
   "execution_count": 4,
   "id": "41dda5ad-7c6d-499c-ba3c-575dc6306280",
   "metadata": {},
   "outputs": [
    {
     "data": {
      "text/html": [
       "<div>\n",
       "<style scoped>\n",
       "    .dataframe tbody tr th:only-of-type {\n",
       "        vertical-align: middle;\n",
       "    }\n",
       "\n",
       "    .dataframe tbody tr th {\n",
       "        vertical-align: top;\n",
       "    }\n",
       "\n",
       "    .dataframe thead th {\n",
       "        text-align: right;\n",
       "    }\n",
       "</style>\n",
       "<table border=\"1\" class=\"dataframe\">\n",
       "  <thead>\n",
       "    <tr style=\"text-align: right;\">\n",
       "      <th></th>\n",
       "      <th>code</th>\n",
       "    </tr>\n",
       "  </thead>\n",
       "  <tbody>\n",
       "    <tr>\n",
       "      <th>count</th>\n",
       "      <td>841.000000</td>\n",
       "    </tr>\n",
       "    <tr>\n",
       "      <th>mean</th>\n",
       "      <td>420.000000</td>\n",
       "    </tr>\n",
       "    <tr>\n",
       "      <th>std</th>\n",
       "      <td>242.920083</td>\n",
       "    </tr>\n",
       "    <tr>\n",
       "      <th>min</th>\n",
       "      <td>0.000000</td>\n",
       "    </tr>\n",
       "    <tr>\n",
       "      <th>25%</th>\n",
       "      <td>210.000000</td>\n",
       "    </tr>\n",
       "    <tr>\n",
       "      <th>50%</th>\n",
       "      <td>420.000000</td>\n",
       "    </tr>\n",
       "    <tr>\n",
       "      <th>75%</th>\n",
       "      <td>630.000000</td>\n",
       "    </tr>\n",
       "    <tr>\n",
       "      <th>max</th>\n",
       "      <td>840.000000</td>\n",
       "    </tr>\n",
       "  </tbody>\n",
       "</table>\n",
       "</div>"
      ],
      "text/plain": [
       "             code\n",
       "count  841.000000\n",
       "mean   420.000000\n",
       "std    242.920083\n",
       "min      0.000000\n",
       "25%    210.000000\n",
       "50%    420.000000\n",
       "75%    630.000000\n",
       "max    840.000000"
      ]
     },
     "execution_count": 4,
     "metadata": {},
     "output_type": "execute_result"
    }
   ],
   "source": [
    "#Exploring data characteristics\n",
    "occ_risk.describe()"
   ]
  },
  {
   "cell_type": "code",
   "execution_count": 5,
   "id": "b296a29b-c1cf-49f8-b41a-7457f0c165cf",
   "metadata": {},
   "outputs": [
    {
     "name": "stdout",
     "output_type": "stream",
     "text": [
      "code\n",
      "occupation_risk\n"
     ]
    }
   ],
   "source": [
    "for col in occ_risk.columns: \n",
    "    print(col) "
   ]
  },
  {
   "cell_type": "code",
   "execution_count": 10,
   "id": "53415d94-461a-4d86-8d60-2ed17c74ce25",
   "metadata": {},
   "outputs": [
    {
     "data": {
      "text/plain": [
       "code                int64\n",
       "occupation_risk    object\n",
       "dtype: object"
      ]
     },
     "execution_count": 10,
     "metadata": {},
     "output_type": "execute_result"
    }
   ],
   "source": [
    "#Checking data types in dataframe\n",
    "col_types = occ_risk.dtypes\n",
    "col_types"
   ]
  },
  {
   "cell_type": "code",
   "execution_count": 7,
   "id": "e0dfbf91-cbdd-4787-9e80-bd89d3b8b57f",
   "metadata": {},
   "outputs": [
    {
     "data": {
      "text/plain": [
       "(841, 2)"
      ]
     },
     "execution_count": 7,
     "metadata": {},
     "output_type": "execute_result"
    }
   ],
   "source": [
    "#Checking dimensions of the dataframe\n",
    "dims = occ_risk.shape\n",
    "dims"
   ]
  },
  {
   "cell_type": "code",
   "execution_count": 11,
   "id": "3e06dd24-752a-4354-a5ea-a661383a03bd",
   "metadata": {},
   "outputs": [
    {
     "data": {
      "text/plain": [
       "0      1\n",
       "578    1\n",
       "554    1\n",
       "555    1\n",
       "556    1\n",
       "      ..\n",
       "284    1\n",
       "285    1\n",
       "286    1\n",
       "287    1\n",
       "840    1\n",
       "Name: code, Length: 841, dtype: int64"
      ]
     },
     "execution_count": 11,
     "metadata": {},
     "output_type": "execute_result"
    }
   ],
   "source": [
    "#Unique value counts for Code\n",
    "code_freqs = occ_risk['code'].value_counts()\n",
    "code_freqs"
   ]
  },
  {
   "cell_type": "code",
   "execution_count": 13,
   "id": "efcac393-6768-4690-9cd1-7d2f2de0dffc",
   "metadata": {},
   "outputs": [
    {
     "data": {
      "text/plain": [
       "Low         629\n",
       "High        167\n",
       "Moderate     45\n",
       "Name: occupation_risk, dtype: int64"
      ]
     },
     "execution_count": 13,
     "metadata": {},
     "output_type": "execute_result"
    }
   ],
   "source": [
    "#Unique value counts for Occupation Risk\n",
    "occupation_risk_freqs = occ_risk['occupation_risk'].value_counts()\n",
    "occupation_risk_freqs"
   ]
  },
  {
   "cell_type": "markdown",
   "id": "a7d207cf-df03-4b87-a503-4a1305c4733c",
   "metadata": {},
   "source": [
    "# Data Cleaning\n",
    "\n",
    "Cleaning occ_risk dataset using tidy data principles."
   ]
  },
  {
   "cell_type": "code",
   "execution_count": 14,
   "id": "d9091877-3f9d-4f28-9962-362e94706965",
   "metadata": {},
   "outputs": [
    {
     "data": {
      "text/html": [
       "<div>\n",
       "<style scoped>\n",
       "    .dataframe tbody tr th:only-of-type {\n",
       "        vertical-align: middle;\n",
       "    }\n",
       "\n",
       "    .dataframe tbody tr th {\n",
       "        vertical-align: top;\n",
       "    }\n",
       "\n",
       "    .dataframe thead th {\n",
       "        text-align: right;\n",
       "    }\n",
       "</style>\n",
       "<table border=\"1\" class=\"dataframe\">\n",
       "  <thead>\n",
       "    <tr style=\"text-align: right;\">\n",
       "      <th></th>\n",
       "      <th>code</th>\n",
       "      <th>occupation_risk</th>\n",
       "    </tr>\n",
       "  </thead>\n",
       "  <tbody>\n",
       "  </tbody>\n",
       "</table>\n",
       "</div>"
      ],
      "text/plain": [
       "Empty DataFrame\n",
       "Columns: [code, occupation_risk]\n",
       "Index: []"
      ]
     },
     "execution_count": 14,
     "metadata": {},
     "output_type": "execute_result"
    }
   ],
   "source": [
    "#Check for duplicates of the same values across attributes listed\n",
    "dups = occ_risk.duplicated(['code', 'occupation_risk'])\n",
    "occ_risk[dups]"
   ]
  },
  {
   "cell_type": "code",
   "execution_count": 15,
   "id": "672bea6c-b07e-405e-87b1-853b8e6cd877",
   "metadata": {},
   "outputs": [
    {
     "data": {
      "text/plain": [
       "0"
      ]
     },
     "execution_count": 15,
     "metadata": {},
     "output_type": "execute_result"
    }
   ],
   "source": [
    "occ_risk.isnull().values.any().sum()"
   ]
  },
  {
   "cell_type": "code",
   "execution_count": 16,
   "id": "0b94181a-0a74-4632-9ce7-d697256c84f4",
   "metadata": {},
   "outputs": [
    {
     "data": {
      "text/plain": [
       "code               0\n",
       "occupation_risk    0\n",
       "dtype: int64"
      ]
     },
     "execution_count": 16,
     "metadata": {},
     "output_type": "execute_result"
    }
   ],
   "source": [
    "#Calculate the number of missing values in each column:\n",
    "occ_risk.isnull().sum()"
   ]
  },
  {
   "cell_type": "code",
   "execution_count": 17,
   "id": "7cd23011-f31d-47bb-81ef-9c4cd82fba73",
   "metadata": {},
   "outputs": [
    {
     "data": {
      "text/plain": [
       "<AxesSubplot:>"
      ]
     },
     "execution_count": 17,
     "metadata": {},
     "output_type": "execute_result"
    },
    {
     "data": {
      "image/png": "[encoded data removed]",
      "text/plain": [
       "<Figure size 640x480 with 1 Axes>"
      ]
     },
     "metadata": {},
     "output_type": "display_data"
    }
   ],
   "source": [
    "#Use a heatmap to visualize missing data\n",
    "sns.heatmap(occ_risk.isnull(), cbar=False)"
   ]
  },
  {
   "cell_type": "code",
   "execution_count": 18,
   "id": "81383ca0-a517-49d9-879b-c2c96b6d25e0",
   "metadata": {},
   "outputs": [
    {
     "data": {
      "text/html": [
       "<div>\n",
       "<style scoped>\n",
       "    .dataframe tbody tr th:only-of-type {\n",
       "        vertical-align: middle;\n",
       "    }\n",
       "\n",
       "    .dataframe tbody tr th {\n",
       "        vertical-align: top;\n",
       "    }\n",
       "\n",
       "    .dataframe thead th {\n",
       "        text-align: right;\n",
       "    }\n",
       "</style>\n",
       "<table border=\"1\" class=\"dataframe\">\n",
       "  <thead>\n",
       "    <tr style=\"text-align: right;\">\n",
       "      <th></th>\n",
       "      <th>code</th>\n",
       "      <th>occupation_risk</th>\n",
       "    </tr>\n",
       "  </thead>\n",
       "  <tbody>\n",
       "    <tr>\n",
       "      <th>0</th>\n",
       "      <td>0</td>\n",
       "      <td>Low</td>\n",
       "    </tr>\n",
       "    <tr>\n",
       "      <th>1</th>\n",
       "      <td>1</td>\n",
       "      <td>High</td>\n",
       "    </tr>\n",
       "    <tr>\n",
       "      <th>2</th>\n",
       "      <td>2</td>\n",
       "      <td>Low</td>\n",
       "    </tr>\n",
       "    <tr>\n",
       "      <th>3</th>\n",
       "      <td>3</td>\n",
       "      <td>Low</td>\n",
       "    </tr>\n",
       "    <tr>\n",
       "      <th>4</th>\n",
       "      <td>4</td>\n",
       "      <td>Low</td>\n",
       "    </tr>\n",
       "    <tr>\n",
       "      <th>...</th>\n",
       "      <td>...</td>\n",
       "      <td>...</td>\n",
       "    </tr>\n",
       "    <tr>\n",
       "      <th>836</th>\n",
       "      <td>836</td>\n",
       "      <td>Low</td>\n",
       "    </tr>\n",
       "    <tr>\n",
       "      <th>837</th>\n",
       "      <td>837</td>\n",
       "      <td>Low</td>\n",
       "    </tr>\n",
       "    <tr>\n",
       "      <th>838</th>\n",
       "      <td>838</td>\n",
       "      <td>Low</td>\n",
       "    </tr>\n",
       "    <tr>\n",
       "      <th>839</th>\n",
       "      <td>839</td>\n",
       "      <td>High</td>\n",
       "    </tr>\n",
       "    <tr>\n",
       "      <th>840</th>\n",
       "      <td>840</td>\n",
       "      <td>High</td>\n",
       "    </tr>\n",
       "  </tbody>\n",
       "</table>\n",
       "<p>841 rows × 2 columns</p>\n",
       "</div>"
      ],
      "text/plain": [
       "     code occupation_risk\n",
       "0       0             Low\n",
       "1       1            High\n",
       "2       2             Low\n",
       "3       3             Low\n",
       "4       4             Low\n",
       "..    ...             ...\n",
       "836   836             Low\n",
       "837   837             Low\n",
       "838   838             Low\n",
       "839   839            High\n",
       "840   840            High\n",
       "\n",
       "[841 rows x 2 columns]"
      ]
     },
     "execution_count": 18,
     "metadata": {},
     "output_type": "execute_result"
    }
   ],
   "source": [
    "occ_risk.dropna()"
   ]
  },
  {
   "cell_type": "markdown",
   "id": "6bb50304-f18e-4da3-9ab0-aeadca528c06",
   "metadata": {},
   "source": [
    "# One Hot Encoding"
   ]
  },
  {
   "cell_type": "markdown",
   "id": "465d9c3b-bf0f-455d-aee8-3722e3abf967",
   "metadata": {},
   "source": [
    "# Correlations"
   ]
  },
  {
   "cell_type": "code",
   "execution_count": 19,
   "id": "cb6ebd36-5595-4f65-960f-763247df9247",
   "metadata": {},
   "outputs": [
    {
     "data": {
      "text/html": [
       "<div>\n",
       "<style scoped>\n",
       "    .dataframe tbody tr th:only-of-type {\n",
       "        vertical-align: middle;\n",
       "    }\n",
       "\n",
       "    .dataframe tbody tr th {\n",
       "        vertical-align: top;\n",
       "    }\n",
       "\n",
       "    .dataframe thead th {\n",
       "        text-align: right;\n",
       "    }\n",
       "</style>\n",
       "<table border=\"1\" class=\"dataframe\">\n",
       "  <thead>\n",
       "    <tr style=\"text-align: right;\">\n",
       "      <th></th>\n",
       "      <th>code</th>\n",
       "    </tr>\n",
       "  </thead>\n",
       "  <tbody>\n",
       "    <tr>\n",
       "      <th>code</th>\n",
       "      <td>1.0</td>\n",
       "    </tr>\n",
       "  </tbody>\n",
       "</table>\n",
       "</div>"
      ],
      "text/plain": [
       "      code\n",
       "code   1.0"
      ]
     },
     "execution_count": 19,
     "metadata": {},
     "output_type": "execute_result"
    }
   ],
   "source": [
    "#Overview of all correlations between all pairs of numerical columns\n",
    "occ_risk.corr()"
   ]
  },
  {
   "cell_type": "code",
   "execution_count": 20,
   "id": "c9b10e64-fe71-4711-96b5-afb3f95d86fb",
   "metadata": {},
   "outputs": [
    {
     "data": {
      "text/html": [
       "<style type=\"text/css\">\n",
       "#T_7f787_row0_col0 {\n",
       "  background-color: #f7fbff;\n",
       "  color: #000000;\n",
       "}\n",
       "</style>\n",
       "<table id=\"T_7f787\">\n",
       "  <thead>\n",
       "    <tr>\n",
       "      <th class=\"blank level0\" >&nbsp;</th>\n",
       "      <th id=\"T_7f787_level0_col0\" class=\"col_heading level0 col0\" >code</th>\n",
       "    </tr>\n",
       "  </thead>\n",
       "  <tbody>\n",
       "    <tr>\n",
       "      <th id=\"T_7f787_level0_row0\" class=\"row_heading level0 row0\" >code</th>\n",
       "      <td id=\"T_7f787_row0_col0\" class=\"data row0 col0\" >1.000000</td>\n",
       "    </tr>\n",
       "  </tbody>\n",
       "</table>\n"
      ],
      "text/plain": [
       "<pandas.io.formats.style.Styler at 0x13bd6eb0fd0>"
      ]
     },
     "execution_count": 20,
     "metadata": {},
     "output_type": "execute_result"
    }
   ],
   "source": [
    "occ_risk.corr().style.background_gradient(cmap=\"Blues\")"
   ]
  },
  {
   "cell_type": "code",
   "execution_count": null,
   "id": "3bb5b8f9-a64f-425b-981d-d731622c76ff",
   "metadata": {},
   "outputs": [],
   "source": []
  }
 ],
 "metadata": {
  "kernelspec": {
   "display_name": "Python 3 (ipykernel)",
   "language": "python",
   "name": "python3"
  },
  "language_info": {
   "codemirror_mode": {
    "name": "ipython",
    "version": 3
   },
   "file_extension": ".py",
   "mimetype": "text/x-python",
   "name": "python",
   "nbconvert_exporter": "python",
   "pygments_lexer": "ipython3",
   "version": "3.9.13"
  }
 },
 "nbformat": 4,
 "nbformat_minor": 5
}
